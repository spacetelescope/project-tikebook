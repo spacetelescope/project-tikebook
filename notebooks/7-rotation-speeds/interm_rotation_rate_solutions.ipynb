{
 "cells": [
  {
   "cell_type": "code",
   "execution_count": 1,
   "id": "51672fa9-7fc5-4491-9a28-0f91c6a6bc3c",
   "metadata": {
    "tags": []
   },
   "outputs": [
    {
     "name": "stdout",
     "output_type": "stream",
     "text": [
      "INFO: Using the S3 STScI public dataset [astroquery.mast.cloud]\n"
     ]
    }
   ],
   "source": [
    "# manipulating and plotting arrays\n",
    "import numpy as np\n",
    "import matplotlib.pyplot as plt\n",
    "from matplotlib import ticker\n",
    "\n",
    "# file handling and units\n",
    "import tarfile\n",
    "from tqdm import tqdm\n",
    "import astropy\n",
    "from astropy.io import fits\n",
    "import astropy.constants as const\n",
    "import astropy.units as u\n",
    "from astropy.utils.data import download_file\n",
    "from lightkurve.search import search_lightcurve\n",
    "\n",
    "# machine learning and data packages\n",
    "\n",
    "import keras\n",
    "from keras.models import Sequential, Model, load_model\n",
    "from keras.layers import Input, Flatten, Dense, Activation, Dropout, BatchNormalization\n",
    "from keras.layers.convolutional import Convolution1D, MaxPooling1D\n",
    "from sklearn import metrics\n",
    "import scipy\n",
    "\n",
    "\n",
    "\n",
    "#setting random seeds\n",
    "seed = 42\n",
    "np.random.seed(seed)\n",
    "import os\n",
    "os.environ['PYTHONHASHSEED']=str(seed)\n",
    "import random\n",
    "random.seed(seed)\n",
    "import tensorflow as tf\n",
    "tf.random.set_seed(seed)\n",
    "\n",
    "# read from cloud datasets as opposed to downloading from on-premise servers\n",
    "from astroquery.mast import Observations\n",
    "Observations.enable_cloud_dataset()\n",
    "\n",
    "\n",
    "%matplotlib inline"
   ]
  },
  {
   "cell_type": "code",
   "execution_count": 2,
   "id": "b8475512-b261-4fbb-b3c1-f45c0ab90e63",
   "metadata": {
    "tags": []
   },
   "outputs": [
    {
     "name": "stdout",
     "output_type": "stream",
     "text": [
      "Collecting git+https://github.com/afeinstein20/stella\n",
      "  Cloning https://github.com/afeinstein20/stella to /tmp/pip-req-build-hx_x0sq2\n",
      "  Resolved https://github.com/afeinstein20/stella to commit f9ffd78d1c7279012e870f3657812595f18eee74\n",
      "  Preparing metadata (setup.py): started\n",
      "  Preparing metadata (setup.py): finished with status 'done'\n",
      "Requirement already satisfied: nbsphinx in /opt/conda/envs/tess/lib/python3.8/site-packages (from stella==0.2.0rc2) (0.9.2)\n",
      "Requirement already satisfied: ipykernel in /opt/conda/envs/tess/lib/python3.8/site-packages (from stella==0.2.0rc2) (6.24.0)\n",
      "Requirement already satisfied: tensorflow>=2.1.0 in /opt/conda/envs/tess/lib/python3.8/site-packages (from stella==0.2.0rc2) (2.9.0)\n",
      "Requirement already satisfied: astroquery in /opt/conda/envs/tess/lib/python3.8/site-packages (from stella==0.2.0rc2) (0.4.6)\n",
      "Requirement already satisfied: astropy in /opt/conda/envs/tess/lib/python3.8/site-packages (from stella==0.2.0rc2) (5.2.2)\n",
      "Requirement already satisfied: tqdm in /opt/conda/envs/tess/lib/python3.8/site-packages (from stella==0.2.0rc2) (4.65.0)\n",
      "Requirement already satisfied: cython in /opt/conda/envs/tess/lib/python3.8/site-packages (from stella==0.2.0rc2) (0.29.36)\n",
      "Requirement already satisfied: codecov in /opt/conda/envs/tess/lib/python3.8/site-packages (from stella==0.2.0rc2) (2.1.13)\n",
      "Requirement already satisfied: coverage in /opt/conda/envs/tess/lib/python3.8/site-packages (from stella==0.2.0rc2) (7.2.7)\n",
      "Requirement already satisfied: pytest in /opt/conda/envs/tess/lib/python3.8/site-packages (from stella==0.2.0rc2) (7.4.0)\n",
      "Requirement already satisfied: pytest-cov in /opt/conda/envs/tess/lib/python3.8/site-packages (from stella==0.2.0rc2) (4.1.0)\n",
      "Requirement already satisfied: lxml in /opt/conda/envs/tess/lib/python3.8/site-packages (from stella==0.2.0rc2) (4.9.3)\n",
      "Requirement already satisfied: pybind11 in /opt/conda/envs/tess/lib/python3.8/site-packages (from stella==0.2.0rc2) (2.11.1)\n",
      "Requirement already satisfied: tornado in /opt/conda/envs/tess/lib/python3.8/site-packages (from stella==0.2.0rc2) (6.3.2)\n",
      "Requirement already satisfied: matplotlib in /opt/conda/envs/tess/lib/python3.8/site-packages (from stella==0.2.0rc2) (3.5.3)\n",
      "Requirement already satisfied: lightkurve>=2.0.0 in /opt/conda/envs/tess/lib/python3.8/site-packages (from stella==0.2.0rc2) (2.4.1.dev0)\n",
      "Requirement already satisfied: numpy in /opt/conda/envs/tess/lib/python3.8/site-packages (from stella==0.2.0rc2) (1.21.6)\n",
      "Requirement already satisfied: sklearn in /opt/conda/envs/tess/lib/python3.8/site-packages (from stella==0.2.0rc2) (0.0.post7)\n",
      "Requirement already satisfied: more-itertools in /opt/conda/envs/tess/lib/python3.8/site-packages (from stella==0.2.0rc2) (9.1.0)\n",
      "Requirement already satisfied: scipy!=1.4.1 in /opt/conda/envs/tess/lib/python3.8/site-packages (from stella==0.2.0rc2) (1.7.3)\n",
      "Requirement already satisfied: poetry in /opt/conda/envs/tess/lib/python3.8/site-packages (from stella==0.2.0rc2) (1.5.1)\n",
      "Requirement already satisfied: beautifulsoup4>=4.6.0 in /opt/conda/envs/tess/lib/python3.8/site-packages (from lightkurve>=2.0.0->stella==0.2.0rc2) (4.12.2)\n",
      "Requirement already satisfied: bokeh>=2.0.0 in /opt/conda/envs/tess/lib/python3.8/site-packages (from lightkurve>=2.0.0->stella==0.2.0rc2) (3.1.1)\n",
      "Requirement already satisfied: fbpca>=1.0 in /opt/conda/envs/tess/lib/python3.8/site-packages (from lightkurve>=2.0.0->stella==0.2.0rc2) (1.0)\n",
      "Requirement already satisfied: memoization>=0.3.1 in /opt/conda/envs/tess/lib/python3.8/site-packages (from lightkurve>=2.0.0->stella==0.2.0rc2) (0.4.0)\n",
      "Requirement already satisfied: oktopus>=0.1.2 in /opt/conda/envs/tess/lib/python3.8/site-packages (from lightkurve>=2.0.0->stella==0.2.0rc2) (0.1.2)\n",
      "Requirement already satisfied: pandas>=1.1.4 in /opt/conda/envs/tess/lib/python3.8/site-packages (from lightkurve>=2.0.0->stella==0.2.0rc2) (2.0.3)\n",
      "Requirement already satisfied: patsy>=0.5.0 in /opt/conda/envs/tess/lib/python3.8/site-packages (from lightkurve>=2.0.0->stella==0.2.0rc2) (0.5.3)\n",
      "Requirement already satisfied: requests>=2.22.0 in /opt/conda/envs/tess/lib/python3.8/site-packages (from lightkurve>=2.0.0->stella==0.2.0rc2) (2.31.0)\n",
      "Requirement already satisfied: scikit-learn>=0.24.0 in /opt/conda/envs/tess/lib/python3.8/site-packages (from lightkurve>=2.0.0->stella==0.2.0rc2) (1.3.0)\n",
      "Requirement already satisfied: uncertainties>=3.1.4 in /opt/conda/envs/tess/lib/python3.8/site-packages (from lightkurve>=2.0.0->stella==0.2.0rc2) (3.1.7)\n",
      "Requirement already satisfied: urllib3>=1.23 in /opt/conda/envs/tess/lib/python3.8/site-packages (from lightkurve>=2.0.0->stella==0.2.0rc2) (1.26.16)\n",
      "Requirement already satisfied: pyerfa>=2.0 in /opt/conda/envs/tess/lib/python3.8/site-packages (from astropy->stella==0.2.0rc2) (2.0.0.3)\n",
      "Requirement already satisfied: PyYAML>=3.13 in /opt/conda/envs/tess/lib/python3.8/site-packages (from astropy->stella==0.2.0rc2) (6.0.1)\n",
      "Requirement already satisfied: packaging>=19.0 in /opt/conda/envs/tess/lib/python3.8/site-packages (from astropy->stella==0.2.0rc2) (23.1)\n",
      "Requirement already satisfied: html5lib>=0.999 in /opt/conda/envs/tess/lib/python3.8/site-packages (from astroquery->stella==0.2.0rc2) (1.1)\n",
      "Requirement already satisfied: keyring>=4.0 in /opt/conda/envs/tess/lib/python3.8/site-packages (from astroquery->stella==0.2.0rc2) (23.13.1)\n",
      "Requirement already satisfied: pyvo>=1.1 in /opt/conda/envs/tess/lib/python3.8/site-packages (from astroquery->stella==0.2.0rc2) (1.4.1)\n",
      "Requirement already satisfied: cycler>=0.10 in /opt/conda/envs/tess/lib/python3.8/site-packages (from matplotlib->stella==0.2.0rc2) (0.11.0)\n",
      "Requirement already satisfied: fonttools>=4.22.0 in /opt/conda/envs/tess/lib/python3.8/site-packages (from matplotlib->stella==0.2.0rc2) (4.41.0)\n",
      "Requirement already satisfied: kiwisolver>=1.0.1 in /opt/conda/envs/tess/lib/python3.8/site-packages (from matplotlib->stella==0.2.0rc2) (1.4.4)\n",
      "Requirement already satisfied: pillow>=6.2.0 in /opt/conda/envs/tess/lib/python3.8/site-packages (from matplotlib->stella==0.2.0rc2) (10.0.0)\n",
      "Requirement already satisfied: pyparsing>=2.2.1 in /opt/conda/envs/tess/lib/python3.8/site-packages (from matplotlib->stella==0.2.0rc2) (3.1.0)\n",
      "Requirement already satisfied: python-dateutil>=2.7 in /opt/conda/envs/tess/lib/python3.8/site-packages (from matplotlib->stella==0.2.0rc2) (2.8.2)\n",
      "Requirement already satisfied: absl-py>=1.0.0 in /opt/conda/envs/tess/lib/python3.8/site-packages (from tensorflow>=2.1.0->stella==0.2.0rc2) (1.4.0)\n",
      "Requirement already satisfied: astunparse>=1.6.0 in /opt/conda/envs/tess/lib/python3.8/site-packages (from tensorflow>=2.1.0->stella==0.2.0rc2) (1.6.3)\n",
      "Requirement already satisfied: flatbuffers<2,>=1.12 in /opt/conda/envs/tess/lib/python3.8/site-packages (from tensorflow>=2.1.0->stella==0.2.0rc2) (1.12)\n",
      "Requirement already satisfied: gast<=0.4.0,>=0.2.1 in /opt/conda/envs/tess/lib/python3.8/site-packages (from tensorflow>=2.1.0->stella==0.2.0rc2) (0.4.0)\n",
      "Requirement already satisfied: google-pasta>=0.1.1 in /opt/conda/envs/tess/lib/python3.8/site-packages (from tensorflow>=2.1.0->stella==0.2.0rc2) (0.2.0)\n",
      "Requirement already satisfied: grpcio<2.0,>=1.24.3 in /opt/conda/envs/tess/lib/python3.8/site-packages (from tensorflow>=2.1.0->stella==0.2.0rc2) (1.56.0)\n",
      "Requirement already satisfied: h5py>=2.9.0 in /opt/conda/envs/tess/lib/python3.8/site-packages (from tensorflow>=2.1.0->stella==0.2.0rc2) (3.9.0)\n",
      "Requirement already satisfied: keras<2.10.0,>=2.9.0rc0 in /opt/conda/envs/tess/lib/python3.8/site-packages (from tensorflow>=2.1.0->stella==0.2.0rc2) (2.9.0)\n",
      "Requirement already satisfied: keras-preprocessing>=1.1.1 in /opt/conda/envs/tess/lib/python3.8/site-packages (from tensorflow>=2.1.0->stella==0.2.0rc2) (1.1.2)\n",
      "Requirement already satisfied: libclang>=13.0.0 in /opt/conda/envs/tess/lib/python3.8/site-packages (from tensorflow>=2.1.0->stella==0.2.0rc2) (16.0.6)\n",
      "Requirement already satisfied: opt-einsum>=2.3.2 in /opt/conda/envs/tess/lib/python3.8/site-packages (from tensorflow>=2.1.0->stella==0.2.0rc2) (3.3.0)\n",
      "Requirement already satisfied: protobuf>=3.9.2 in /opt/conda/envs/tess/lib/python3.8/site-packages (from tensorflow>=2.1.0->stella==0.2.0rc2) (3.20.0)\n",
      "Requirement already satisfied: setuptools in /opt/conda/envs/tess/lib/python3.8/site-packages (from tensorflow>=2.1.0->stella==0.2.0rc2) (68.0.0)\n",
      "Requirement already satisfied: six>=1.12.0 in /opt/conda/envs/tess/lib/python3.8/site-packages (from tensorflow>=2.1.0->stella==0.2.0rc2) (1.16.0)\n",
      "Requirement already satisfied: tensorboard<2.10,>=2.9 in /opt/conda/envs/tess/lib/python3.8/site-packages (from tensorflow>=2.1.0->stella==0.2.0rc2) (2.9.0)\n",
      "Requirement already satisfied: tensorflow-io-gcs-filesystem>=0.23.1 in /opt/conda/envs/tess/lib/python3.8/site-packages (from tensorflow>=2.1.0->stella==0.2.0rc2) (0.32.0)\n",
      "Requirement already satisfied: tensorflow-estimator<2.10.0,>=2.9.0rc0 in /opt/conda/envs/tess/lib/python3.8/site-packages (from tensorflow>=2.1.0->stella==0.2.0rc2) (2.9.0)\n",
      "Requirement already satisfied: termcolor>=1.1.0 in /opt/conda/envs/tess/lib/python3.8/site-packages (from tensorflow>=2.1.0->stella==0.2.0rc2) (2.3.0)\n",
      "Requirement already satisfied: typing-extensions>=3.6.6 in /opt/conda/envs/tess/lib/python3.8/site-packages (from tensorflow>=2.1.0->stella==0.2.0rc2) (4.7.1)\n",
      "Requirement already satisfied: wrapt>=1.11.0 in /opt/conda/envs/tess/lib/python3.8/site-packages (from tensorflow>=2.1.0->stella==0.2.0rc2) (1.15.0)\n",
      "Requirement already satisfied: comm>=0.1.1 in /opt/conda/envs/tess/lib/python3.8/site-packages (from ipykernel->stella==0.2.0rc2) (0.1.3)\n",
      "Requirement already satisfied: debugpy>=1.6.5 in /opt/conda/envs/tess/lib/python3.8/site-packages (from ipykernel->stella==0.2.0rc2) (1.6.7)\n",
      "Requirement already satisfied: ipython>=7.23.1 in /opt/conda/envs/tess/lib/python3.8/site-packages (from ipykernel->stella==0.2.0rc2) (8.12.2)\n",
      "Requirement already satisfied: jupyter-client>=6.1.12 in /opt/conda/envs/tess/lib/python3.8/site-packages (from ipykernel->stella==0.2.0rc2) (8.3.0)\n",
      "Requirement already satisfied: jupyter-core!=5.0.*,>=4.12 in /opt/conda/envs/tess/lib/python3.8/site-packages (from ipykernel->stella==0.2.0rc2) (5.3.1)\n",
      "Requirement already satisfied: matplotlib-inline>=0.1 in /opt/conda/envs/tess/lib/python3.8/site-packages (from ipykernel->stella==0.2.0rc2) (0.1.6)\n",
      "Requirement already satisfied: nest-asyncio in /opt/conda/envs/tess/lib/python3.8/site-packages (from ipykernel->stella==0.2.0rc2) (1.5.6)\n",
      "Requirement already satisfied: psutil in /opt/conda/envs/tess/lib/python3.8/site-packages (from ipykernel->stella==0.2.0rc2) (5.9.5)\n",
      "Requirement already satisfied: pyzmq>=20 in /opt/conda/envs/tess/lib/python3.8/site-packages (from ipykernel->stella==0.2.0rc2) (25.1.0)\n",
      "Requirement already satisfied: traitlets>=5.4.0 in /opt/conda/envs/tess/lib/python3.8/site-packages (from ipykernel->stella==0.2.0rc2) (5.9.0)\n",
      "Requirement already satisfied: docutils in /opt/conda/envs/tess/lib/python3.8/site-packages (from nbsphinx->stella==0.2.0rc2) (0.18.1)\n",
      "Requirement already satisfied: jinja2 in /opt/conda/envs/tess/lib/python3.8/site-packages (from nbsphinx->stella==0.2.0rc2) (3.1.2)\n",
      "Requirement already satisfied: nbconvert!=5.4 in /opt/conda/envs/tess/lib/python3.8/site-packages (from nbsphinx->stella==0.2.0rc2) (7.7.1)\n",
      "Requirement already satisfied: nbformat in /opt/conda/envs/tess/lib/python3.8/site-packages (from nbsphinx->stella==0.2.0rc2) (5.9.1)\n",
      "Requirement already satisfied: sphinx>=1.8 in /opt/conda/envs/tess/lib/python3.8/site-packages (from nbsphinx->stella==0.2.0rc2) (6.2.1)\n",
      "Requirement already satisfied: build<0.11.0,>=0.10.0 in /opt/conda/envs/tess/lib/python3.8/site-packages (from poetry->stella==0.2.0rc2) (0.10.0)\n",
      "Requirement already satisfied: cachecontrol[filecache]<0.13.0,>=0.12.9 in /opt/conda/envs/tess/lib/python3.8/site-packages (from poetry->stella==0.2.0rc2) (0.12.14)\n",
      "Requirement already satisfied: cleo<3.0.0,>=2.0.0 in /opt/conda/envs/tess/lib/python3.8/site-packages (from poetry->stella==0.2.0rc2) (2.0.1)\n",
      "Requirement already satisfied: crashtest<0.5.0,>=0.4.1 in /opt/conda/envs/tess/lib/python3.8/site-packages (from poetry->stella==0.2.0rc2) (0.4.1)\n",
      "Requirement already satisfied: dulwich<0.22.0,>=0.21.2 in /opt/conda/envs/tess/lib/python3.8/site-packages (from poetry->stella==0.2.0rc2) (0.21.5)\n",
      "Requirement already satisfied: filelock<4.0.0,>=3.8.0 in /opt/conda/envs/tess/lib/python3.8/site-packages (from poetry->stella==0.2.0rc2) (3.12.2)\n",
      "Requirement already satisfied: importlib-metadata>=4.4 in /opt/conda/envs/tess/lib/python3.8/site-packages (from poetry->stella==0.2.0rc2) (6.8.0)\n",
      "Requirement already satisfied: installer<0.8.0,>=0.7.0 in /opt/conda/envs/tess/lib/python3.8/site-packages (from poetry->stella==0.2.0rc2) (0.7.0)\n",
      "Requirement already satisfied: jsonschema<5.0.0,>=4.10.0 in /opt/conda/envs/tess/lib/python3.8/site-packages (from poetry->stella==0.2.0rc2) (4.17.3)\n",
      "Requirement already satisfied: lockfile<0.13.0,>=0.12.2 in /opt/conda/envs/tess/lib/python3.8/site-packages (from poetry->stella==0.2.0rc2) (0.12.2)\n",
      "Requirement already satisfied: pexpect<5.0.0,>=4.7.0 in /opt/conda/envs/tess/lib/python3.8/site-packages (from poetry->stella==0.2.0rc2) (4.8.0)\n",
      "Requirement already satisfied: pkginfo<2.0.0,>=1.9.4 in /opt/conda/envs/tess/lib/python3.8/site-packages (from poetry->stella==0.2.0rc2) (1.9.6)\n",
      "Requirement already satisfied: platformdirs<4.0.0,>=3.0.0 in /opt/conda/envs/tess/lib/python3.8/site-packages (from poetry->stella==0.2.0rc2) (3.9.1)\n",
      "Requirement already satisfied: poetry-core==1.6.1 in /opt/conda/envs/tess/lib/python3.8/site-packages (from poetry->stella==0.2.0rc2) (1.6.1)\n",
      "Requirement already satisfied: poetry-plugin-export<2.0.0,>=1.4.0 in /opt/conda/envs/tess/lib/python3.8/site-packages (from poetry->stella==0.2.0rc2) (1.4.0)\n",
      "Requirement already satisfied: pyproject-hooks<2.0.0,>=1.0.0 in /opt/conda/envs/tess/lib/python3.8/site-packages (from poetry->stella==0.2.0rc2) (1.0.0)\n",
      "Requirement already satisfied: requests-toolbelt<2,>=0.9.1 in /opt/conda/envs/tess/lib/python3.8/site-packages (from poetry->stella==0.2.0rc2) (1.0.0)\n",
      "Requirement already satisfied: shellingham<2.0,>=1.5 in /opt/conda/envs/tess/lib/python3.8/site-packages (from poetry->stella==0.2.0rc2) (1.5.0.post1)\n",
      "Requirement already satisfied: tomli<3.0.0,>=2.0.1 in /opt/conda/envs/tess/lib/python3.8/site-packages (from poetry->stella==0.2.0rc2) (2.0.1)\n",
      "Requirement already satisfied: tomlkit<1.0.0,>=0.11.4 in /opt/conda/envs/tess/lib/python3.8/site-packages (from poetry->stella==0.2.0rc2) (0.11.8)\n",
      "Requirement already satisfied: trove-classifiers>=2022.5.19 in /opt/conda/envs/tess/lib/python3.8/site-packages (from poetry->stella==0.2.0rc2) (2023.7.6)\n",
      "Requirement already satisfied: virtualenv<21.0.0,>=20.22.0 in /opt/conda/envs/tess/lib/python3.8/site-packages (from poetry->stella==0.2.0rc2) (20.24.0)\n",
      "Requirement already satisfied: iniconfig in /opt/conda/envs/tess/lib/python3.8/site-packages (from pytest->stella==0.2.0rc2) (2.0.0)\n",
      "Requirement already satisfied: pluggy<2.0,>=0.12 in /opt/conda/envs/tess/lib/python3.8/site-packages (from pytest->stella==0.2.0rc2) (1.2.0)\n",
      "Requirement already satisfied: exceptiongroup>=1.0.0rc8 in /opt/conda/envs/tess/lib/python3.8/site-packages (from pytest->stella==0.2.0rc2) (1.1.2)\n",
      "Requirement already satisfied: wheel<1.0,>=0.23.0 in /opt/conda/envs/tess/lib/python3.8/site-packages (from astunparse>=1.6.0->tensorflow>=2.1.0->stella==0.2.0rc2) (0.40.0)\n",
      "Requirement already satisfied: soupsieve>1.2 in /opt/conda/envs/tess/lib/python3.8/site-packages (from beautifulsoup4>=4.6.0->lightkurve>=2.0.0->stella==0.2.0rc2) (2.4.1)\n",
      "Requirement already satisfied: contourpy>=1 in /opt/conda/envs/tess/lib/python3.8/site-packages (from bokeh>=2.0.0->lightkurve>=2.0.0->stella==0.2.0rc2) (1.1.0)\n",
      "Requirement already satisfied: xyzservices>=2021.09.1 in /opt/conda/envs/tess/lib/python3.8/site-packages (from bokeh>=2.0.0->lightkurve>=2.0.0->stella==0.2.0rc2) (2023.7.0)\n",
      "Requirement already satisfied: msgpack>=0.5.2 in /opt/conda/envs/tess/lib/python3.8/site-packages (from cachecontrol[filecache]<0.13.0,>=0.12.9->poetry->stella==0.2.0rc2) (1.0.5)\n",
      "Requirement already satisfied: rapidfuzz<3.0.0,>=2.2.0 in /opt/conda/envs/tess/lib/python3.8/site-packages (from cleo<3.0.0,>=2.0.0->poetry->stella==0.2.0rc2) (2.15.1)\n",
      "Requirement already satisfied: webencodings in /opt/conda/envs/tess/lib/python3.8/site-packages (from html5lib>=0.999->astroquery->stella==0.2.0rc2) (0.5.1)\n",
      "Requirement already satisfied: zipp>=0.5 in /opt/conda/envs/tess/lib/python3.8/site-packages (from importlib-metadata>=4.4->poetry->stella==0.2.0rc2) (3.16.2)\n",
      "Requirement already satisfied: backcall in /opt/conda/envs/tess/lib/python3.8/site-packages (from ipython>=7.23.1->ipykernel->stella==0.2.0rc2) (0.2.0)\n",
      "Requirement already satisfied: decorator in /opt/conda/envs/tess/lib/python3.8/site-packages (from ipython>=7.23.1->ipykernel->stella==0.2.0rc2) (5.1.1)\n",
      "Requirement already satisfied: jedi>=0.16 in /opt/conda/envs/tess/lib/python3.8/site-packages (from ipython>=7.23.1->ipykernel->stella==0.2.0rc2) (0.18.2)\n",
      "Requirement already satisfied: pickleshare in /opt/conda/envs/tess/lib/python3.8/site-packages (from ipython>=7.23.1->ipykernel->stella==0.2.0rc2) (0.7.5)\n",
      "Requirement already satisfied: prompt-toolkit!=3.0.37,<3.1.0,>=3.0.30 in /opt/conda/envs/tess/lib/python3.8/site-packages (from ipython>=7.23.1->ipykernel->stella==0.2.0rc2) (3.0.39)\n",
      "Requirement already satisfied: pygments>=2.4.0 in /opt/conda/envs/tess/lib/python3.8/site-packages (from ipython>=7.23.1->ipykernel->stella==0.2.0rc2) (2.15.1)\n",
      "Requirement already satisfied: stack-data in /opt/conda/envs/tess/lib/python3.8/site-packages (from ipython>=7.23.1->ipykernel->stella==0.2.0rc2) (0.6.2)\n",
      "Requirement already satisfied: MarkupSafe>=2.0 in /opt/conda/envs/tess/lib/python3.8/site-packages (from jinja2->nbsphinx->stella==0.2.0rc2) (2.1.3)\n",
      "Requirement already satisfied: attrs>=17.4.0 in /opt/conda/envs/tess/lib/python3.8/site-packages (from jsonschema<5.0.0,>=4.10.0->poetry->stella==0.2.0rc2) (23.1.0)\n",
      "Requirement already satisfied: importlib-resources>=1.4.0 in /opt/conda/envs/tess/lib/python3.8/site-packages (from jsonschema<5.0.0,>=4.10.0->poetry->stella==0.2.0rc2) (6.0.0)\n",
      "Requirement already satisfied: pkgutil-resolve-name>=1.3.10 in /opt/conda/envs/tess/lib/python3.8/site-packages (from jsonschema<5.0.0,>=4.10.0->poetry->stella==0.2.0rc2) (1.3.10)\n",
      "Requirement already satisfied: pyrsistent!=0.17.0,!=0.17.1,!=0.17.2,>=0.14.0 in /opt/conda/envs/tess/lib/python3.8/site-packages (from jsonschema<5.0.0,>=4.10.0->poetry->stella==0.2.0rc2) (0.19.3)\n",
      "Requirement already satisfied: jaraco.classes in /opt/conda/envs/tess/lib/python3.8/site-packages (from keyring>=4.0->astroquery->stella==0.2.0rc2) (3.3.0)\n",
      "Requirement already satisfied: SecretStorage>=3.2 in /opt/conda/envs/tess/lib/python3.8/site-packages (from keyring>=4.0->astroquery->stella==0.2.0rc2) (3.3.3)\n",
      "Requirement already satisfied: jeepney>=0.4.2 in /opt/conda/envs/tess/lib/python3.8/site-packages (from keyring>=4.0->astroquery->stella==0.2.0rc2) (0.8.0)\n",
      "Requirement already satisfied: bleach!=5.0.0 in /opt/conda/envs/tess/lib/python3.8/site-packages (from nbconvert!=5.4->nbsphinx->stella==0.2.0rc2) (6.0.0)\n",
      "Requirement already satisfied: defusedxml in /opt/conda/envs/tess/lib/python3.8/site-packages (from nbconvert!=5.4->nbsphinx->stella==0.2.0rc2) (0.7.1)\n",
      "Requirement already satisfied: jupyterlab-pygments in /opt/conda/envs/tess/lib/python3.8/site-packages (from nbconvert!=5.4->nbsphinx->stella==0.2.0rc2) (0.2.2)\n",
      "Requirement already satisfied: mistune<4,>=2.0.3 in /opt/conda/envs/tess/lib/python3.8/site-packages (from nbconvert!=5.4->nbsphinx->stella==0.2.0rc2) (3.0.1)\n",
      "Requirement already satisfied: nbclient>=0.5.0 in /opt/conda/envs/tess/lib/python3.8/site-packages (from nbconvert!=5.4->nbsphinx->stella==0.2.0rc2) (0.8.0)\n",
      "Requirement already satisfied: pandocfilters>=1.4.1 in /opt/conda/envs/tess/lib/python3.8/site-packages (from nbconvert!=5.4->nbsphinx->stella==0.2.0rc2) (1.5.0)\n",
      "Requirement already satisfied: tinycss2 in /opt/conda/envs/tess/lib/python3.8/site-packages (from nbconvert!=5.4->nbsphinx->stella==0.2.0rc2) (1.2.1)\n",
      "Requirement already satisfied: fastjsonschema in /opt/conda/envs/tess/lib/python3.8/site-packages (from nbformat->nbsphinx->stella==0.2.0rc2) (2.17.1)\n",
      "Requirement already satisfied: autograd in /opt/conda/envs/tess/lib/python3.8/site-packages (from oktopus>=0.1.2->lightkurve>=2.0.0->stella==0.2.0rc2) (1.6.2)\n",
      "Requirement already satisfied: pytz>=2020.1 in /opt/conda/envs/tess/lib/python3.8/site-packages (from pandas>=1.1.4->lightkurve>=2.0.0->stella==0.2.0rc2) (2023.3)\n",
      "Requirement already satisfied: tzdata>=2022.1 in /opt/conda/envs/tess/lib/python3.8/site-packages (from pandas>=1.1.4->lightkurve>=2.0.0->stella==0.2.0rc2) (2023.3)\n",
      "Requirement already satisfied: ptyprocess>=0.5 in /opt/conda/envs/tess/lib/python3.8/site-packages (from pexpect<5.0.0,>=4.7.0->poetry->stella==0.2.0rc2) (0.7.0)\n",
      "Requirement already satisfied: charset-normalizer<4,>=2 in /opt/conda/envs/tess/lib/python3.8/site-packages (from requests>=2.22.0->lightkurve>=2.0.0->stella==0.2.0rc2) (3.2.0)\n",
      "Requirement already satisfied: idna<4,>=2.5 in /opt/conda/envs/tess/lib/python3.8/site-packages (from requests>=2.22.0->lightkurve>=2.0.0->stella==0.2.0rc2) (3.4)\n",
      "Requirement already satisfied: certifi>=2017.4.17 in /opt/conda/envs/tess/lib/python3.8/site-packages (from requests>=2.22.0->lightkurve>=2.0.0->stella==0.2.0rc2) (2023.5.7)\n",
      "Requirement already satisfied: joblib>=1.1.1 in /opt/conda/envs/tess/lib/python3.8/site-packages (from scikit-learn>=0.24.0->lightkurve>=2.0.0->stella==0.2.0rc2) (1.3.1)\n",
      "Requirement already satisfied: threadpoolctl>=2.0.0 in /opt/conda/envs/tess/lib/python3.8/site-packages (from scikit-learn>=0.24.0->lightkurve>=2.0.0->stella==0.2.0rc2) (3.2.0)\n",
      "Requirement already satisfied: sphinxcontrib-applehelp in /opt/conda/envs/tess/lib/python3.8/site-packages (from sphinx>=1.8->nbsphinx->stella==0.2.0rc2) (1.0.4)\n",
      "Requirement already satisfied: sphinxcontrib-devhelp in /opt/conda/envs/tess/lib/python3.8/site-packages (from sphinx>=1.8->nbsphinx->stella==0.2.0rc2) (1.0.2)\n",
      "Requirement already satisfied: sphinxcontrib-jsmath in /opt/conda/envs/tess/lib/python3.8/site-packages (from sphinx>=1.8->nbsphinx->stella==0.2.0rc2) (1.0.1)\n",
      "Requirement already satisfied: sphinxcontrib-htmlhelp>=2.0.0 in /opt/conda/envs/tess/lib/python3.8/site-packages (from sphinx>=1.8->nbsphinx->stella==0.2.0rc2) (2.0.1)\n",
      "Requirement already satisfied: sphinxcontrib-serializinghtml>=1.1.5 in /opt/conda/envs/tess/lib/python3.8/site-packages (from sphinx>=1.8->nbsphinx->stella==0.2.0rc2) (1.1.5)\n",
      "Requirement already satisfied: sphinxcontrib-qthelp in /opt/conda/envs/tess/lib/python3.8/site-packages (from sphinx>=1.8->nbsphinx->stella==0.2.0rc2) (1.0.3)\n",
      "Requirement already satisfied: snowballstemmer>=2.0 in /opt/conda/envs/tess/lib/python3.8/site-packages (from sphinx>=1.8->nbsphinx->stella==0.2.0rc2) (2.2.0)\n",
      "Requirement already satisfied: babel>=2.9 in /opt/conda/envs/tess/lib/python3.8/site-packages (from sphinx>=1.8->nbsphinx->stella==0.2.0rc2) (2.12.1)\n",
      "Requirement already satisfied: alabaster<0.8,>=0.7 in /opt/conda/envs/tess/lib/python3.8/site-packages (from sphinx>=1.8->nbsphinx->stella==0.2.0rc2) (0.7.13)\n",
      "Requirement already satisfied: imagesize>=1.3 in /opt/conda/envs/tess/lib/python3.8/site-packages (from sphinx>=1.8->nbsphinx->stella==0.2.0rc2) (1.4.1)\n",
      "Requirement already satisfied: google-auth<3,>=1.6.3 in /opt/conda/envs/tess/lib/python3.8/site-packages (from tensorboard<2.10,>=2.9->tensorflow>=2.1.0->stella==0.2.0rc2) (2.22.0)\n",
      "Requirement already satisfied: google-auth-oauthlib<0.5,>=0.4.1 in /opt/conda/envs/tess/lib/python3.8/site-packages (from tensorboard<2.10,>=2.9->tensorflow>=2.1.0->stella==0.2.0rc2) (0.4.6)\n",
      "Requirement already satisfied: markdown>=2.6.8 in /opt/conda/envs/tess/lib/python3.8/site-packages (from tensorboard<2.10,>=2.9->tensorflow>=2.1.0->stella==0.2.0rc2) (3.4.3)\n",
      "Requirement already satisfied: tensorboard-data-server<0.7.0,>=0.6.0 in /opt/conda/envs/tess/lib/python3.8/site-packages (from tensorboard<2.10,>=2.9->tensorflow>=2.1.0->stella==0.2.0rc2) (0.6.1)\n",
      "Requirement already satisfied: tensorboard-plugin-wit>=1.6.0 in /opt/conda/envs/tess/lib/python3.8/site-packages (from tensorboard<2.10,>=2.9->tensorflow>=2.1.0->stella==0.2.0rc2) (1.8.1)\n",
      "Requirement already satisfied: werkzeug>=1.0.1 in /opt/conda/envs/tess/lib/python3.8/site-packages (from tensorboard<2.10,>=2.9->tensorflow>=2.1.0->stella==0.2.0rc2) (2.3.6)\n",
      "Requirement already satisfied: future in /opt/conda/envs/tess/lib/python3.8/site-packages (from uncertainties>=3.1.4->lightkurve>=2.0.0->stella==0.2.0rc2) (0.18.3)\n",
      "Requirement already satisfied: distlib<1,>=0.3.6 in /opt/conda/envs/tess/lib/python3.8/site-packages (from virtualenv<21.0.0,>=20.22.0->poetry->stella==0.2.0rc2) (0.3.7)\n",
      "Requirement already satisfied: cachetools<6.0,>=2.0.0 in /opt/conda/envs/tess/lib/python3.8/site-packages (from google-auth<3,>=1.6.3->tensorboard<2.10,>=2.9->tensorflow>=2.1.0->stella==0.2.0rc2) (5.3.1)\n",
      "Requirement already satisfied: pyasn1-modules>=0.2.1 in /opt/conda/envs/tess/lib/python3.8/site-packages (from google-auth<3,>=1.6.3->tensorboard<2.10,>=2.9->tensorflow>=2.1.0->stella==0.2.0rc2) (0.3.0)\n",
      "Requirement already satisfied: rsa<5,>=3.1.4 in /opt/conda/envs/tess/lib/python3.8/site-packages (from google-auth<3,>=1.6.3->tensorboard<2.10,>=2.9->tensorflow>=2.1.0->stella==0.2.0rc2) (4.9)\n",
      "Requirement already satisfied: requests-oauthlib>=0.7.0 in /opt/conda/envs/tess/lib/python3.8/site-packages (from google-auth-oauthlib<0.5,>=0.4.1->tensorboard<2.10,>=2.9->tensorflow>=2.1.0->stella==0.2.0rc2) (1.3.1)\n",
      "Requirement already satisfied: parso<0.9.0,>=0.8.0 in /opt/conda/envs/tess/lib/python3.8/site-packages (from jedi>=0.16->ipython>=7.23.1->ipykernel->stella==0.2.0rc2) (0.8.3)\n",
      "Requirement already satisfied: wcwidth in /opt/conda/envs/tess/lib/python3.8/site-packages (from prompt-toolkit!=3.0.37,<3.1.0,>=3.0.30->ipython>=7.23.1->ipykernel->stella==0.2.0rc2) (0.2.6)\n",
      "Requirement already satisfied: cryptography>=2.0 in /opt/conda/envs/tess/lib/python3.8/site-packages (from SecretStorage>=3.2->keyring>=4.0->astroquery->stella==0.2.0rc2) (41.0.2)\n",
      "Requirement already satisfied: executing>=1.2.0 in /opt/conda/envs/tess/lib/python3.8/site-packages (from stack-data->ipython>=7.23.1->ipykernel->stella==0.2.0rc2) (1.2.0)\n",
      "Requirement already satisfied: asttokens>=2.1.0 in /opt/conda/envs/tess/lib/python3.8/site-packages (from stack-data->ipython>=7.23.1->ipykernel->stella==0.2.0rc2) (2.2.1)\n",
      "Requirement already satisfied: pure-eval in /opt/conda/envs/tess/lib/python3.8/site-packages (from stack-data->ipython>=7.23.1->ipykernel->stella==0.2.0rc2) (0.2.2)\n",
      "Requirement already satisfied: cffi>=1.12 in /opt/conda/envs/tess/lib/python3.8/site-packages (from cryptography>=2.0->SecretStorage>=3.2->keyring>=4.0->astroquery->stella==0.2.0rc2) (1.15.1)\n",
      "Requirement already satisfied: pyasn1<0.6.0,>=0.4.6 in /opt/conda/envs/tess/lib/python3.8/site-packages (from pyasn1-modules>=0.2.1->google-auth<3,>=1.6.3->tensorboard<2.10,>=2.9->tensorflow>=2.1.0->stella==0.2.0rc2) (0.5.0)\n",
      "Requirement already satisfied: oauthlib>=3.0.0 in /opt/conda/envs/tess/lib/python3.8/site-packages (from requests-oauthlib>=0.7.0->google-auth-oauthlib<0.5,>=0.4.1->tensorboard<2.10,>=2.9->tensorflow>=2.1.0->stella==0.2.0rc2) (3.2.2)\n",
      "Requirement already satisfied: pycparser in /opt/conda/envs/tess/lib/python3.8/site-packages (from cffi>=1.12->cryptography>=2.0->SecretStorage>=3.2->keyring>=4.0->astroquery->stella==0.2.0rc2) (2.21)\n",
      "\n",
      "  Running command git clone --filter=blob:none --quiet https://github.com/afeinstein20/stella /tmp/pip-req-build-hx_x0sq2\n",
      "\n",
      "\n",
      "Note: you may need to restart the kernel to use updated packages.\n"
     ]
    }
   ],
   "source": [
    "conda run pip install git+https://github.com/afeinstein20/stella"
   ]
  },
  {
   "cell_type": "code",
   "execution_count": 3,
   "id": "813fa5cc-ca61-4ade-8fae-9f38cb4b7357",
   "metadata": {
    "tags": []
   },
   "outputs": [],
   "source": [
    "import stella"
   ]
  },
  {
   "cell_type": "markdown",
   "id": "bd3aa4da-a063-4c94-89e0-268fe09e0594",
   "metadata": {
    "tags": []
   },
   "source": [
    "# Exercise 1"
   ]
  },
  {
   "cell_type": "markdown",
   "id": "ccd2df45-805f-4f39-b1b2-e328fa075c5d",
   "metadata": {},
   "source": [
    "First, we download the relevant data and confirm that we've plotted the correct lightcurve."
   ]
  },
  {
   "cell_type": "code",
   "execution_count": 4,
   "id": "7e5ad607-fd98-4921-be3f-2d0d2a73b932",
   "metadata": {
    "tags": []
   },
   "outputs": [
    {
     "data": {
      "text/plain": [
       "<AxesSubplot:xlabel='Time - 2457000 [BTJD days]', ylabel='Flux [$\\\\mathrm{e^{-}\\\\,s^{-1}}$]'>"
      ]
     },
     "execution_count": 4,
     "metadata": {},
     "output_type": "execute_result"
    },
    {
     "data": {
      "image/png": "[encoded data removed]",
      "text/plain": [
       "<Figure size 848.5x400 with 1 Axes>"
      ]
     },
     "metadata": {},
     "output_type": "display_data"
    }
   ],
   "source": [
    "# ticids = ['278779899', '139754153', '273418879', '52121469', '188580272', '394015919', '402104884']\n",
    "ticids = ['234295610']\n",
    "\n",
    "\n",
    "# for all the selected targets, pull the available lightcurves using the lightkurve package\n",
    "sectors = [1, 2] # only consider the first few sectors\n",
    "lcs = []\n",
    "for name in ticids:\n",
    "    lc = search_lightcurve(target='TIC'+name, mission='TESS', sector=sectors, author='SPOC')\n",
    "    lc = lc.download_all()[0]\n",
    "    \n",
    "lc.plot()"
   ]
  },
  {
   "cell_type": "markdown",
   "id": "cc06d284-3399-47ef-8518-90d120b148a5",
   "metadata": {},
   "source": [
    "Now, we'd like to inspect the quality flags for those high-flux time stamps. First, we select those regions. Note that we slice the lightcurve using `flux.values`, because otherwise we wouldn't be able to compare the flux array to the unitless `1900` value.\n",
    "\n",
    "Because there's a large time separation between these values (that would be joined by a straight line), let's scatter plot the points."
   ]
  },
  {
   "cell_type": "code",
   "execution_count": 5,
   "id": "5e236f71-d40b-45de-bc59-5b7830757858",
   "metadata": {
    "tags": []
   },
   "outputs": [
    {
     "data": {
      "text/plain": [
       "<AxesSubplot:xlabel='Time - 2457000 [BTJD days]', ylabel='Flux [$\\\\mathrm{e^{-}\\\\,s^{-1}}$]'>"
      ]
     },
     "execution_count": 5,
     "metadata": {},
     "output_type": "execute_result"
    },
    {
     "data": {
      "image/png": "[encoded data removed]",
      "text/plain": [
       "<Figure size 848.5x400 with 1 Axes>"
      ]
     },
     "metadata": {},
     "output_type": "display_data"
    }
   ],
   "source": [
    "lc_check = lc[lc.flux.value>1900]\n",
    "lc_check.scatter()"
   ]
  },
  {
   "cell_type": "markdown",
   "id": "e91eae8a-12d8-4432-ad1f-8bdd3c011aa2",
   "metadata": {},
   "source": [
    "We'll use a code chunk from the [Quality Flags](../../02-quality-flags) notebook below."
   ]
  },
  {
   "cell_type": "code",
   "execution_count": 6,
   "id": "ef0fb7a4-b9e1-4d07-8fd1-5abd91b819c4",
   "metadata": {
    "tags": []
   },
   "outputs": [
    {
     "data": {
      "text/plain": [
       "False"
      ]
     },
     "execution_count": 6,
     "metadata": {},
     "output_type": "execute_result"
    }
   ],
   "source": [
    "quality = lc_check['quality']\n",
    "\n",
    "bad_bits = np.array([1,2,3,4,5,6,8,10,12,13,15])\n",
    "value = 0\n",
    "for v in bad_bits:\n",
    "    value = value + 2**(v-1)\n",
    "    \n",
    "bad_data = np.bitwise_and(quality, value) >= 1 \n",
    "\n",
    "np.any(bad_data)"
   ]
  },
  {
   "cell_type": "markdown",
   "id": "50806278-610a-4434-a287-3a7d7cc4ad80",
   "metadata": {},
   "source": [
    "It seems that none of these high-flux timestamps were flagged by the TESS team as being bad-quality. This lends more credence to the idea that there is a real astrophysical source of the high flux — perhaps flares."
   ]
  },
  {
   "cell_type": "markdown",
   "id": "8032b1ce-da6f-46ad-b5c6-aedb73ac5508",
   "metadata": {
    "tags": []
   },
   "source": [
    "# Exercise 2"
   ]
  },
  {
   "cell_type": "code",
   "execution_count": 7,
   "id": "a6d7d5f7-bcc2-4bb1-a672-4b7819fbf2a2",
   "metadata": {
    "tags": []
   },
   "outputs": [
    {
     "data": {
      "image/png": "[encoded data removed]",
      "text/plain": [
       "<Figure size 848.5x400 with 1 Axes>"
      ]
     },
     "metadata": {},
     "output_type": "display_data"
    }
   ],
   "source": [
    "lc_interval = (lc.time.max() - lc.time.min()).value\n",
    "\n",
    "max_period = lc_interval/2\n",
    "\n",
    "min_period = 1 / 24 / 60 / 60 * 20\n",
    "\n",
    "pg = lc.normalize(unit='ppm').to_periodogram(maximum_period=max_period, minimum_period=min_period)\n",
    "\n",
    "pg.plot(scale='log');"
   ]
  },
  {
   "cell_type": "markdown",
   "id": "e4c42700-bd37-456c-98a0-d0870cc28605",
   "metadata": {},
   "source": [
    "We'd like to investigate whether those peaks are harmonics"
   ]
  },
  {
   "cell_type": "code",
   "execution_count": 8,
   "id": "6bca1f8f-f06a-40e8-9a84-ebe8054b47a8",
   "metadata": {
    "tags": []
   },
   "outputs": [],
   "source": [
    "from scipy.signal import find_peaks"
   ]
  },
  {
   "cell_type": "code",
   "execution_count": 9,
   "id": "8657b362-17f2-46a8-a6fc-d7eca54aaeb6",
   "metadata": {
    "tags": []
   },
   "outputs": [],
   "source": [
    "# peaks = find_peaks(pg.power, distance=2000)[0]\n",
    "peaks = find_peaks(pg.power, height=12500, distance=800)[0]"
   ]
  },
  {
   "cell_type": "code",
   "execution_count": 10,
   "id": "96b3a542-89cf-44a2-b757-cb28eec651e2",
   "metadata": {
    "tags": []
   },
   "outputs": [
    {
     "data": {
      "image/png": "[encoded data removed]",
      "text/plain": [
       "<Figure size 640x480 with 1 Axes>"
      ]
     },
     "metadata": {},
     "output_type": "display_data"
    }
   ],
   "source": [
    "plt.plot(pg.period, pg.power)\n",
    "\n",
    "plt.scatter(pg.period[peaks], pg.power[peaks], color='red', marker='x')\n",
    "plt.xscale('log')"
   ]
  },
  {
   "cell_type": "code",
   "execution_count": 11,
   "id": "4dad93de-153c-4a61-9030-f1000d9a579c",
   "metadata": {
    "tags": []
   },
   "outputs": [
    {
     "data": {
      "text/latex": [
       "$[0.76176521,~0.0013863637,~0.00069381321,~0.00046268261,~0.00034706466,~0.00027767703,~0.00023155227] \\; \\mathrm{d}$"
      ],
      "text/plain": [
       "<Quantity [7.61765205e-01, 1.38636373e-03, 6.93813215e-04, 4.62682613e-04,\n",
       "           3.47064660e-04, 2.77677030e-04, 2.31552268e-04] d>"
      ]
     },
     "execution_count": 11,
     "metadata": {},
     "output_type": "execute_result"
    }
   ],
   "source": [
    "pg.period[peaks]"
   ]
  },
  {
   "cell_type": "code",
   "execution_count": 12,
   "id": "240e77c8-e87f-48e5-aa15-ee7fce767847",
   "metadata": {
    "tags": []
   },
   "outputs": [],
   "source": [
    "first_harmonic = pg.period[peaks][1]"
   ]
  },
  {
   "cell_type": "code",
   "execution_count": 13,
   "id": "2b4188f5-fff6-4348-8afe-45a0e2b783a2",
   "metadata": {
    "tags": []
   },
   "outputs": [],
   "source": [
    "per_ratios = []\n",
    "for per in pg.period[peaks][2:]:\n",
    "    per_ratios += [first_harmonic/per]\n",
    "\n",
    "per_ratios = np.array(per_ratios)\n",
    "        "
   ]
  },
  {
   "cell_type": "code",
   "execution_count": 14,
   "id": "fbd8a6f4-c92d-466b-a1fa-a4ba48205d94",
   "metadata": {
    "tags": []
   },
   "outputs": [
    {
     "data": {
      "text/plain": [
       "array([1.99818006, 2.99636013, 3.99454019, 4.99272026, 5.98726045])"
      ]
     },
     "execution_count": 14,
     "metadata": {},
     "output_type": "execute_result"
    }
   ],
   "source": [
    "per_ratios"
   ]
  },
  {
   "cell_type": "code",
   "execution_count": 15,
   "id": "c4f5a286-e47f-40e8-8aed-94326810bac4",
   "metadata": {
    "tags": []
   },
   "outputs": [
    {
     "data": {
      "text/plain": [
       "Text(0, 0.5, 'Period ratio')"
      ]
     },
     "execution_count": 15,
     "metadata": {},
     "output_type": "execute_result"
    },
    {
     "data": {
      "image/png": "[encoded data removed]",
      "text/plain": [
       "<Figure size 640x480 with 1 Axes>"
      ]
     },
     "metadata": {},
     "output_type": "display_data"
    }
   ],
   "source": [
    "plt.axhline(2, color='gray')\n",
    "plt.axhline(3, color='gray')\n",
    "plt.axhline(4, color='gray')\n",
    "plt.axhline(5, color='gray')\n",
    "plt.axhline(6, color='gray')\n",
    "plt.scatter(np.arange(len(per_ratios)), per_ratios, zorder=100, color='teal')\n",
    "\n",
    "plt.xlabel('Peak number')\n",
    "plt.ylabel('Period ratio')\n"
   ]
  },
  {
   "cell_type": "markdown",
   "id": "b2d733ce-148a-45b4-b636-2cbd684126c4",
   "metadata": {},
   "source": [
    "The period ratios are close to integer values. Looks like harmonics here!"
   ]
  },
  {
   "cell_type": "markdown",
   "id": "0176cc66-7014-461b-8675-7e6d67cdd743",
   "metadata": {
    "tags": []
   },
   "source": [
    "# Exercise 3"
   ]
  },
  {
   "cell_type": "markdown",
   "id": "d6731fa6-bcc9-4313-81da-7283ce5a3fc7",
   "metadata": {
    "tags": []
   },
   "source": [
    "If we change this to just the 1-sigma outliers, the periodicity we're looking for is removed entirely. This is, in short, not good. The implication is that when cleaning our datasets, we should take care to not clean them so much that the signal of interest is removed."
   ]
  },
  {
   "cell_type": "code",
   "execution_count": 16,
   "id": "3f152e81-13ce-4967-96de-ab7e899e3ecb",
   "metadata": {
    "tags": []
   },
   "outputs": [
    {
     "data": {
      "image/png": "[encoded data removed]",
      "text/plain": [
       "<Figure size 848.5x400 with 1 Axes>"
      ]
     },
     "metadata": {},
     "output_type": "display_data"
    }
   ],
   "source": [
    "lc_clipped = lc.remove_outliers(sigma=1)\n",
    "\n",
    "pg_clipped = lc_clipped.normalize(unit='ppm').to_periodogram(maximum_period=max_period, minimum_period=min_period)\n",
    "\n",
    "ax = pg.plot(scale='log', label='Baseline')\n",
    "# pg_clipped.plot(ax=ax, scale='log', zorder=1);\n",
    "pg_clipped.plot(ax=ax, scale='log', color='teal', label='Clipped');\n",
    "\n",
    "\n"
   ]
  },
  {
   "cell_type": "markdown",
   "id": "69a02a64-8f1f-48ef-832a-dc343a2ca03f",
   "metadata": {},
   "source": [
    "We can see that in the clippeed lightcurve, the periodogram peaks are still present, but they're only barely visible — and their amplitude is nearly consistent with noise. This feature makes sense when we take a look at the lightcurve that's been clipped. We've removed way too much of the lightcurve!"
   ]
  },
  {
   "cell_type": "code",
   "execution_count": 17,
   "id": "3124abcc-50ab-4174-8f44-a93a1c3725fb",
   "metadata": {
    "tags": []
   },
   "outputs": [
    {
     "data": {
      "text/plain": [
       "<AxesSubplot:xlabel='Time - 2457000 [BTJD days]', ylabel='Flux [$\\\\mathrm{e^{-}\\\\,s^{-1}}$]'>"
      ]
     },
     "execution_count": 17,
     "metadata": {},
     "output_type": "execute_result"
    },
    {
     "data": {
      "image/png": "[encoded data removed]",
      "text/plain": [
       "<Figure size 848.5x400 with 1 Axes>"
      ]
     },
     "metadata": {},
     "output_type": "display_data"
    }
   ],
   "source": [
    "lc_clipped.plot()"
   ]
  },
  {
   "cell_type": "markdown",
   "id": "4f43814c-10c0-41b8-9c1c-3a5f8af4a0af",
   "metadata": {
    "tags": []
   },
   "source": [
    "# Exercise 4"
   ]
  },
  {
   "cell_type": "code",
   "execution_count": 18,
   "id": "1f4748e0-0876-40b7-a75a-81e165b9e67b",
   "metadata": {
    "tags": []
   },
   "outputs": [
    {
     "name": "stdout",
     "output_type": "stream",
     "text": [
      "Reading in training set files.\n"
     ]
    },
    {
     "name": "stderr",
     "output_type": "stream",
     "text": [
      "100%|██████████| 62/62 [00:00<00:00, 417.76it/s]"
     ]
    },
    {
     "name": "stdout",
     "output_type": "stream",
     "text": [
      "502 positive classes (flare)\n",
      "1342 negative classes (no flare)\n",
      "37.0% class imbalance\n",
      "\n"
     ]
    },
    {
     "name": "stderr",
     "output_type": "stream",
     "text": [
      "\n"
     ]
    }
   ],
   "source": [
    "data_dir = './hellouniverse_stella_500/'\n",
    "filename = 'Guenther_2020_flare_catalog.txt'\n",
    "ds = stella.FlareDataSet(fn_dir=data_dir,\n",
    "                         catalog=data_dir+filename) # using the same catalog as above"
   ]
  },
  {
   "cell_type": "code",
   "execution_count": 19,
   "id": "e42e6995-7fdc-481a-bb07-cfc994100753",
   "metadata": {
    "tags": []
   },
   "outputs": [],
   "source": [
    "# remove lightcurves with NaNs from training, test and validation data\n",
    "def remove_nans(input_data):\n",
    "    '''Determine indices of files without NaNs'''\n",
    "\n",
    "    idx = []\n",
    "    for k in range(np.shape(input_data)[0]):\n",
    "        if len(input_data[k, :, :][np.isnan(input_data[k, :, :])]) == 0:\n",
    "            idx.append(k)\n",
    "    return idx\n",
    "\n",
    "\n",
    "# find indices in train, test and validation sets without NaNs\n",
    "idx_train = remove_nans(ds.train_data)\n",
    "idx_test = remove_nans(ds.test_data)\n",
    "idx_val = remove_nans(ds.val_data)\n",
    "\n",
    "ds.train_data = ds.train_data[idx_train]\n",
    "ds.train_labels = ds.train_labels[idx_train]\n",
    "\n",
    "ds.test_data = ds.test_data[idx_test]\n",
    "ds.test_labels = ds.test_labels[idx_test]\n",
    "\n",
    "ds.val_data = ds.val_data[idx_val]\n",
    "ds.val_labels = ds.val_labels[idx_val]\n"
   ]
  },
  {
   "cell_type": "code",
   "execution_count": 20,
   "id": "758da234-746c-4ac1-86bf-42d3922a58b7",
   "metadata": {
    "tags": []
   },
   "outputs": [],
   "source": [
    "# first, we load the mode.\n",
    "cnn_file = 'initial_flare_model_small_dataset.h5' #AS: ask about where the files are from previous notebooks!\n",
    "model = keras.models.load_model(cnn_file)"
   ]
  },
  {
   "cell_type": "code",
   "execution_count": 21,
   "id": "572229fd-50e3-4da6-b345-531f84cd7d27",
   "metadata": {
    "tags": []
   },
   "outputs": [],
   "source": [
    "# set up the ConvNN object.\n",
    "cnn_stella = stella.ConvNN(output_dir=data_dir, ds=ds)"
   ]
  },
  {
   "cell_type": "code",
   "execution_count": 22,
   "id": "80858f7f-9d22-4a6d-8518-9933fd059aed",
   "metadata": {
    "tags": []
   },
   "outputs": [
    {
     "name": "stderr",
     "output_type": "stream",
     "text": [
      "  0%|          | 0/1 [00:00<?, ?it/s]"
     ]
    },
    {
     "name": "stdout",
     "output_type": "stream",
     "text": [
      "572/572 [==============================] - 2s 2ms/step\n"
     ]
    },
    {
     "name": "stderr",
     "output_type": "stream",
     "text": [
      "100%|██████████| 1/1 [00:03<00:00,  3.19s/it]\n"
     ]
    }
   ],
   "source": [
    "cnn_stella.predict(cnn_file, times=lc.time.value, fluxes=lc.flux, errs=lc.flux_err)"
   ]
  },
  {
   "cell_type": "code",
   "execution_count": 23,
   "id": "59050fed-6e66-4b18-acd0-b84a47eda9ba",
   "metadata": {
    "tags": []
   },
   "outputs": [
    {
     "data": {
      "image/png": "[encoded data removed]",
      "text/plain": [
       "<Figure size 640x480 with 2 Axes>"
      ]
     },
     "metadata": {},
     "output_type": "display_data"
    }
   ],
   "source": [
    "# cnn_stella.predict_flux[0]\n",
    "fig, ax= plt.subplots()\n",
    "im  = ax.scatter(cnn_stella.predict_time[0], cnn_stella.predict_flux[0], c=cnn_stella.predictions[0], s=1. )\n",
    "plt.xlabel('Time (d)')\n",
    "plt.ylabel('Flux (normalized)')\n",
    "plt.colorbar(im, label='Flare probability')\n",
    "plt.xlim(lc.time.min().value, 1336)\n",
    "plt.show()\n"
   ]
  },
  {
   "cell_type": "markdown",
   "id": "1ebda9a8-9f06-4d8f-81fc-ef011fee4fe4",
   "metadata": {},
   "source": [
    "Now, we'd like to count the number of distinct flares. Let's count a transition into and out of hgih flare probability (greater than a rating of 0.5 by the classifier) as a flare."
   ]
  },
  {
   "cell_type": "code",
   "execution_count": 24,
   "id": "9e28e0b0-eeac-4085-83ff-1a14de8ac360",
   "metadata": {
    "tags": []
   },
   "outputs": [],
   "source": [
    "ff = stella.FitFlares(id=[lc.targetid],\n",
    "                      time=[lc.time.value],\n",
    "                      flux=[lc.flux.value],\n",
    "                      flux_err=[lc.flux_err.value],\n",
    "                      predictions=[cnn_stella.predictions[0]])"
   ]
  },
  {
   "cell_type": "code",
   "execution_count": 25,
   "id": "e4f0e7ad-149a-41c2-b1e9-7009ea435c55",
   "metadata": {
    "tags": []
   },
   "outputs": [
    {
     "data": {
      "text/plain": [
       "<stella.mark_flares.FitFlares at 0x7f33f2ff4400>"
      ]
     },
     "execution_count": 25,
     "metadata": {},
     "output_type": "execute_result"
    }
   ],
   "source": [
    "ff"
   ]
  },
  {
   "cell_type": "code",
   "execution_count": 26,
   "id": "dc9dd956-7a4e-4bbc-9522-b9e48ca00bd1",
   "metadata": {
    "tags": []
   },
   "outputs": [
    {
     "name": "stderr",
     "output_type": "stream",
     "text": [
      "Finding & Fitting Flares:   0%|          | 0/1 [00:00<?, ?it/s]/opt/conda/envs/tess/lib/python3.8/site-packages/stella/mark_flares.py:92: VisibleDeprecationWarning: Creating an ndarray from ragged nested sequences (which is a list-or-tuple of lists-or-tuples-or ndarrays with different lengths or shapes) is deprecated. If you meant to do this, you must specify 'dtype=object' when creating the ndarray.\n",
      "  return np.array(results)\n",
      "Finding & Fitting Flares: 100%|██████████| 1/1 [00:00<00:00,  2.24it/s]\n"
     ]
    },
    {
     "data": {
      "text/html": [
       "<div><i>Table length=5</i>\n",
       "<table id=\"table139861097912784\" class=\"table-striped table-bordered table-condensed\">\n",
       "<thead><tr><th>Target_ID</th><th>tpeak</th><th>amp</th><th>ed_s</th><th>rise</th><th>fall</th><th>prob</th></tr></thead>\n",
       "<thead><tr><th>float64</th><th>float64</th><th>float64</th><th>float64</th><th>float64</th><th>float64</th><th>float64</th></tr></thead>\n",
       "<tr><td>234295610.0</td><td>1336.5337294934927</td><td>1.0164458841762698</td><td>15.733979526711776</td><td>0.0001</td><td>0.01</td><td>0.7433666586875916</td></tr>\n",
       "<tr><td>234295610.0</td><td>1336.6670634792652</td><td>1.030084465920081</td><td>77.18607677976796</td><td>0.01</td><td>0.01</td><td>0.503517746925354</td></tr>\n",
       "<tr><td>234295610.0</td><td>1340.3767937687605</td><td>1.0188266236793928</td><td>19.615063032310957</td><td>0.0001</td><td>0.01</td><td>0.846248209476471</td></tr>\n",
       "<tr><td>234295610.0</td><td>1341.9031816217816</td><td>1.0166045607867409</td><td>17.27435594647144</td><td>0.0001</td><td>0.01</td><td>0.5975300669670105</td></tr>\n",
       "<tr><td>234295610.0</td><td>1344.9628970090544</td><td>1.0205275288684985</td><td>22.32319766900919</td><td>0.0001</td><td>0.01</td><td>0.715408205986023</td></tr>\n",
       "</table></div>"
      ],
      "text/plain": [
       "<Table length=5>\n",
       " Target_ID        tpeak               amp         ...   fall         prob       \n",
       "  float64        float64            float64       ... float64      float64      \n",
       "----------- ------------------ ------------------ ... ------- ------------------\n",
       "234295610.0 1336.5337294934927 1.0164458841762698 ...    0.01 0.7433666586875916\n",
       "234295610.0 1336.6670634792652  1.030084465920081 ...    0.01  0.503517746925354\n",
       "234295610.0 1340.3767937687605 1.0188266236793928 ...    0.01  0.846248209476471\n",
       "234295610.0 1341.9031816217816 1.0166045607867409 ...    0.01 0.5975300669670105\n",
       "234295610.0 1344.9628970090544 1.0205275288684985 ...    0.01  0.715408205986023"
      ]
     },
     "execution_count": 26,
     "metadata": {},
     "output_type": "execute_result"
    }
   ],
   "source": [
    "ff.identify_flare_peaks(threshold=0.5)\n",
    "ff.flare_table"
   ]
  },
  {
   "cell_type": "markdown",
   "id": "d8738b09-6c52-4ed8-bc0d-cee5eaebce61",
   "metadata": {},
   "source": [
    "These tell us a little more here! right now we're just going to count the flare rate in number of flares per day."
   ]
  },
  {
   "cell_type": "code",
   "execution_count": 27,
   "id": "f8204caf-bb0d-4c3a-aadc-512e75d164ba",
   "metadata": {
    "tags": []
   },
   "outputs": [],
   "source": [
    "def calc_flare_rate(name):\n",
    "    sectors = [1, 2] # only consider the first few sectors\n",
    "    lcs = []\n",
    "    # for name in ticids:\n",
    "    lc = search_lightcurve(target='TIC'+name, mission='TESS', sector=sectors, author='SPOC')\n",
    "    lc = lc.download_all()[0]\n",
    "    \n",
    "    cnn_stella.predict(cnn_file, times=lc.time.value, fluxes=lc.flux, errs=lc.flux_err)\n",
    "    \n",
    "    ff = stella.FitFlares(id=[lc.targetid],\n",
    "                      time=[lc.time.value],\n",
    "                      flux=[lc.flux.value],\n",
    "                      flux_err=[lc.flux_err.value],\n",
    "                      predictions=[cnn_stella.predictions[0]])\n",
    "    \n",
    "    ff.identify_flare_peaks(threshold=0.5)\n",
    "    flare_rate = len(ff.flare_table) / (lc.time.value.max() - lc.time.value.min())    \n",
    "    return flare_rate"
   ]
  },
  {
   "cell_type": "markdown",
   "id": "3594636a-532c-498b-b7ac-954035997532",
   "metadata": {},
   "source": [
    "Let's recalculate those rotation and flare rates."
   ]
  },
  {
   "cell_type": "code",
   "execution_count": 28,
   "id": "bcab9d4a-00fb-459a-8de6-e1fa7741346c",
   "metadata": {
    "tags": []
   },
   "outputs": [],
   "source": [
    "G = const.G\n",
    "M = 1 * u.M_sun\n",
    "R = 1 * u.R_sun\n",
    "vc = ((2/3) * G * M / R)**.5\n",
    "\n",
    "P = 2 * np.pi * R  / vc\n",
    "\n",
    "min_period = P.to(u.day).value/100"
   ]
  },
  {
   "cell_type": "code",
   "execution_count": 29,
   "id": "168e31bd-f89c-4cec-9d8f-33b9455522a0",
   "metadata": {
    "tags": []
   },
   "outputs": [
    {
     "name": "stderr",
     "output_type": "stream",
     "text": [
      " 27%|██▋       | 12/44 [01:11<01:15,  2.36s/it]/opt/conda/envs/tess/lib/python3.8/site-packages/astropy/units/quantity.py:673: RuntimeWarning: invalid value encountered in sqrt\n",
      "  result = super().__array_ufunc__(function, method, *arrays, **kwargs)\n",
      " 61%|██████▏   | 27/44 [01:26<00:14,  1.17it/s]/opt/conda/envs/tess/lib/python3.8/site-packages/astropy/units/quantity.py:673: RuntimeWarning: invalid value encountered in sqrt\n",
      "  result = super().__array_ufunc__(function, method, *arrays, **kwargs)\n",
      " 73%|███████▎  | 32/44 [01:30<00:09,  1.27it/s]/opt/conda/envs/tess/lib/python3.8/site-packages/astropy/units/quantity.py:673: RuntimeWarning: invalid value encountered in sqrt\n",
      "  result = super().__array_ufunc__(function, method, *arrays, **kwargs)\n",
      "100%|██████████| 44/44 [01:41<00:00,  2.30s/it]\n"
     ]
    }
   ],
   "source": [
    "def calc_rotation_rate(name):\n",
    "    \"\"\"\n",
    "    Calculates the roation period of a star, assuming that rotation is the primary driver of the star's periodicity. \n",
    "    \n",
    "    Inputs\n",
    "    ------\n",
    "        :name: name of star (str)\n",
    "        \n",
    "    Outputs\n",
    "    -------\n",
    "        :period_at_max_power: the dominant period in the light curve. [float]\n",
    "    \"\"\"\n",
    "    \n",
    "    \n",
    "    # for all the selected targets, pull the available lightcurves using the lightkurve package\n",
    "    sectors = [1, 2] # only consider the first few sectors\n",
    "    lcs = []\n",
    "    # for name in ticids:\n",
    "    lc = search_lightcurve(target='TIC'+name, mission='TESS', sector=sectors, author='SPOC')\n",
    "    lc = lc.download_all()[0]\n",
    "    \n",
    "    pg = lc.normalize(unit='ppm').to_periodogram(maximum_period=max_period, minimum_period=min_period)\n",
    "    \n",
    "    return pg.period_at_max_power\n",
    "\n",
    "\n",
    "filename = 'Guenther_2020_flare_catalog.txt'\n",
    "\n",
    "catalog = astropy.io.ascii.read(data_dir + filename)  \n",
    "stars = catalog['TIC'].data\n",
    "\n",
    "\n",
    "\n",
    "\n",
    "rot_rates = []\n",
    "\n",
    "# iterate though stars\n",
    "for star in tqdm(stars[::200]):\n",
    "    star_name = str(star) # the rotation rate function takes strings\n",
    "    \n",
    "    rot_rate = calc_rotation_rate(star_name)\n",
    "    \n",
    "    # store result of rotation rate calculation\n",
    "    rot_rates += [rot_rate]"
   ]
  },
  {
   "cell_type": "code",
   "execution_count": 30,
   "id": "23adb2c5-2bbf-4491-9461-714321a09340",
   "metadata": {
    "tags": []
   },
   "outputs": [
    {
     "name": "stderr",
     "output_type": "stream",
     "text": [
      "  0%|          | 0/1 [00:00<?, ?it/s]"
     ]
    },
    {
     "name": "stdout",
     "output_type": "stream",
     "text": [
      "572/572 [==============================] - 1s 2ms/step\n"
     ]
    },
    {
     "name": "stderr",
     "output_type": "stream",
     "text": [
      "100%|██████████| 1/1 [00:03<00:00,  3.23s/it]\n",
      "Finding & Fitting Flares:   0%|          | 0/1 [00:00<?, ?it/s]/opt/conda/envs/tess/lib/python3.8/site-packages/stella/mark_flares.py:92: VisibleDeprecationWarning: Creating an ndarray from ragged nested sequences (which is a list-or-tuple of lists-or-tuples-or ndarrays with different lengths or shapes) is deprecated. If you meant to do this, you must specify 'dtype=object' when creating the ndarray.\n",
      "  return np.array(results)\n",
      "Finding & Fitting Flares: 100%|██████████| 1/1 [00:00<00:00, 14.18it/s]\n",
      "  0%|          | 0/1 [00:00<?, ?it/s]"
     ]
    },
    {
     "name": "stdout",
     "output_type": "stream",
     "text": [
      "572/572 [==============================] - 1s 2ms/step\n"
     ]
    },
    {
     "name": "stderr",
     "output_type": "stream",
     "text": [
      "100%|██████████| 1/1 [00:03<00:00,  3.12s/it]\n",
      "Finding & Fitting Flares:   0%|          | 0/1 [00:00<?, ?it/s]/opt/conda/envs/tess/lib/python3.8/site-packages/stella/mark_flares.py:92: VisibleDeprecationWarning: Creating an ndarray from ragged nested sequences (which is a list-or-tuple of lists-or-tuples-or ndarrays with different lengths or shapes) is deprecated. If you meant to do this, you must specify 'dtype=object' when creating the ndarray.\n",
      "  return np.array(results)\n",
      "Finding & Fitting Flares: 100%|██████████| 1/1 [00:00<00:00,  2.08it/s]\n",
      "  0%|          | 0/1 [00:00<?, ?it/s]"
     ]
    },
    {
     "name": "stdout",
     "output_type": "stream",
     "text": [
      "570/570 [==============================] - 1s 2ms/step\n"
     ]
    },
    {
     "name": "stderr",
     "output_type": "stream",
     "text": [
      "100%|██████████| 1/1 [00:03<00:00,  3.16s/it]\n",
      "Finding & Fitting Flares:   0%|          | 0/1 [00:00<?, ?it/s]/opt/conda/envs/tess/lib/python3.8/site-packages/stella/mark_flares.py:92: VisibleDeprecationWarning: Creating an ndarray from ragged nested sequences (which is a list-or-tuple of lists-or-tuples-or ndarrays with different lengths or shapes) is deprecated. If you meant to do this, you must specify 'dtype=object' when creating the ndarray.\n",
      "  return np.array(results)\n",
      "Finding & Fitting Flares: 100%|██████████| 1/1 [00:00<00:00, 15.19it/s]\n",
      "  0%|          | 0/1 [00:00<?, ?it/s]"
     ]
    },
    {
     "name": "stdout",
     "output_type": "stream",
     "text": [
      "572/572 [==============================] - 1s 2ms/step\n"
     ]
    },
    {
     "name": "stderr",
     "output_type": "stream",
     "text": [
      "100%|██████████| 1/1 [00:03<00:00,  3.18s/it]\n",
      "Finding & Fitting Flares:   0%|          | 0/1 [00:00<?, ?it/s]/opt/conda/envs/tess/lib/python3.8/site-packages/stella/mark_flares.py:92: VisibleDeprecationWarning: Creating an ndarray from ragged nested sequences (which is a list-or-tuple of lists-or-tuples-or ndarrays with different lengths or shapes) is deprecated. If you meant to do this, you must specify 'dtype=object' when creating the ndarray.\n",
      "  return np.array(results)\n",
      "Finding & Fitting Flares: 100%|██████████| 1/1 [00:00<00:00,  6.49it/s]\n",
      "  0%|          | 0/1 [00:00<?, ?it/s]"
     ]
    },
    {
     "name": "stdout",
     "output_type": "stream",
     "text": [
      "572/572 [==============================] - 2s 3ms/step\n"
     ]
    },
    {
     "name": "stderr",
     "output_type": "stream",
     "text": [
      "100%|██████████| 1/1 [00:03<00:00,  3.23s/it]\n",
      "Finding & Fitting Flares:   0%|          | 0/1 [00:00<?, ?it/s]/opt/conda/envs/tess/lib/python3.8/site-packages/stella/mark_flares.py:92: VisibleDeprecationWarning: Creating an ndarray from ragged nested sequences (which is a list-or-tuple of lists-or-tuples-or ndarrays with different lengths or shapes) is deprecated. If you meant to do this, you must specify 'dtype=object' when creating the ndarray.\n",
      "  return np.array(results)\n",
      "Finding & Fitting Flares: 100%|██████████| 1/1 [00:00<00:00, 87.29it/s]\n",
      "  0%|          | 0/1 [00:00<?, ?it/s]"
     ]
    },
    {
     "name": "stdout",
     "output_type": "stream",
     "text": [
      "572/572 [==============================] - 1s 2ms/step\n"
     ]
    },
    {
     "name": "stderr",
     "output_type": "stream",
     "text": [
      "100%|██████████| 1/1 [00:03<00:00,  3.06s/it]\n",
      "Finding & Fitting Flares:   0%|          | 0/1 [00:00<?, ?it/s]/opt/conda/envs/tess/lib/python3.8/site-packages/stella/mark_flares.py:92: VisibleDeprecationWarning: Creating an ndarray from ragged nested sequences (which is a list-or-tuple of lists-or-tuples-or ndarrays with different lengths or shapes) is deprecated. If you meant to do this, you must specify 'dtype=object' when creating the ndarray.\n",
      "  return np.array(results)\n",
      "Finding & Fitting Flares: 100%|██████████| 1/1 [00:00<00:00, 13.30it/s]\n",
      "  0%|          | 0/1 [00:00<?, ?it/s]"
     ]
    },
    {
     "name": "stdout",
     "output_type": "stream",
     "text": [
      "572/572 [==============================] - 1s 2ms/step\n"
     ]
    },
    {
     "name": "stderr",
     "output_type": "stream",
     "text": [
      "100%|██████████| 1/1 [00:03<00:00,  3.11s/it]\n",
      "Finding & Fitting Flares:   0%|          | 0/1 [00:00<?, ?it/s]/opt/conda/envs/tess/lib/python3.8/site-packages/stella/mark_flares.py:92: VisibleDeprecationWarning: Creating an ndarray from ragged nested sequences (which is a list-or-tuple of lists-or-tuples-or ndarrays with different lengths or shapes) is deprecated. If you meant to do this, you must specify 'dtype=object' when creating the ndarray.\n",
      "  return np.array(results)\n",
      "Finding & Fitting Flares: 100%|██████████| 1/1 [00:01<00:00,  1.76s/it]\n",
      "  0%|          | 0/1 [00:00<?, ?it/s]"
     ]
    },
    {
     "name": "stdout",
     "output_type": "stream",
     "text": [
      "569/569 [==============================] - 2s 3ms/step\n"
     ]
    },
    {
     "name": "stderr",
     "output_type": "stream",
     "text": [
      "100%|██████████| 1/1 [00:03<00:00,  3.20s/it]\n",
      "Finding & Fitting Flares:   0%|          | 0/1 [00:00<?, ?it/s]/opt/conda/envs/tess/lib/python3.8/site-packages/stella/mark_flares.py:92: VisibleDeprecationWarning: Creating an ndarray from ragged nested sequences (which is a list-or-tuple of lists-or-tuples-or ndarrays with different lengths or shapes) is deprecated. If you meant to do this, you must specify 'dtype=object' when creating the ndarray.\n",
      "  return np.array(results)\n",
      "Finding & Fitting Flares: 100%|██████████| 1/1 [00:00<00:00, 17.64it/s]\n",
      "  0%|          | 0/1 [00:00<?, ?it/s]"
     ]
    },
    {
     "name": "stdout",
     "output_type": "stream",
     "text": [
      "572/572 [==============================] - 1s 2ms/step\n"
     ]
    },
    {
     "name": "stderr",
     "output_type": "stream",
     "text": [
      "100%|██████████| 1/1 [00:03<00:00,  3.21s/it]\n",
      "Finding & Fitting Flares:   0%|          | 0/1 [00:00<?, ?it/s]/opt/conda/envs/tess/lib/python3.8/site-packages/stella/mark_flares.py:92: VisibleDeprecationWarning: Creating an ndarray from ragged nested sequences (which is a list-or-tuple of lists-or-tuples-or ndarrays with different lengths or shapes) is deprecated. If you meant to do this, you must specify 'dtype=object' when creating the ndarray.\n",
      "  return np.array(results)\n",
      "Finding & Fitting Flares: 100%|██████████| 1/1 [00:00<00:00, 14.29it/s]\n",
      "  0%|          | 0/1 [00:00<?, ?it/s]"
     ]
    },
    {
     "name": "stdout",
     "output_type": "stream",
     "text": [
      "572/572 [==============================] - 1s 2ms/step\n"
     ]
    },
    {
     "name": "stderr",
     "output_type": "stream",
     "text": [
      "100%|██████████| 1/1 [00:03<00:00,  3.11s/it]\n",
      "Finding & Fitting Flares:   0%|          | 0/1 [00:00<?, ?it/s]/opt/conda/envs/tess/lib/python3.8/site-packages/stella/mark_flares.py:92: VisibleDeprecationWarning: Creating an ndarray from ragged nested sequences (which is a list-or-tuple of lists-or-tuples-or ndarrays with different lengths or shapes) is deprecated. If you meant to do this, you must specify 'dtype=object' when creating the ndarray.\n",
      "  return np.array(results)\n",
      "Finding & Fitting Flares: 100%|██████████| 1/1 [00:00<00:00, 11.67it/s]\n",
      "  0%|          | 0/1 [00:00<?, ?it/s]"
     ]
    },
    {
     "name": "stdout",
     "output_type": "stream",
     "text": [
      "572/572 [==============================] - 2s 3ms/step\n"
     ]
    },
    {
     "name": "stderr",
     "output_type": "stream",
     "text": [
      "100%|██████████| 1/1 [00:03<00:00,  3.27s/it]\n",
      "Finding & Fitting Flares:   0%|          | 0/1 [00:00<?, ?it/s]/opt/conda/envs/tess/lib/python3.8/site-packages/stella/mark_flares.py:92: VisibleDeprecationWarning: Creating an ndarray from ragged nested sequences (which is a list-or-tuple of lists-or-tuples-or ndarrays with different lengths or shapes) is deprecated. If you meant to do this, you must specify 'dtype=object' when creating the ndarray.\n",
      "  return np.array(results)\n",
      "Finding & Fitting Flares: 100%|██████████| 1/1 [00:00<00:00,  8.92it/s]\n",
      "  0%|          | 0/1 [00:00<?, ?it/s]"
     ]
    },
    {
     "name": "stdout",
     "output_type": "stream",
     "text": [
      "572/572 [==============================] - 1s 2ms/step\n"
     ]
    },
    {
     "name": "stderr",
     "output_type": "stream",
     "text": [
      "100%|██████████| 1/1 [00:03<00:00,  3.13s/it]\n",
      "Finding & Fitting Flares:   0%|          | 0/1 [00:00<?, ?it/s]/opt/conda/envs/tess/lib/python3.8/site-packages/stella/mark_flares.py:92: VisibleDeprecationWarning: Creating an ndarray from ragged nested sequences (which is a list-or-tuple of lists-or-tuples-or ndarrays with different lengths or shapes) is deprecated. If you meant to do this, you must specify 'dtype=object' when creating the ndarray.\n",
      "  return np.array(results)\n",
      "Finding & Fitting Flares: 100%|██████████| 1/1 [00:00<00:00,  2.26it/s]\n",
      "  0%|          | 0/1 [00:00<?, ?it/s]"
     ]
    },
    {
     "name": "stdout",
     "output_type": "stream",
     "text": [
      "572/572 [==============================] - 2s 3ms/step\n"
     ]
    },
    {
     "name": "stderr",
     "output_type": "stream",
     "text": [
      "100%|██████████| 1/1 [00:03<00:00,  3.45s/it]\n",
      "Finding & Fitting Flares:   0%|          | 0/1 [00:00<?, ?it/s]/opt/conda/envs/tess/lib/python3.8/site-packages/stella/mark_flares.py:92: VisibleDeprecationWarning: Creating an ndarray from ragged nested sequences (which is a list-or-tuple of lists-or-tuples-or ndarrays with different lengths or shapes) is deprecated. If you meant to do this, you must specify 'dtype=object' when creating the ndarray.\n",
      "  return np.array(results)\n",
      "Finding & Fitting Flares: 100%|██████████| 1/1 [00:00<00:00,  4.91it/s]\n",
      "  0%|          | 0/1 [00:00<?, ?it/s]"
     ]
    },
    {
     "name": "stdout",
     "output_type": "stream",
     "text": [
      "572/572 [==============================] - 1s 2ms/step\n"
     ]
    },
    {
     "name": "stderr",
     "output_type": "stream",
     "text": [
      "100%|██████████| 1/1 [00:03<00:00,  3.15s/it]\n",
      "Finding & Fitting Flares:   0%|          | 0/1 [00:00<?, ?it/s]/opt/conda/envs/tess/lib/python3.8/site-packages/stella/mark_flares.py:92: VisibleDeprecationWarning: Creating an ndarray from ragged nested sequences (which is a list-or-tuple of lists-or-tuples-or ndarrays with different lengths or shapes) is deprecated. If you meant to do this, you must specify 'dtype=object' when creating the ndarray.\n",
      "  return np.array(results)\n",
      "Finding & Fitting Flares: 100%|██████████| 1/1 [00:00<00:00,  6.96it/s]\n",
      "  0%|          | 0/1 [00:00<?, ?it/s]"
     ]
    },
    {
     "name": "stdout",
     "output_type": "stream",
     "text": [
      "572/572 [==============================] - 1s 2ms/step\n"
     ]
    },
    {
     "name": "stderr",
     "output_type": "stream",
     "text": [
      "100%|██████████| 1/1 [00:03<00:00,  3.14s/it]\n",
      "Finding & Fitting Flares:   0%|          | 0/1 [00:00<?, ?it/s]/opt/conda/envs/tess/lib/python3.8/site-packages/stella/mark_flares.py:92: VisibleDeprecationWarning: Creating an ndarray from ragged nested sequences (which is a list-or-tuple of lists-or-tuples-or ndarrays with different lengths or shapes) is deprecated. If you meant to do this, you must specify 'dtype=object' when creating the ndarray.\n",
      "  return np.array(results)\n",
      "Finding & Fitting Flares: 100%|██████████| 1/1 [00:00<00:00, 42.50it/s]\n",
      "  0%|          | 0/1 [00:00<?, ?it/s]"
     ]
    },
    {
     "name": "stdout",
     "output_type": "stream",
     "text": [
      "572/572 [==============================] - 1s 2ms/step\n"
     ]
    },
    {
     "name": "stderr",
     "output_type": "stream",
     "text": [
      "100%|██████████| 1/1 [00:03<00:00,  3.16s/it]\n",
      "Finding & Fitting Flares:   0%|          | 0/1 [00:00<?, ?it/s]/opt/conda/envs/tess/lib/python3.8/site-packages/stella/mark_flares.py:92: VisibleDeprecationWarning: Creating an ndarray from ragged nested sequences (which is a list-or-tuple of lists-or-tuples-or ndarrays with different lengths or shapes) is deprecated. If you meant to do this, you must specify 'dtype=object' when creating the ndarray.\n",
      "  return np.array(results)\n",
      "Finding & Fitting Flares: 100%|██████████| 1/1 [00:00<00:00,  9.38it/s]\n",
      "  0%|          | 0/1 [00:00<?, ?it/s]"
     ]
    },
    {
     "name": "stdout",
     "output_type": "stream",
     "text": [
      "572/572 [==============================] - 1s 2ms/step\n"
     ]
    },
    {
     "name": "stderr",
     "output_type": "stream",
     "text": [
      "100%|██████████| 1/1 [00:03<00:00,  3.15s/it]\n",
      "Finding & Fitting Flares:   0%|          | 0/1 [00:00<?, ?it/s]/opt/conda/envs/tess/lib/python3.8/site-packages/stella/mark_flares.py:92: VisibleDeprecationWarning: Creating an ndarray from ragged nested sequences (which is a list-or-tuple of lists-or-tuples-or ndarrays with different lengths or shapes) is deprecated. If you meant to do this, you must specify 'dtype=object' when creating the ndarray.\n",
      "  return np.array(results)\n",
      "Finding & Fitting Flares: 100%|██████████| 1/1 [00:00<00:00,  2.96it/s]\n",
      "  0%|          | 0/1 [00:00<?, ?it/s]"
     ]
    },
    {
     "name": "stdout",
     "output_type": "stream",
     "text": [
      "572/572 [==============================] - 1s 2ms/step\n"
     ]
    },
    {
     "name": "stderr",
     "output_type": "stream",
     "text": [
      "100%|██████████| 1/1 [00:03<00:00,  3.13s/it]\n",
      "Finding & Fitting Flares:   0%|          | 0/1 [00:00<?, ?it/s]/opt/conda/envs/tess/lib/python3.8/site-packages/stella/mark_flares.py:92: VisibleDeprecationWarning: Creating an ndarray from ragged nested sequences (which is a list-or-tuple of lists-or-tuples-or ndarrays with different lengths or shapes) is deprecated. If you meant to do this, you must specify 'dtype=object' when creating the ndarray.\n",
      "  return np.array(results)\n",
      "Finding & Fitting Flares: 100%|██████████| 1/1 [00:00<00:00, 12.71it/s]\n",
      "  0%|          | 0/1 [00:00<?, ?it/s]"
     ]
    },
    {
     "name": "stdout",
     "output_type": "stream",
     "text": [
      "572/572 [==============================] - 2s 3ms/step\n"
     ]
    },
    {
     "name": "stderr",
     "output_type": "stream",
     "text": [
      "100%|██████████| 1/1 [00:03<00:00,  3.22s/it]\n",
      "Finding & Fitting Flares:   0%|          | 0/1 [00:00<?, ?it/s]/opt/conda/envs/tess/lib/python3.8/site-packages/stella/mark_flares.py:92: VisibleDeprecationWarning: Creating an ndarray from ragged nested sequences (which is a list-or-tuple of lists-or-tuples-or ndarrays with different lengths or shapes) is deprecated. If you meant to do this, you must specify 'dtype=object' when creating the ndarray.\n",
      "  return np.array(results)\n",
      "Finding & Fitting Flares: 100%|██████████| 1/1 [00:00<00:00,  1.30it/s]\n",
      "  0%|          | 0/1 [00:00<?, ?it/s]"
     ]
    },
    {
     "name": "stdout",
     "output_type": "stream",
     "text": [
      "537/537 [==============================] - 1s 2ms/step\n"
     ]
    },
    {
     "name": "stderr",
     "output_type": "stream",
     "text": [
      "100%|██████████| 1/1 [00:02<00:00,  2.94s/it]\n",
      "Finding & Fitting Flares:   0%|          | 0/1 [00:00<?, ?it/s]/opt/conda/envs/tess/lib/python3.8/site-packages/stella/mark_flares.py:92: VisibleDeprecationWarning: Creating an ndarray from ragged nested sequences (which is a list-or-tuple of lists-or-tuples-or ndarrays with different lengths or shapes) is deprecated. If you meant to do this, you must specify 'dtype=object' when creating the ndarray.\n",
      "  return np.array(results)\n",
      "/opt/conda/envs/tess/lib/python3.8/site-packages/astropy/utils/masked/core.py:938: RuntimeWarning: All-NaN slice encountered\n",
      "  kwargs[\"initial\"] = initial_func(self.unmasked)\n",
      "/opt/conda/envs/tess/lib/python3.8/site-packages/astropy/utils/masked/core.py:827: RuntimeWarning: invalid value encountered in true_divide\n",
      "  result = getattr(ufunc, method)(*unmasked, **kwargs)\n",
      "Finding & Fitting Flares: 100%|██████████| 1/1 [00:00<00:00, 11.80it/s]\n",
      "  0%|          | 0/1 [00:00<?, ?it/s]"
     ]
    },
    {
     "name": "stdout",
     "output_type": "stream",
     "text": [
      "572/572 [==============================] - 1s 2ms/step\n"
     ]
    },
    {
     "name": "stderr",
     "output_type": "stream",
     "text": [
      "100%|██████████| 1/1 [00:03<00:00,  3.11s/it]\n",
      "Finding & Fitting Flares:   0%|          | 0/1 [00:00<?, ?it/s]/opt/conda/envs/tess/lib/python3.8/site-packages/stella/mark_flares.py:92: VisibleDeprecationWarning: Creating an ndarray from ragged nested sequences (which is a list-or-tuple of lists-or-tuples-or ndarrays with different lengths or shapes) is deprecated. If you meant to do this, you must specify 'dtype=object' when creating the ndarray.\n",
      "  return np.array(results)\n",
      "Finding & Fitting Flares: 100%|██████████| 1/1 [00:00<00:00,  1.63it/s]\n",
      "  0%|          | 0/1 [00:00<?, ?it/s]"
     ]
    },
    {
     "name": "stdout",
     "output_type": "stream",
     "text": [
      "572/572 [==============================] - 2s 3ms/step\n"
     ]
    },
    {
     "name": "stderr",
     "output_type": "stream",
     "text": [
      "100%|██████████| 1/1 [00:03<00:00,  3.28s/it]\n",
      "Finding & Fitting Flares:   0%|          | 0/1 [00:00<?, ?it/s]/opt/conda/envs/tess/lib/python3.8/site-packages/stella/mark_flares.py:92: VisibleDeprecationWarning: Creating an ndarray from ragged nested sequences (which is a list-or-tuple of lists-or-tuples-or ndarrays with different lengths or shapes) is deprecated. If you meant to do this, you must specify 'dtype=object' when creating the ndarray.\n",
      "  return np.array(results)\n",
      "Finding & Fitting Flares: 100%|██████████| 1/1 [00:00<00:00,  6.04it/s]\n",
      "  0%|          | 0/1 [00:00<?, ?it/s]"
     ]
    },
    {
     "name": "stdout",
     "output_type": "stream",
     "text": [
      "572/572 [==============================] - 1s 2ms/step\n"
     ]
    },
    {
     "name": "stderr",
     "output_type": "stream",
     "text": [
      "100%|██████████| 1/1 [00:03<00:00,  3.13s/it]\n",
      "Finding & Fitting Flares:   0%|          | 0/1 [00:00<?, ?it/s]/opt/conda/envs/tess/lib/python3.8/site-packages/stella/mark_flares.py:92: VisibleDeprecationWarning: Creating an ndarray from ragged nested sequences (which is a list-or-tuple of lists-or-tuples-or ndarrays with different lengths or shapes) is deprecated. If you meant to do this, you must specify 'dtype=object' when creating the ndarray.\n",
      "  return np.array(results)\n",
      "Finding & Fitting Flares: 100%|██████████| 1/1 [00:00<00:00,  4.19it/s]\n",
      "  0%|          | 0/1 [00:00<?, ?it/s]"
     ]
    },
    {
     "name": "stdout",
     "output_type": "stream",
     "text": [
      "568/568 [==============================] - 2s 3ms/step\n"
     ]
    },
    {
     "name": "stderr",
     "output_type": "stream",
     "text": [
      "100%|██████████| 1/1 [00:03<00:00,  3.29s/it]\n",
      "Finding & Fitting Flares:   0%|          | 0/1 [00:00<?, ?it/s]/opt/conda/envs/tess/lib/python3.8/site-packages/stella/mark_flares.py:92: VisibleDeprecationWarning: Creating an ndarray from ragged nested sequences (which is a list-or-tuple of lists-or-tuples-or ndarrays with different lengths or shapes) is deprecated. If you meant to do this, you must specify 'dtype=object' when creating the ndarray.\n",
      "  return np.array(results)\n",
      "Finding & Fitting Flares: 100%|██████████| 1/1 [00:00<00:00, 37.63it/s]\n",
      "  0%|          | 0/1 [00:00<?, ?it/s]"
     ]
    },
    {
     "name": "stdout",
     "output_type": "stream",
     "text": [
      "572/572 [==============================] - 2s 3ms/step\n"
     ]
    },
    {
     "name": "stderr",
     "output_type": "stream",
     "text": [
      "100%|██████████| 1/1 [00:03<00:00,  3.32s/it]\n",
      "Finding & Fitting Flares:   0%|          | 0/1 [00:00<?, ?it/s]/opt/conda/envs/tess/lib/python3.8/site-packages/stella/mark_flares.py:92: VisibleDeprecationWarning: Creating an ndarray from ragged nested sequences (which is a list-or-tuple of lists-or-tuples-or ndarrays with different lengths or shapes) is deprecated. If you meant to do this, you must specify 'dtype=object' when creating the ndarray.\n",
      "  return np.array(results)\n",
      "Finding & Fitting Flares: 100%|██████████| 1/1 [00:00<00:00,  6.29it/s]\n",
      "  0%|          | 0/1 [00:00<?, ?it/s]"
     ]
    },
    {
     "name": "stdout",
     "output_type": "stream",
     "text": [
      "520/520 [==============================] - 1s 2ms/step\n"
     ]
    },
    {
     "name": "stderr",
     "output_type": "stream",
     "text": [
      "100%|██████████| 1/1 [00:02<00:00,  2.83s/it]\n",
      "Finding & Fitting Flares:   0%|          | 0/1 [00:00<?, ?it/s]/opt/conda/envs/tess/lib/python3.8/site-packages/stella/mark_flares.py:92: VisibleDeprecationWarning: Creating an ndarray from ragged nested sequences (which is a list-or-tuple of lists-or-tuples-or ndarrays with different lengths or shapes) is deprecated. If you meant to do this, you must specify 'dtype=object' when creating the ndarray.\n",
      "  return np.array(results)\n",
      "/opt/conda/envs/tess/lib/python3.8/site-packages/astropy/utils/masked/core.py:938: RuntimeWarning: All-NaN slice encountered\n",
      "  kwargs[\"initial\"] = initial_func(self.unmasked)\n",
      "/opt/conda/envs/tess/lib/python3.8/site-packages/astropy/utils/masked/core.py:827: RuntimeWarning: invalid value encountered in true_divide\n",
      "  result = getattr(ufunc, method)(*unmasked, **kwargs)\n",
      "Finding & Fitting Flares: 100%|██████████| 1/1 [00:00<00:00,  6.54it/s]\n",
      "  0%|          | 0/1 [00:00<?, ?it/s]"
     ]
    },
    {
     "name": "stdout",
     "output_type": "stream",
     "text": [
      "541/541 [==============================] - 1s 2ms/step\n"
     ]
    },
    {
     "name": "stderr",
     "output_type": "stream",
     "text": [
      "100%|██████████| 1/1 [00:02<00:00,  2.86s/it]\n",
      "Finding & Fitting Flares:   0%|          | 0/1 [00:00<?, ?it/s]/opt/conda/envs/tess/lib/python3.8/site-packages/stella/mark_flares.py:92: VisibleDeprecationWarning: Creating an ndarray from ragged nested sequences (which is a list-or-tuple of lists-or-tuples-or ndarrays with different lengths or shapes) is deprecated. If you meant to do this, you must specify 'dtype=object' when creating the ndarray.\n",
      "  return np.array(results)\n",
      "/opt/conda/envs/tess/lib/python3.8/site-packages/astropy/utils/masked/core.py:938: RuntimeWarning: All-NaN slice encountered\n",
      "  kwargs[\"initial\"] = initial_func(self.unmasked)\n",
      "/opt/conda/envs/tess/lib/python3.8/site-packages/astropy/utils/masked/core.py:827: RuntimeWarning: invalid value encountered in true_divide\n",
      "  result = getattr(ufunc, method)(*unmasked, **kwargs)\n",
      "Finding & Fitting Flares: 100%|██████████| 1/1 [00:00<00:00, 10.04it/s]\n",
      "  0%|          | 0/1 [00:00<?, ?it/s]"
     ]
    },
    {
     "name": "stdout",
     "output_type": "stream",
     "text": [
      "572/572 [==============================] - 2s 3ms/step\n"
     ]
    },
    {
     "name": "stderr",
     "output_type": "stream",
     "text": [
      "100%|██████████| 1/1 [00:03<00:00,  3.43s/it]\n",
      "Finding & Fitting Flares:   0%|          | 0/1 [00:00<?, ?it/s]/opt/conda/envs/tess/lib/python3.8/site-packages/stella/mark_flares.py:92: VisibleDeprecationWarning: Creating an ndarray from ragged nested sequences (which is a list-or-tuple of lists-or-tuples-or ndarrays with different lengths or shapes) is deprecated. If you meant to do this, you must specify 'dtype=object' when creating the ndarray.\n",
      "  return np.array(results)\n",
      "Finding & Fitting Flares: 100%|██████████| 1/1 [00:00<00:00, 29.67it/s]\n",
      "  0%|          | 0/1 [00:00<?, ?it/s]"
     ]
    },
    {
     "name": "stdout",
     "output_type": "stream",
     "text": [
      "572/572 [==============================] - 1s 2ms/step\n"
     ]
    },
    {
     "name": "stderr",
     "output_type": "stream",
     "text": [
      "100%|██████████| 1/1 [00:03<00:00,  3.14s/it]\n",
      "Finding & Fitting Flares:   0%|          | 0/1 [00:00<?, ?it/s]/opt/conda/envs/tess/lib/python3.8/site-packages/stella/mark_flares.py:92: VisibleDeprecationWarning: Creating an ndarray from ragged nested sequences (which is a list-or-tuple of lists-or-tuples-or ndarrays with different lengths or shapes) is deprecated. If you meant to do this, you must specify 'dtype=object' when creating the ndarray.\n",
      "  return np.array(results)\n",
      "Finding & Fitting Flares: 100%|██████████| 1/1 [00:00<00:00,  1.43it/s]\n",
      "  0%|          | 0/1 [00:00<?, ?it/s]"
     ]
    },
    {
     "name": "stdout",
     "output_type": "stream",
     "text": [
      "572/572 [==============================] - 1s 2ms/step\n"
     ]
    },
    {
     "name": "stderr",
     "output_type": "stream",
     "text": [
      "100%|██████████| 1/1 [00:03<00:00,  3.15s/it]\n",
      "Finding & Fitting Flares:   0%|          | 0/1 [00:00<?, ?it/s]/opt/conda/envs/tess/lib/python3.8/site-packages/stella/mark_flares.py:92: VisibleDeprecationWarning: Creating an ndarray from ragged nested sequences (which is a list-or-tuple of lists-or-tuples-or ndarrays with different lengths or shapes) is deprecated. If you meant to do this, you must specify 'dtype=object' when creating the ndarray.\n",
      "  return np.array(results)\n",
      "Finding & Fitting Flares: 100%|██████████| 1/1 [00:00<00:00, 15.65it/s]\n",
      "  0%|          | 0/1 [00:00<?, ?it/s]"
     ]
    },
    {
     "name": "stdout",
     "output_type": "stream",
     "text": [
      "572/572 [==============================] - 1s 2ms/step\n"
     ]
    },
    {
     "name": "stderr",
     "output_type": "stream",
     "text": [
      "100%|██████████| 1/1 [00:03<00:00,  3.08s/it]\n",
      "Finding & Fitting Flares:   0%|          | 0/1 [00:00<?, ?it/s]/opt/conda/envs/tess/lib/python3.8/site-packages/stella/mark_flares.py:92: VisibleDeprecationWarning: Creating an ndarray from ragged nested sequences (which is a list-or-tuple of lists-or-tuples-or ndarrays with different lengths or shapes) is deprecated. If you meant to do this, you must specify 'dtype=object' when creating the ndarray.\n",
      "  return np.array(results)\n",
      "Finding & Fitting Flares: 100%|██████████| 1/1 [00:00<00:00, 11.45it/s]\n",
      "  0%|          | 0/1 [00:00<?, ?it/s]"
     ]
    },
    {
     "name": "stdout",
     "output_type": "stream",
     "text": [
      "572/572 [==============================] - 1s 2ms/step\n"
     ]
    },
    {
     "name": "stderr",
     "output_type": "stream",
     "text": [
      "100%|██████████| 1/1 [00:03<00:00,  3.31s/it]\n",
      "Finding & Fitting Flares:   0%|          | 0/1 [00:00<?, ?it/s]/opt/conda/envs/tess/lib/python3.8/site-packages/stella/mark_flares.py:92: VisibleDeprecationWarning: Creating an ndarray from ragged nested sequences (which is a list-or-tuple of lists-or-tuples-or ndarrays with different lengths or shapes) is deprecated. If you meant to do this, you must specify 'dtype=object' when creating the ndarray.\n",
      "  return np.array(results)\n",
      "Finding & Fitting Flares: 100%|██████████| 1/1 [00:00<00:00,  9.79it/s]\n",
      "  0%|          | 0/1 [00:00<?, ?it/s]"
     ]
    },
    {
     "name": "stdout",
     "output_type": "stream",
     "text": [
      "572/572 [==============================] - 2s 3ms/step\n"
     ]
    },
    {
     "name": "stderr",
     "output_type": "stream",
     "text": [
      "100%|██████████| 1/1 [00:03<00:00,  3.41s/it]\n",
      "Finding & Fitting Flares:   0%|          | 0/1 [00:00<?, ?it/s]/opt/conda/envs/tess/lib/python3.8/site-packages/stella/mark_flares.py:92: VisibleDeprecationWarning: Creating an ndarray from ragged nested sequences (which is a list-or-tuple of lists-or-tuples-or ndarrays with different lengths or shapes) is deprecated. If you meant to do this, you must specify 'dtype=object' when creating the ndarray.\n",
      "  return np.array(results)\n",
      "Finding & Fitting Flares: 100%|██████████| 1/1 [00:00<00:00, 12.38it/s]\n",
      "  0%|          | 0/1 [00:00<?, ?it/s]"
     ]
    },
    {
     "name": "stdout",
     "output_type": "stream",
     "text": [
      "572/572 [==============================] - 1s 2ms/step\n"
     ]
    },
    {
     "name": "stderr",
     "output_type": "stream",
     "text": [
      "100%|██████████| 1/1 [00:03<00:00,  3.10s/it]\n",
      "Finding & Fitting Flares:   0%|          | 0/1 [00:00<?, ?it/s]/opt/conda/envs/tess/lib/python3.8/site-packages/stella/mark_flares.py:92: VisibleDeprecationWarning: Creating an ndarray from ragged nested sequences (which is a list-or-tuple of lists-or-tuples-or ndarrays with different lengths or shapes) is deprecated. If you meant to do this, you must specify 'dtype=object' when creating the ndarray.\n",
      "  return np.array(results)\n",
      "Finding & Fitting Flares: 100%|██████████| 1/1 [00:00<00:00, 21.84it/s]\n",
      "  0%|          | 0/1 [00:00<?, ?it/s]"
     ]
    },
    {
     "name": "stdout",
     "output_type": "stream",
     "text": [
      "572/572 [==============================] - 1s 2ms/step\n"
     ]
    },
    {
     "name": "stderr",
     "output_type": "stream",
     "text": [
      "100%|██████████| 1/1 [00:03<00:00,  3.11s/it]\n",
      "Finding & Fitting Flares:   0%|          | 0/1 [00:00<?, ?it/s]/opt/conda/envs/tess/lib/python3.8/site-packages/stella/mark_flares.py:92: VisibleDeprecationWarning: Creating an ndarray from ragged nested sequences (which is a list-or-tuple of lists-or-tuples-or ndarrays with different lengths or shapes) is deprecated. If you meant to do this, you must specify 'dtype=object' when creating the ndarray.\n",
      "  return np.array(results)\n",
      "Finding & Fitting Flares: 100%|██████████| 1/1 [00:00<00:00, 21.45it/s]\n",
      "  0%|          | 0/1 [00:00<?, ?it/s]"
     ]
    },
    {
     "name": "stdout",
     "output_type": "stream",
     "text": [
      "572/572 [==============================] - 2s 3ms/step\n"
     ]
    },
    {
     "name": "stderr",
     "output_type": "stream",
     "text": [
      "100%|██████████| 1/1 [00:03<00:00,  3.35s/it]\n",
      "Finding & Fitting Flares:   0%|          | 0/1 [00:00<?, ?it/s]/opt/conda/envs/tess/lib/python3.8/site-packages/stella/mark_flares.py:92: VisibleDeprecationWarning: Creating an ndarray from ragged nested sequences (which is a list-or-tuple of lists-or-tuples-or ndarrays with different lengths or shapes) is deprecated. If you meant to do this, you must specify 'dtype=object' when creating the ndarray.\n",
      "  return np.array(results)\n",
      "Finding & Fitting Flares: 100%|██████████| 1/1 [00:00<00:00,  5.43it/s]\n",
      "  0%|          | 0/1 [00:00<?, ?it/s]"
     ]
    },
    {
     "name": "stdout",
     "output_type": "stream",
     "text": [
      "572/572 [==============================] - 2s 3ms/step\n"
     ]
    },
    {
     "name": "stderr",
     "output_type": "stream",
     "text": [
      "100%|██████████| 1/1 [00:03<00:00,  3.30s/it]\n",
      "Finding & Fitting Flares:   0%|          | 0/1 [00:00<?, ?it/s]/opt/conda/envs/tess/lib/python3.8/site-packages/stella/mark_flares.py:92: VisibleDeprecationWarning: Creating an ndarray from ragged nested sequences (which is a list-or-tuple of lists-or-tuples-or ndarrays with different lengths or shapes) is deprecated. If you meant to do this, you must specify 'dtype=object' when creating the ndarray.\n",
      "  return np.array(results)\n",
      "Finding & Fitting Flares: 100%|██████████| 1/1 [00:00<00:00, 88.68it/s]\n",
      "  0%|          | 0/1 [00:00<?, ?it/s]"
     ]
    },
    {
     "name": "stdout",
     "output_type": "stream",
     "text": [
      "572/572 [==============================] - 1s 2ms/step\n"
     ]
    },
    {
     "name": "stderr",
     "output_type": "stream",
     "text": [
      "100%|██████████| 1/1 [00:03<00:00,  3.13s/it]\n",
      "Finding & Fitting Flares:   0%|          | 0/1 [00:00<?, ?it/s]/opt/conda/envs/tess/lib/python3.8/site-packages/stella/mark_flares.py:92: VisibleDeprecationWarning: Creating an ndarray from ragged nested sequences (which is a list-or-tuple of lists-or-tuples-or ndarrays with different lengths or shapes) is deprecated. If you meant to do this, you must specify 'dtype=object' when creating the ndarray.\n",
      "  return np.array(results)\n",
      "Finding & Fitting Flares: 100%|██████████| 1/1 [00:00<00:00,  6.51it/s]\n",
      "  0%|          | 0/1 [00:00<?, ?it/s]"
     ]
    },
    {
     "name": "stdout",
     "output_type": "stream",
     "text": [
      "572/572 [==============================] - 1s 2ms/step\n"
     ]
    },
    {
     "name": "stderr",
     "output_type": "stream",
     "text": [
      "100%|██████████| 1/1 [00:03<00:00,  3.10s/it]\n",
      "Finding & Fitting Flares: 100%|██████████| 1/1 [00:00<00:00, 1434.44it/s]\n",
      "  0%|          | 0/1 [00:00<?, ?it/s]"
     ]
    },
    {
     "name": "stdout",
     "output_type": "stream",
     "text": [
      "570/570 [==============================] - 2s 3ms/step\n"
     ]
    },
    {
     "name": "stderr",
     "output_type": "stream",
     "text": [
      "100%|██████████| 1/1 [00:03<00:00,  3.45s/it]\n",
      "Finding & Fitting Flares: 100%|██████████| 1/1 [00:00<00:00, 229.51it/s]\n",
      "  0%|          | 0/1 [00:00<?, ?it/s]"
     ]
    },
    {
     "name": "stdout",
     "output_type": "stream",
     "text": [
      "572/572 [==============================] - 1s 2ms/step\n"
     ]
    },
    {
     "name": "stderr",
     "output_type": "stream",
     "text": [
      "100%|██████████| 1/1 [00:03<00:00,  3.35s/it]\n",
      "Finding & Fitting Flares:   0%|          | 0/1 [00:00<?, ?it/s]/opt/conda/envs/tess/lib/python3.8/site-packages/stella/mark_flares.py:92: VisibleDeprecationWarning: Creating an ndarray from ragged nested sequences (which is a list-or-tuple of lists-or-tuples-or ndarrays with different lengths or shapes) is deprecated. If you meant to do this, you must specify 'dtype=object' when creating the ndarray.\n",
      "  return np.array(results)\n",
      "Finding & Fitting Flares: 100%|██████████| 1/1 [00:00<00:00, 15.83it/s]\n",
      "  0%|          | 0/1 [00:00<?, ?it/s]"
     ]
    },
    {
     "name": "stdout",
     "output_type": "stream",
     "text": [
      "572/572 [==============================] - 1s 2ms/step\n"
     ]
    },
    {
     "name": "stderr",
     "output_type": "stream",
     "text": [
      "100%|██████████| 1/1 [00:03<00:00,  3.09s/it]\n",
      "Finding & Fitting Flares:   0%|          | 0/1 [00:00<?, ?it/s]/opt/conda/envs/tess/lib/python3.8/site-packages/stella/mark_flares.py:92: VisibleDeprecationWarning: Creating an ndarray from ragged nested sequences (which is a list-or-tuple of lists-or-tuples-or ndarrays with different lengths or shapes) is deprecated. If you meant to do this, you must specify 'dtype=object' when creating the ndarray.\n",
      "  return np.array(results)\n",
      "Finding & Fitting Flares: 100%|██████████| 1/1 [00:00<00:00, 12.31it/s]\n",
      "  0%|          | 0/1 [00:00<?, ?it/s]"
     ]
    },
    {
     "name": "stdout",
     "output_type": "stream",
     "text": [
      "572/572 [==============================] - 1s 2ms/step\n"
     ]
    },
    {
     "name": "stderr",
     "output_type": "stream",
     "text": [
      "100%|██████████| 1/1 [00:03<00:00,  3.17s/it]\n",
      "Finding & Fitting Flares:   0%|          | 0/1 [00:00<?, ?it/s]/opt/conda/envs/tess/lib/python3.8/site-packages/stella/mark_flares.py:92: VisibleDeprecationWarning: Creating an ndarray from ragged nested sequences (which is a list-or-tuple of lists-or-tuples-or ndarrays with different lengths or shapes) is deprecated. If you meant to do this, you must specify 'dtype=object' when creating the ndarray.\n",
      "  return np.array(results)\n",
      "Finding & Fitting Flares: 100%|██████████| 1/1 [00:00<00:00, 12.91it/s]\n",
      "  0%|          | 0/1 [00:00<?, ?it/s]"
     ]
    },
    {
     "name": "stdout",
     "output_type": "stream",
     "text": [
      "554/554 [==============================] - 2s 3ms/step\n"
     ]
    },
    {
     "name": "stderr",
     "output_type": "stream",
     "text": [
      "100%|██████████| 1/1 [00:03<00:00,  3.50s/it]\n",
      "Finding & Fitting Flares:   0%|          | 0/1 [00:00<?, ?it/s]/opt/conda/envs/tess/lib/python3.8/site-packages/stella/mark_flares.py:92: VisibleDeprecationWarning: Creating an ndarray from ragged nested sequences (which is a list-or-tuple of lists-or-tuples-or ndarrays with different lengths or shapes) is deprecated. If you meant to do this, you must specify 'dtype=object' when creating the ndarray.\n",
      "  return np.array(results)\n",
      "Finding & Fitting Flares: 100%|██████████| 1/1 [00:00<00:00, 20.76it/s]\n"
     ]
    }
   ],
   "source": [
    "flare_rates = []\n",
    "for star in stars[::200]:\n",
    "    flare_rate = calc_flare_rate(str(star))\n",
    "    \n",
    "    flare_rates += [flare_rate]"
   ]
  },
  {
   "cell_type": "code",
   "execution_count": 31,
   "id": "0337522f-8bd9-499c-add4-73fcd8c67208",
   "metadata": {
    "tags": []
   },
   "outputs": [],
   "source": [
    "rot_rates = [rot_rate.value for rot_rate in rot_rates]"
   ]
  },
  {
   "cell_type": "code",
   "execution_count": 32,
   "id": "53d59776-b77c-4e46-acf8-f9ad89d269ce",
   "metadata": {
    "tags": []
   },
   "outputs": [
    {
     "name": "stderr",
     "output_type": "stream",
     "text": [
      "/tmp/ipykernel_209/2073428186.py:1: RuntimeWarning: divide by zero encountered in log10\n",
      "  plt.scatter(np.log10(flare_rates), np.log10(rot_rates), color='teal')\n"
     ]
    },
    {
     "data": {
      "text/plain": [
       "Text(0, 0.5, '$\\\\log_{10}$ (Period at max power (d))')"
      ]
     },
     "execution_count": 32,
     "metadata": {},
     "output_type": "execute_result"
    },
    {
     "data": {
      "image/png": "[encoded data removed]",
      "text/plain": [
       "<Figure size 640x480 with 1 Axes>"
      ]
     },
     "metadata": {},
     "output_type": "display_data"
    }
   ],
   "source": [
    "plt.scatter(np.log10(flare_rates), np.log10(rot_rates), color='teal')\n",
    "            \n",
    "plt.xlabel(r'$\\log_{10}$' + ' (Flares per day)')\n",
    "plt.ylabel(r'$\\log_{10}$' + ' (Period at max power (d))')"
   ]
  },
  {
   "cell_type": "code",
   "execution_count": 33,
   "id": "b178111a-57f4-46ae-89cf-72ab72ea3526",
   "metadata": {
    "tags": []
   },
   "outputs": [],
   "source": [
    "rot_rates, flare_rates = np.array(rot_rates), np.array(flare_rates)"
   ]
  },
  {
   "cell_type": "code",
   "execution_count": 34,
   "id": "e50a597d-513d-4381-ab89-343bb875ca18",
   "metadata": {
    "tags": []
   },
   "outputs": [],
   "source": [
    "rot_rates_cleaned = rot_rates[flare_rates>0.0]\n",
    "flare_rates_cleaned = flare_rates[flare_rates>0.0]"
   ]
  },
  {
   "cell_type": "code",
   "execution_count": 35,
   "id": "3696542f-f669-4e88-838e-056ae9523e45",
   "metadata": {
    "tags": []
   },
   "outputs": [],
   "source": [
    "slope, intercept, r_value, p_value, std_err = scipy.stats.linregress(np.log10(flare_rates_cleaned), np.log10(rot_rates_cleaned))"
   ]
  },
  {
   "cell_type": "code",
   "execution_count": 36,
   "id": "55235ef6-bf57-4ed5-b87f-115aa1844209",
   "metadata": {
    "tags": []
   },
   "outputs": [],
   "source": [
    "x = np.linspace(np.min(np.log10(flare_rates_cleaned)), np.max(np.log10(flare_rates_cleaned)), 100)\n",
    "y = slope * x + intercept"
   ]
  },
  {
   "cell_type": "code",
   "execution_count": 37,
   "id": "f38f5b04-42b7-417a-904c-5800df457f0a",
   "metadata": {
    "tags": []
   },
   "outputs": [
    {
     "data": {
      "image/png": "[encoded data removed]",
      "text/plain": [
       "<Figure size 640x480 with 1 Axes>"
      ]
     },
     "metadata": {},
     "output_type": "display_data"
    }
   ],
   "source": [
    "plt.scatter(np.log10(flare_rates_cleaned), np.log10(rot_rates_cleaned), color='teal', label='TESS data')\n",
    "plt.plot(x,y, color='black', linestyle='--', lw=4, label='Regression best fit')\n",
    "            \n",
    "plt.xlabel(r'$\\log_{10}$' + ' (Flares per day)')\n",
    "plt.ylabel(r'$\\log_{10}$' + ' (Period at max power (d))')\n",
    "plt.legend(fontsize=14);"
   ]
  },
  {
   "cell_type": "markdown",
   "id": "7366645a-4af6-43f3-85e9-4d1b8805655d",
   "metadata": {},
   "source": [
    "This is not a good relationship. The number of flares must be measuring a fundamentally different quantity than the fraction of time spent flaring. Or, if the two metrics do measure the same quantity, this most recent approach must do so in a much more messy way. We will see by the end of the notebook that there are better metrics to relate flaring and rotation rates."
   ]
  },
  {
   "cell_type": "markdown",
   "id": "21c0eb2f-7c59-4a6e-9e9e-054f3af540c3",
   "metadata": {},
   "source": [
    "# Exercise 5"
   ]
  },
  {
   "cell_type": "markdown",
   "id": "6d7ab8f9-c6eb-46a6-bf34-f4d3f2770673",
   "metadata": {},
   "source": [
    "As a next step, we can write a new function to find rotation periods."
   ]
  },
  {
   "cell_type": "code",
   "execution_count": 38,
   "id": "359114e6-20d6-49a1-948a-f80fc66a470f",
   "metadata": {
    "tags": []
   },
   "outputs": [],
   "source": [
    "def calc_rotation_rate_stella(name):\n",
    "     # for all the selected targets, pull the available lightcurves using the lightkurve package\n",
    "    sectors = [1, 2] # only consider the first few sectors\n",
    "    lcs = []\n",
    "    # for name in ticids:\n",
    "    lc = search_lightcurve(target='TIC'+name, mission='TESS', sector=sectors, author='SPOC')\n",
    "    lc = lc.download_all()[0]\n",
    "    lc = lc.normalize()\n",
    "    lc = lc.remove_nans()\n",
    "    mProt = stella.MeasureProt([lc.targetid], [lc.time.value], [lc.flux.value], [lc.flux_err.value])\n",
    "    mProt.run_LS()\n",
    "\n",
    "    return mProt.LS_results['period_days'].value[0]"
   ]
  },
  {
   "cell_type": "code",
   "execution_count": 39,
   "id": "8724d2c5-8a70-4f40-9d7c-71000247dd16",
   "metadata": {
    "tags": []
   },
   "outputs": [
    {
     "name": "stderr",
     "output_type": "stream",
     "text": [
      "  0%|          | 0/44 [00:00<?, ?it/s]\n",
      "Finding most likely periods: 100%|██████████| 1/1 [00:00<00:00, 22.74it/s]\n",
      "  2%|▏         | 1/44 [00:00<00:09,  4.48it/s]\n",
      "Finding most likely periods: 100%|██████████| 1/1 [00:00<00:00, 21.61it/s]\n",
      "  5%|▍         | 2/44 [00:00<00:09,  4.59it/s]\n",
      "Finding most likely periods: 100%|██████████| 1/1 [00:00<00:00, 20.57it/s]\n",
      "  7%|▋         | 3/44 [00:00<00:08,  4.58it/s]\n",
      "Finding most likely periods: 100%|██████████| 1/1 [00:00<00:00, 17.53it/s]\n",
      "  9%|▉         | 4/44 [00:01<00:11,  3.62it/s]\n",
      "Finding most likely periods:   0%|          | 0/1 [00:00<?, ?it/s]\u001b[A\n",
      "Finding most likely periods: 100%|██████████| 1/1 [00:00<00:00,  8.44it/s]\u001b[A\n",
      " 11%|█▏        | 5/44 [00:01<00:12,  3.03it/s]\n",
      "Finding most likely periods:   0%|          | 0/1 [00:00<?, ?it/s]\u001b[A\n",
      "Finding most likely periods: 100%|██████████| 1/1 [00:00<00:00,  8.97it/s]\u001b[A\n",
      " 14%|█▎        | 6/44 [00:01<00:13,  2.77it/s]\n",
      "Finding most likely periods: 100%|██████████| 1/1 [00:00<00:00, 22.51it/s]\n",
      " 16%|█▌        | 7/44 [00:02<00:11,  3.19it/s]\n",
      "Finding most likely periods: 100%|██████████| 1/1 [00:00<00:00, 20.98it/s]\n",
      " 18%|█▊        | 8/44 [00:02<00:10,  3.54it/s]\n",
      "Finding most likely periods:   0%|          | 0/1 [00:00<?, ?it/s]\u001b[A\n",
      "Finding most likely periods: 100%|██████████| 1/1 [00:00<00:00,  9.08it/s]\u001b[A\n",
      " 20%|██        | 9/44 [00:02<00:09,  3.55it/s]\n",
      "Finding most likely periods: 100%|██████████| 1/1 [00:00<00:00, 20.36it/s]\n",
      " 23%|██▎       | 10/44 [00:02<00:08,  3.81it/s]\n",
      "Finding most likely periods: 100%|██████████| 1/1 [00:00<00:00, 14.24it/s]\n",
      " 25%|██▌       | 11/44 [00:03<00:10,  3.22it/s]\n",
      "Finding most likely periods: 100%|██████████| 1/1 [00:00<00:00, 20.71it/s]\n",
      " 27%|██▋       | 12/44 [00:03<00:11,  2.74it/s]\n",
      "Finding most likely periods: 100%|██████████| 1/1 [00:00<00:00, 17.56it/s]\n",
      " 30%|██▉       | 13/44 [00:04<00:11,  2.66it/s]\n",
      "Finding most likely periods: 100%|██████████| 1/1 [00:00<00:00, 22.09it/s]\n",
      " 32%|███▏      | 14/44 [00:04<00:09,  3.06it/s]\n",
      "Finding most likely periods: 100%|██████████| 1/1 [00:00<00:00, 19.83it/s]\n",
      " 34%|███▍      | 15/44 [00:04<00:09,  2.99it/s]\n",
      "Finding most likely periods: 100%|██████████| 1/1 [00:00<00:00, 18.18it/s]\n",
      " 36%|███▋      | 16/44 [00:04<00:08,  3.30it/s]\n",
      "Finding most likely periods:   0%|          | 0/1 [00:00<?, ?it/s]\u001b[A\n",
      "Finding most likely periods: 100%|██████████| 1/1 [00:00<00:00,  8.93it/s]\u001b[A\n",
      " 39%|███▊      | 17/44 [00:05<00:08,  3.33it/s]\n",
      "Finding most likely periods: 100%|██████████| 1/1 [00:00<00:00, 21.52it/s]\n",
      " 41%|████      | 18/44 [00:05<00:07,  3.63it/s]\n",
      "Finding most likely periods: 100%|██████████| 1/1 [00:00<00:00, 22.21it/s]\n",
      " 43%|████▎     | 19/44 [00:05<00:07,  3.35it/s]\n",
      "Finding most likely periods: 100%|██████████| 1/1 [00:00<00:00, 21.49it/s]\n",
      " 45%|████▌     | 20/44 [00:05<00:06,  3.66it/s]\n",
      "Finding most likely periods: 100%|██████████| 1/1 [00:00<00:00, 21.64it/s]\n",
      " 48%|████▊     | 21/44 [00:06<00:05,  3.90it/s]\n",
      "Finding most likely periods: 100%|██████████| 1/1 [00:00<00:00, 21.35it/s]\n",
      " 50%|█████     | 22/44 [00:06<00:06,  3.49it/s]\n",
      "Finding most likely periods: 100%|██████████| 1/1 [00:00<00:00, 21.20it/s]\n",
      " 52%|█████▏    | 23/44 [00:06<00:05,  3.75it/s]\n",
      "Finding most likely periods: 100%|██████████| 1/1 [00:00<00:00, 10.14it/s]\n",
      " 55%|█████▍    | 24/44 [00:07<00:06,  3.22it/s]\n",
      "Finding most likely periods: 100%|██████████| 1/1 [00:00<00:00, 20.86it/s]\n",
      " 57%|█████▋    | 25/44 [00:07<00:06,  2.96it/s]\n",
      "Finding most likely periods: 100%|██████████| 1/1 [00:00<00:00, 21.97it/s]\n",
      " 59%|█████▉    | 26/44 [00:07<00:06,  2.90it/s]\n",
      "Finding most likely periods: 100%|██████████| 1/1 [00:00<00:00, 20.79it/s]\n",
      " 61%|██████▏   | 27/44 [00:08<00:05,  2.86it/s]\n",
      "Finding most likely periods: 100%|██████████| 1/1 [00:00<00:00, 18.92it/s]\n",
      " 64%|██████▎   | 28/44 [00:08<00:05,  2.83it/s]\n",
      "Finding most likely periods: 100%|██████████| 1/1 [00:00<00:00, 15.82it/s]\n",
      " 66%|██████▌   | 29/44 [00:09<00:05,  2.78it/s]\n",
      "Finding most likely periods:   0%|          | 0/1 [00:00<?, ?it/s]\u001b[A\n",
      "Finding most likely periods: 100%|██████████| 1/1 [00:00<00:00,  8.72it/s]\u001b[A\n",
      " 68%|██████▊   | 30/44 [00:09<00:04,  2.95it/s]\n",
      "Finding most likely periods:   0%|          | 0/1 [00:00<?, ?it/s]\u001b[A\n",
      "Finding most likely periods: 100%|██████████| 1/1 [00:00<00:00,  8.83it/s]\u001b[A\n",
      " 70%|███████   | 31/44 [00:09<00:04,  3.10it/s]\n",
      "Finding most likely periods: 100%|██████████| 1/1 [00:00<00:00, 19.36it/s]\n",
      " 73%|███████▎  | 32/44 [00:09<00:04,  2.98it/s]\n",
      "Finding most likely periods: 100%|██████████| 1/1 [00:00<00:00, 20.93it/s]\n",
      " 75%|███████▌  | 33/44 [00:10<00:03,  2.93it/s]\n",
      "Finding most likely periods: 100%|██████████| 1/1 [00:00<00:00, 21.69it/s]\n",
      " 77%|███████▋  | 34/44 [00:10<00:03,  3.28it/s]\n",
      "Finding most likely periods: 100%|██████████| 1/1 [00:00<00:00, 19.12it/s]\n",
      " 80%|███████▉  | 35/44 [00:10<00:02,  3.58it/s]\n",
      "Finding most likely periods: 100%|██████████| 1/1 [00:00<00:00, 20.38it/s]\n",
      " 82%|████████▏ | 36/44 [00:11<00:02,  3.82it/s]\n",
      "Finding most likely periods: 100%|██████████| 1/1 [00:00<00:00, 20.49it/s]\n",
      " 84%|████████▍ | 37/44 [00:11<00:02,  3.46it/s]\n",
      "Finding most likely periods: 100%|██████████| 1/1 [00:00<00:00, 21.45it/s]\n",
      " 86%|████████▋ | 38/44 [00:11<00:01,  3.77it/s]\n",
      "Finding most likely periods: 100%|██████████| 1/1 [00:00<00:00, 20.67it/s]\n",
      " 89%|████████▊ | 39/44 [00:11<00:01,  3.43it/s]\n",
      "Finding most likely periods: 100%|██████████| 1/1 [00:00<00:00, 18.84it/s]\n",
      " 91%|█████████ | 40/44 [00:12<00:01,  3.69it/s]\n",
      "Finding most likely periods: 100%|██████████| 1/1 [00:00<00:00, 22.21it/s]\n",
      " 93%|█████████▎| 41/44 [00:12<00:00,  3.94it/s]\n",
      "Finding most likely periods: 100%|██████████| 1/1 [00:00<00:00, 20.94it/s]\n",
      " 95%|█████████▌| 42/44 [00:12<00:00,  4.12it/s]\n",
      "Finding most likely periods: 100%|██████████| 1/1 [00:00<00:00, 20.06it/s]\n",
      " 98%|█████████▊| 43/44 [00:12<00:00,  4.25it/s]\n",
      "Finding most likely periods: 100%|██████████| 1/1 [00:00<00:00, 17.82it/s]\n",
      "100%|██████████| 44/44 [00:13<00:00,  3.32it/s]\n"
     ]
    }
   ],
   "source": [
    "rot_rates_constrained = []\n",
    "\n",
    "# iterate though stars\n",
    "for star in tqdm(stars[::200]):\n",
    "    star_name = str(star) # the rotation rate function takes strings\n",
    "    \n",
    "    rot_rate = calc_rotation_rate_stella(star_name)\n",
    "    \n",
    "    # store result of rotation rate calculation\n",
    "    rot_rates_constrained += [rot_rate]"
   ]
  },
  {
   "cell_type": "code",
   "execution_count": 40,
   "id": "cc841c2b-f428-43ae-aa10-b91117287de4",
   "metadata": {
    "tags": []
   },
   "outputs": [
    {
     "data": {
      "text/plain": [
       "True"
      ]
     },
     "execution_count": 40,
     "metadata": {},
     "output_type": "execute_result"
    }
   ],
   "source": [
    "len(rot_rates_constrained) == len(rot_rates)"
   ]
  },
  {
   "cell_type": "markdown",
   "id": "f0a603e1-f7f7-4f92-8098-bf995cdd75f8",
   "metadata": {},
   "source": [
    "Looks like we didn't lose any rotation rates by being more precise. How do the plots change?"
   ]
  },
  {
   "cell_type": "code",
   "execution_count": 41,
   "id": "ddf80931-94b5-4b73-bf73-819247b78b37",
   "metadata": {},
   "outputs": [
    {
     "name": "stderr",
     "output_type": "stream",
     "text": [
      "/tmp/ipykernel_209/2994857429.py:9: RuntimeWarning: divide by zero encountered in log10\n",
      "  plt.scatter(np.log10(flare_rates), np.log10(rot_rates), color='teal', label='TESS data')\n"
     ]
    },
    {
     "name": "stdout",
     "output_type": "stream",
     "text": [
      "-0.2824260738079636 -0.2526836958618884\n"
     ]
    },
    {
     "data": {
      "image/png": "[encoded data removed]",
      "text/plain": [
       "<Figure size 640x480 with 1 Axes>"
      ]
     },
     "metadata": {},
     "output_type": "display_data"
    }
   ],
   "source": [
    "rot_rates_cleaned = rot_rates[flare_rates>0.0]\n",
    "flare_rates_cleaned = flare_rates[flare_rates>0.0]\n",
    "\n",
    "slope, intercept, r_value, p_value, std_err = scipy.stats.linregress(np.log10(flare_rates_cleaned), np.log10(rot_rates_cleaned))\n",
    "\n",
    "x = np.linspace(np.min(np.log10(flare_rates_cleaned)), np.max(np.log10(flare_rates_cleaned)), 100)\n",
    "y = slope * x + intercept\n",
    "\n",
    "plt.scatter(np.log10(flare_rates), np.log10(rot_rates), color='teal', label='TESS data')\n",
    "plt.plot(x,y, color='black', linestyle='--', lw=4, label='Regression best fit')\n",
    "            \n",
    "plt.xlabel(r'$\\log_{10}$' + ' (Flares per day)')\n",
    "plt.ylabel(r'$\\log_{10}$' + ' (Period at max power (d))')\n",
    "plt.legend(fontsize=14);\n",
    "\n",
    "print(slope, intercept)\n",
    "\n"
   ]
  },
  {
   "cell_type": "markdown",
   "id": "9fe107f4-91e4-4290-b9ad-306ff0a95626",
   "metadata": {},
   "source": [
    "Looks like we get a slightly steeper relationship this way."
   ]
  },
  {
   "cell_type": "markdown",
   "id": "5f113a30-3d72-4761-bada-a415235996c3",
   "metadata": {},
   "source": [
    "# Exercise 6"
   ]
  },
  {
   "cell_type": "markdown",
   "id": "990975ca-4465-42af-87a7-0625cea61b05",
   "metadata": {},
   "source": [
    "Now, let's be more stringent with our flares. We'll use equivalent duration (area underneath the flare) as a proxy for flare duration."
   ]
  },
  {
   "cell_type": "code",
   "execution_count": 44,
   "id": "364b5275-cccd-4d1a-8db0-736c52f345aa",
   "metadata": {
    "tags": []
   },
   "outputs": [],
   "source": [
    "second_to_day_factor = (1 * u.day / (1 * u.second)).si.value"
   ]
  },
  {
   "cell_type": "code",
   "execution_count": 45,
   "id": "22a8bdf9-02a3-4092-aa8f-76489de68e18",
   "metadata": {
    "tags": []
   },
   "outputs": [],
   "source": [
    "def calc_flare_rate(name):\n",
    "    \"\"\"\n",
    "    todo: add docstring.\n",
    "    \"\"\"\n",
    "    sectors = [1, 2] # only consider the first few sectors\n",
    "    lcs = []\n",
    "    # for name in ticids:\n",
    "    lc = search_lightcurve(target='TIC'+name, mission='TESS', sector=sectors, author='SPOC')\n",
    "    lc = lc.download_all()[0]\n",
    "    \n",
    "    cnn_stella.predict(cnn_file, times=lc.time.value, fluxes=lc.flux, errs=lc.flux_err)\n",
    "    \n",
    "    ff = stella.FitFlares(id=[lc.targetid],\n",
    "                      time=[lc.time.value],\n",
    "                      flux=[lc.flux.value],\n",
    "                      flux_err=[lc.flux_err.value],\n",
    "                      predictions=[cnn_stella.predictions[0]])\n",
    "    \n",
    "    ff.identify_flare_peaks(threshold=0.5)\n",
    "    \n",
    "    flare_duration_seconds = np.sum(ff.flare_table['ed_s'].value)\n",
    "    flare_duration_seconds_days = flare_duration_seconds * second_to_day_factor\n",
    "    flare_rate = flare_duration_seconds_days / (lc.time.value.max() - lc.time.value.min())    \n",
    "    return flare_rate"
   ]
  },
  {
   "cell_type": "code",
   "execution_count": 46,
   "id": "dd76d871-568c-45de-90bf-8b78fd8ea4e9",
   "metadata": {
    "tags": []
   },
   "outputs": [
    {
     "data": {
      "text/plain": [
       "array([0.        , 0.10946732, 0.        , 0.03586705, 0.        ,\n",
       "       0.        , 0.14595592, 0.        , 0.        , 0.        ,\n",
       "       0.10760323, 0.10760116, 0.25107012, 0.03586712, 0.        ,\n",
       "       0.03586792, 0.07297653, 0.        , 0.14346661, 0.        ,\n",
       "       0.76625318, 0.        , 0.14595388, 0.        , 0.        ,\n",
       "       0.03586692, 0.        , 0.        , 0.25106915, 0.03586751,\n",
       "       0.        , 0.10760205, 0.        , 0.        , 0.        ,\n",
       "       0.03648907, 0.        , 0.10946634, 0.        , 0.        ,\n",
       "       0.        , 0.        , 0.18244348, 0.03586796])"
      ]
     },
     "execution_count": 46,
     "metadata": {},
     "output_type": "execute_result"
    }
   ],
   "source": [
    "flare_rates"
   ]
  },
  {
   "cell_type": "code",
   "execution_count": 47,
   "id": "48d2121a-aec0-4507-b4c6-6335d16ab7cc",
   "metadata": {
    "tags": []
   },
   "outputs": [
    {
     "name": "stderr",
     "output_type": "stream",
     "text": [
      "  0%|          | 0/1 [00:00<?, ?it/s]"
     ]
    },
    {
     "name": "stdout",
     "output_type": "stream",
     "text": [
      "572/572 [==============================] - 1s 2ms/step\n"
     ]
    },
    {
     "name": "stderr",
     "output_type": "stream",
     "text": [
      "100%|██████████| 1/1 [00:02<00:00,  2.76s/it]\n",
      "Finding & Fitting Flares:   0%|          | 0/1 [00:00<?, ?it/s]/opt/conda/envs/tess/lib/python3.8/site-packages/stella/mark_flares.py:92: VisibleDeprecationWarning: Creating an ndarray from ragged nested sequences (which is a list-or-tuple of lists-or-tuples-or ndarrays with different lengths or shapes) is deprecated. If you meant to do this, you must specify 'dtype=object' when creating the ndarray.\n",
      "  return np.array(results)\n",
      "Finding & Fitting Flares: 100%|██████████| 1/1 [00:00<00:00, 16.11it/s]\n",
      "  0%|          | 0/1 [00:00<?, ?it/s]"
     ]
    },
    {
     "name": "stdout",
     "output_type": "stream",
     "text": [
      "572/572 [==============================] - 1s 2ms/step\n"
     ]
    },
    {
     "name": "stderr",
     "output_type": "stream",
     "text": [
      "100%|██████████| 1/1 [00:03<00:00,  3.19s/it]\n",
      "Finding & Fitting Flares:   0%|          | 0/1 [00:00<?, ?it/s]/opt/conda/envs/tess/lib/python3.8/site-packages/stella/mark_flares.py:92: VisibleDeprecationWarning: Creating an ndarray from ragged nested sequences (which is a list-or-tuple of lists-or-tuples-or ndarrays with different lengths or shapes) is deprecated. If you meant to do this, you must specify 'dtype=object' when creating the ndarray.\n",
      "  return np.array(results)\n",
      "Finding & Fitting Flares: 100%|██████████| 1/1 [00:00<00:00,  2.44it/s]\n",
      "  0%|          | 0/1 [00:00<?, ?it/s]"
     ]
    },
    {
     "name": "stdout",
     "output_type": "stream",
     "text": [
      "570/570 [==============================] - 1s 2ms/step\n"
     ]
    },
    {
     "name": "stderr",
     "output_type": "stream",
     "text": [
      "100%|██████████| 1/1 [00:02<00:00,  2.85s/it]\n",
      "Finding & Fitting Flares:   0%|          | 0/1 [00:00<?, ?it/s]/opt/conda/envs/tess/lib/python3.8/site-packages/stella/mark_flares.py:92: VisibleDeprecationWarning: Creating an ndarray from ragged nested sequences (which is a list-or-tuple of lists-or-tuples-or ndarrays with different lengths or shapes) is deprecated. If you meant to do this, you must specify 'dtype=object' when creating the ndarray.\n",
      "  return np.array(results)\n",
      "Finding & Fitting Flares: 100%|██████████| 1/1 [00:00<00:00, 17.20it/s]\n",
      "  0%|          | 0/1 [00:00<?, ?it/s]"
     ]
    },
    {
     "name": "stdout",
     "output_type": "stream",
     "text": [
      "572/572 [==============================] - 1s 2ms/step\n"
     ]
    },
    {
     "name": "stderr",
     "output_type": "stream",
     "text": [
      "100%|██████████| 1/1 [00:02<00:00,  2.80s/it]\n",
      "Finding & Fitting Flares:   0%|          | 0/1 [00:00<?, ?it/s]/opt/conda/envs/tess/lib/python3.8/site-packages/stella/mark_flares.py:92: VisibleDeprecationWarning: Creating an ndarray from ragged nested sequences (which is a list-or-tuple of lists-or-tuples-or ndarrays with different lengths or shapes) is deprecated. If you meant to do this, you must specify 'dtype=object' when creating the ndarray.\n",
      "  return np.array(results)\n",
      "Finding & Fitting Flares: 100%|██████████| 1/1 [00:00<00:00,  7.25it/s]\n",
      "  0%|          | 0/1 [00:00<?, ?it/s]"
     ]
    },
    {
     "name": "stdout",
     "output_type": "stream",
     "text": [
      "572/572 [==============================] - 1s 2ms/step\n"
     ]
    },
    {
     "name": "stderr",
     "output_type": "stream",
     "text": [
      "100%|██████████| 1/1 [00:02<00:00,  2.79s/it]\n",
      "Finding & Fitting Flares:   0%|          | 0/1 [00:00<?, ?it/s]/opt/conda/envs/tess/lib/python3.8/site-packages/stella/mark_flares.py:92: VisibleDeprecationWarning: Creating an ndarray from ragged nested sequences (which is a list-or-tuple of lists-or-tuples-or ndarrays with different lengths or shapes) is deprecated. If you meant to do this, you must specify 'dtype=object' when creating the ndarray.\n",
      "  return np.array(results)\n",
      "Finding & Fitting Flares: 100%|██████████| 1/1 [00:00<00:00, 100.60it/s]\n",
      "  0%|          | 0/1 [00:00<?, ?it/s]"
     ]
    },
    {
     "name": "stdout",
     "output_type": "stream",
     "text": [
      "572/572 [==============================] - 1s 2ms/step\n"
     ]
    },
    {
     "name": "stderr",
     "output_type": "stream",
     "text": [
      "100%|██████████| 1/1 [00:03<00:00,  3.07s/it]\n",
      "Finding & Fitting Flares:   0%|          | 0/1 [00:00<?, ?it/s]/opt/conda/envs/tess/lib/python3.8/site-packages/stella/mark_flares.py:92: VisibleDeprecationWarning: Creating an ndarray from ragged nested sequences (which is a list-or-tuple of lists-or-tuples-or ndarrays with different lengths or shapes) is deprecated. If you meant to do this, you must specify 'dtype=object' when creating the ndarray.\n",
      "  return np.array(results)\n",
      "Finding & Fitting Flares: 100%|██████████| 1/1 [00:00<00:00, 14.81it/s]\n",
      "  0%|          | 0/1 [00:00<?, ?it/s]"
     ]
    },
    {
     "name": "stdout",
     "output_type": "stream",
     "text": [
      "572/572 [==============================] - 1s 2ms/step\n"
     ]
    },
    {
     "name": "stderr",
     "output_type": "stream",
     "text": [
      "100%|██████████| 1/1 [00:02<00:00,  2.78s/it]\n",
      "Finding & Fitting Flares:   0%|          | 0/1 [00:00<?, ?it/s]/opt/conda/envs/tess/lib/python3.8/site-packages/stella/mark_flares.py:92: VisibleDeprecationWarning: Creating an ndarray from ragged nested sequences (which is a list-or-tuple of lists-or-tuples-or ndarrays with different lengths or shapes) is deprecated. If you meant to do this, you must specify 'dtype=object' when creating the ndarray.\n",
      "  return np.array(results)\n",
      "Finding & Fitting Flares: 100%|██████████| 1/1 [00:01<00:00,  1.44s/it]\n",
      "  0%|          | 0/1 [00:00<?, ?it/s]"
     ]
    },
    {
     "name": "stdout",
     "output_type": "stream",
     "text": [
      "569/569 [==============================] - 1s 2ms/step\n"
     ]
    },
    {
     "name": "stderr",
     "output_type": "stream",
     "text": [
      "100%|██████████| 1/1 [00:02<00:00,  2.90s/it]\n",
      "Finding & Fitting Flares:   0%|          | 0/1 [00:00<?, ?it/s]/opt/conda/envs/tess/lib/python3.8/site-packages/stella/mark_flares.py:92: VisibleDeprecationWarning: Creating an ndarray from ragged nested sequences (which is a list-or-tuple of lists-or-tuples-or ndarrays with different lengths or shapes) is deprecated. If you meant to do this, you must specify 'dtype=object' when creating the ndarray.\n",
      "  return np.array(results)\n",
      "Finding & Fitting Flares: 100%|██████████| 1/1 [00:00<00:00, 19.85it/s]\n",
      "  0%|          | 0/1 [00:00<?, ?it/s]"
     ]
    },
    {
     "name": "stdout",
     "output_type": "stream",
     "text": [
      "572/572 [==============================] - 1s 2ms/step\n"
     ]
    },
    {
     "name": "stderr",
     "output_type": "stream",
     "text": [
      "100%|██████████| 1/1 [00:02<00:00,  2.78s/it]\n",
      "Finding & Fitting Flares:   0%|          | 0/1 [00:00<?, ?it/s]/opt/conda/envs/tess/lib/python3.8/site-packages/stella/mark_flares.py:92: VisibleDeprecationWarning: Creating an ndarray from ragged nested sequences (which is a list-or-tuple of lists-or-tuples-or ndarrays with different lengths or shapes) is deprecated. If you meant to do this, you must specify 'dtype=object' when creating the ndarray.\n",
      "  return np.array(results)\n",
      "Finding & Fitting Flares: 100%|██████████| 1/1 [00:00<00:00, 16.28it/s]\n",
      "  0%|          | 0/1 [00:00<?, ?it/s]"
     ]
    },
    {
     "name": "stdout",
     "output_type": "stream",
     "text": [
      "572/572 [==============================] - 1s 2ms/step\n"
     ]
    },
    {
     "name": "stderr",
     "output_type": "stream",
     "text": [
      "100%|██████████| 1/1 [00:02<00:00,  2.83s/it]\n",
      "Finding & Fitting Flares:   0%|          | 0/1 [00:00<?, ?it/s]/opt/conda/envs/tess/lib/python3.8/site-packages/stella/mark_flares.py:92: VisibleDeprecationWarning: Creating an ndarray from ragged nested sequences (which is a list-or-tuple of lists-or-tuples-or ndarrays with different lengths or shapes) is deprecated. If you meant to do this, you must specify 'dtype=object' when creating the ndarray.\n",
      "  return np.array(results)\n",
      "Finding & Fitting Flares: 100%|██████████| 1/1 [00:00<00:00, 10.44it/s]\n",
      "  0%|          | 0/1 [00:00<?, ?it/s]"
     ]
    },
    {
     "name": "stdout",
     "output_type": "stream",
     "text": [
      "572/572 [==============================] - 1s 2ms/step\n"
     ]
    },
    {
     "name": "stderr",
     "output_type": "stream",
     "text": [
      "100%|██████████| 1/1 [00:02<00:00,  2.80s/it]\n",
      "Finding & Fitting Flares:   0%|          | 0/1 [00:00<?, ?it/s]/opt/conda/envs/tess/lib/python3.8/site-packages/stella/mark_flares.py:92: VisibleDeprecationWarning: Creating an ndarray from ragged nested sequences (which is a list-or-tuple of lists-or-tuples-or ndarrays with different lengths or shapes) is deprecated. If you meant to do this, you must specify 'dtype=object' when creating the ndarray.\n",
      "  return np.array(results)\n",
      "Finding & Fitting Flares: 100%|██████████| 1/1 [00:00<00:00, 10.60it/s]\n",
      "  0%|          | 0/1 [00:00<?, ?it/s]"
     ]
    },
    {
     "name": "stdout",
     "output_type": "stream",
     "text": [
      "572/572 [==============================] - 1s 2ms/step\n"
     ]
    },
    {
     "name": "stderr",
     "output_type": "stream",
     "text": [
      "100%|██████████| 1/1 [00:02<00:00,  2.80s/it]\n",
      "Finding & Fitting Flares:   0%|          | 0/1 [00:00<?, ?it/s]/opt/conda/envs/tess/lib/python3.8/site-packages/stella/mark_flares.py:92: VisibleDeprecationWarning: Creating an ndarray from ragged nested sequences (which is a list-or-tuple of lists-or-tuples-or ndarrays with different lengths or shapes) is deprecated. If you meant to do this, you must specify 'dtype=object' when creating the ndarray.\n",
      "  return np.array(results)\n",
      "Finding & Fitting Flares: 100%|██████████| 1/1 [00:00<00:00,  2.56it/s]\n",
      "  0%|          | 0/1 [00:00<?, ?it/s]"
     ]
    },
    {
     "name": "stdout",
     "output_type": "stream",
     "text": [
      "572/572 [==============================] - 1s 2ms/step\n"
     ]
    },
    {
     "name": "stderr",
     "output_type": "stream",
     "text": [
      "100%|██████████| 1/1 [00:02<00:00,  2.80s/it]\n",
      "Finding & Fitting Flares:   0%|          | 0/1 [00:00<?, ?it/s]/opt/conda/envs/tess/lib/python3.8/site-packages/stella/mark_flares.py:92: VisibleDeprecationWarning: Creating an ndarray from ragged nested sequences (which is a list-or-tuple of lists-or-tuples-or ndarrays with different lengths or shapes) is deprecated. If you meant to do this, you must specify 'dtype=object' when creating the ndarray.\n",
      "  return np.array(results)\n",
      "Finding & Fitting Flares: 100%|██████████| 1/1 [00:00<00:00,  6.09it/s]\n",
      "  0%|          | 0/1 [00:00<?, ?it/s]"
     ]
    },
    {
     "name": "stdout",
     "output_type": "stream",
     "text": [
      "572/572 [==============================] - 1s 2ms/step\n"
     ]
    },
    {
     "name": "stderr",
     "output_type": "stream",
     "text": [
      "100%|██████████| 1/1 [00:02<00:00,  2.83s/it]\n",
      "Finding & Fitting Flares:   0%|          | 0/1 [00:00<?, ?it/s]/opt/conda/envs/tess/lib/python3.8/site-packages/stella/mark_flares.py:92: VisibleDeprecationWarning: Creating an ndarray from ragged nested sequences (which is a list-or-tuple of lists-or-tuples-or ndarrays with different lengths or shapes) is deprecated. If you meant to do this, you must specify 'dtype=object' when creating the ndarray.\n",
      "  return np.array(results)\n",
      "Finding & Fitting Flares: 100%|██████████| 1/1 [00:00<00:00,  8.02it/s]\n",
      "  0%|          | 0/1 [00:00<?, ?it/s]"
     ]
    },
    {
     "name": "stdout",
     "output_type": "stream",
     "text": [
      "572/572 [==============================] - 1s 2ms/step\n"
     ]
    },
    {
     "name": "stderr",
     "output_type": "stream",
     "text": [
      "100%|██████████| 1/1 [00:03<00:00,  3.04s/it]\n",
      "Finding & Fitting Flares:   0%|          | 0/1 [00:00<?, ?it/s]/opt/conda/envs/tess/lib/python3.8/site-packages/stella/mark_flares.py:92: VisibleDeprecationWarning: Creating an ndarray from ragged nested sequences (which is a list-or-tuple of lists-or-tuples-or ndarrays with different lengths or shapes) is deprecated. If you meant to do this, you must specify 'dtype=object' when creating the ndarray.\n",
      "  return np.array(results)\n",
      "Finding & Fitting Flares: 100%|██████████| 1/1 [00:00<00:00, 43.17it/s]\n",
      "  0%|          | 0/1 [00:00<?, ?it/s]"
     ]
    },
    {
     "name": "stdout",
     "output_type": "stream",
     "text": [
      "572/572 [==============================] - 1s 2ms/step\n"
     ]
    },
    {
     "name": "stderr",
     "output_type": "stream",
     "text": [
      "100%|██████████| 1/1 [00:02<00:00,  2.75s/it]\n",
      "Finding & Fitting Flares:   0%|          | 0/1 [00:00<?, ?it/s]/opt/conda/envs/tess/lib/python3.8/site-packages/stella/mark_flares.py:92: VisibleDeprecationWarning: Creating an ndarray from ragged nested sequences (which is a list-or-tuple of lists-or-tuples-or ndarrays with different lengths or shapes) is deprecated. If you meant to do this, you must specify 'dtype=object' when creating the ndarray.\n",
      "  return np.array(results)\n",
      "Finding & Fitting Flares: 100%|██████████| 1/1 [00:00<00:00, 10.67it/s]\n",
      "  0%|          | 0/1 [00:00<?, ?it/s]"
     ]
    },
    {
     "name": "stdout",
     "output_type": "stream",
     "text": [
      "572/572 [==============================] - 1s 2ms/step\n"
     ]
    },
    {
     "name": "stderr",
     "output_type": "stream",
     "text": [
      "100%|██████████| 1/1 [00:02<00:00,  2.84s/it]\n",
      "Finding & Fitting Flares:   0%|          | 0/1 [00:00<?, ?it/s]/opt/conda/envs/tess/lib/python3.8/site-packages/stella/mark_flares.py:92: VisibleDeprecationWarning: Creating an ndarray from ragged nested sequences (which is a list-or-tuple of lists-or-tuples-or ndarrays with different lengths or shapes) is deprecated. If you meant to do this, you must specify 'dtype=object' when creating the ndarray.\n",
      "  return np.array(results)\n",
      "Finding & Fitting Flares: 100%|██████████| 1/1 [00:00<00:00,  3.44it/s]\n",
      "  0%|          | 0/1 [00:00<?, ?it/s]"
     ]
    },
    {
     "name": "stdout",
     "output_type": "stream",
     "text": [
      "572/572 [==============================] - 1s 2ms/step\n"
     ]
    },
    {
     "name": "stderr",
     "output_type": "stream",
     "text": [
      "100%|██████████| 1/1 [00:02<00:00,  2.90s/it]\n",
      "Finding & Fitting Flares:   0%|          | 0/1 [00:00<?, ?it/s]/opt/conda/envs/tess/lib/python3.8/site-packages/stella/mark_flares.py:92: VisibleDeprecationWarning: Creating an ndarray from ragged nested sequences (which is a list-or-tuple of lists-or-tuples-or ndarrays with different lengths or shapes) is deprecated. If you meant to do this, you must specify 'dtype=object' when creating the ndarray.\n",
      "  return np.array(results)\n",
      "Finding & Fitting Flares: 100%|██████████| 1/1 [00:00<00:00, 14.54it/s]\n",
      "  0%|          | 0/1 [00:00<?, ?it/s]"
     ]
    },
    {
     "name": "stdout",
     "output_type": "stream",
     "text": [
      "572/572 [==============================] - 1s 2ms/step\n"
     ]
    },
    {
     "name": "stderr",
     "output_type": "stream",
     "text": [
      "100%|██████████| 1/1 [00:02<00:00,  2.81s/it]\n",
      "Finding & Fitting Flares:   0%|          | 0/1 [00:00<?, ?it/s]/opt/conda/envs/tess/lib/python3.8/site-packages/stella/mark_flares.py:92: VisibleDeprecationWarning: Creating an ndarray from ragged nested sequences (which is a list-or-tuple of lists-or-tuples-or ndarrays with different lengths or shapes) is deprecated. If you meant to do this, you must specify 'dtype=object' when creating the ndarray.\n",
      "  return np.array(results)\n",
      "Finding & Fitting Flares: 100%|██████████| 1/1 [00:00<00:00,  1.20it/s]\n",
      "  0%|          | 0/1 [00:00<?, ?it/s]"
     ]
    },
    {
     "name": "stdout",
     "output_type": "stream",
     "text": [
      "537/537 [==============================] - 1s 2ms/step\n"
     ]
    },
    {
     "name": "stderr",
     "output_type": "stream",
     "text": [
      "100%|██████████| 1/1 [00:02<00:00,  2.69s/it]\n",
      "Finding & Fitting Flares:   0%|          | 0/1 [00:00<?, ?it/s]/opt/conda/envs/tess/lib/python3.8/site-packages/stella/mark_flares.py:92: VisibleDeprecationWarning: Creating an ndarray from ragged nested sequences (which is a list-or-tuple of lists-or-tuples-or ndarrays with different lengths or shapes) is deprecated. If you meant to do this, you must specify 'dtype=object' when creating the ndarray.\n",
      "  return np.array(results)\n",
      "/opt/conda/envs/tess/lib/python3.8/site-packages/astropy/utils/masked/core.py:938: RuntimeWarning: All-NaN slice encountered\n",
      "  kwargs[\"initial\"] = initial_func(self.unmasked)\n",
      "/opt/conda/envs/tess/lib/python3.8/site-packages/astropy/utils/masked/core.py:827: RuntimeWarning: invalid value encountered in true_divide\n",
      "  result = getattr(ufunc, method)(*unmasked, **kwargs)\n",
      "Finding & Fitting Flares: 100%|██████████| 1/1 [00:00<00:00, 13.40it/s]\n",
      "  0%|          | 0/1 [00:00<?, ?it/s]"
     ]
    },
    {
     "name": "stdout",
     "output_type": "stream",
     "text": [
      "572/572 [==============================] - 1s 2ms/step\n"
     ]
    },
    {
     "name": "stderr",
     "output_type": "stream",
     "text": [
      "100%|██████████| 1/1 [00:02<00:00,  2.94s/it]\n",
      "Finding & Fitting Flares:   0%|          | 0/1 [00:00<?, ?it/s]/opt/conda/envs/tess/lib/python3.8/site-packages/stella/mark_flares.py:92: VisibleDeprecationWarning: Creating an ndarray from ragged nested sequences (which is a list-or-tuple of lists-or-tuples-or ndarrays with different lengths or shapes) is deprecated. If you meant to do this, you must specify 'dtype=object' when creating the ndarray.\n",
      "  return np.array(results)\n",
      "Finding & Fitting Flares: 100%|██████████| 1/1 [00:00<00:00,  2.16it/s]\n",
      "  0%|          | 0/1 [00:00<?, ?it/s]"
     ]
    },
    {
     "name": "stdout",
     "output_type": "stream",
     "text": [
      "572/572 [==============================] - 1s 2ms/step\n"
     ]
    },
    {
     "name": "stderr",
     "output_type": "stream",
     "text": [
      "100%|██████████| 1/1 [00:02<00:00,  2.77s/it]\n",
      "Finding & Fitting Flares:   0%|          | 0/1 [00:00<?, ?it/s]/opt/conda/envs/tess/lib/python3.8/site-packages/stella/mark_flares.py:92: VisibleDeprecationWarning: Creating an ndarray from ragged nested sequences (which is a list-or-tuple of lists-or-tuples-or ndarrays with different lengths or shapes) is deprecated. If you meant to do this, you must specify 'dtype=object' when creating the ndarray.\n",
      "  return np.array(results)\n",
      "Finding & Fitting Flares: 100%|██████████| 1/1 [00:00<00:00,  6.80it/s]\n",
      "  0%|          | 0/1 [00:00<?, ?it/s]"
     ]
    },
    {
     "name": "stdout",
     "output_type": "stream",
     "text": [
      "572/572 [==============================] - 1s 2ms/step\n"
     ]
    },
    {
     "name": "stderr",
     "output_type": "stream",
     "text": [
      "100%|██████████| 1/1 [00:02<00:00,  2.78s/it]\n",
      "Finding & Fitting Flares:   0%|          | 0/1 [00:00<?, ?it/s]/opt/conda/envs/tess/lib/python3.8/site-packages/stella/mark_flares.py:92: VisibleDeprecationWarning: Creating an ndarray from ragged nested sequences (which is a list-or-tuple of lists-or-tuples-or ndarrays with different lengths or shapes) is deprecated. If you meant to do this, you must specify 'dtype=object' when creating the ndarray.\n",
      "  return np.array(results)\n",
      "Finding & Fitting Flares: 100%|██████████| 1/1 [00:00<00:00,  4.85it/s]\n",
      "  0%|          | 0/1 [00:00<?, ?it/s]"
     ]
    },
    {
     "name": "stdout",
     "output_type": "stream",
     "text": [
      "568/568 [==============================] - 1s 2ms/step\n"
     ]
    },
    {
     "name": "stderr",
     "output_type": "stream",
     "text": [
      "100%|██████████| 1/1 [00:02<00:00,  2.98s/it]\n",
      "Finding & Fitting Flares:   0%|          | 0/1 [00:00<?, ?it/s]/opt/conda/envs/tess/lib/python3.8/site-packages/stella/mark_flares.py:92: VisibleDeprecationWarning: Creating an ndarray from ragged nested sequences (which is a list-or-tuple of lists-or-tuples-or ndarrays with different lengths or shapes) is deprecated. If you meant to do this, you must specify 'dtype=object' when creating the ndarray.\n",
      "  return np.array(results)\n",
      "Finding & Fitting Flares: 100%|██████████| 1/1 [00:00<00:00, 26.28it/s]\n",
      "  0%|          | 0/1 [00:00<?, ?it/s]"
     ]
    },
    {
     "name": "stdout",
     "output_type": "stream",
     "text": [
      "572/572 [==============================] - 1s 2ms/step\n"
     ]
    },
    {
     "name": "stderr",
     "output_type": "stream",
     "text": [
      "100%|██████████| 1/1 [00:02<00:00,  2.83s/it]\n",
      "Finding & Fitting Flares:   0%|          | 0/1 [00:00<?, ?it/s]/opt/conda/envs/tess/lib/python3.8/site-packages/stella/mark_flares.py:92: VisibleDeprecationWarning: Creating an ndarray from ragged nested sequences (which is a list-or-tuple of lists-or-tuples-or ndarrays with different lengths or shapes) is deprecated. If you meant to do this, you must specify 'dtype=object' when creating the ndarray.\n",
      "  return np.array(results)\n",
      "Finding & Fitting Flares: 100%|██████████| 1/1 [00:00<00:00,  7.10it/s]\n",
      "  0%|          | 0/1 [00:00<?, ?it/s]"
     ]
    },
    {
     "name": "stdout",
     "output_type": "stream",
     "text": [
      "520/520 [==============================] - 1s 2ms/step\n"
     ]
    },
    {
     "name": "stderr",
     "output_type": "stream",
     "text": [
      "100%|██████████| 1/1 [00:02<00:00,  2.65s/it]\n",
      "Finding & Fitting Flares:   0%|          | 0/1 [00:00<?, ?it/s]/opt/conda/envs/tess/lib/python3.8/site-packages/stella/mark_flares.py:92: VisibleDeprecationWarning: Creating an ndarray from ragged nested sequences (which is a list-or-tuple of lists-or-tuples-or ndarrays with different lengths or shapes) is deprecated. If you meant to do this, you must specify 'dtype=object' when creating the ndarray.\n",
      "  return np.array(results)\n",
      "/opt/conda/envs/tess/lib/python3.8/site-packages/astropy/utils/masked/core.py:938: RuntimeWarning: All-NaN slice encountered\n",
      "  kwargs[\"initial\"] = initial_func(self.unmasked)\n",
      "/opt/conda/envs/tess/lib/python3.8/site-packages/astropy/utils/masked/core.py:827: RuntimeWarning: invalid value encountered in true_divide\n",
      "  result = getattr(ufunc, method)(*unmasked, **kwargs)\n",
      "Finding & Fitting Flares: 100%|██████████| 1/1 [00:00<00:00,  7.36it/s]\n",
      "  0%|          | 0/1 [00:00<?, ?it/s]"
     ]
    },
    {
     "name": "stdout",
     "output_type": "stream",
     "text": [
      "541/541 [==============================] - 1s 2ms/step\n"
     ]
    },
    {
     "name": "stderr",
     "output_type": "stream",
     "text": [
      "100%|██████████| 1/1 [00:02<00:00,  2.61s/it]\n",
      "Finding & Fitting Flares:   0%|          | 0/1 [00:00<?, ?it/s]/opt/conda/envs/tess/lib/python3.8/site-packages/stella/mark_flares.py:92: VisibleDeprecationWarning: Creating an ndarray from ragged nested sequences (which is a list-or-tuple of lists-or-tuples-or ndarrays with different lengths or shapes) is deprecated. If you meant to do this, you must specify 'dtype=object' when creating the ndarray.\n",
      "  return np.array(results)\n",
      "/opt/conda/envs/tess/lib/python3.8/site-packages/astropy/utils/masked/core.py:938: RuntimeWarning: All-NaN slice encountered\n",
      "  kwargs[\"initial\"] = initial_func(self.unmasked)\n",
      "/opt/conda/envs/tess/lib/python3.8/site-packages/astropy/utils/masked/core.py:827: RuntimeWarning: invalid value encountered in true_divide\n",
      "  result = getattr(ufunc, method)(*unmasked, **kwargs)\n",
      "Finding & Fitting Flares: 100%|██████████| 1/1 [00:00<00:00, 11.82it/s]\n",
      "  0%|          | 0/1 [00:00<?, ?it/s]"
     ]
    },
    {
     "name": "stdout",
     "output_type": "stream",
     "text": [
      "572/572 [==============================] - 1s 2ms/step\n"
     ]
    },
    {
     "name": "stderr",
     "output_type": "stream",
     "text": [
      "100%|██████████| 1/1 [00:02<00:00,  2.82s/it]\n",
      "Finding & Fitting Flares:   0%|          | 0/1 [00:00<?, ?it/s]/opt/conda/envs/tess/lib/python3.8/site-packages/stella/mark_flares.py:92: VisibleDeprecationWarning: Creating an ndarray from ragged nested sequences (which is a list-or-tuple of lists-or-tuples-or ndarrays with different lengths or shapes) is deprecated. If you meant to do this, you must specify 'dtype=object' when creating the ndarray.\n",
      "  return np.array(results)\n",
      "Finding & Fitting Flares: 100%|██████████| 1/1 [00:00<00:00, 33.73it/s]\n",
      "  0%|          | 0/1 [00:00<?, ?it/s]"
     ]
    },
    {
     "name": "stdout",
     "output_type": "stream",
     "text": [
      "572/572 [==============================] - 1s 2ms/step\n"
     ]
    },
    {
     "name": "stderr",
     "output_type": "stream",
     "text": [
      "100%|██████████| 1/1 [00:02<00:00,  2.95s/it]\n",
      "Finding & Fitting Flares:   0%|          | 0/1 [00:00<?, ?it/s]/opt/conda/envs/tess/lib/python3.8/site-packages/stella/mark_flares.py:92: VisibleDeprecationWarning: Creating an ndarray from ragged nested sequences (which is a list-or-tuple of lists-or-tuples-or ndarrays with different lengths or shapes) is deprecated. If you meant to do this, you must specify 'dtype=object' when creating the ndarray.\n",
      "  return np.array(results)\n",
      "Finding & Fitting Flares: 100%|██████████| 1/1 [00:00<00:00,  1.67it/s]\n",
      "  0%|          | 0/1 [00:00<?, ?it/s]"
     ]
    },
    {
     "name": "stdout",
     "output_type": "stream",
     "text": [
      "572/572 [==============================] - 1s 2ms/step\n"
     ]
    },
    {
     "name": "stderr",
     "output_type": "stream",
     "text": [
      "100%|██████████| 1/1 [00:02<00:00,  2.81s/it]\n",
      "Finding & Fitting Flares:   0%|          | 0/1 [00:00<?, ?it/s]/opt/conda/envs/tess/lib/python3.8/site-packages/stella/mark_flares.py:92: VisibleDeprecationWarning: Creating an ndarray from ragged nested sequences (which is a list-or-tuple of lists-or-tuples-or ndarrays with different lengths or shapes) is deprecated. If you meant to do this, you must specify 'dtype=object' when creating the ndarray.\n",
      "  return np.array(results)\n",
      "Finding & Fitting Flares: 100%|██████████| 1/1 [00:00<00:00, 17.84it/s]\n",
      "  0%|          | 0/1 [00:00<?, ?it/s]"
     ]
    },
    {
     "name": "stdout",
     "output_type": "stream",
     "text": [
      "572/572 [==============================] - 1s 2ms/step\n"
     ]
    },
    {
     "name": "stderr",
     "output_type": "stream",
     "text": [
      "100%|██████████| 1/1 [00:02<00:00,  2.75s/it]\n",
      "Finding & Fitting Flares:   0%|          | 0/1 [00:00<?, ?it/s]/opt/conda/envs/tess/lib/python3.8/site-packages/stella/mark_flares.py:92: VisibleDeprecationWarning: Creating an ndarray from ragged nested sequences (which is a list-or-tuple of lists-or-tuples-or ndarrays with different lengths or shapes) is deprecated. If you meant to do this, you must specify 'dtype=object' when creating the ndarray.\n",
      "  return np.array(results)\n",
      "Finding & Fitting Flares: 100%|██████████| 1/1 [00:00<00:00, 13.04it/s]\n",
      "  0%|          | 0/1 [00:00<?, ?it/s]"
     ]
    },
    {
     "name": "stdout",
     "output_type": "stream",
     "text": [
      "572/572 [==============================] - 1s 2ms/step\n"
     ]
    },
    {
     "name": "stderr",
     "output_type": "stream",
     "text": [
      "100%|██████████| 1/1 [00:02<00:00,  2.84s/it]\n",
      "Finding & Fitting Flares:   0%|          | 0/1 [00:00<?, ?it/s]/opt/conda/envs/tess/lib/python3.8/site-packages/stella/mark_flares.py:92: VisibleDeprecationWarning: Creating an ndarray from ragged nested sequences (which is a list-or-tuple of lists-or-tuples-or ndarrays with different lengths or shapes) is deprecated. If you meant to do this, you must specify 'dtype=object' when creating the ndarray.\n",
      "  return np.array(results)\n",
      "Finding & Fitting Flares: 100%|██████████| 1/1 [00:00<00:00, 11.65it/s]\n",
      "  0%|          | 0/1 [00:00<?, ?it/s]"
     ]
    },
    {
     "name": "stdout",
     "output_type": "stream",
     "text": [
      "572/572 [==============================] - 1s 2ms/step\n"
     ]
    },
    {
     "name": "stderr",
     "output_type": "stream",
     "text": [
      "100%|██████████| 1/1 [00:03<00:00,  3.03s/it]\n",
      "Finding & Fitting Flares:   0%|          | 0/1 [00:00<?, ?it/s]/opt/conda/envs/tess/lib/python3.8/site-packages/stella/mark_flares.py:92: VisibleDeprecationWarning: Creating an ndarray from ragged nested sequences (which is a list-or-tuple of lists-or-tuples-or ndarrays with different lengths or shapes) is deprecated. If you meant to do this, you must specify 'dtype=object' when creating the ndarray.\n",
      "  return np.array(results)\n",
      "Finding & Fitting Flares: 100%|██████████| 1/1 [00:00<00:00, 16.26it/s]\n",
      "  0%|          | 0/1 [00:00<?, ?it/s]"
     ]
    },
    {
     "name": "stdout",
     "output_type": "stream",
     "text": [
      "572/572 [==============================] - 1s 2ms/step\n"
     ]
    },
    {
     "name": "stderr",
     "output_type": "stream",
     "text": [
      "100%|██████████| 1/1 [00:02<00:00,  2.71s/it]\n",
      "Finding & Fitting Flares:   0%|          | 0/1 [00:00<?, ?it/s]/opt/conda/envs/tess/lib/python3.8/site-packages/stella/mark_flares.py:92: VisibleDeprecationWarning: Creating an ndarray from ragged nested sequences (which is a list-or-tuple of lists-or-tuples-or ndarrays with different lengths or shapes) is deprecated. If you meant to do this, you must specify 'dtype=object' when creating the ndarray.\n",
      "  return np.array(results)\n",
      "Finding & Fitting Flares: 100%|██████████| 1/1 [00:00<00:00, 24.36it/s]\n",
      "  0%|          | 0/1 [00:00<?, ?it/s]"
     ]
    },
    {
     "name": "stdout",
     "output_type": "stream",
     "text": [
      "572/572 [==============================] - 1s 2ms/step\n"
     ]
    },
    {
     "name": "stderr",
     "output_type": "stream",
     "text": [
      "100%|██████████| 1/1 [00:02<00:00,  2.80s/it]\n",
      "Finding & Fitting Flares:   0%|          | 0/1 [00:00<?, ?it/s]/opt/conda/envs/tess/lib/python3.8/site-packages/stella/mark_flares.py:92: VisibleDeprecationWarning: Creating an ndarray from ragged nested sequences (which is a list-or-tuple of lists-or-tuples-or ndarrays with different lengths or shapes) is deprecated. If you meant to do this, you must specify 'dtype=object' when creating the ndarray.\n",
      "  return np.array(results)\n",
      "Finding & Fitting Flares: 100%|██████████| 1/1 [00:00<00:00, 27.88it/s]\n",
      "  0%|          | 0/1 [00:00<?, ?it/s]"
     ]
    },
    {
     "name": "stdout",
     "output_type": "stream",
     "text": [
      "572/572 [==============================] - 1s 2ms/step\n"
     ]
    },
    {
     "name": "stderr",
     "output_type": "stream",
     "text": [
      "100%|██████████| 1/1 [00:02<00:00,  2.87s/it]\n",
      "Finding & Fitting Flares:   0%|          | 0/1 [00:00<?, ?it/s]/opt/conda/envs/tess/lib/python3.8/site-packages/stella/mark_flares.py:92: VisibleDeprecationWarning: Creating an ndarray from ragged nested sequences (which is a list-or-tuple of lists-or-tuples-or ndarrays with different lengths or shapes) is deprecated. If you meant to do this, you must specify 'dtype=object' when creating the ndarray.\n",
      "  return np.array(results)\n",
      "Finding & Fitting Flares: 100%|██████████| 1/1 [00:00<00:00,  6.76it/s]\n",
      "  0%|          | 0/1 [00:00<?, ?it/s]"
     ]
    },
    {
     "name": "stdout",
     "output_type": "stream",
     "text": [
      "572/572 [==============================] - 1s 2ms/step\n"
     ]
    },
    {
     "name": "stderr",
     "output_type": "stream",
     "text": [
      "100%|██████████| 1/1 [00:02<00:00,  2.74s/it]\n",
      "Finding & Fitting Flares:   0%|          | 0/1 [00:00<?, ?it/s]/opt/conda/envs/tess/lib/python3.8/site-packages/stella/mark_flares.py:92: VisibleDeprecationWarning: Creating an ndarray from ragged nested sequences (which is a list-or-tuple of lists-or-tuples-or ndarrays with different lengths or shapes) is deprecated. If you meant to do this, you must specify 'dtype=object' when creating the ndarray.\n",
      "  return np.array(results)\n",
      "Finding & Fitting Flares: 100%|██████████| 1/1 [00:00<00:00, 101.03it/s]\n",
      "  0%|          | 0/1 [00:00<?, ?it/s]"
     ]
    },
    {
     "name": "stdout",
     "output_type": "stream",
     "text": [
      "572/572 [==============================] - 1s 2ms/step\n"
     ]
    },
    {
     "name": "stderr",
     "output_type": "stream",
     "text": [
      "100%|██████████| 1/1 [00:03<00:00,  3.26s/it]\n",
      "Finding & Fitting Flares:   0%|          | 0/1 [00:00<?, ?it/s]/opt/conda/envs/tess/lib/python3.8/site-packages/stella/mark_flares.py:92: VisibleDeprecationWarning: Creating an ndarray from ragged nested sequences (which is a list-or-tuple of lists-or-tuples-or ndarrays with different lengths or shapes) is deprecated. If you meant to do this, you must specify 'dtype=object' when creating the ndarray.\n",
      "  return np.array(results)\n",
      "Finding & Fitting Flares: 100%|██████████| 1/1 [00:00<00:00,  7.40it/s]\n",
      "  0%|          | 0/1 [00:00<?, ?it/s]"
     ]
    },
    {
     "name": "stdout",
     "output_type": "stream",
     "text": [
      "572/572 [==============================] - 1s 2ms/step\n"
     ]
    },
    {
     "name": "stderr",
     "output_type": "stream",
     "text": [
      "100%|██████████| 1/1 [00:02<00:00,  2.86s/it]\n",
      "Finding & Fitting Flares: 100%|██████████| 1/1 [00:00<00:00, 1513.64it/s]\n",
      "  0%|          | 0/1 [00:00<?, ?it/s]"
     ]
    },
    {
     "name": "stdout",
     "output_type": "stream",
     "text": [
      "570/570 [==============================] - 1s 2ms/step\n"
     ]
    },
    {
     "name": "stderr",
     "output_type": "stream",
     "text": [
      "100%|██████████| 1/1 [00:02<00:00,  2.75s/it]\n",
      "Finding & Fitting Flares: 100%|██████████| 1/1 [00:00<00:00, 242.64it/s]\n",
      "  0%|          | 0/1 [00:00<?, ?it/s]"
     ]
    },
    {
     "name": "stdout",
     "output_type": "stream",
     "text": [
      "572/572 [==============================] - 1s 2ms/step\n"
     ]
    },
    {
     "name": "stderr",
     "output_type": "stream",
     "text": [
      "100%|██████████| 1/1 [00:02<00:00,  2.85s/it]\n",
      "Finding & Fitting Flares:   0%|          | 0/1 [00:00<?, ?it/s]/opt/conda/envs/tess/lib/python3.8/site-packages/stella/mark_flares.py:92: VisibleDeprecationWarning: Creating an ndarray from ragged nested sequences (which is a list-or-tuple of lists-or-tuples-or ndarrays with different lengths or shapes) is deprecated. If you meant to do this, you must specify 'dtype=object' when creating the ndarray.\n",
      "  return np.array(results)\n",
      "Finding & Fitting Flares: 100%|██████████| 1/1 [00:00<00:00, 15.76it/s]\n",
      "  0%|          | 0/1 [00:00<?, ?it/s]"
     ]
    },
    {
     "name": "stdout",
     "output_type": "stream",
     "text": [
      "572/572 [==============================] - 1s 2ms/step\n"
     ]
    },
    {
     "name": "stderr",
     "output_type": "stream",
     "text": [
      "100%|██████████| 1/1 [00:03<00:00,  3.07s/it]\n",
      "Finding & Fitting Flares:   0%|          | 0/1 [00:00<?, ?it/s]/opt/conda/envs/tess/lib/python3.8/site-packages/stella/mark_flares.py:92: VisibleDeprecationWarning: Creating an ndarray from ragged nested sequences (which is a list-or-tuple of lists-or-tuples-or ndarrays with different lengths or shapes) is deprecated. If you meant to do this, you must specify 'dtype=object' when creating the ndarray.\n",
      "  return np.array(results)\n",
      "Finding & Fitting Flares: 100%|██████████| 1/1 [00:00<00:00, 13.71it/s]\n",
      "  0%|          | 0/1 [00:00<?, ?it/s]"
     ]
    },
    {
     "name": "stdout",
     "output_type": "stream",
     "text": [
      "572/572 [==============================] - 1s 2ms/step\n"
     ]
    },
    {
     "name": "stderr",
     "output_type": "stream",
     "text": [
      "100%|██████████| 1/1 [00:02<00:00,  2.88s/it]\n",
      "Finding & Fitting Flares:   0%|          | 0/1 [00:00<?, ?it/s]/opt/conda/envs/tess/lib/python3.8/site-packages/stella/mark_flares.py:92: VisibleDeprecationWarning: Creating an ndarray from ragged nested sequences (which is a list-or-tuple of lists-or-tuples-or ndarrays with different lengths or shapes) is deprecated. If you meant to do this, you must specify 'dtype=object' when creating the ndarray.\n",
      "  return np.array(results)\n",
      "Finding & Fitting Flares: 100%|██████████| 1/1 [00:00<00:00, 13.98it/s]\n",
      "  0%|          | 0/1 [00:00<?, ?it/s]"
     ]
    },
    {
     "name": "stdout",
     "output_type": "stream",
     "text": [
      "554/554 [==============================] - 1s 2ms/step\n"
     ]
    },
    {
     "name": "stderr",
     "output_type": "stream",
     "text": [
      "100%|██████████| 1/1 [00:02<00:00,  2.91s/it]\n",
      "Finding & Fitting Flares:   0%|          | 0/1 [00:00<?, ?it/s]/opt/conda/envs/tess/lib/python3.8/site-packages/stella/mark_flares.py:92: VisibleDeprecationWarning: Creating an ndarray from ragged nested sequences (which is a list-or-tuple of lists-or-tuples-or ndarrays with different lengths or shapes) is deprecated. If you meant to do this, you must specify 'dtype=object' when creating the ndarray.\n",
      "  return np.array(results)\n",
      "Finding & Fitting Flares: 100%|██████████| 1/1 [00:00<00:00, 24.44it/s]\n"
     ]
    }
   ],
   "source": [
    "flare_rates_durations = []\n",
    "for star in stars[::200]:\n",
    "    flare_rate = calc_flare_rate(str(star))\n",
    "    \n",
    "    flare_rates_durations += [flare_rate]"
   ]
  },
  {
   "cell_type": "code",
   "execution_count": 48,
   "id": "0ec23962-50e0-435e-9a50-fd31045f83a0",
   "metadata": {
    "tags": []
   },
   "outputs": [
    {
     "data": {
      "text/plain": [
       "[0.0,\n",
       " 108740.01343691128,\n",
       " 0.0,\n",
       " 29252.779498824162,\n",
       " 0.0,\n",
       " 0.0,\n",
       " 1194959.7854249156,\n",
       " 0.0,\n",
       " 0.0,\n",
       " 0.0,\n",
       " 101055.42124183405,\n",
       " 126701.76203768862,\n",
       " 74294.33964908683,\n",
       " 48134.097568698606,\n",
       " 0.0,\n",
       " 17264.24741817222,\n",
       " 61213.83752228067,\n",
       " 0.0,\n",
       " 1666683.7267428858,\n",
       " 0.0,\n",
       " 7890923.28989539,\n",
       " 0.0,\n",
       " 261751.00965558251,\n",
       " 0.0,\n",
       " 0.0,\n",
       " 101256.5687663477,\n",
       " 0.0,\n",
       " 0.0,\n",
       " 169363.88477421636,\n",
       " 10437.141586177333,\n",
       " 0.0,\n",
       " 127260.77254492122,\n",
       " 0.0,\n",
       " 0.0,\n",
       " 0.0,\n",
       " 15033.14688429129,\n",
       " 0.0,\n",
       " 95261.60611277254,\n",
       " 0.0,\n",
       " 0.0,\n",
       " 0.0,\n",
       " 0.0,\n",
       " 243426.73034144117,\n",
       " 7318.485193742318]"
      ]
     },
     "execution_count": 48,
     "metadata": {},
     "output_type": "execute_result"
    }
   ],
   "source": [
    "flare_rates_durations"
   ]
  },
  {
   "cell_type": "code",
   "execution_count": 49,
   "id": "6756d869-0869-4c8a-8a90-a0f0cd7fac4b",
   "metadata": {
    "tags": []
   },
   "outputs": [
    {
     "name": "stdout",
     "output_type": "stream",
     "text": [
      "-0.3494300409805593 1.795846016798184\n"
     ]
    },
    {
     "data": {
      "image/png": "[encoded data removed]",
      "text/plain": [
       "<Figure size 640x480 with 1 Axes>"
      ]
     },
     "metadata": {},
     "output_type": "display_data"
    }
   ],
   "source": [
    "flare_rates_durations = np.array(flare_rates_durations)\n",
    "rot_rates_cleaned = rot_rates[flare_rates_durations>0.0]\n",
    "flare_rates_durations_cleaned = flare_rates_durations[flare_rates_durations>0.0]\n",
    "\n",
    "\n",
    "slope, intercept, r_value, p_value, std_err = scipy.stats.linregress(np.log10(flare_rates_durations_cleaned), np.log10(rot_rates_cleaned))\n",
    "\n",
    "x = np.linspace(np.min(np.log10(flare_rates_durations_cleaned)), np.max(np.log10(flare_rates_durations_cleaned)), 100)\n",
    "y = slope * x + intercept\n",
    "\n",
    "plt.scatter(np.log10(flare_rates_durations_cleaned), np.log10(rot_rates_cleaned), color='teal', label='TESS data')\n",
    "plt.plot(x,y, color='black', linestyle='--', lw=4, label='Regression best fit')\n",
    "plt.xlabel(r'$\\log_{10}$' + ' (Fraction of time spent flaring)')\n",
    "plt.ylabel(r'$\\log_{10}$' + ' (Period at max power (d))')\n",
    "\n",
    "print(slope, intercept)"
   ]
  },
  {
   "cell_type": "markdown",
   "id": "12bf24ea-029d-4868-918f-25a28861a047",
   "metadata": {},
   "source": [
    "This looks pretty similar to our trend from the previous plot — maybe even a bit tighter. We'll test the significance of things in the next exercise."
   ]
  },
  {
   "cell_type": "code",
   "execution_count": null,
   "id": "86465f28-335f-4054-a49b-6c952731d224",
   "metadata": {},
   "outputs": [],
   "source": []
  }
 ],
 "metadata": {
  "kernelspec": {
   "display_name": "TESS Environment",
   "language": "python",
   "name": "tess"
  },
  "language_info": {
   "codemirror_mode": {
    "name": "ipython",
    "version": 3
   },
   "file_extension": ".py",
   "mimetype": "text/x-python",
   "name": "python",
   "nbconvert_exporter": "python",
   "pygments_lexer": "ipython3",
   "version": "3.8.17"
  }
 },
 "nbformat": 4,
 "nbformat_minor": 5
}
