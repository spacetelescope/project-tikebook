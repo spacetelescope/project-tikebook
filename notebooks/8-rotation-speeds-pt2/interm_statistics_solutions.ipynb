{
 "cells": [
  {
   "cell_type": "markdown",
   "id": "bb464b68-6878-4965-b595-603c47c626b4",
   "metadata": {
    "tags": []
   },
   "source": [
    "# Intermediate notebook 3: stellar rotation rates part 2"
   ]
  },
  {
   "cell_type": "code",
   "execution_count": 2,
   "id": "ae5cb29b-a3bd-4c0b-af59-7fa7cf97b1de",
   "metadata": {
    "tags": []
   },
   "outputs": [
    {
     "name": "stdout",
     "output_type": "stream",
     "text": [
      "INFO: Using the S3 STScI public dataset [astroquery.mast.cloud]\n"
     ]
    }
   ],
   "source": [
    "# manipulating and plotting arrays\n",
    "import numpy as np\n",
    "import matplotlib.pyplot as plt\n",
    "from matplotlib import ticker\n",
    "\n",
    "import seaborn as sns\n",
    "import pandas as pd\n",
    "\n",
    "# file handling and units\n",
    "import tarfile\n",
    "from tqdm import tqdm\n",
    "import astropy\n",
    "from astropy.io import fits\n",
    "import astropy.constants as const\n",
    "import astropy.units as u\n",
    "from astropy.utils.data import download_file\n",
    "from lightkurve.search import search_lightcurve\n",
    "from numba import njit\n",
    "\n",
    "# machine learning and data packages\n",
    "\n",
    "import keras\n",
    "from keras.models import Sequential, Model, load_model\n",
    "from keras.layers import Input, Flatten, Dense, Activation, Dropout, BatchNormalization\n",
    "from keras.layers.convolutional import Convolution1D, MaxPooling1D\n",
    "from sklearn import metrics\n",
    "import scipy\n",
    "\n",
    "# now need to set up the sampling\n",
    "import emcee\n",
    "\n",
    "#setting random seeds\n",
    "seed = 42\n",
    "np.random.seed(seed)\n",
    "import os\n",
    "os.environ['PYTHONHASHSEED']=str(seed)\n",
    "import random\n",
    "random.seed(seed)\n",
    "import tensorflow as tf\n",
    "tf.random.set_seed(seed)\n",
    "\n",
    "# read from cloud datasets as opposed to downloading from on-premise servers\n",
    "from astroquery.mast import Observations\n",
    "Observations.enable_cloud_dataset()\n",
    "\n",
    "# gaussian process packages\n",
    "import pymc3 as pm\n",
    "import pymc3_ext as pmx\n",
    "import aesara_theano_fallback.tensor as tt\n",
    "import arviz as az\n",
    "import corner\n",
    "\n",
    "\n",
    "\n",
    "%matplotlib inline"
   ]
  },
  {
   "cell_type": "code",
   "execution_count": 3,
   "id": "738fde10-0a11-42c2-b1cd-dc63591db778",
   "metadata": {
    "tags": []
   },
   "outputs": [
    {
     "name": "stdout",
     "output_type": "stream",
     "text": [
      "Collecting celerite2\n",
      "  Using cached celerite2-0.2.1-cp38-cp38-manylinux_2_17_x86_64.manylinux2014_x86_64.whl (921 kB)\n",
      "Requirement already satisfied: numpy>=1.13.0 in /opt/conda/envs/tess/lib/python3.8/site-packages (from celerite2) (1.21.6)\n",
      "Installing collected packages: celerite2\n",
      "Successfully installed celerite2-0.2.1\n"
     ]
    }
   ],
   "source": [
    "!pip install celerite2"
   ]
  },
  {
   "cell_type": "code",
   "execution_count": 7,
   "id": "bcae84e9-42f0-4d32-b84e-fd4e00996bff",
   "metadata": {
    "tags": []
   },
   "outputs": [],
   "source": [
    "from celerite2.theano import terms, GaussianProcess"
   ]
  },
  {
   "cell_type": "markdown",
   "id": "89db8a1c-9e32-4aa4-9e32-8660a44445d8",
   "metadata": {
    "jp-MarkdownHeadingCollapsed": true,
    "tags": []
   },
   "source": [
    "# Exercise 3"
   ]
  },
  {
   "cell_type": "code",
   "execution_count": null,
   "id": "7794fd2d-1cd2-4a2e-8b40-b21576993b0c",
   "metadata": {
    "tags": []
   },
   "outputs": [],
   "source": [
    "stars = np.loadtxt('stars.txt')"
   ]
  },
  {
   "cell_type": "code",
   "execution_count": null,
   "id": "6f8dac37-841b-4b71-a8b1-cff48477e9fb",
   "metadata": {
    "tags": []
   },
   "outputs": [],
   "source": [
    "# if loading back in after performing the computations\n",
    "rot_rates_gp = []\n",
    "# iterate though stars\n",
    "for star in tqdm(stars[::200]):\n",
    "    star_name = str(star) # the rotation rate function takes strings\n",
    "    data = np.load(f'period_samples{int(eval(star_name))}.npy')\n",
    "    rot_rates_gp += [data]"
   ]
  },
  {
   "cell_type": "code",
   "execution_count": null,
   "id": "334699de-c18b-4fce-9211-a9496327ce13",
   "metadata": {},
   "outputs": [],
   "source": []
  },
  {
   "cell_type": "code",
   "execution_count": 18,
   "id": "23f5d196-8be4-44e6-a55b-c8c2ee659c25",
   "metadata": {
    "tags": []
   },
   "outputs": [],
   "source": [
    "@njit\n",
    "def f_rotation_flat(b, flare): # just a log-linear functional form\n",
    "    \"\"\"\n",
    "    this is the function that returns the LOG rotation rate.\n",
    "    \"\"\"\n",
    "    return b\n",
    "\n",
    "# todo: redo as the half gaussian"
   ]
  },
  {
   "cell_type": "code",
   "execution_count": 19,
   "id": "df7ca1c9-ff91-4198-8805-956e7b2b599c",
   "metadata": {
    "tags": []
   },
   "outputs": [],
   "source": [
    "@njit\n",
    "def updated_prior_halfgauss(rotation_inferred, b, flare_rate, sigma_2):\n",
    "    # this is P_alpha\n",
    "    # this should probably be log difference, right\n",
    "    # mu = np.log10(rotation_inferred) - f_rotation(m, b, flare_rate) # the sample - the calculated trend. \n",
    "    sigma = sigma_2\n",
    "    # pdb.set_trace()\n",
    "    # return np.log(1.0/(np.sqrt(2*np.pi)*sigma))-0.5*(np.log10(rotation_inferred)-mu)**2/sigma**2 \n",
    "    return np.log(1.0/(np.sqrt(2*np.pi)*sigma))-0.5*(np.log10(rotation_inferred)-f_rotation_flat(b, flare_rate))**2/sigma**2 \n",
    "\n",
    "@njit\n",
    "def likelihood_hierarchical_halfgauss(samples, b, sigma_2, flare_rates_durations_cleaned, rot_rates_constrained):\n",
    "    \"\"\"\n",
    "    the regular prior was normal in log period\n",
    "    \"\"\"\n",
    "    total_likelihood = 1.\n",
    "    # looping over whole populatio\n",
    "    for i, rotations_inferred in enumerate(samples):\n",
    "        # right now looping over a single planet's retrieved rotation rate\n",
    "        likelihood = 0.\n",
    "        flare_rate = flare_rates_durations_cleaned[i]\n",
    "        period_guess = rot_rates_constrained[i]\n",
    "        for rotation_inferred in rotations_inferred:\n",
    "            updated_prior_val = np.exp(updated_prior_flat(rotation_inferred, b, flare_rate, sigma_2))\n",
    "            previous_prior_val = np.exp(previous_prior(rotation_inferred, period_guess))\n",
    "            prior_update = updated_prior_val / previous_prior_val\n",
    "            likelihood += prior_update\n",
    "            # if np.isnan(likelihood):\n",
    "            #     pdb.set_trace()\n",
    "            # if likelihood < 0:\n",
    "            #     pdb.set_trace()\n",
    "        total_likelihood *= likelihood / len(rotations_inferred)\n",
    "    \n",
    "    return np.log(total_likelihood)\n",
    "\n",
    "@njit\n",
    "def posterior_hierarchical_halfgauss(hypertheta, samples, flare_rates_durations_cleaned, rot_rates_constrained):\n",
    "    b, sigma_2 = hypertheta\n",
    "    # likelihood * P_a\n",
    "    \n",
    "    hyperprior_val = hyperprior_flat(hypertheta)\n",
    "    \n",
    "    if not np.isfinite(hyperprior_val):\n",
    "        return -np.inf\n",
    "    \n",
    "    # error maybe in likelihood func\n",
    "    likelihood_val = likelihood_hierarchical_flat(samples, b, sigma_2, flare_rates_durations_cleaned, rot_rates_constrained)\n",
    "    \n",
    "    # if np.isnan(likelihood_val):\n",
    "    #     pdb.set_trace()\n",
    "    return likelihood_val + hyperprior_val\n",
    "\n",
    "\n",
    "# we have all of these. now do a hyperprior.\n",
    "@njit\n",
    "def hyperprior_halfgauss(hypertheta):\n",
    "    b, sigma_2 = hypertheta\n",
    "    if not (-10 < b < 10 and sigma_2 > 0.2):\n",
    "        return -np.inf\n",
    "\n",
    "    \n",
    "    #gaussian prior on sigma_2\n",
    "    mu = 0\n",
    "    sigma = 1\n",
    "    return np.log(1.0/(np.sqrt(2*np.pi)*sigma))-0.5*(sigma_2-mu)**2/sigma**2"
   ]
  },
  {
   "cell_type": "code",
   "execution_count": null,
   "id": "4c287b41-5e4f-4896-b377-53ba20de9e79",
   "metadata": {},
   "outputs": [],
   "source": [
    "n_dim = 2\n",
    "n_walkers = 32 # seems fine. justify?\n",
    "n_steps = 5000 # seems fine. justify?\n",
    "\n",
    "\n",
    "initial_point = np.array([np.mean(np.log10(rot_rates_gp_sorted)), .5]) # incorporate as an array and not a list so that we can add to it, etc.\n",
    "gaussian_scatter_level = 1e-3 # seems fine. justify?\n",
    "\n",
    "# add some scatter to the walkers around the initial position.\n",
    "pos = initial_point + gaussian_scatter_level * np.random.randn(n_walkers, n_dim)\n",
    "\n",
    "\n",
    "\n",
    "sampler = emcee.EnsembleSampler(\n",
    "    n_walkers, n_dim, posterior_hierarchical_halfgauss, args=(rot_rates_gp_sorted, flare_rates_durations_sorted,\n",
    "                                                    rot_rates_constrained_sorted)\n",
    ")\n",
    "sampler.run_mcmc(pos, n_steps, progress=True);"
   ]
  },
  {
   "cell_type": "code",
   "execution_count": null,
   "id": "e689704d-6475-4ac4-a5a2-b047fa2583b3",
   "metadata": {},
   "outputs": [],
   "source": [
    "fig, axes = plt.subplots(n_dim, figsize=(10, 3), sharex=True)\n",
    "samples = sampler.get_chain()\n",
    "labels = ['m', 'b', 'sigma']\n",
    "\n",
    "for i in range(n_dim):\n",
    "    ax = axes[i]\n",
    "    ax.plot(samples[:, :, i], \"k\", alpha=0.3)\n",
    "    ax.set_xlim(0, len(samples))\n",
    "    ax.set_ylabel(labels[i])\n",
    "    ax.yaxis.set_label_coords(-0.1, 0.5)\n",
    "\n",
    "axes[-1].set_xlabel(\"step number\");"
   ]
  },
  {
   "cell_type": "code",
   "execution_count": null,
   "id": "21bf8039-495d-4084-9c05-fe19788763a9",
   "metadata": {},
   "outputs": [],
   "source": [
    "tau = sampler.get_autocorr_time()\n",
    "print(tau)"
   ]
  },
  {
   "cell_type": "code",
   "execution_count": null,
   "id": "83420590-fe08-46a2-940d-aef1b3ad119d",
   "metadata": {},
   "outputs": [],
   "source": [
    "flat_samples_flat = sampler.get_chain(discard=100, thin=15, flat=True)\n",
    "print(flat_samples.shape)"
   ]
  },
  {
   "cell_type": "code",
   "execution_count": null,
   "id": "0ee1d8eb-0c2c-42c1-b59a-ed57634011cd",
   "metadata": {},
   "outputs": [],
   "source": [
    "fig = corner.corner(\n",
    "    flat_samples_flat, labels=labels\n",
    ");"
   ]
  },
  {
   "cell_type": "code",
   "execution_count": null,
   "id": "1130b8a3-53db-4069-8d70-b6371528b6e6",
   "metadata": {},
   "outputs": [],
   "source": [
    "dat = pd.DataFrame({'flare':np.repeat(np.log10(flare_rates_durations_sorted),2000),\n",
    "              'rot':np.log10(rot_rates_gp_sorted.flatten())})\n",
    "fig, ax = plt.subplots()\n",
    "sns.violinplot(\n",
    "    data=dat,\n",
    "    x=\"flare\", y=\"rot\", hue=True,\n",
    "    hue_order=[True, False], split=True, scale_hue=12,color='teal',ax=ax\n",
    ")\n",
    "ax.legend_ = None\n",
    "ax.set_xticks([0.,10, 21], [0.6, 0.7, 0.8])\n",
    "# ax.set_yscale('log')\n",
    "ax.set_xlabel('Log flare rate (per day)', fontsize=18)\n",
    "ax.set_ylabel('Log rotation date (days)', fontsize=18)\n",
    "\n",
    "inds = np.random.randint(len(flat_samples_flat), size=100)\n",
    "for ind in inds:\n",
    "    sample = flat_samples_flat[ind]\n",
    "    ax.plot(20 * (np.log10(flare_rates_durations_sorted) -0.58708446)/ (0.83866827 - 0.58708446), (np.dot(np.vander(np.log10(flare_rates_durations_sorted), 2), sample[:2])), \"C1\", alpha=0.1)\n",
    "# ax.errorbar(np.log10(flare_rates_durations_sorted)* 21/0.8,np.log10(np.mean(rot_rates_gp_sorted, axis=1)),\n",
    "#             yerr=yerr/np.mean(rot_rates_gp_sorted, axis=1) / np.log(10),)\n",
    "\n",
    "\n"
   ]
  },
  {
   "cell_type": "code",
   "execution_count": null,
   "id": "c7193dc1-3f4a-432a-890c-521d28784349",
   "metadata": {},
   "outputs": [],
   "source": [
    "def calc_bic(log_likelihood, n_points, n_params):\n",
    "    \"\"\"\n",
    "    calculates the Bayesian Information Criterion.\n",
    "    \"\"\"\n",
    "    bic = -2 * log_likelihood + np.log(n_points) * n_params\n",
    "    return bic"
   ]
  },
  {
   "cell_type": "code",
   "execution_count": null,
   "id": "2b7cd4d3-09d0-465a-9176-e974d21b9b8a",
   "metadata": {},
   "outputs": [],
   "source": [
    "# todo: save the flat line BIC for comparison\n",
    "\n",
    "n_points = len(rot_rates_gp_sorted)\n",
    "\n",
    "\n",
    "# trend line likelihood\n",
    "flat_chain_mean = np.mean(flat_samples, axis=0)\n",
    "log_likelihood_trend = likelihood_hierarchical(rot_rates_gp_sorted, flat_chain_mean[0],\n",
    "                                               flat_chain_mean[1],\n",
    "                                               flat_chain_mean[2],\n",
    "                                               flare_rates_durations_sorted,\n",
    "                                                    rot_rates_constrained_sorted)\n",
    "\n",
    "\n",
    "# flat line likelihood\n",
    "flat_chain_flat_mean = np.mean(flat_samples_flat, axis=0)\n",
    "log_likelihood_flat = likelihood_hierarchical_flat(rot_rates_gp_sorted, \n",
    "                                                   flat_chain_flat_mean[0], \n",
    "                                                   flat_chain_flat_mean[1], \n",
    "                                                   flare_rates_durations_sorted,\n",
    "                                                    rot_rates_constrained_sorted)\n",
    "\n",
    "\n",
    "# do delta BIC calculation\n",
    "bic_trend = calc_bic(log_likelihood_trend, n_points, 3)\n",
    "bic_flat = calc_bic(log_likelihood_flat, n_points, 2)\n",
    "\n",
    "delta_bic = bic_trend - bic_flat\n",
    "delta_bic"
   ]
  },
  {
   "cell_type": "markdown",
   "id": "37b57933-20db-48a5-904e-5ff4769c207d",
   "metadata": {},
   "source": [
    "# Exercise 4"
   ]
  },
  {
   "cell_type": "markdown",
   "id": "3165102c-f7ee-4da8-ae5c-300639ef58c3",
   "metadata": {},
   "source": [
    "To solve this exercise, we'll essentially set up the same sampling as we performed in the main notebook. However, we'll just run the sampler a little longer and see if reaching convergence changes our answers very much."
   ]
  },
  {
   "cell_type": "code",
   "execution_count": 4,
   "id": "d28b89ab-43b8-402b-804e-1b32ce2efa1e",
   "metadata": {
    "tags": []
   },
   "outputs": [
    {
     "data": {
      "text/plain": [
       "(1325.0, 1335.0)"
      ]
     },
     "execution_count": 4,
     "metadata": {},
     "output_type": "execute_result"
    },
    {
     "data": {
      "image/png": "[encoded data removed]",
      "text/plain": [
       "<Figure size 848.5x400 with 1 Axes>"
      ]
     },
     "metadata": {},
     "output_type": "display_data"
    }
   ],
   "source": [
    "ticids = ['234295610']\n",
    "\n",
    "# for all the selected targets, pull the available lightcurves using the lightkurve package\n",
    "sectors = [1, 2] # only consider the first few sectors\n",
    "lcs = []\n",
    "for name in ticids:\n",
    "    lc = search_lightcurve(target='TIC'+name, mission='TESS', sector=sectors, author='SPOC')\n",
    "    lc = lc.download_all()[0]\n",
    "    \n",
    "lc.plot()\n",
    "plt.xlim(1325, 1335)"
   ]
  },
  {
   "cell_type": "code",
   "execution_count": 5,
   "id": "b328eb9f-ce07-4cbe-b049-5a0bac3eb2fe",
   "metadata": {},
   "outputs": [],
   "source": [
    "lc2 = lc.remove_nans().remove_outliers()\n",
    "lc2 = lc2[:5000]\n",
    "_, mask = lc2.flatten().remove_outliers(sigma=3.0, return_mask=True)\n",
    "lc2 = lc2[~mask]\n",
    "\n",
    "x = np.ascontiguousarray(lc2.time.value, dtype=np.float64)\n",
    "y = np.ascontiguousarray(lc2.flux, dtype=np.float64)\n",
    "yerr = np.ascontiguousarray(lc2.flux_err, dtype=np.float64)\n",
    "mu = np.mean(y)\n",
    "\n",
    "# center the flux around 0 for probabilistic modeling\n",
    "y = (y / mu - 1) * 1e3\n",
    "\n",
    "# perform error propagation\n",
    "yerr = yerr * 1e3 / mu"
   ]
  },
  {
   "cell_type": "code",
   "execution_count": 8,
   "id": "8bbb72ff-e571-4c68-932c-2b7e827364d0",
   "metadata": {
    "tags": []
   },
   "outputs": [
    {
     "name": "stderr",
     "output_type": "stream",
     "text": [
      "optimizing logp for variables: [f, log_dQ, log_Q0, log_period, sigma_rot, rho, sigma, log_jitter, mean]\n"
     ]
    },
    {
     "data": {
      "text/html": [
       "\n",
       "<style>\n",
       "    /* Turns off some styling */\n",
       "    progress {\n",
       "        /* gets rid of default border in Firefox and Opera. */\n",
       "        border: none;\n",
       "        /* Needs to be in here for Safari polyfill so background images work as expected. */\n",
       "        background-size: auto;\n",
       "    }\n",
       "    progress:not([value]), progress:not([value])::-webkit-progress-bar {\n",
       "        background: repeating-linear-gradient(45deg, #7e7e7e, #7e7e7e 10px, #5c5c5c 10px, #5c5c5c 20px);\n",
       "    }\n",
       "    .progress-bar-interrupted, .progress-bar-interrupted::-webkit-progress-bar {\n",
       "        background: #F44336;\n",
       "    }\n",
       "</style>\n"
      ],
      "text/plain": [
       "<IPython.core.display.HTML object>"
      ]
     },
     "metadata": {},
     "output_type": "display_data"
    },
    {
     "data": {
      "text/html": [
       "\n",
       "    <div>\n",
       "      <progress value='93' class='' max='93' style='width:300px; height:20px; vertical-align: middle;'></progress>\n",
       "      100.00% [93/93 00:00&lt;00:00 logp = -1.557e+04]\n",
       "    </div>\n",
       "    "
      ],
      "text/plain": [
       "<IPython.core.display.HTML object>"
      ]
     },
     "metadata": {},
     "output_type": "display_data"
    },
    {
     "name": "stdout",
     "output_type": "stream",
     "text": [
      "\n"
     ]
    },
    {
     "name": "stderr",
     "output_type": "stream",
     "text": [
      "message: Desired error not necessarily achieved due to precision loss.\n",
      "logp: -17797.54833147572 -> -15571.358082651843\n"
     ]
    }
   ],
   "source": [
    "with pm.Model() as model:\n",
    "    # The mean function.\n",
    "    mean = pm.Normal(\"mean\", mu=0.0, sigma=10.0)\n",
    "\n",
    "    # A jitter term describing excess white noise\n",
    "    log_jitter = pm.Normal(\"log_jitter\", mu=np.log(np.mean(yerr)), sigma=2.0)\n",
    "\n",
    "    # A term to describe the non-periodic variability\n",
    "    sigma = pm.InverseGamma(\n",
    "        \"sigma\", **pmx.estimate_inverse_gamma_parameters(1.0, 5.0)\n",
    "    )\n",
    "    rho = pm.InverseGamma(\n",
    "        \"rho\", **pmx.estimate_inverse_gamma_parameters(0.5, 2.0)\n",
    "    )\n",
    "\n",
    "    # The parameters of the RotationTerm kernel\n",
    "    sigma_rot = pm.InverseGamma(\n",
    "        \"sigma_rot\", **pmx.estimate_inverse_gamma_parameters(1.0, 5.0)\n",
    "    )\n",
    "    log_period = pm.Normal(\"log_period\", mu=np.log(0.76), sigma=2.0)\n",
    "    period = pm.Deterministic(\"period\", tt.exp(log_period))\n",
    "    log_Q0 = pm.HalfNormal(\"log_Q0\", sigma=2.0)\n",
    "    log_dQ = pm.Normal(\"log_dQ\", mu=0.0, sigma=2.0)\n",
    "    f = pm.Uniform(\"f\", lower=0.1, upper=1.0)\n",
    "\n",
    "    # Set up the Gaussian Process model\n",
    "    kernel = terms.SHOTerm(sigma=sigma, rho=rho, Q=1 / 3.0)\n",
    "    kernel += terms.RotationTerm(\n",
    "        sigma=sigma_rot,\n",
    "        period=period,\n",
    "        Q0=tt.exp(log_Q0),\n",
    "        dQ=tt.exp(log_dQ),\n",
    "        f=f,\n",
    "    )\n",
    "    gp = GaussianProcess(\n",
    "        kernel,\n",
    "        t=x,\n",
    "        diag=yerr**2 + tt.exp(2 * log_jitter),\n",
    "        mean=mean,\n",
    "        quiet=True,\n",
    "    )\n",
    "\n",
    "    # Compute the Gaussian Process likelihood and add it into the\n",
    "    # the PyMC3 model as a \"potential\"\n",
    "    gp.marginal(\"gp\", observed=y)\n",
    "\n",
    "    # Compute the mean model prediction for plotting purposes\n",
    "    pm.Deterministic(\"pred\", gp.predict(y))\n",
    "\n",
    "    # Optimize to find the maximum a posteriori parameters\n",
    "    map_soln = pmx.optimize(progress=True)"
   ]
  },
  {
   "cell_type": "code",
   "execution_count": null,
   "id": "edb88b02-0e0b-4586-852f-0fb312cc0c6a",
   "metadata": {
    "tags": []
   },
   "outputs": [
    {
     "name": "stderr",
     "output_type": "stream",
     "text": [
      "Multiprocess sampling (2 chains in 4 jobs)\n",
      "NUTS: [f, log_dQ, log_Q0, log_period, sigma_rot, rho, sigma, log_jitter, mean]\n"
     ]
    },
    {
     "data": {
      "text/html": [
       "\n",
       "<style>\n",
       "    /* Turns off some styling */\n",
       "    progress {\n",
       "        /* gets rid of default border in Firefox and Opera. */\n",
       "        border: none;\n",
       "        /* Needs to be in here for Safari polyfill so background images work as expected. */\n",
       "        background-size: auto;\n",
       "    }\n",
       "    progress:not([value]), progress:not([value])::-webkit-progress-bar {\n",
       "        background: repeating-linear-gradient(45deg, #7e7e7e, #7e7e7e 10px, #5c5c5c 10px, #5c5c5c 20px);\n",
       "    }\n",
       "    .progress-bar-interrupted, .progress-bar-interrupted::-webkit-progress-bar {\n",
       "        background: #F44336;\n",
       "    }\n",
       "</style>\n"
      ],
      "text/plain": [
       "<IPython.core.display.HTML object>"
      ]
     },
     "metadata": {},
     "output_type": "display_data"
    },
    {
     "data": {
      "text/html": [
       "\n",
       "    <div>\n",
       "      <progress value='6343' class='' max='7000' style='width:300px; height:20px; vertical-align: middle;'></progress>\n",
       "      90.61% [6343/7000 41:44&lt;04:19 Sampling 2 chains, 0 divergences]\n",
       "    </div>\n",
       "    "
      ],
      "text/plain": [
       "<IPython.core.display.HTML object>"
      ]
     },
     "metadata": {},
     "output_type": "display_data"
    }
   ],
   "source": [
    "#setting random seeds\n",
    "seed = 42\n",
    "np.random.seed(seed)\n",
    "os.environ['PYTHONHASHSEED']=str(seed)\n",
    "random.seed(seed)\n",
    "tf.random.set_seed(seed)\n",
    "\n",
    "seed1 = 10862087\n",
    "seed2 = 10862088\n",
    "\n",
    "with model:\n",
    "    trace = pmx.sample(\n",
    "        tune=1500,\n",
    "        draws=2000,\n",
    "        start=map_soln,\n",
    "        cores=4,\n",
    "        chains=2,\n",
    "        target_accept=0.95,\n",
    "        return_inferencedata=True,\n",
    "        random_seed=[seed1, seed2],\n",
    "        progressbar=True\n",
    "    )"
   ]
  },
  {
   "cell_type": "code",
   "execution_count": null,
   "id": "42bd7b6b-77da-4135-bf04-432e5d2d14dc",
   "metadata": {
    "tags": []
   },
   "outputs": [],
   "source": [
    "divergent = short_trace[\"diverging\"]\n",
    "print(\"Number of Divergent %d\" % divergent.nonzero()[0].size)\n",
    "divperc = divergent.nonzero()[0].size / len(short_trace) * 100\n",
    "print(\"Percentage of Divergent %.1f\" % divperc)"
   ]
  },
  {
   "cell_type": "code",
   "execution_count": 16,
   "id": "1fb64bf6-d884-411c-96ac-fbbd553267f0",
   "metadata": {
    "tags": []
   },
   "outputs": [
    {
     "data": {
      "text/html": [
       "<div>\n",
       "<style scoped>\n",
       "    .dataframe tbody tr th:only-of-type {\n",
       "        vertical-align: middle;\n",
       "    }\n",
       "\n",
       "    .dataframe tbody tr th {\n",
       "        vertical-align: top;\n",
       "    }\n",
       "\n",
       "    .dataframe thead th {\n",
       "        text-align: right;\n",
       "    }\n",
       "</style>\n",
       "<table border=\"1\" class=\"dataframe\">\n",
       "  <thead>\n",
       "    <tr style=\"text-align: right;\">\n",
       "      <th></th>\n",
       "      <th>mean</th>\n",
       "      <th>sd</th>\n",
       "      <th>hdi_3%</th>\n",
       "      <th>hdi_97%</th>\n",
       "      <th>mcse_mean</th>\n",
       "      <th>mcse_sd</th>\n",
       "      <th>ess_bulk</th>\n",
       "      <th>ess_tail</th>\n",
       "      <th>r_hat</th>\n",
       "    </tr>\n",
       "  </thead>\n",
       "  <tbody>\n",
       "    <tr>\n",
       "      <th>f</th>\n",
       "      <td>0.430</td>\n",
       "      <td>0.239</td>\n",
       "      <td>0.160</td>\n",
       "      <td>0.911</td>\n",
       "      <td>0.102</td>\n",
       "      <td>0.076</td>\n",
       "      <td>6.0</td>\n",
       "      <td>82.0</td>\n",
       "      <td>1.22</td>\n",
       "    </tr>\n",
       "    <tr>\n",
       "      <th>log_dQ</th>\n",
       "      <td>-0.551</td>\n",
       "      <td>1.769</td>\n",
       "      <td>-4.115</td>\n",
       "      <td>3.034</td>\n",
       "      <td>0.628</td>\n",
       "      <td>0.461</td>\n",
       "      <td>7.0</td>\n",
       "      <td>54.0</td>\n",
       "      <td>1.58</td>\n",
       "    </tr>\n",
       "    <tr>\n",
       "      <th>log_Q0</th>\n",
       "      <td>3.572</td>\n",
       "      <td>2.516</td>\n",
       "      <td>0.000</td>\n",
       "      <td>7.196</td>\n",
       "      <td>1.329</td>\n",
       "      <td>1.029</td>\n",
       "      <td>4.0</td>\n",
       "      <td>12.0</td>\n",
       "      <td>1.54</td>\n",
       "    </tr>\n",
       "    <tr>\n",
       "      <th>log_period</th>\n",
       "      <td>-0.943</td>\n",
       "      <td>0.046</td>\n",
       "      <td>-0.986</td>\n",
       "      <td>-0.828</td>\n",
       "      <td>0.022</td>\n",
       "      <td>0.017</td>\n",
       "      <td>4.0</td>\n",
       "      <td>12.0</td>\n",
       "      <td>1.69</td>\n",
       "    </tr>\n",
       "    <tr>\n",
       "      <th>sigma_rot</th>\n",
       "      <td>9.943</td>\n",
       "      <td>6.082</td>\n",
       "      <td>2.611</td>\n",
       "      <td>21.907</td>\n",
       "      <td>4.008</td>\n",
       "      <td>3.299</td>\n",
       "      <td>3.0</td>\n",
       "      <td>12.0</td>\n",
       "      <td>2.12</td>\n",
       "    </tr>\n",
       "    <tr>\n",
       "      <th>rho</th>\n",
       "      <td>0.417</td>\n",
       "      <td>0.274</td>\n",
       "      <td>0.246</td>\n",
       "      <td>1.028</td>\n",
       "      <td>0.135</td>\n",
       "      <td>0.103</td>\n",
       "      <td>5.0</td>\n",
       "      <td>12.0</td>\n",
       "      <td>1.92</td>\n",
       "    </tr>\n",
       "    <tr>\n",
       "      <th>sigma</th>\n",
       "      <td>14.770</td>\n",
       "      <td>5.623</td>\n",
       "      <td>1.191</td>\n",
       "      <td>19.085</td>\n",
       "      <td>3.126</td>\n",
       "      <td>2.447</td>\n",
       "      <td>6.0</td>\n",
       "      <td>12.0</td>\n",
       "      <td>1.44</td>\n",
       "    </tr>\n",
       "    <tr>\n",
       "      <th>log_jitter</th>\n",
       "      <td>-1.073</td>\n",
       "      <td>0.881</td>\n",
       "      <td>-2.820</td>\n",
       "      <td>0.025</td>\n",
       "      <td>0.290</td>\n",
       "      <td>0.212</td>\n",
       "      <td>9.0</td>\n",
       "      <td>1004.0</td>\n",
       "      <td>1.16</td>\n",
       "    </tr>\n",
       "    <tr>\n",
       "      <th>mean</th>\n",
       "      <td>-0.180</td>\n",
       "      <td>2.450</td>\n",
       "      <td>-5.125</td>\n",
       "      <td>4.750</td>\n",
       "      <td>0.202</td>\n",
       "      <td>0.468</td>\n",
       "      <td>65.0</td>\n",
       "      <td>74.0</td>\n",
       "      <td>1.58</td>\n",
       "    </tr>\n",
       "  </tbody>\n",
       "</table>\n",
       "</div>"
      ],
      "text/plain": [
       "              mean     sd  hdi_3%  hdi_97%  mcse_mean  mcse_sd  ess_bulk  \\\n",
       "f            0.430  0.239   0.160    0.911      0.102    0.076       6.0   \n",
       "log_dQ      -0.551  1.769  -4.115    3.034      0.628    0.461       7.0   \n",
       "log_Q0       3.572  2.516   0.000    7.196      1.329    1.029       4.0   \n",
       "log_period  -0.943  0.046  -0.986   -0.828      0.022    0.017       4.0   \n",
       "sigma_rot    9.943  6.082   2.611   21.907      4.008    3.299       3.0   \n",
       "rho          0.417  0.274   0.246    1.028      0.135    0.103       5.0   \n",
       "sigma       14.770  5.623   1.191   19.085      3.126    2.447       6.0   \n",
       "log_jitter  -1.073  0.881  -2.820    0.025      0.290    0.212       9.0   \n",
       "mean        -0.180  2.450  -5.125    4.750      0.202    0.468      65.0   \n",
       "\n",
       "            ess_tail  r_hat  \n",
       "f               82.0   1.22  \n",
       "log_dQ          54.0   1.58  \n",
       "log_Q0          12.0   1.54  \n",
       "log_period      12.0   1.69  \n",
       "sigma_rot       12.0   2.12  \n",
       "rho             12.0   1.92  \n",
       "sigma           12.0   1.44  \n",
       "log_jitter    1004.0   1.16  \n",
       "mean            74.0   1.58  "
      ]
     },
     "execution_count": 16,
     "metadata": {},
     "output_type": "execute_result"
    }
   ],
   "source": [
    "az.summary(\n",
    "    trace,\n",
    "    var_names=[\n",
    "        \"f\",\n",
    "        \"log_dQ\",\n",
    "        \"log_Q0\",\n",
    "        \"log_period\",\n",
    "        \"sigma_rot\",\n",
    "        \"rho\",\n",
    "        \"sigma\",\n",
    "        \"log_jitter\",\n",
    "        \"mean\",\n",
    "    ],\n",
    ")"
   ]
  },
  {
   "cell_type": "code",
   "execution_count": 17,
   "id": "91a98430-f615-4223-8482-2fb5a05e0fe4",
   "metadata": {
    "tags": []
   },
   "outputs": [
    {
     "data": {
      "text/plain": [
       "<matplotlib.legend.Legend at 0x7f1b10270b20>"
      ]
     },
     "execution_count": 17,
     "metadata": {},
     "output_type": "execute_result"
    },
    {
     "data": {
      "image/png": "[encoded data removed]",
      "text/plain": [
       "<Figure size 640x480 with 1 Axes>"
      ]
     },
     "metadata": {},
     "output_type": "display_data"
    }
   ],
   "source": [
    "period_samples = np.asarray(trace.posterior[\"period\"]).flatten()\n",
    "plt.hist(period_samples, 25, histtype=\"step\", color=\"k\", density=True, label='GP Samples')\n",
    "plt.yticks([])\n",
    "plt.xlabel(\"log(rotation period [days])\")\n",
    "plt.axvline(np.log(0.76), color='teal', linestyle='--', lw=2, label='Lomb-Scargle period estimate')\n",
    "_ = plt.ylabel(\"posterior density\")\n",
    "plt.legend()"
   ]
  },
  {
   "cell_type": "code",
   "execution_count": null,
   "id": "5a057b6d-fce3-4972-b597-b740c4b62c71",
   "metadata": {},
   "outputs": [],
   "source": []
  }
 ],
 "metadata": {
  "kernelspec": {
   "display_name": "TESS Environment",
   "language": "python",
   "name": "tess"
  },
  "language_info": {
   "codemirror_mode": {
    "name": "ipython",
    "version": 3
   },
   "file_extension": ".py",
   "mimetype": "text/x-python",
   "name": "python",
   "nbconvert_exporter": "python",
   "pygments_lexer": "ipython3",
   "version": "3.8.17"
  }
 },
 "nbformat": 4,
 "nbformat_minor": 5
}
