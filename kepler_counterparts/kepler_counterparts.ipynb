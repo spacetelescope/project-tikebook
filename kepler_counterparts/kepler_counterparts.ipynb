{
 "cells": [
  {
   "cell_type": "markdown",
   "metadata": {},
   "source": [
    "<a id=\"top\"></a>\n",
    "# Long Period TESS Targets with Kepler Counterparts\n",
    "***\n"
   ]
  },
  {
   "cell_type": "markdown",
   "metadata": {
    "tags": []
   },
   "source": [
    "## Prerequisites\n",
    "- Python syntax\n",
    "- Something about exoplanet transits, link to free resource"
   ]
  },
  {
   "cell_type": "markdown",
   "metadata": {
    "tags": []
   },
   "source": [
    "## Learning Goals\n",
    "\n",
    "By the end of this tutorial, you will:\n",
    "\n",
    "- \n",
    "\n",
    "To use as a guideline:\n",
    "\"Set a minimum threshold for orbital period (should be long-period orbits, greater than 6mos). Find all TESS 20-seconds targets that have data for these Kepler TCEs to create an even longer baseline.\""
   ]
  },
  {
   "cell_type": "markdown",
   "metadata": {
    "slideshow": {
     "slide_type": "slide"
    }
   },
   "source": [
    "## Introduction\n",
    "The [Kepler initial and follow-on (K2) missions confirmed over 2,600 exoplanets](https://exoplanets.nasa.gov/keplerscience/) and contributed to an unprecedented exposion of knowledge about planetary systems in our galaxy. In addition to confirmed exoplanets, Kepler identified thousands more potential planetary candidates, referred to as Kepler Objects on Interest (KOI's). \n",
    "\n",
    "The Transiting Exoplanet Survey Satellite (TESS) began its observations just before the completion of the K2 mission; there may be long-period (greater than 6 months) exoplanets whose transits were observed by both missions. By combinining observations from both missions, we could potentially view multiple transits and confirm the existence of new exoplanets. \n",
    "\n",
    "Possible transits observed by Kepler are called Threshold Crossing Events, or TCEs. More specifically, according to the [NASA Exoplanet Archive documentation](https://exoplanetarchive.ipac.caltech.edu/docs/Kepler_TCE_docs.html), \n",
    "\n",
    ">\"A Threshold-Crossing Event (TCE) is a sequence of transit-like features in the flux time series of a given target that resembles the signature of a transiting planet to a sufficient degree that the target is passed on for further analysis.\"\n",
    "\n",
    "The workflow for this notebook consists of:\n",
    "* [Main Content](#Main-Content)\n",
    "    * [Loading Data](#Loading-Data)\n",
    "    * [File and Data Information](#File-and-Data-Information)\n",
    "* [Visualization](#Visualization)\n",
    "* [Exercises](#Exercises)\n",
    "* [Additional Resources](#Additional-Resources)"
   ]
  },
  {
   "cell_type": "markdown",
   "metadata": {
    "slideshow": {
     "slide_type": "slide"
    }
   },
   "source": [
    "## Imports\n",
    "Describe the main packages we're using here and their use-case for this notebook. If there's something unusual, explain what the library is, and why we need it.\n",
    "- *numpy* to handle array functions\n",
    "- *astropy.io fits* for accessing FITS files\n",
    "- *astropy.table Table* for creating tidy tables of the data\n",
    "- *matplotlib.pyplot* for plotting data"
   ]
  },
  {
   "cell_type": "code",
   "execution_count": 39,
   "metadata": {
    "slideshow": {
     "slide_type": "fragment"
    },
    "tags": []
   },
   "outputs": [],
   "source": [
    "%matplotlib inline\n",
    "\n",
    "import matplotlib.pyplot as plt\n",
    "import numpy as np\n",
    "\n",
    "from astropy.io import fits\n",
    "from astropy.table import Table\n",
    "from astroquery.mast import Mast\n",
    "from astroquery.mast import Observations\n",
    "\n",
    "\n",
    "# Added by JRK\n",
    "import requests\n",
    "from astropy.io import ascii\n",
    "import lightkurve as lk\n",
    "import astropy.units as u"
   ]
  },
  {
   "cell_type": "markdown",
   "metadata": {},
   "source": [
    "***"
   ]
  },
  {
   "cell_type": "markdown",
   "metadata": {},
   "source": [
    "# Try for known exoplanets instead?"
   ]
  },
  {
   "cell_type": "code",
   "execution_count": 5,
   "metadata": {
    "tags": []
   },
   "outputs": [
    {
     "data": {
      "text/html": [
       "SearchResult containing 6 data products.\n",
       "\n",
       "<table id=\"table139783155077808\">\n",
       "<thead><tr><th>#</th><th>mission</th><th>year</th><th>author</th><th>exptime</th><th>target_name</th><th>distance</th></tr></thead>\n",
       "<thead><tr><th></th><th></th><th></th><th></th><th>s</th><th></th><th>arcsec</th></tr></thead>\n",
       "<tr><td>0</td><td>TESS Sector</td><td>2020</td><td>DIAMANTE</td><td>1800</td><td>332064670</td><td>0.0</td></tr>\n",
       "<tr><td>1</td><td>TESS Sector 21</td><td>2020</td><td><a href='https://heasarc.gsfc.nasa.gov/docs/tess/pipeline.html'>SPOC</a></td><td>120</td><td>332064670</td><td>0.0</td></tr>\n",
       "<tr><td>2</td><td>TESS Sector 44</td><td>2021</td><td><a href='https://heasarc.gsfc.nasa.gov/docs/tess/pipeline.html'>SPOC</a></td><td>20</td><td>332064670</td><td>0.0</td></tr>\n",
       "<tr><td>3</td><td>TESS Sector 44</td><td>2021</td><td><a href='https://heasarc.gsfc.nasa.gov/docs/tess/pipeline.html'>SPOC</a></td><td>120</td><td>332064670</td><td>0.0</td></tr>\n",
       "<tr><td>4</td><td>TESS Sector 46</td><td>2021</td><td><a href='https://heasarc.gsfc.nasa.gov/docs/tess/pipeline.html'>SPOC</a></td><td>20</td><td>332064670</td><td>0.0</td></tr>\n",
       "<tr><td>5</td><td>TESS Sector 46</td><td>2021</td><td><a href='https://heasarc.gsfc.nasa.gov/docs/tess/pipeline.html'>SPOC</a></td><td>120</td><td>332064670</td><td>0.0</td></tr>\n",
       "</table>"
      ],
      "text/plain": [
       "SearchResult containing 6 data products.\n",
       "\n",
       " #     mission     year  author  exptime target_name distance\n",
       "                                    s                 arcsec \n",
       "--- -------------- ---- -------- ------- ----------- --------\n",
       "  0   TESS Sector  2020 DIAMANTE    1800   332064670      0.0\n",
       "  1 TESS Sector 21 2020     SPOC     120   332064670      0.0\n",
       "  2 TESS Sector 44 2021     SPOC      20   332064670      0.0\n",
       "  3 TESS Sector 44 2021     SPOC     120   332064670      0.0\n",
       "  4 TESS Sector 46 2021     SPOC      20   332064670      0.0\n",
       "  5 TESS Sector 46 2021     SPOC     120   332064670      0.0"
      ]
     },
     "execution_count": 5,
     "metadata": {},
     "output_type": "execute_result"
    }
   ],
   "source": [
    "# CoRot-2, TESS has 3\n",
    "search_result=lk.search_lightcurve('55 Cnc e')\n",
    "search_result"
   ]
  },
  {
   "cell_type": "markdown",
   "metadata": {},
   "source": [
    "# Search lightkurve on the region that corresponds to Kepler's FOV"
   ]
  },
  {
   "cell_type": "code",
   "execution_count": 53,
   "metadata": {
    "tags": []
   },
   "outputs": [
    {
     "ename": "KeyboardInterrupt",
     "evalue": "",
     "output_type": "error",
     "traceback": [
      "\u001b[0;31m---------------------------------------------------------------------------\u001b[0m",
      "\u001b[0;31mKeyboardInterrupt\u001b[0m                         Traceback (most recent call last)",
      "File \u001b[0;32m<timed exec>:1\u001b[0m\n",
      "File \u001b[0;32m/opt/conda/envs/tess/lib/python3.8/site-packages/memoization/caching/plain_cache.py:42\u001b[0m, in \u001b[0;36mget_caching_wrapper.<locals>.wrapper\u001b[0;34m(*args, **kwargs)\u001b[0m\n\u001b[1;32m     40\u001b[0m \u001b[38;5;28;01mwith\u001b[39;00m lock:\n\u001b[1;32m     41\u001b[0m     misses \u001b[38;5;241m+\u001b[39m\u001b[38;5;241m=\u001b[39m \u001b[38;5;241m1\u001b[39m\n\u001b[0;32m---> 42\u001b[0m result \u001b[38;5;241m=\u001b[39m \u001b[43muser_function\u001b[49m\u001b[43m(\u001b[49m\u001b[38;5;241;43m*\u001b[39;49m\u001b[43margs\u001b[49m\u001b[43m,\u001b[49m\u001b[43m \u001b[49m\u001b[38;5;241;43m*\u001b[39;49m\u001b[38;5;241;43m*\u001b[39;49m\u001b[43mkwargs\u001b[49m\u001b[43m)\u001b[49m\n\u001b[1;32m     43\u001b[0m cache[key] \u001b[38;5;241m=\u001b[39m values_toolkit\u001b[38;5;241m.\u001b[39mmake_cache_value(result, ttl)\n\u001b[1;32m     44\u001b[0m key_argument_map[key] \u001b[38;5;241m=\u001b[39m (args, kwargs)\n",
      "File \u001b[0;32m/opt/conda/envs/tess/lib/python3.8/site-packages/lightkurve/search.py:843\u001b[0m, in \u001b[0;36msearch_lightcurve\u001b[0;34m(target, radius, exptime, cadence, mission, author, quarter, month, campaign, sector, limit)\u001b[0m\n\u001b[1;32m    743\u001b[0m \u001b[38;5;250m\u001b[39m\u001b[38;5;124;03m\"\"\"Search the `MAST data archive <https://archive.stsci.edu>`_ for light curves.\u001b[39;00m\n\u001b[1;32m    744\u001b[0m \n\u001b[1;32m    745\u001b[0m \u001b[38;5;124;03mThis function fetches a data table that lists the Light Curve Files\u001b[39;00m\n\u001b[0;32m   (...)\u001b[0m\n\u001b[1;32m    840\u001b[0m \u001b[38;5;124;03m    >>> search_lightcurve('Kepler-10', radius=100, quarter=4, exptime=1800).download_all()  # doctest: +SKIP\u001b[39;00m\n\u001b[1;32m    841\u001b[0m \u001b[38;5;124;03m\"\"\"\u001b[39;00m\n\u001b[1;32m    842\u001b[0m \u001b[38;5;28;01mtry\u001b[39;00m:\n\u001b[0;32m--> 843\u001b[0m     \u001b[38;5;28;01mreturn\u001b[39;00m \u001b[43m_search_products\u001b[49m\u001b[43m(\u001b[49m\n\u001b[1;32m    844\u001b[0m \u001b[43m        \u001b[49m\u001b[43mtarget\u001b[49m\u001b[43m,\u001b[49m\n\u001b[1;32m    845\u001b[0m \u001b[43m        \u001b[49m\u001b[43mradius\u001b[49m\u001b[38;5;241;43m=\u001b[39;49m\u001b[43mradius\u001b[49m\u001b[43m,\u001b[49m\n\u001b[1;32m    846\u001b[0m \u001b[43m        \u001b[49m\u001b[43mfiletype\u001b[49m\u001b[38;5;241;43m=\u001b[39;49m\u001b[38;5;124;43m\"\u001b[39;49m\u001b[38;5;124;43mLightcurve\u001b[39;49m\u001b[38;5;124;43m\"\u001b[39;49m\u001b[43m,\u001b[49m\n\u001b[1;32m    847\u001b[0m \u001b[43m        \u001b[49m\u001b[43mexptime\u001b[49m\u001b[38;5;241;43m=\u001b[39;49m\u001b[43mexptime\u001b[49m\u001b[43m \u001b[49m\u001b[38;5;129;43;01mor\u001b[39;49;00m\u001b[43m \u001b[49m\u001b[43mcadence\u001b[49m\u001b[43m,\u001b[49m\n\u001b[1;32m    848\u001b[0m \u001b[43m        \u001b[49m\u001b[43mmission\u001b[49m\u001b[38;5;241;43m=\u001b[39;49m\u001b[43mmission\u001b[49m\u001b[43m,\u001b[49m\n\u001b[1;32m    849\u001b[0m \u001b[43m        \u001b[49m\u001b[43mprovenance_name\u001b[49m\u001b[38;5;241;43m=\u001b[39;49m\u001b[43mauthor\u001b[49m\u001b[43m,\u001b[49m\n\u001b[1;32m    850\u001b[0m \u001b[43m        \u001b[49m\u001b[43mquarter\u001b[49m\u001b[38;5;241;43m=\u001b[39;49m\u001b[43mquarter\u001b[49m\u001b[43m,\u001b[49m\n\u001b[1;32m    851\u001b[0m \u001b[43m        \u001b[49m\u001b[43mmonth\u001b[49m\u001b[38;5;241;43m=\u001b[39;49m\u001b[43mmonth\u001b[49m\u001b[43m,\u001b[49m\n\u001b[1;32m    852\u001b[0m \u001b[43m        \u001b[49m\u001b[43mcampaign\u001b[49m\u001b[38;5;241;43m=\u001b[39;49m\u001b[43mcampaign\u001b[49m\u001b[43m,\u001b[49m\n\u001b[1;32m    853\u001b[0m \u001b[43m        \u001b[49m\u001b[43msector\u001b[49m\u001b[38;5;241;43m=\u001b[39;49m\u001b[43msector\u001b[49m\u001b[43m,\u001b[49m\n\u001b[1;32m    854\u001b[0m \u001b[43m        \u001b[49m\u001b[43mlimit\u001b[49m\u001b[38;5;241;43m=\u001b[39;49m\u001b[43mlimit\u001b[49m\u001b[43m,\u001b[49m\n\u001b[1;32m    855\u001b[0m \u001b[43m    \u001b[49m\u001b[43m)\u001b[49m\n\u001b[1;32m    856\u001b[0m \u001b[38;5;28;01mexcept\u001b[39;00m SearchError \u001b[38;5;28;01mas\u001b[39;00m exc:\n\u001b[1;32m    857\u001b[0m     log\u001b[38;5;241m.\u001b[39merror(exc)\n",
      "File \u001b[0;32m/opt/conda/envs/tess/lib/python3.8/site-packages/lightkurve/search.py:1012\u001b[0m, in \u001b[0;36m_search_products\u001b[0;34m(target, radius, filetype, mission, provenance_name, exptime, quarter, month, campaign, sector, limit, **extra_query_criteria)\u001b[0m\n\u001b[1;32m   1009\u001b[0m \u001b[38;5;28;01mif\u001b[39;00m filetype\u001b[38;5;241m.\u001b[39mlower() \u001b[38;5;241m!=\u001b[39m \u001b[38;5;124m\"\u001b[39m\u001b[38;5;124mffi\u001b[39m\u001b[38;5;124m\"\u001b[39m:\n\u001b[1;32m   1010\u001b[0m     \u001b[38;5;28;01mfrom\u001b[39;00m \u001b[38;5;21;01mastroquery\u001b[39;00m\u001b[38;5;21;01m.\u001b[39;00m\u001b[38;5;21;01mmast\u001b[39;00m \u001b[38;5;28;01mimport\u001b[39;00m Observations\n\u001b[0;32m-> 1012\u001b[0m     products \u001b[38;5;241m=\u001b[39m \u001b[43mObservations\u001b[49m\u001b[38;5;241;43m.\u001b[39;49m\u001b[43mget_product_list\u001b[49m\u001b[43m(\u001b[49m\u001b[43mobservations\u001b[49m\u001b[43m)\u001b[49m\n\u001b[1;32m   1013\u001b[0m     result \u001b[38;5;241m=\u001b[39m join(\n\u001b[1;32m   1014\u001b[0m         observations,\n\u001b[1;32m   1015\u001b[0m         products,\n\u001b[0;32m   (...)\u001b[0m\n\u001b[1;32m   1019\u001b[0m         table_names\u001b[38;5;241m=\u001b[39m[\u001b[38;5;124m\"\u001b[39m\u001b[38;5;124m\"\u001b[39m, \u001b[38;5;124m\"\u001b[39m\u001b[38;5;124m_products\u001b[39m\u001b[38;5;124m\"\u001b[39m],\n\u001b[1;32m   1020\u001b[0m     )\n\u001b[1;32m   1021\u001b[0m     result\u001b[38;5;241m.\u001b[39msort([\u001b[38;5;124m\"\u001b[39m\u001b[38;5;124mdistance\u001b[39m\u001b[38;5;124m\"\u001b[39m, \u001b[38;5;124m\"\u001b[39m\u001b[38;5;124mobs_id\u001b[39m\u001b[38;5;124m\"\u001b[39m])\n",
      "File \u001b[0;32m/opt/conda/envs/tess/lib/python3.8/site-packages/astroquery/utils/class_or_instance.py:25\u001b[0m, in \u001b[0;36mclass_or_instance.__get__.<locals>.f\u001b[0;34m(*args, **kwds)\u001b[0m\n\u001b[1;32m     23\u001b[0m \u001b[38;5;28;01mdef\u001b[39;00m \u001b[38;5;21mf\u001b[39m(\u001b[38;5;241m*\u001b[39margs, \u001b[38;5;241m*\u001b[39m\u001b[38;5;241m*\u001b[39mkwds):\n\u001b[1;32m     24\u001b[0m     \u001b[38;5;28;01mif\u001b[39;00m obj \u001b[38;5;129;01mis\u001b[39;00m \u001b[38;5;129;01mnot\u001b[39;00m \u001b[38;5;28;01mNone\u001b[39;00m:\n\u001b[0;32m---> 25\u001b[0m         \u001b[38;5;28;01mreturn\u001b[39;00m \u001b[38;5;28;43mself\u001b[39;49m\u001b[38;5;241;43m.\u001b[39;49m\u001b[43mfn\u001b[49m\u001b[43m(\u001b[49m\u001b[43mobj\u001b[49m\u001b[43m,\u001b[49m\u001b[43m \u001b[49m\u001b[38;5;241;43m*\u001b[39;49m\u001b[43margs\u001b[49m\u001b[43m,\u001b[49m\u001b[43m \u001b[49m\u001b[38;5;241;43m*\u001b[39;49m\u001b[38;5;241;43m*\u001b[39;49m\u001b[43mkwds\u001b[49m\u001b[43m)\u001b[49m\n\u001b[1;32m     26\u001b[0m     \u001b[38;5;28;01melse\u001b[39;00m:\n\u001b[1;32m     27\u001b[0m         \u001b[38;5;28;01mreturn\u001b[39;00m \u001b[38;5;28mself\u001b[39m\u001b[38;5;241m.\u001b[39mfn(\u001b[38;5;28mcls\u001b[39m, \u001b[38;5;241m*\u001b[39margs, \u001b[38;5;241m*\u001b[39m\u001b[38;5;241m*\u001b[39mkwds)\n",
      "File \u001b[0;32m/opt/conda/envs/tess/lib/python3.8/site-packages/astroquery/utils/process_asyncs.py:26\u001b[0m, in \u001b[0;36masync_to_sync.<locals>.create_method.<locals>.newmethod\u001b[0;34m(self, *args, **kwargs)\u001b[0m\n\u001b[1;32m     22\u001b[0m \u001b[38;5;129m@class_or_instance\u001b[39m\n\u001b[1;32m     23\u001b[0m \u001b[38;5;28;01mdef\u001b[39;00m \u001b[38;5;21mnewmethod\u001b[39m(\u001b[38;5;28mself\u001b[39m, \u001b[38;5;241m*\u001b[39margs, \u001b[38;5;241m*\u001b[39m\u001b[38;5;241m*\u001b[39mkwargs):\n\u001b[1;32m     24\u001b[0m     verbose \u001b[38;5;241m=\u001b[39m kwargs\u001b[38;5;241m.\u001b[39mpop(\u001b[38;5;124m'\u001b[39m\u001b[38;5;124mverbose\u001b[39m\u001b[38;5;124m'\u001b[39m, \u001b[38;5;28;01mFalse\u001b[39;00m)\n\u001b[0;32m---> 26\u001b[0m     response \u001b[38;5;241m=\u001b[39m \u001b[38;5;28;43mgetattr\u001b[39;49m\u001b[43m(\u001b[49m\u001b[38;5;28;43mself\u001b[39;49m\u001b[43m,\u001b[49m\u001b[43m \u001b[49m\u001b[43masync_method_name\u001b[49m\u001b[43m)\u001b[49m\u001b[43m(\u001b[49m\u001b[38;5;241;43m*\u001b[39;49m\u001b[43margs\u001b[49m\u001b[43m,\u001b[49m\u001b[43m \u001b[49m\u001b[38;5;241;43m*\u001b[39;49m\u001b[38;5;241;43m*\u001b[39;49m\u001b[43mkwargs\u001b[49m\u001b[43m)\u001b[49m\n\u001b[1;32m     27\u001b[0m     \u001b[38;5;28;01mif\u001b[39;00m kwargs\u001b[38;5;241m.\u001b[39mget(\u001b[38;5;124m'\u001b[39m\u001b[38;5;124mget_query_payload\u001b[39m\u001b[38;5;124m'\u001b[39m) \u001b[38;5;129;01mor\u001b[39;00m kwargs\u001b[38;5;241m.\u001b[39mget(\u001b[38;5;124m'\u001b[39m\u001b[38;5;124mfield_help\u001b[39m\u001b[38;5;124m'\u001b[39m):\n\u001b[1;32m     28\u001b[0m         \u001b[38;5;28;01mreturn\u001b[39;00m response\n",
      "File \u001b[0;32m/opt/conda/envs/tess/lib/python3.8/site-packages/astroquery/utils/class_or_instance.py:25\u001b[0m, in \u001b[0;36mclass_or_instance.__get__.<locals>.f\u001b[0;34m(*args, **kwds)\u001b[0m\n\u001b[1;32m     23\u001b[0m \u001b[38;5;28;01mdef\u001b[39;00m \u001b[38;5;21mf\u001b[39m(\u001b[38;5;241m*\u001b[39margs, \u001b[38;5;241m*\u001b[39m\u001b[38;5;241m*\u001b[39mkwds):\n\u001b[1;32m     24\u001b[0m     \u001b[38;5;28;01mif\u001b[39;00m obj \u001b[38;5;129;01mis\u001b[39;00m \u001b[38;5;129;01mnot\u001b[39;00m \u001b[38;5;28;01mNone\u001b[39;00m:\n\u001b[0;32m---> 25\u001b[0m         \u001b[38;5;28;01mreturn\u001b[39;00m \u001b[38;5;28;43mself\u001b[39;49m\u001b[38;5;241;43m.\u001b[39;49m\u001b[43mfn\u001b[49m\u001b[43m(\u001b[49m\u001b[43mobj\u001b[49m\u001b[43m,\u001b[49m\u001b[43m \u001b[49m\u001b[38;5;241;43m*\u001b[39;49m\u001b[43margs\u001b[49m\u001b[43m,\u001b[49m\u001b[43m \u001b[49m\u001b[38;5;241;43m*\u001b[39;49m\u001b[38;5;241;43m*\u001b[39;49m\u001b[43mkwds\u001b[49m\u001b[43m)\u001b[49m\n\u001b[1;32m     26\u001b[0m     \u001b[38;5;28;01melse\u001b[39;00m:\n\u001b[1;32m     27\u001b[0m         \u001b[38;5;28;01mreturn\u001b[39;00m \u001b[38;5;28mself\u001b[39m\u001b[38;5;241m.\u001b[39mfn(\u001b[38;5;28mcls\u001b[39m, \u001b[38;5;241m*\u001b[39margs, \u001b[38;5;241m*\u001b[39m\u001b[38;5;241m*\u001b[39mkwds)\n",
      "File \u001b[0;32m/opt/conda/envs/tess/lib/python3.8/site-packages/astroquery/mast/observations.py:451\u001b[0m, in \u001b[0;36mObservationsClass.get_product_list_async\u001b[0;34m(self, observations)\u001b[0m\n\u001b[1;32m    448\u001b[0m service \u001b[38;5;241m=\u001b[39m \u001b[38;5;28mself\u001b[39m\u001b[38;5;241m.\u001b[39m_caom_products\n\u001b[1;32m    449\u001b[0m params \u001b[38;5;241m=\u001b[39m {\u001b[38;5;124m'\u001b[39m\u001b[38;5;124mobsid\u001b[39m\u001b[38;5;124m'\u001b[39m: \u001b[38;5;124m'\u001b[39m\u001b[38;5;124m,\u001b[39m\u001b[38;5;124m'\u001b[39m\u001b[38;5;241m.\u001b[39mjoin(observations)}\n\u001b[0;32m--> 451\u001b[0m \u001b[38;5;28;01mreturn\u001b[39;00m \u001b[38;5;28;43mself\u001b[39;49m\u001b[38;5;241;43m.\u001b[39;49m\u001b[43m_portal_api_connection\u001b[49m\u001b[38;5;241;43m.\u001b[39;49m\u001b[43mservice_request_async\u001b[49m\u001b[43m(\u001b[49m\u001b[43mservice\u001b[49m\u001b[43m,\u001b[49m\u001b[43m \u001b[49m\u001b[43mparams\u001b[49m\u001b[43m)\u001b[49m\n",
      "File \u001b[0;32m/opt/conda/envs/tess/lib/python3.8/site-packages/astroquery/utils/class_or_instance.py:25\u001b[0m, in \u001b[0;36mclass_or_instance.__get__.<locals>.f\u001b[0;34m(*args, **kwds)\u001b[0m\n\u001b[1;32m     23\u001b[0m \u001b[38;5;28;01mdef\u001b[39;00m \u001b[38;5;21mf\u001b[39m(\u001b[38;5;241m*\u001b[39margs, \u001b[38;5;241m*\u001b[39m\u001b[38;5;241m*\u001b[39mkwds):\n\u001b[1;32m     24\u001b[0m     \u001b[38;5;28;01mif\u001b[39;00m obj \u001b[38;5;129;01mis\u001b[39;00m \u001b[38;5;129;01mnot\u001b[39;00m \u001b[38;5;28;01mNone\u001b[39;00m:\n\u001b[0;32m---> 25\u001b[0m         \u001b[38;5;28;01mreturn\u001b[39;00m \u001b[38;5;28;43mself\u001b[39;49m\u001b[38;5;241;43m.\u001b[39;49m\u001b[43mfn\u001b[49m\u001b[43m(\u001b[49m\u001b[43mobj\u001b[49m\u001b[43m,\u001b[49m\u001b[43m \u001b[49m\u001b[38;5;241;43m*\u001b[39;49m\u001b[43margs\u001b[49m\u001b[43m,\u001b[49m\u001b[43m \u001b[49m\u001b[38;5;241;43m*\u001b[39;49m\u001b[38;5;241;43m*\u001b[39;49m\u001b[43mkwds\u001b[49m\u001b[43m)\u001b[49m\n\u001b[1;32m     26\u001b[0m     \u001b[38;5;28;01melse\u001b[39;00m:\n\u001b[1;32m     27\u001b[0m         \u001b[38;5;28;01mreturn\u001b[39;00m \u001b[38;5;28mself\u001b[39m\u001b[38;5;241m.\u001b[39mfn(\u001b[38;5;28mcls\u001b[39m, \u001b[38;5;241m*\u001b[39margs, \u001b[38;5;241m*\u001b[39m\u001b[38;5;241m*\u001b[39mkwds)\n",
      "File \u001b[0;32m/opt/conda/envs/tess/lib/python3.8/site-packages/astroquery/mast/discovery_portal.py:363\u001b[0m, in \u001b[0;36mPortalAPI.service_request_async\u001b[0;34m(self, service, params, pagesize, page, **kwargs)\u001b[0m\n\u001b[1;32m    360\u001b[0m     mashup_request[prop] \u001b[38;5;241m=\u001b[39m value\n\u001b[1;32m    362\u001b[0m req_string \u001b[38;5;241m=\u001b[39m _prepare_service_request_string(mashup_request)\n\u001b[0;32m--> 363\u001b[0m response \u001b[38;5;241m=\u001b[39m \u001b[38;5;28;43mself\u001b[39;49m\u001b[38;5;241;43m.\u001b[39;49m\u001b[43m_request\u001b[49m\u001b[43m(\u001b[49m\u001b[38;5;124;43m\"\u001b[39;49m\u001b[38;5;124;43mPOST\u001b[39;49m\u001b[38;5;124;43m\"\u001b[39;49m\u001b[43m,\u001b[49m\u001b[43m \u001b[49m\u001b[38;5;28;43mself\u001b[39;49m\u001b[38;5;241;43m.\u001b[39;49m\u001b[43mMAST_REQUEST_URL\u001b[49m\u001b[43m,\u001b[49m\u001b[43m \u001b[49m\u001b[43mdata\u001b[49m\u001b[38;5;241;43m=\u001b[39;49m\u001b[43mreq_string\u001b[49m\u001b[43m,\u001b[49m\u001b[43m \u001b[49m\u001b[43mheaders\u001b[49m\u001b[38;5;241;43m=\u001b[39;49m\u001b[43mheaders\u001b[49m\u001b[43m,\u001b[49m\n\u001b[1;32m    364\u001b[0m \u001b[43m                         \u001b[49m\u001b[43mretrieve_all\u001b[49m\u001b[38;5;241;43m=\u001b[39;49m\u001b[43mretrieve_all\u001b[49m\u001b[43m)\u001b[49m\n\u001b[1;32m    366\u001b[0m \u001b[38;5;28;01mreturn\u001b[39;00m response\n",
      "File \u001b[0;32m/opt/conda/envs/tess/lib/python3.8/site-packages/astroquery/mast/discovery_portal.py:182\u001b[0m, in \u001b[0;36mPortalAPI._request\u001b[0;34m(self, method, url, params, data, headers, files, stream, auth, retrieve_all)\u001b[0m\n\u001b[1;32m    179\u001b[0m status \u001b[38;5;241m=\u001b[39m \u001b[38;5;124m\"\u001b[39m\u001b[38;5;124mEXECUTING\u001b[39m\u001b[38;5;124m\"\u001b[39m\n\u001b[1;32m    181\u001b[0m \u001b[38;5;28;01mwhile\u001b[39;00m status \u001b[38;5;241m==\u001b[39m \u001b[38;5;124m\"\u001b[39m\u001b[38;5;124mEXECUTING\u001b[39m\u001b[38;5;124m\"\u001b[39m:\n\u001b[0;32m--> 182\u001b[0m     response \u001b[38;5;241m=\u001b[39m \u001b[38;5;28;43msuper\u001b[39;49m\u001b[43m(\u001b[49m\u001b[43mPortalAPI\u001b[49m\u001b[43m,\u001b[49m\u001b[43m \u001b[49m\u001b[38;5;28;43mself\u001b[39;49m\u001b[43m)\u001b[49m\u001b[38;5;241;43m.\u001b[39;49m\u001b[43m_request\u001b[49m\u001b[43m(\u001b[49m\u001b[43mmethod\u001b[49m\u001b[43m,\u001b[49m\u001b[43m \u001b[49m\u001b[43murl\u001b[49m\u001b[43m,\u001b[49m\u001b[43m \u001b[49m\u001b[43mparams\u001b[49m\u001b[38;5;241;43m=\u001b[39;49m\u001b[43mparams\u001b[49m\u001b[43m,\u001b[49m\u001b[43m \u001b[49m\u001b[43mdata\u001b[49m\u001b[38;5;241;43m=\u001b[39;49m\u001b[43mdata\u001b[49m\u001b[43m,\u001b[49m\n\u001b[1;32m    183\u001b[0m \u001b[43m                                               \u001b[49m\u001b[43mheaders\u001b[49m\u001b[38;5;241;43m=\u001b[39;49m\u001b[43mheaders\u001b[49m\u001b[43m,\u001b[49m\u001b[43m \u001b[49m\u001b[43mfiles\u001b[49m\u001b[38;5;241;43m=\u001b[39;49m\u001b[43mfiles\u001b[49m\u001b[43m,\u001b[49m\u001b[43m \u001b[49m\u001b[43mcache\u001b[49m\u001b[38;5;241;43m=\u001b[39;49m\u001b[38;5;28;43;01mFalse\u001b[39;49;00m\u001b[43m,\u001b[49m\n\u001b[1;32m    184\u001b[0m \u001b[43m                                               \u001b[49m\u001b[43mstream\u001b[49m\u001b[38;5;241;43m=\u001b[39;49m\u001b[43mstream\u001b[49m\u001b[43m,\u001b[49m\u001b[43m \u001b[49m\u001b[43mauth\u001b[49m\u001b[38;5;241;43m=\u001b[39;49m\u001b[43mauth\u001b[49m\u001b[43m)\u001b[49m\n\u001b[1;32m    186\u001b[0m     \u001b[38;5;28;01mif\u001b[39;00m (time\u001b[38;5;241m.\u001b[39mtime() \u001b[38;5;241m-\u001b[39m start_time) \u001b[38;5;241m>\u001b[39m\u001b[38;5;241m=\u001b[39m \u001b[38;5;28mself\u001b[39m\u001b[38;5;241m.\u001b[39mTIMEOUT:\n\u001b[1;32m    187\u001b[0m         \u001b[38;5;28;01mraise\u001b[39;00m \u001b[38;5;167;01mTimeoutError\u001b[39;00m(\u001b[38;5;124m\"\u001b[39m\u001b[38;5;124mTimeout limit of \u001b[39m\u001b[38;5;132;01m{}\u001b[39;00m\u001b[38;5;124m exceeded.\u001b[39m\u001b[38;5;124m\"\u001b[39m\u001b[38;5;241m.\u001b[39mformat(\u001b[38;5;28mself\u001b[39m\u001b[38;5;241m.\u001b[39mTIMEOUT))\n",
      "File \u001b[0;32m/opt/conda/envs/tess/lib/python3.8/site-packages/astroquery/query.py:310\u001b[0m, in \u001b[0;36mBaseQuery._request\u001b[0;34m(self, method, url, params, data, headers, files, save, savedir, timeout, cache, stream, auth, continuation, verify, allow_redirects, json, return_response_on_save)\u001b[0m\n\u001b[1;32m    308\u001b[0m \u001b[38;5;28;01mif\u001b[39;00m ((\u001b[38;5;28mself\u001b[39m\u001b[38;5;241m.\u001b[39mcache_location \u001b[38;5;129;01mis\u001b[39;00m \u001b[38;5;28;01mNone\u001b[39;00m) \u001b[38;5;129;01mor\u001b[39;00m (\u001b[38;5;129;01mnot\u001b[39;00m \u001b[38;5;28mself\u001b[39m\u001b[38;5;241m.\u001b[39m_cache_active) \u001b[38;5;129;01mor\u001b[39;00m (\u001b[38;5;129;01mnot\u001b[39;00m cache)):\n\u001b[1;32m    309\u001b[0m     \u001b[38;5;28;01mwith\u001b[39;00m suspend_cache(\u001b[38;5;28mself\u001b[39m):\n\u001b[0;32m--> 310\u001b[0m         response \u001b[38;5;241m=\u001b[39m \u001b[43mquery\u001b[49m\u001b[38;5;241;43m.\u001b[39;49m\u001b[43mrequest\u001b[49m\u001b[43m(\u001b[49m\u001b[38;5;28;43mself\u001b[39;49m\u001b[38;5;241;43m.\u001b[39;49m\u001b[43m_session\u001b[49m\u001b[43m,\u001b[49m\u001b[43m \u001b[49m\u001b[43mstream\u001b[49m\u001b[38;5;241;43m=\u001b[39;49m\u001b[43mstream\u001b[49m\u001b[43m,\u001b[49m\n\u001b[1;32m    311\u001b[0m \u001b[43m                                 \u001b[49m\u001b[43mauth\u001b[49m\u001b[38;5;241;43m=\u001b[39;49m\u001b[43mauth\u001b[49m\u001b[43m,\u001b[49m\u001b[43m \u001b[49m\u001b[43mverify\u001b[49m\u001b[38;5;241;43m=\u001b[39;49m\u001b[43mverify\u001b[49m\u001b[43m,\u001b[49m\n\u001b[1;32m    312\u001b[0m \u001b[43m                                 \u001b[49m\u001b[43mallow_redirects\u001b[49m\u001b[38;5;241;43m=\u001b[39;49m\u001b[43mallow_redirects\u001b[49m\u001b[43m,\u001b[49m\n\u001b[1;32m    313\u001b[0m \u001b[43m                                 \u001b[49m\u001b[43mjson\u001b[49m\u001b[38;5;241;43m=\u001b[39;49m\u001b[43mjson\u001b[49m\u001b[43m)\u001b[49m\n\u001b[1;32m    314\u001b[0m \u001b[38;5;28;01melse\u001b[39;00m:\n\u001b[1;32m    315\u001b[0m     response \u001b[38;5;241m=\u001b[39m query\u001b[38;5;241m.\u001b[39mfrom_cache(\u001b[38;5;28mself\u001b[39m\u001b[38;5;241m.\u001b[39mcache_location)\n",
      "File \u001b[0;32m/opt/conda/envs/tess/lib/python3.8/site-packages/astroquery/query.py:71\u001b[0m, in \u001b[0;36mAstroQuery.request\u001b[0;34m(self, session, cache_location, stream, auth, verify, allow_redirects, json)\u001b[0m\n\u001b[1;32m     68\u001b[0m \u001b[38;5;28;01mdef\u001b[39;00m \u001b[38;5;21mrequest\u001b[39m(\u001b[38;5;28mself\u001b[39m, session, cache_location\u001b[38;5;241m=\u001b[39m\u001b[38;5;28;01mNone\u001b[39;00m, stream\u001b[38;5;241m=\u001b[39m\u001b[38;5;28;01mFalse\u001b[39;00m,\n\u001b[1;32m     69\u001b[0m             auth\u001b[38;5;241m=\u001b[39m\u001b[38;5;28;01mNone\u001b[39;00m, verify\u001b[38;5;241m=\u001b[39m\u001b[38;5;28;01mTrue\u001b[39;00m, allow_redirects\u001b[38;5;241m=\u001b[39m\u001b[38;5;28;01mTrue\u001b[39;00m,\n\u001b[1;32m     70\u001b[0m             json\u001b[38;5;241m=\u001b[39m\u001b[38;5;28;01mNone\u001b[39;00m):\n\u001b[0;32m---> 71\u001b[0m     \u001b[38;5;28;01mreturn\u001b[39;00m \u001b[43msession\u001b[49m\u001b[38;5;241;43m.\u001b[39;49m\u001b[43mrequest\u001b[49m\u001b[43m(\u001b[49m\u001b[38;5;28;43mself\u001b[39;49m\u001b[38;5;241;43m.\u001b[39;49m\u001b[43mmethod\u001b[49m\u001b[43m,\u001b[49m\u001b[43m \u001b[49m\u001b[38;5;28;43mself\u001b[39;49m\u001b[38;5;241;43m.\u001b[39;49m\u001b[43murl\u001b[49m\u001b[43m,\u001b[49m\u001b[43m \u001b[49m\u001b[43mparams\u001b[49m\u001b[38;5;241;43m=\u001b[39;49m\u001b[38;5;28;43mself\u001b[39;49m\u001b[38;5;241;43m.\u001b[39;49m\u001b[43mparams\u001b[49m\u001b[43m,\u001b[49m\n\u001b[1;32m     72\u001b[0m \u001b[43m                           \u001b[49m\u001b[43mdata\u001b[49m\u001b[38;5;241;43m=\u001b[39;49m\u001b[38;5;28;43mself\u001b[39;49m\u001b[38;5;241;43m.\u001b[39;49m\u001b[43mdata\u001b[49m\u001b[43m,\u001b[49m\u001b[43m \u001b[49m\u001b[43mheaders\u001b[49m\u001b[38;5;241;43m=\u001b[39;49m\u001b[38;5;28;43mself\u001b[39;49m\u001b[38;5;241;43m.\u001b[39;49m\u001b[43mheaders\u001b[49m\u001b[43m,\u001b[49m\n\u001b[1;32m     73\u001b[0m \u001b[43m                           \u001b[49m\u001b[43mfiles\u001b[49m\u001b[38;5;241;43m=\u001b[39;49m\u001b[38;5;28;43mself\u001b[39;49m\u001b[38;5;241;43m.\u001b[39;49m\u001b[43mfiles\u001b[49m\u001b[43m,\u001b[49m\u001b[43m \u001b[49m\u001b[43mtimeout\u001b[49m\u001b[38;5;241;43m=\u001b[39;49m\u001b[38;5;28;43mself\u001b[39;49m\u001b[38;5;241;43m.\u001b[39;49m\u001b[43mtimeout\u001b[49m\u001b[43m,\u001b[49m\n\u001b[1;32m     74\u001b[0m \u001b[43m                           \u001b[49m\u001b[43mstream\u001b[49m\u001b[38;5;241;43m=\u001b[39;49m\u001b[43mstream\u001b[49m\u001b[43m,\u001b[49m\u001b[43m \u001b[49m\u001b[43mauth\u001b[49m\u001b[38;5;241;43m=\u001b[39;49m\u001b[43mauth\u001b[49m\u001b[43m,\u001b[49m\u001b[43m \u001b[49m\u001b[43mverify\u001b[49m\u001b[38;5;241;43m=\u001b[39;49m\u001b[43mverify\u001b[49m\u001b[43m,\u001b[49m\n\u001b[1;32m     75\u001b[0m \u001b[43m                           \u001b[49m\u001b[43mallow_redirects\u001b[49m\u001b[38;5;241;43m=\u001b[39;49m\u001b[43mallow_redirects\u001b[49m\u001b[43m,\u001b[49m\n\u001b[1;32m     76\u001b[0m \u001b[43m                           \u001b[49m\u001b[43mjson\u001b[49m\u001b[38;5;241;43m=\u001b[39;49m\u001b[43mjson\u001b[49m\u001b[43m)\u001b[49m\n",
      "File \u001b[0;32m/opt/conda/envs/tess/lib/python3.8/site-packages/requests/sessions.py:587\u001b[0m, in \u001b[0;36mSession.request\u001b[0;34m(self, method, url, params, data, headers, cookies, files, auth, timeout, allow_redirects, proxies, hooks, stream, verify, cert, json)\u001b[0m\n\u001b[1;32m    582\u001b[0m send_kwargs \u001b[38;5;241m=\u001b[39m {\n\u001b[1;32m    583\u001b[0m     \u001b[38;5;124m\"\u001b[39m\u001b[38;5;124mtimeout\u001b[39m\u001b[38;5;124m\"\u001b[39m: timeout,\n\u001b[1;32m    584\u001b[0m     \u001b[38;5;124m\"\u001b[39m\u001b[38;5;124mallow_redirects\u001b[39m\u001b[38;5;124m\"\u001b[39m: allow_redirects,\n\u001b[1;32m    585\u001b[0m }\n\u001b[1;32m    586\u001b[0m send_kwargs\u001b[38;5;241m.\u001b[39mupdate(settings)\n\u001b[0;32m--> 587\u001b[0m resp \u001b[38;5;241m=\u001b[39m \u001b[38;5;28;43mself\u001b[39;49m\u001b[38;5;241;43m.\u001b[39;49m\u001b[43msend\u001b[49m\u001b[43m(\u001b[49m\u001b[43mprep\u001b[49m\u001b[43m,\u001b[49m\u001b[43m \u001b[49m\u001b[38;5;241;43m*\u001b[39;49m\u001b[38;5;241;43m*\u001b[39;49m\u001b[43msend_kwargs\u001b[49m\u001b[43m)\u001b[49m\n\u001b[1;32m    589\u001b[0m \u001b[38;5;28;01mreturn\u001b[39;00m resp\n",
      "File \u001b[0;32m/opt/conda/envs/tess/lib/python3.8/site-packages/requests/sessions.py:701\u001b[0m, in \u001b[0;36mSession.send\u001b[0;34m(self, request, **kwargs)\u001b[0m\n\u001b[1;32m    698\u001b[0m start \u001b[38;5;241m=\u001b[39m preferred_clock()\n\u001b[1;32m    700\u001b[0m \u001b[38;5;66;03m# Send the request\u001b[39;00m\n\u001b[0;32m--> 701\u001b[0m r \u001b[38;5;241m=\u001b[39m \u001b[43madapter\u001b[49m\u001b[38;5;241;43m.\u001b[39;49m\u001b[43msend\u001b[49m\u001b[43m(\u001b[49m\u001b[43mrequest\u001b[49m\u001b[43m,\u001b[49m\u001b[43m \u001b[49m\u001b[38;5;241;43m*\u001b[39;49m\u001b[38;5;241;43m*\u001b[39;49m\u001b[43mkwargs\u001b[49m\u001b[43m)\u001b[49m\n\u001b[1;32m    703\u001b[0m \u001b[38;5;66;03m# Total elapsed time of the request (approximately)\u001b[39;00m\n\u001b[1;32m    704\u001b[0m elapsed \u001b[38;5;241m=\u001b[39m preferred_clock() \u001b[38;5;241m-\u001b[39m start\n",
      "File \u001b[0;32m/opt/conda/envs/tess/lib/python3.8/site-packages/requests/adapters.py:486\u001b[0m, in \u001b[0;36mHTTPAdapter.send\u001b[0;34m(self, request, stream, timeout, verify, cert, proxies)\u001b[0m\n\u001b[1;32m    483\u001b[0m     timeout \u001b[38;5;241m=\u001b[39m TimeoutSauce(connect\u001b[38;5;241m=\u001b[39mtimeout, read\u001b[38;5;241m=\u001b[39mtimeout)\n\u001b[1;32m    485\u001b[0m \u001b[38;5;28;01mtry\u001b[39;00m:\n\u001b[0;32m--> 486\u001b[0m     resp \u001b[38;5;241m=\u001b[39m \u001b[43mconn\u001b[49m\u001b[38;5;241;43m.\u001b[39;49m\u001b[43murlopen\u001b[49m\u001b[43m(\u001b[49m\n\u001b[1;32m    487\u001b[0m \u001b[43m        \u001b[49m\u001b[43mmethod\u001b[49m\u001b[38;5;241;43m=\u001b[39;49m\u001b[43mrequest\u001b[49m\u001b[38;5;241;43m.\u001b[39;49m\u001b[43mmethod\u001b[49m\u001b[43m,\u001b[49m\n\u001b[1;32m    488\u001b[0m \u001b[43m        \u001b[49m\u001b[43murl\u001b[49m\u001b[38;5;241;43m=\u001b[39;49m\u001b[43murl\u001b[49m\u001b[43m,\u001b[49m\n\u001b[1;32m    489\u001b[0m \u001b[43m        \u001b[49m\u001b[43mbody\u001b[49m\u001b[38;5;241;43m=\u001b[39;49m\u001b[43mrequest\u001b[49m\u001b[38;5;241;43m.\u001b[39;49m\u001b[43mbody\u001b[49m\u001b[43m,\u001b[49m\n\u001b[1;32m    490\u001b[0m \u001b[43m        \u001b[49m\u001b[43mheaders\u001b[49m\u001b[38;5;241;43m=\u001b[39;49m\u001b[43mrequest\u001b[49m\u001b[38;5;241;43m.\u001b[39;49m\u001b[43mheaders\u001b[49m\u001b[43m,\u001b[49m\n\u001b[1;32m    491\u001b[0m \u001b[43m        \u001b[49m\u001b[43mredirect\u001b[49m\u001b[38;5;241;43m=\u001b[39;49m\u001b[38;5;28;43;01mFalse\u001b[39;49;00m\u001b[43m,\u001b[49m\n\u001b[1;32m    492\u001b[0m \u001b[43m        \u001b[49m\u001b[43massert_same_host\u001b[49m\u001b[38;5;241;43m=\u001b[39;49m\u001b[38;5;28;43;01mFalse\u001b[39;49;00m\u001b[43m,\u001b[49m\n\u001b[1;32m    493\u001b[0m \u001b[43m        \u001b[49m\u001b[43mpreload_content\u001b[49m\u001b[38;5;241;43m=\u001b[39;49m\u001b[38;5;28;43;01mFalse\u001b[39;49;00m\u001b[43m,\u001b[49m\n\u001b[1;32m    494\u001b[0m \u001b[43m        \u001b[49m\u001b[43mdecode_content\u001b[49m\u001b[38;5;241;43m=\u001b[39;49m\u001b[38;5;28;43;01mFalse\u001b[39;49;00m\u001b[43m,\u001b[49m\n\u001b[1;32m    495\u001b[0m \u001b[43m        \u001b[49m\u001b[43mretries\u001b[49m\u001b[38;5;241;43m=\u001b[39;49m\u001b[38;5;28;43mself\u001b[39;49m\u001b[38;5;241;43m.\u001b[39;49m\u001b[43mmax_retries\u001b[49m\u001b[43m,\u001b[49m\n\u001b[1;32m    496\u001b[0m \u001b[43m        \u001b[49m\u001b[43mtimeout\u001b[49m\u001b[38;5;241;43m=\u001b[39;49m\u001b[43mtimeout\u001b[49m\u001b[43m,\u001b[49m\n\u001b[1;32m    497\u001b[0m \u001b[43m        \u001b[49m\u001b[43mchunked\u001b[49m\u001b[38;5;241;43m=\u001b[39;49m\u001b[43mchunked\u001b[49m\u001b[43m,\u001b[49m\n\u001b[1;32m    498\u001b[0m \u001b[43m    \u001b[49m\u001b[43m)\u001b[49m\n\u001b[1;32m    500\u001b[0m \u001b[38;5;28;01mexcept\u001b[39;00m (ProtocolError, \u001b[38;5;167;01mOSError\u001b[39;00m) \u001b[38;5;28;01mas\u001b[39;00m err:\n\u001b[1;32m    501\u001b[0m     \u001b[38;5;28;01mraise\u001b[39;00m \u001b[38;5;167;01mConnectionError\u001b[39;00m(err, request\u001b[38;5;241m=\u001b[39mrequest)\n",
      "File \u001b[0;32m/opt/conda/envs/tess/lib/python3.8/site-packages/urllib3/connectionpool.py:703\u001b[0m, in \u001b[0;36mHTTPConnectionPool.urlopen\u001b[0;34m(self, method, url, body, headers, retries, redirect, assert_same_host, timeout, pool_timeout, release_conn, chunked, body_pos, **response_kw)\u001b[0m\n\u001b[1;32m    700\u001b[0m     \u001b[38;5;28mself\u001b[39m\u001b[38;5;241m.\u001b[39m_prepare_proxy(conn)\n\u001b[1;32m    702\u001b[0m \u001b[38;5;66;03m# Make the request on the httplib connection object.\u001b[39;00m\n\u001b[0;32m--> 703\u001b[0m httplib_response \u001b[38;5;241m=\u001b[39m \u001b[38;5;28;43mself\u001b[39;49m\u001b[38;5;241;43m.\u001b[39;49m\u001b[43m_make_request\u001b[49m\u001b[43m(\u001b[49m\n\u001b[1;32m    704\u001b[0m \u001b[43m    \u001b[49m\u001b[43mconn\u001b[49m\u001b[43m,\u001b[49m\n\u001b[1;32m    705\u001b[0m \u001b[43m    \u001b[49m\u001b[43mmethod\u001b[49m\u001b[43m,\u001b[49m\n\u001b[1;32m    706\u001b[0m \u001b[43m    \u001b[49m\u001b[43murl\u001b[49m\u001b[43m,\u001b[49m\n\u001b[1;32m    707\u001b[0m \u001b[43m    \u001b[49m\u001b[43mtimeout\u001b[49m\u001b[38;5;241;43m=\u001b[39;49m\u001b[43mtimeout_obj\u001b[49m\u001b[43m,\u001b[49m\n\u001b[1;32m    708\u001b[0m \u001b[43m    \u001b[49m\u001b[43mbody\u001b[49m\u001b[38;5;241;43m=\u001b[39;49m\u001b[43mbody\u001b[49m\u001b[43m,\u001b[49m\n\u001b[1;32m    709\u001b[0m \u001b[43m    \u001b[49m\u001b[43mheaders\u001b[49m\u001b[38;5;241;43m=\u001b[39;49m\u001b[43mheaders\u001b[49m\u001b[43m,\u001b[49m\n\u001b[1;32m    710\u001b[0m \u001b[43m    \u001b[49m\u001b[43mchunked\u001b[49m\u001b[38;5;241;43m=\u001b[39;49m\u001b[43mchunked\u001b[49m\u001b[43m,\u001b[49m\n\u001b[1;32m    711\u001b[0m \u001b[43m\u001b[49m\u001b[43m)\u001b[49m\n\u001b[1;32m    713\u001b[0m \u001b[38;5;66;03m# If we're going to release the connection in ``finally:``, then\u001b[39;00m\n\u001b[1;32m    714\u001b[0m \u001b[38;5;66;03m# the response doesn't need to know about the connection. Otherwise\u001b[39;00m\n\u001b[1;32m    715\u001b[0m \u001b[38;5;66;03m# it will also try to release it and we'll have a double-release\u001b[39;00m\n\u001b[1;32m    716\u001b[0m \u001b[38;5;66;03m# mess.\u001b[39;00m\n\u001b[1;32m    717\u001b[0m response_conn \u001b[38;5;241m=\u001b[39m conn \u001b[38;5;28;01mif\u001b[39;00m \u001b[38;5;129;01mnot\u001b[39;00m release_conn \u001b[38;5;28;01melse\u001b[39;00m \u001b[38;5;28;01mNone\u001b[39;00m\n",
      "File \u001b[0;32m/opt/conda/envs/tess/lib/python3.8/site-packages/urllib3/connectionpool.py:449\u001b[0m, in \u001b[0;36mHTTPConnectionPool._make_request\u001b[0;34m(self, conn, method, url, timeout, chunked, **httplib_request_kw)\u001b[0m\n\u001b[1;32m    444\u001b[0m             httplib_response \u001b[38;5;241m=\u001b[39m conn\u001b[38;5;241m.\u001b[39mgetresponse()\n\u001b[1;32m    445\u001b[0m         \u001b[38;5;28;01mexcept\u001b[39;00m \u001b[38;5;167;01mBaseException\u001b[39;00m \u001b[38;5;28;01mas\u001b[39;00m e:\n\u001b[1;32m    446\u001b[0m             \u001b[38;5;66;03m# Remove the TypeError from the exception chain in\u001b[39;00m\n\u001b[1;32m    447\u001b[0m             \u001b[38;5;66;03m# Python 3 (including for exceptions like SystemExit).\u001b[39;00m\n\u001b[1;32m    448\u001b[0m             \u001b[38;5;66;03m# Otherwise it looks like a bug in the code.\u001b[39;00m\n\u001b[0;32m--> 449\u001b[0m             \u001b[43msix\u001b[49m\u001b[38;5;241;43m.\u001b[39;49m\u001b[43mraise_from\u001b[49m\u001b[43m(\u001b[49m\u001b[43me\u001b[49m\u001b[43m,\u001b[49m\u001b[43m \u001b[49m\u001b[38;5;28;43;01mNone\u001b[39;49;00m\u001b[43m)\u001b[49m\n\u001b[1;32m    450\u001b[0m \u001b[38;5;28;01mexcept\u001b[39;00m (SocketTimeout, BaseSSLError, SocketError) \u001b[38;5;28;01mas\u001b[39;00m e:\n\u001b[1;32m    451\u001b[0m     \u001b[38;5;28mself\u001b[39m\u001b[38;5;241m.\u001b[39m_raise_timeout(err\u001b[38;5;241m=\u001b[39me, url\u001b[38;5;241m=\u001b[39murl, timeout_value\u001b[38;5;241m=\u001b[39mread_timeout)\n",
      "File \u001b[0;32m<string>:3\u001b[0m, in \u001b[0;36mraise_from\u001b[0;34m(value, from_value)\u001b[0m\n",
      "File \u001b[0;32m/opt/conda/envs/tess/lib/python3.8/site-packages/urllib3/connectionpool.py:444\u001b[0m, in \u001b[0;36mHTTPConnectionPool._make_request\u001b[0;34m(self, conn, method, url, timeout, chunked, **httplib_request_kw)\u001b[0m\n\u001b[1;32m    441\u001b[0m \u001b[38;5;28;01mexcept\u001b[39;00m \u001b[38;5;167;01mTypeError\u001b[39;00m:\n\u001b[1;32m    442\u001b[0m     \u001b[38;5;66;03m# Python 3\u001b[39;00m\n\u001b[1;32m    443\u001b[0m     \u001b[38;5;28;01mtry\u001b[39;00m:\n\u001b[0;32m--> 444\u001b[0m         httplib_response \u001b[38;5;241m=\u001b[39m \u001b[43mconn\u001b[49m\u001b[38;5;241;43m.\u001b[39;49m\u001b[43mgetresponse\u001b[49m\u001b[43m(\u001b[49m\u001b[43m)\u001b[49m\n\u001b[1;32m    445\u001b[0m     \u001b[38;5;28;01mexcept\u001b[39;00m \u001b[38;5;167;01mBaseException\u001b[39;00m \u001b[38;5;28;01mas\u001b[39;00m e:\n\u001b[1;32m    446\u001b[0m         \u001b[38;5;66;03m# Remove the TypeError from the exception chain in\u001b[39;00m\n\u001b[1;32m    447\u001b[0m         \u001b[38;5;66;03m# Python 3 (including for exceptions like SystemExit).\u001b[39;00m\n\u001b[1;32m    448\u001b[0m         \u001b[38;5;66;03m# Otherwise it looks like a bug in the code.\u001b[39;00m\n\u001b[1;32m    449\u001b[0m         six\u001b[38;5;241m.\u001b[39mraise_from(e, \u001b[38;5;28;01mNone\u001b[39;00m)\n",
      "File \u001b[0;32m/opt/conda/envs/tess/lib/python3.8/http/client.py:1348\u001b[0m, in \u001b[0;36mHTTPConnection.getresponse\u001b[0;34m(self)\u001b[0m\n\u001b[1;32m   1346\u001b[0m \u001b[38;5;28;01mtry\u001b[39;00m:\n\u001b[1;32m   1347\u001b[0m     \u001b[38;5;28;01mtry\u001b[39;00m:\n\u001b[0;32m-> 1348\u001b[0m         \u001b[43mresponse\u001b[49m\u001b[38;5;241;43m.\u001b[39;49m\u001b[43mbegin\u001b[49m\u001b[43m(\u001b[49m\u001b[43m)\u001b[49m\n\u001b[1;32m   1349\u001b[0m     \u001b[38;5;28;01mexcept\u001b[39;00m \u001b[38;5;167;01mConnectionError\u001b[39;00m:\n\u001b[1;32m   1350\u001b[0m         \u001b[38;5;28mself\u001b[39m\u001b[38;5;241m.\u001b[39mclose()\n",
      "File \u001b[0;32m/opt/conda/envs/tess/lib/python3.8/http/client.py:316\u001b[0m, in \u001b[0;36mHTTPResponse.begin\u001b[0;34m(self)\u001b[0m\n\u001b[1;32m    314\u001b[0m \u001b[38;5;66;03m# read until we get a non-100 response\u001b[39;00m\n\u001b[1;32m    315\u001b[0m \u001b[38;5;28;01mwhile\u001b[39;00m \u001b[38;5;28;01mTrue\u001b[39;00m:\n\u001b[0;32m--> 316\u001b[0m     version, status, reason \u001b[38;5;241m=\u001b[39m \u001b[38;5;28;43mself\u001b[39;49m\u001b[38;5;241;43m.\u001b[39;49m\u001b[43m_read_status\u001b[49m\u001b[43m(\u001b[49m\u001b[43m)\u001b[49m\n\u001b[1;32m    317\u001b[0m     \u001b[38;5;28;01mif\u001b[39;00m status \u001b[38;5;241m!=\u001b[39m CONTINUE:\n\u001b[1;32m    318\u001b[0m         \u001b[38;5;28;01mbreak\u001b[39;00m\n",
      "File \u001b[0;32m/opt/conda/envs/tess/lib/python3.8/http/client.py:277\u001b[0m, in \u001b[0;36mHTTPResponse._read_status\u001b[0;34m(self)\u001b[0m\n\u001b[1;32m    276\u001b[0m \u001b[38;5;28;01mdef\u001b[39;00m \u001b[38;5;21m_read_status\u001b[39m(\u001b[38;5;28mself\u001b[39m):\n\u001b[0;32m--> 277\u001b[0m     line \u001b[38;5;241m=\u001b[39m \u001b[38;5;28mstr\u001b[39m(\u001b[38;5;28;43mself\u001b[39;49m\u001b[38;5;241;43m.\u001b[39;49m\u001b[43mfp\u001b[49m\u001b[38;5;241;43m.\u001b[39;49m\u001b[43mreadline\u001b[49m\u001b[43m(\u001b[49m\u001b[43m_MAXLINE\u001b[49m\u001b[43m \u001b[49m\u001b[38;5;241;43m+\u001b[39;49m\u001b[43m \u001b[49m\u001b[38;5;241;43m1\u001b[39;49m\u001b[43m)\u001b[49m, \u001b[38;5;124m\"\u001b[39m\u001b[38;5;124miso-8859-1\u001b[39m\u001b[38;5;124m\"\u001b[39m)\n\u001b[1;32m    278\u001b[0m     \u001b[38;5;28;01mif\u001b[39;00m \u001b[38;5;28mlen\u001b[39m(line) \u001b[38;5;241m>\u001b[39m _MAXLINE:\n\u001b[1;32m    279\u001b[0m         \u001b[38;5;28;01mraise\u001b[39;00m LineTooLong(\u001b[38;5;124m\"\u001b[39m\u001b[38;5;124mstatus line\u001b[39m\u001b[38;5;124m\"\u001b[39m)\n",
      "File \u001b[0;32m/opt/conda/envs/tess/lib/python3.8/socket.py:669\u001b[0m, in \u001b[0;36mSocketIO.readinto\u001b[0;34m(self, b)\u001b[0m\n\u001b[1;32m    667\u001b[0m \u001b[38;5;28;01mwhile\u001b[39;00m \u001b[38;5;28;01mTrue\u001b[39;00m:\n\u001b[1;32m    668\u001b[0m     \u001b[38;5;28;01mtry\u001b[39;00m:\n\u001b[0;32m--> 669\u001b[0m         \u001b[38;5;28;01mreturn\u001b[39;00m \u001b[38;5;28;43mself\u001b[39;49m\u001b[38;5;241;43m.\u001b[39;49m\u001b[43m_sock\u001b[49m\u001b[38;5;241;43m.\u001b[39;49m\u001b[43mrecv_into\u001b[49m\u001b[43m(\u001b[49m\u001b[43mb\u001b[49m\u001b[43m)\u001b[49m\n\u001b[1;32m    670\u001b[0m     \u001b[38;5;28;01mexcept\u001b[39;00m timeout:\n\u001b[1;32m    671\u001b[0m         \u001b[38;5;28mself\u001b[39m\u001b[38;5;241m.\u001b[39m_timeout_occurred \u001b[38;5;241m=\u001b[39m \u001b[38;5;28;01mTrue\u001b[39;00m\n",
      "File \u001b[0;32m/opt/conda/envs/tess/lib/python3.8/ssl.py:1241\u001b[0m, in \u001b[0;36mSSLSocket.recv_into\u001b[0;34m(self, buffer, nbytes, flags)\u001b[0m\n\u001b[1;32m   1237\u001b[0m     \u001b[38;5;28;01mif\u001b[39;00m flags \u001b[38;5;241m!=\u001b[39m \u001b[38;5;241m0\u001b[39m:\n\u001b[1;32m   1238\u001b[0m         \u001b[38;5;28;01mraise\u001b[39;00m \u001b[38;5;167;01mValueError\u001b[39;00m(\n\u001b[1;32m   1239\u001b[0m           \u001b[38;5;124m\"\u001b[39m\u001b[38;5;124mnon-zero flags not allowed in calls to recv_into() on \u001b[39m\u001b[38;5;132;01m%s\u001b[39;00m\u001b[38;5;124m\"\u001b[39m \u001b[38;5;241m%\u001b[39m\n\u001b[1;32m   1240\u001b[0m           \u001b[38;5;28mself\u001b[39m\u001b[38;5;241m.\u001b[39m\u001b[38;5;18m__class__\u001b[39m)\n\u001b[0;32m-> 1241\u001b[0m     \u001b[38;5;28;01mreturn\u001b[39;00m \u001b[38;5;28;43mself\u001b[39;49m\u001b[38;5;241;43m.\u001b[39;49m\u001b[43mread\u001b[49m\u001b[43m(\u001b[49m\u001b[43mnbytes\u001b[49m\u001b[43m,\u001b[49m\u001b[43m \u001b[49m\u001b[43mbuffer\u001b[49m\u001b[43m)\u001b[49m\n\u001b[1;32m   1242\u001b[0m \u001b[38;5;28;01melse\u001b[39;00m:\n\u001b[1;32m   1243\u001b[0m     \u001b[38;5;28;01mreturn\u001b[39;00m \u001b[38;5;28msuper\u001b[39m()\u001b[38;5;241m.\u001b[39mrecv_into(buffer, nbytes, flags)\n",
      "File \u001b[0;32m/opt/conda/envs/tess/lib/python3.8/ssl.py:1099\u001b[0m, in \u001b[0;36mSSLSocket.read\u001b[0;34m(self, len, buffer)\u001b[0m\n\u001b[1;32m   1097\u001b[0m \u001b[38;5;28;01mtry\u001b[39;00m:\n\u001b[1;32m   1098\u001b[0m     \u001b[38;5;28;01mif\u001b[39;00m buffer \u001b[38;5;129;01mis\u001b[39;00m \u001b[38;5;129;01mnot\u001b[39;00m \u001b[38;5;28;01mNone\u001b[39;00m:\n\u001b[0;32m-> 1099\u001b[0m         \u001b[38;5;28;01mreturn\u001b[39;00m \u001b[38;5;28;43mself\u001b[39;49m\u001b[38;5;241;43m.\u001b[39;49m\u001b[43m_sslobj\u001b[49m\u001b[38;5;241;43m.\u001b[39;49m\u001b[43mread\u001b[49m\u001b[43m(\u001b[49m\u001b[38;5;28;43mlen\u001b[39;49m\u001b[43m,\u001b[49m\u001b[43m \u001b[49m\u001b[43mbuffer\u001b[49m\u001b[43m)\u001b[49m\n\u001b[1;32m   1100\u001b[0m     \u001b[38;5;28;01melse\u001b[39;00m:\n\u001b[1;32m   1101\u001b[0m         \u001b[38;5;28;01mreturn\u001b[39;00m \u001b[38;5;28mself\u001b[39m\u001b[38;5;241m.\u001b[39m_sslobj\u001b[38;5;241m.\u001b[39mread(\u001b[38;5;28mlen\u001b[39m)\n",
      "\u001b[0;31mKeyboardInterrupt\u001b[0m: "
     ]
    }
   ],
   "source": [
    "%%time\n",
    "# Specifying exptime='fast' makes this a lot lot lot slower. Too large radius, also too slow.\n",
    "search_result=lk.search_lightcurve('19:22:40 +44:30:00',\n",
    "                                   radius=3600,mission='TESS')                        \n",
    "search_result"
   ]
  },
  {
   "cell_type": "code",
   "execution_count": 30,
   "metadata": {
    "tags": []
   },
   "outputs": [
    {
     "data": {
      "text/plain": [
       "99"
      ]
     },
     "execution_count": 30,
     "metadata": {},
     "output_type": "execute_result"
    }
   ],
   "source": [
    "# Number of unique target names in search results\n",
    "len(np.unique(search_result.target_name))"
   ]
  },
  {
   "cell_type": "code",
   "execution_count": 45,
   "metadata": {
    "tags": []
   },
   "outputs": [
    {
     "name": "stdout",
     "output_type": "stream",
     "text": [
      "30.000354887421892 arcsec ['TESS Sector 14' 'TESS Sector 15' 'TESS Sector 40' 'TESS Sector 41']\n",
      "30.000361601142373 arcsec ['TESS Sector 54' 'TESS Sector 55']\n",
      "34.616661626796216 arcsec ['TESS Sector 14' 'TESS Sector 15' 'TESS Sector 40' 'TESS Sector 41'\n",
      " 'TESS Sector 54' 'TESS Sector 55']\n",
      "58.71195618774269 arcsec ['TESS Sector 54' 'TESS Sector 55']\n",
      "58.71195680711671 arcsec ['TESS Sector 14' 'TESS Sector 15' 'TESS Sector 40' 'TESS Sector 41']\n",
      "61.95413169479124 arcsec ['TESS Sector 15']\n",
      "61.954145771599286 arcsec ['TESS Sector 14']\n",
      "64.21832769658279 arcsec ['TESS Sector 14' 'TESS Sector 15' 'TESS Sector 40' 'TESS Sector 41'\n",
      " 'TESS Sector 54' 'TESS Sector 55']\n",
      "78.7021639550935 arcsec ['TESS Sector 14' 'TESS Sector 15']\n",
      "88.32726364445864 arcsec ['TESS Sector 14' 'TESS Sector 15' 'TESS Sector 40' 'TESS Sector 41'\n",
      " 'TESS Sector 54' 'TESS Sector 55']\n",
      "108.46650133030053 arcsec ['TESS Sector 14' 'TESS Sector 15' 'TESS Sector 40' 'TESS Sector 41'\n",
      " 'TESS Sector 54' 'TESS Sector 55']\n",
      "112.86640399369989 arcsec ['TESS Sector 14' 'TESS Sector 15']\n",
      "119.04213190733545 arcsec ['TESS Sector 14' 'TESS Sector 15' 'TESS Sector 40' 'TESS Sector 41'\n",
      " 'TESS Sector 54' 'TESS Sector 55']\n",
      "123.62478857666311 arcsec ['TESS Sector 14' 'TESS Sector 15']\n",
      "134.7288404318156 arcsec ['TESS Sector 15']\n",
      "134.7288468357361 arcsec ['TESS Sector 14']\n",
      "140.69804747755649 arcsec ['TESS Sector 15']\n",
      "149.32644986492122 arcsec ['Kepler Quarter 04' 'Kepler Quarter 08' 'Kepler Quarter 12'\n",
      " 'Kepler Quarter 16']\n",
      "150.517410080168 arcsec ['TESS Sector 15' 'TESS Sector 54' 'TESS Sector 55']\n",
      "150.5174542893708 arcsec ['TESS Sector 14' 'TESS Sector 15' 'TESS Sector 40' 'TESS Sector 41']\n",
      "154.05343650385817 arcsec ['TESS Sector 15']\n",
      "155.43885453505 arcsec ['Kepler Quarter 02' 'Kepler Quarter 06' 'Kepler Quarter 10'\n",
      " 'Kepler Quarter 14']\n",
      "156.2479991318907 arcsec ['TESS Sector 14' 'TESS Sector 15' 'TESS Sector 40' 'TESS Sector 41'\n",
      " 'TESS Sector 54' 'TESS Sector 55']\n",
      "158.79636833694883 arcsec ['TESS Sector 15' 'TESS Sector 54' 'TESS Sector 55']\n",
      "158.79639399085434 arcsec ['TESS Sector 14' 'TESS Sector 40' 'TESS Sector 41']\n",
      "162.79265645876632 arcsec ['TESS Sector 14' 'TESS Sector 15' 'TESS Sector 40' 'TESS Sector 41'\n",
      " 'TESS Sector 54' 'TESS Sector 55']\n",
      "169.74028738559184 arcsec ['Kepler Quarter 01' 'Kepler Quarter 03' 'Kepler Quarter 05'\n",
      " 'Kepler Quarter 07' 'Kepler Quarter 09' 'Kepler Quarter 11'\n",
      " 'Kepler Quarter 13' 'Kepler Quarter 15' 'Kepler Quarter 17']\n",
      "172.66488472868323 arcsec ['TESS Sector 15' 'TESS Sector 54' 'TESS Sector 55']\n",
      "172.66492017063524 arcsec ['TESS Sector 14' 'TESS Sector 15' 'TESS Sector 40' 'TESS Sector 41']\n",
      "176.1479841747203 arcsec ['Kepler Quarter 02' 'Kepler Quarter 06' 'Kepler Quarter 10'\n",
      " 'Kepler Quarter 14']\n",
      "176.80490558459147 arcsec ['TESS Sector 54' 'TESS Sector 55']\n",
      "176.80492477868552 arcsec ['TESS Sector 14' 'TESS Sector 15' 'TESS Sector 40' 'TESS Sector 41']\n",
      "176.82236197230537 arcsec ['Kepler Quarter 02' 'Kepler Quarter 04' 'Kepler Quarter 06'\n",
      " 'Kepler Quarter 08' 'Kepler Quarter 10' 'Kepler Quarter 12'\n",
      " 'Kepler Quarter 14' 'Kepler Quarter 16']\n",
      "177.16999594563288 arcsec ['TESS Sector 14' 'TESS Sector 15']\n",
      "177.62672661539776 arcsec ['TESS Sector 14' 'TESS Sector 15' 'TESS Sector 40' 'TESS Sector 41'\n",
      " 'TESS Sector 54' 'TESS Sector 55']\n",
      "196.49457962929074 arcsec ['Kepler Quarter 02' 'Kepler Quarter 04']\n",
      "196.77857300575536 arcsec ['Kepler Quarter 01' 'Kepler Quarter 05' 'Kepler Quarter 09'\n",
      " 'Kepler Quarter 13' 'Kepler Quarter 17']\n",
      "203.81095902343614 arcsec ['TESS Sector 14' 'TESS Sector 15' 'TESS Sector 40' 'TESS Sector 41'\n",
      " 'TESS Sector 54' 'TESS Sector 55']\n",
      "203.85928532497547 arcsec ['TESS Sector 14']\n",
      "204.0658114199297 arcsec ['Kepler Quarter 01']\n",
      "204.5539249318713 arcsec ['Kepler Quarter 01' 'Kepler Quarter 03' 'Kepler Quarter 05'\n",
      " 'Kepler Quarter 07' 'Kepler Quarter 09' 'Kepler Quarter 11'\n",
      " 'Kepler Quarter 13' 'Kepler Quarter 15' 'Kepler Quarter 17']\n",
      "205.30879507073195 arcsec ['Kepler Quarter 02' 'Kepler Quarter 04' 'Kepler Quarter 06'\n",
      " 'Kepler Quarter 08' 'Kepler Quarter 10' 'Kepler Quarter 12'\n",
      " 'Kepler Quarter 14' 'Kepler Quarter 16']\n",
      "210.27953282696478 arcsec ['TESS Sector 14' 'TESS Sector 15' 'TESS Sector 40' 'TESS Sector 41'\n",
      " 'TESS Sector 54' 'TESS Sector 55']\n",
      "211.5257294371031 arcsec ['TESS Sector 15']\n",
      "212.43968648395227 arcsec ['TESS Sector 15' 'TESS Sector 54' 'TESS Sector 55']\n",
      "212.43970329729916 arcsec ['TESS Sector 14' 'TESS Sector 15' 'TESS Sector 40' 'TESS Sector 41']\n",
      "218.7632264817629 arcsec ['TESS Sector 14' 'TESS Sector 15' 'TESS Sector 40' 'TESS Sector 41'\n",
      " 'TESS Sector 54' 'TESS Sector 55']\n",
      "222.9065119835918 arcsec ['Kepler Quarter 02' 'Kepler Quarter 04' 'Kepler Quarter 06'\n",
      " 'Kepler Quarter 08' 'Kepler Quarter 10' 'Kepler Quarter 12'\n",
      " 'Kepler Quarter 14' 'Kepler Quarter 16']\n",
      "229.6847018933528 arcsec ['TESS Sector 14' 'TESS Sector 15' 'TESS Sector 40' 'TESS Sector 41'\n",
      " 'TESS Sector 54' 'TESS Sector 55']\n",
      "232.1669321230926 arcsec ['Kepler Quarter 01' 'Kepler Quarter 02' 'Kepler Quarter 04'\n",
      " 'Kepler Quarter 05' 'Kepler Quarter 06' 'Kepler Quarter 08'\n",
      " 'Kepler Quarter 09' 'Kepler Quarter 10' 'Kepler Quarter 12'\n",
      " 'Kepler Quarter 13' 'Kepler Quarter 14' 'Kepler Quarter 16'\n",
      " 'Kepler Quarter 17']\n",
      "232.2980974575156 arcsec ['Kepler Quarter 01' 'Kepler Quarter 03' 'Kepler Quarter 05'\n",
      " 'Kepler Quarter 07' 'Kepler Quarter 09' 'Kepler Quarter 11'\n",
      " 'Kepler Quarter 13' 'Kepler Quarter 15' 'Kepler Quarter 17']\n",
      "237.34803005545874 arcsec ['TESS Sector 14' 'TESS Sector 15' 'TESS Sector 40' 'TESS Sector 41'\n",
      " 'TESS Sector 54' 'TESS Sector 55']\n",
      "239.1755727507862 arcsec ['TESS Sector 14']\n",
      "239.17559609668416 arcsec ['TESS Sector 15']\n",
      "242.6020137021229 arcsec ['TESS Sector 15']\n",
      "243.4854165214692 arcsec ['Kepler Quarter 00' 'Kepler Quarter 01' 'Kepler Quarter 03'\n",
      " 'Kepler Quarter 05' 'Kepler Quarter 07' 'Kepler Quarter 09'\n",
      " 'Kepler Quarter 11' 'Kepler Quarter 13' 'Kepler Quarter 15'\n",
      " 'Kepler Quarter 17']\n",
      "244.1492629961715 arcsec ['TESS Sector 15']\n",
      "245.2752635214452 arcsec ['Kepler Quarter 02' 'Kepler Quarter 04' 'Kepler Quarter 06'\n",
      " 'Kepler Quarter 08' 'Kepler Quarter 10' 'Kepler Quarter 12'\n",
      " 'Kepler Quarter 14' 'Kepler Quarter 16']\n",
      "249.8912571738232 arcsec ['TESS Sector 15' 'TESS Sector 54' 'TESS Sector 55']\n",
      "249.89126660869016 arcsec ['TESS Sector 14' 'TESS Sector 15' 'TESS Sector 40' 'TESS Sector 41']\n",
      "252.30859740110228 arcsec ['Kepler Quarter 01' 'Kepler Quarter 03' 'Kepler Quarter 05'\n",
      " 'Kepler Quarter 07' 'Kepler Quarter 09' 'Kepler Quarter 11'\n",
      " 'Kepler Quarter 13' 'Kepler Quarter 15' 'Kepler Quarter 17']\n",
      "259.6196286085253 arcsec ['TESS Sector 15']\n",
      "259.6196449673565 arcsec ['TESS Sector 14']\n",
      "266.6792871403448 arcsec ['TESS Sector 14' 'TESS Sector 15' 'TESS Sector 40' 'TESS Sector 41'\n",
      " 'TESS Sector 54' 'TESS Sector 55']\n",
      "267.27731560392846 arcsec ['Kepler Quarter 02' 'Kepler Quarter 04' 'Kepler Quarter 06'\n",
      " 'Kepler Quarter 08' 'Kepler Quarter 10' 'Kepler Quarter 12'\n",
      " 'Kepler Quarter 14' 'Kepler Quarter 16']\n",
      "272.4952966545036 arcsec ['TESS Sector 14' 'TESS Sector 15' 'TESS Sector 40' 'TESS Sector 41'\n",
      " 'TESS Sector 54' 'TESS Sector 55']\n",
      "274.83732694945826 arcsec ['Kepler Quarter 01' 'Kepler Quarter 02' 'Kepler Quarter 03'\n",
      " 'Kepler Quarter 04' 'Kepler Quarter 05' 'Kepler Quarter 06'\n",
      " 'Kepler Quarter 07' 'Kepler Quarter 08' 'Kepler Quarter 09'\n",
      " 'Kepler Quarter 10' 'Kepler Quarter 11' 'Kepler Quarter 12'\n",
      " 'Kepler Quarter 13' 'Kepler Quarter 14' 'Kepler Quarter 15'\n",
      " 'Kepler Quarter 16' 'Kepler Quarter 17']\n",
      "275.2687188179474 arcsec ['Kepler Quarter 00' 'Kepler Quarter 01' 'Kepler Quarter 03'\n",
      " 'Kepler Quarter 05' 'Kepler Quarter 07' 'Kepler Quarter 09'\n",
      " 'Kepler Quarter 11' 'Kepler Quarter 13' 'Kepler Quarter 15'\n",
      " 'Kepler Quarter 17']\n",
      "276.26851272120143 arcsec ['Kepler Quarter 03' 'Kepler Quarter 05' 'Kepler Quarter 07'\n",
      " 'Kepler Quarter 09' 'Kepler Quarter 11' 'Kepler Quarter 13'\n",
      " 'Kepler Quarter 15' 'Kepler Quarter 17']\n",
      "280.65573062792237 arcsec ['TESS Sector 15']\n",
      "281.53244388601905 arcsec ['Kepler Quarter 02' 'Kepler Quarter 04' 'Kepler Quarter 06'\n",
      " 'Kepler Quarter 08' 'Kepler Quarter 10' 'Kepler Quarter 12'\n",
      " 'Kepler Quarter 14' 'Kepler Quarter 16']\n",
      "282.22324413285554 arcsec ['Kepler Quarter 02' 'Kepler Quarter 04' 'Kepler Quarter 06'\n",
      " 'Kepler Quarter 08' 'Kepler Quarter 10' 'Kepler Quarter 12'\n",
      " 'Kepler Quarter 14' 'Kepler Quarter 16']\n",
      "282.6763425534895 arcsec ['TESS Sector 14' 'TESS Sector 15' 'TESS Sector 40' 'TESS Sector 41'\n",
      " 'TESS Sector 54' 'TESS Sector 55']\n",
      "283.062084348783 arcsec ['TESS Sector 40' 'TESS Sector 41' 'TESS Sector 54' 'TESS Sector 55']\n",
      "283.55335020497796 arcsec ['Kepler Quarter 02' 'Kepler Quarter 04' 'Kepler Quarter 06'\n",
      " 'Kepler Quarter 08' 'Kepler Quarter 10' 'Kepler Quarter 12'\n",
      " 'Kepler Quarter 14' 'Kepler Quarter 16']\n",
      "286.17341293709035 arcsec ['Kepler Quarter 02' 'Kepler Quarter 04' 'Kepler Quarter 06'\n",
      " 'Kepler Quarter 08' 'Kepler Quarter 10' 'Kepler Quarter 12'\n",
      " 'Kepler Quarter 14' 'Kepler Quarter 16']\n",
      "287.08741483540325 arcsec ['TESS Sector 15']\n",
      "288.0777916949683 arcsec ['TESS Sector 15' 'TESS Sector 54' 'TESS Sector 55']\n",
      "288.077816379402 arcsec ['TESS Sector 14' 'TESS Sector 15' 'TESS Sector 40' 'TESS Sector 41']\n",
      "288.721432195763 arcsec ['TESS Sector 14' 'TESS Sector 15' 'TESS Sector 40' 'TESS Sector 41'\n",
      " 'TESS Sector 54' 'TESS Sector 55']\n",
      "289.2490341993294 arcsec ['TESS Sector 15']\n",
      "293.54576281880355 arcsec ['TESS Sector 15' 'TESS Sector 54' 'TESS Sector 55']\n",
      "293.5457878788868 arcsec ['TESS Sector 14' 'TESS Sector 15' 'TESS Sector 40' 'TESS Sector 41']\n",
      "295.7850319699055 arcsec ['Kepler Quarter 01' 'Kepler Quarter 02' 'Kepler Quarter 03'\n",
      " 'Kepler Quarter 04' 'Kepler Quarter 05' 'Kepler Quarter 06'\n",
      " 'Kepler Quarter 07' 'Kepler Quarter 08' 'Kepler Quarter 09'\n",
      " 'Kepler Quarter 10' 'Kepler Quarter 11' 'Kepler Quarter 12'\n",
      " 'Kepler Quarter 13' 'Kepler Quarter 14' 'Kepler Quarter 15'\n",
      " 'Kepler Quarter 16' 'Kepler Quarter 17']\n",
      "301.1372165681244 arcsec ['Kepler Quarter 00' 'Kepler Quarter 01' 'Kepler Quarter 03'\n",
      " 'Kepler Quarter 05' 'Kepler Quarter 07' 'Kepler Quarter 09'\n",
      " 'Kepler Quarter 11' 'Kepler Quarter 13' 'Kepler Quarter 15'\n",
      " 'Kepler Quarter 17']\n",
      "301.5212099852421 arcsec ['Kepler Quarter 01' 'Kepler Quarter 03' 'Kepler Quarter 05'\n",
      " 'Kepler Quarter 07' 'Kepler Quarter 09' 'Kepler Quarter 11'\n",
      " 'Kepler Quarter 13' 'Kepler Quarter 15' 'Kepler Quarter 17']\n",
      "302.3443405348367 arcsec ['TESS Sector 14' 'TESS Sector 15' 'TESS Sector 40' 'TESS Sector 41'\n",
      " 'TESS Sector 54' 'TESS Sector 55']\n",
      "306.4234881120043 arcsec ['Kepler Quarter 02' 'Kepler Quarter 04' 'Kepler Quarter 06'\n",
      " 'Kepler Quarter 08' 'Kepler Quarter 10' 'Kepler Quarter 12'\n",
      " 'Kepler Quarter 14' 'Kepler Quarter 16']\n",
      "308.37630130824164 arcsec ['TESS Sector 15']\n",
      "308.42023418287494 arcsec ['TESS Sector 14' 'TESS Sector 15' 'TESS Sector 40' 'TESS Sector 41'\n",
      " 'TESS Sector 54' 'TESS Sector 55']\n",
      "318.3919759071551 arcsec ['TESS Sector 15']\n",
      "319.66908092225685 arcsec ['TESS Sector 15']\n",
      "321.87453300119387 arcsec ['TESS Sector 14' 'TESS Sector 15' 'TESS Sector 40' 'TESS Sector 41'\n",
      " 'TESS Sector 54' 'TESS Sector 55']\n",
      "322.8152503810715 arcsec ['TESS Sector 15']\n",
      "323.9899733132816 arcsec ['Kepler Quarter 01' 'Kepler Quarter 02' 'Kepler Quarter 04'\n",
      " 'Kepler Quarter 05' 'Kepler Quarter 06' 'Kepler Quarter 08'\n",
      " 'Kepler Quarter 09' 'Kepler Quarter 10' 'Kepler Quarter 12'\n",
      " 'Kepler Quarter 13' 'Kepler Quarter 14' 'Kepler Quarter 16'\n",
      " 'Kepler Quarter 17']\n",
      "324.37567096022906 arcsec ['TESS Sector 14']\n",
      "325.53468073961125 arcsec ['TESS Sector 14' 'TESS Sector 15' 'TESS Sector 40' 'TESS Sector 41'\n",
      " 'TESS Sector 54' 'TESS Sector 55']\n",
      "327.69875311362495 arcsec ['Kepler Quarter 02' 'Kepler Quarter 04' 'Kepler Quarter 06'\n",
      " 'Kepler Quarter 08' 'Kepler Quarter 10' 'Kepler Quarter 12'\n",
      " 'Kepler Quarter 14' 'Kepler Quarter 16']\n",
      "328.6477044936041 arcsec ['Kepler Quarter 00']\n",
      "331.96551254138495 arcsec ['Kepler Quarter 02' 'Kepler Quarter 03' 'Kepler Quarter 04'\n",
      " 'Kepler Quarter 06' 'Kepler Quarter 07' 'Kepler Quarter 08'\n",
      " 'Kepler Quarter 10' 'Kepler Quarter 11' 'Kepler Quarter 12'\n",
      " 'Kepler Quarter 14' 'Kepler Quarter 15' 'Kepler Quarter 16']\n",
      "332.8042355478793 arcsec ['TESS Sector 14']\n",
      "333.4044050091955 arcsec ['TESS Sector 14' 'TESS Sector 15' 'TESS Sector 40' 'TESS Sector 41'\n",
      " 'TESS Sector 54' 'TESS Sector 55']\n",
      "333.6525545076818 arcsec ['TESS Sector 15' 'TESS Sector 54' 'TESS Sector 55']\n",
      "333.65259009657206 arcsec ['TESS Sector 14' 'TESS Sector 15' 'TESS Sector 40' 'TESS Sector 41']\n",
      "336.40160829426253 arcsec ['TESS Sector 14' 'TESS Sector 15' 'TESS Sector 40' 'TESS Sector 41'\n",
      " 'TESS Sector 54' 'TESS Sector 55']\n",
      "336.85908004007985 arcsec ['Kepler Quarter 00' 'Kepler Quarter 01' 'Kepler Quarter 02'\n",
      " 'Kepler Quarter 03' 'Kepler Quarter 04' 'Kepler Quarter 05'\n",
      " 'Kepler Quarter 06' 'Kepler Quarter 07' 'Kepler Quarter 08'\n",
      " 'Kepler Quarter 09' 'Kepler Quarter 10' 'Kepler Quarter 11'\n",
      " 'Kepler Quarter 12' 'Kepler Quarter 13' 'Kepler Quarter 14'\n",
      " 'Kepler Quarter 15' 'Kepler Quarter 16' 'Kepler Quarter 17']\n",
      "338.0175644895473 arcsec ['TESS Sector 15' 'TESS Sector 54' 'TESS Sector 55']\n",
      "338.0175861204218 arcsec ['TESS Sector 14' 'TESS Sector 15' 'TESS Sector 40' 'TESS Sector 41']\n",
      "339.5403897134647 arcsec ['TESS Sector 14' 'TESS Sector 15']\n",
      "341.7000145809824 arcsec ['Kepler Quarter 01' 'Kepler Quarter 02' 'Kepler Quarter 03'\n",
      " 'Kepler Quarter 04' 'Kepler Quarter 05' 'Kepler Quarter 06'\n",
      " 'Kepler Quarter 07' 'Kepler Quarter 08' 'Kepler Quarter 09'\n",
      " 'Kepler Quarter 10' 'Kepler Quarter 11' 'Kepler Quarter 12'\n",
      " 'Kepler Quarter 13' 'Kepler Quarter 14' 'Kepler Quarter 15'\n",
      " 'Kepler Quarter 16' 'Kepler Quarter 17']\n",
      "343.5194553371634 arcsec ['TESS Sector 15' 'TESS Sector 54' 'TESS Sector 55']\n",
      "343.51947836391315 arcsec ['TESS Sector 14' 'TESS Sector 15' 'TESS Sector 40' 'TESS Sector 41']\n",
      "349.09083462031094 arcsec ['Kepler Quarter 01' 'Kepler Quarter 02' 'Kepler Quarter 03'\n",
      " 'Kepler Quarter 04' 'Kepler Quarter 05' 'Kepler Quarter 06'\n",
      " 'Kepler Quarter 07' 'Kepler Quarter 08' 'Kepler Quarter 09'\n",
      " 'Kepler Quarter 10' 'Kepler Quarter 11' 'Kepler Quarter 12'\n",
      " 'Kepler Quarter 13' 'Kepler Quarter 14' 'Kepler Quarter 15'\n",
      " 'Kepler Quarter 16' 'Kepler Quarter 17']\n",
      "349.27732030448016 arcsec ['TESS Sector 15']\n",
      "349.27734317277327 arcsec ['TESS Sector 14' 'TESS Sector 15']\n",
      "352.4158903389 arcsec ['Kepler Quarter 16']\n",
      "355.59760985132635 arcsec ['TESS Sector 14' 'TESS Sector 15']\n",
      "357.1456871422551 arcsec ['Kepler Quarter 01' 'Kepler Quarter 02' 'Kepler Quarter 03']\n",
      "357.71377378866407 arcsec ['Kepler Quarter 01' 'Kepler Quarter 03' 'Kepler Quarter 05'\n",
      " 'Kepler Quarter 07' 'Kepler Quarter 09' 'Kepler Quarter 11'\n",
      " 'Kepler Quarter 13' 'Kepler Quarter 15' 'Kepler Quarter 17']\n"
     ]
    }
   ],
   "source": [
    "# Number of unique target names in search results\n",
    "uniquedist=np.unique(search_result.distance)\n",
    "for i,dist in enumerate(uniquedist):\n",
    "    missions=np.unique(search_result.mission[np.where(search_result.distance==dist)])\n",
    "    print(dist,missions)"
   ]
  },
  {
   "cell_type": "markdown",
   "metadata": {},
   "source": [
    "## Load full table of Kepler Threshold Crossing Events, or TCEs and filter by period\n",
    "\n",
    "https://exoplanetarchive.ipac.caltech.edu/docs/program_interfaces.html#tce\n",
    "```"
   ]
  },
  {
   "cell_type": "code",
   "execution_count": 56,
   "metadata": {
    "tags": []
   },
   "outputs": [
    {
     "name": "stderr",
     "output_type": "stream",
     "text": [
      "WARNING: OverflowError converting to FloatType in column boot_fap, possibly resulting in degraded precision. [astropy.io.ascii.fastbasic]\n"
     ]
    },
    {
     "data": {
      "text/plain": [
       "20367"
      ]
     },
     "execution_count": 56,
     "metadata": {},
     "output_type": "execute_result"
    }
   ],
   "source": [
    "# Load the TCE table as an astropy table.\n",
    "# For some reason, this worked earlier, and now does not. Downloaded a copy of the dr24 version and loaded it locally. NOt ideal.\n",
    "#tab=Table.read('https://exoplanetarchive.ipac.caltech.edu/cgi-bin/nstedAPI/nph-nstedAPI?table=q1_q17_dr25_tce',format='ascii.csv')\n",
    "tab=Table.read('./q1_q17_dr24_tce_2023.05.29_11.07.52.csv',format='ascii.csv',comment='#')\n",
    "len(tab)"
   ]
  },
  {
   "cell_type": "code",
   "execution_count": 57,
   "metadata": {
    "tags": []
   },
   "outputs": [
    {
     "data": {
      "text/plain": [
       "<TableColumns names=('rowid','kepid','tce_plnt_num','tce_rogue_flag','tce_delivname','rowupdate','tce_datalink_dvs','tce_datalink_dvr','tce_period','tce_period_err','tce_time0bk','tce_time0bk_err','tce_time0','tce_time0_err','tce_ror','tce_ror_err','tce_dor','tce_dor_err','tce_incl','tce_incl_err','tce_impact','tce_impact_err','tce_duration','tce_duration_err','tce_ingress','tce_ingress_err','tce_depth','tce_depth_err','tce_eccen','tce_eccen_err','tce_longp','tce_longp_err','tce_limbdark_mod','tce_ldm_coeff1','tce_ldm_coeff2','tce_ldm_coeff3','tce_ldm_coeff4','tce_num_transits','tce_trans_mod','tce_full_conv','tce_model_snr','tce_model_chisq','tce_model_dof','tce_robstat','tce_dof1','tce_dof2','tce_chisq1','tce_chisq2','tce_chisqgofdof','tce_chisqgof','tce_prad','tce_prad_err','tce_sma','tce_sma_err','tce_eqt','tce_eqt_err','tce_insol','tce_insol_err','tce_nkoi','tce_ioflag','tce_quarters','tce_steff','tce_steff_err','tce_slogg','tce_slogg_err','tce_smet','tce_smet_err','tce_sradius','tce_sradius_err','tce_steff_prov','tce_slogg_prov','tce_smet_prov','tce_sradius_prov','tcet_period','tcet_period_err','tcet_time0bk','tcet_time0bk_err','tcet_time0','tcet_time0_err','tcet_duration','tcet_duration_err','tcet_ingress','tcet_ingress_err','tcet_depth','tcet_depth_err','tcet_full_conv','tcet_model_chisq','tcet_model_dof','wst_robstat','wst_depth','tce_mesmedian','tce_mesmad','tce_maxmes','tce_minmes','tce_maxmesd','tce_minmesd','tce_max_sngle_ev','tce_max_mult_ev','tce_bin_oedp_stat','tce_rmesmad','tce_rsnrmes','tce_rminmes','tce_albedo','tce_albedo_err','tce_ptemp','tce_ptemp_err','tce_albedo_stat','tce_ptemp_stat','av_vf_pc','av_vf_pc_err','av_vf_afp','av_vf_afp_err','av_vf_ntp','av_vf_ntp_err','av_pp_pc','av_pp_afp','av_pp_ntp','av_training_set','av_pred_class','boot_fap','boot_mesthresh','boot_mesmean','boot_messtd','tce_cap_stat','tce_hap_stat','tce_rb_tpdur','tce_rb_tcount0','tce_rb_tcount1','tce_rb_tcount2','tce_rb_tcount3','tce_rb_tcount4','tce_fwm_stat','tce_fwm_sra','tce_fwm_sra_err','tce_fwm_sdec','tce_fwm_sdec_err','tce_fwm_srao','tce_fwm_srao_err','tce_fwm_sdeco','tce_fwm_sdeco_err','tce_fwm_prao','tce_fwm_prao_err','tce_fwm_pdeco','tce_fwm_pdeco_err','tce_dicco_mra','tce_dicco_mra_err','tce_dicco_mdec','tce_dicco_mdec_err','tce_dicco_msky','tce_dicco_msky_err','tce_dikco_mra','tce_dikco_mra_err','tce_dikco_mdec','tce_dikco_mdec_err','tce_dikco_msky','tce_dikco_msky_err')>"
      ]
     },
     "execution_count": 57,
     "metadata": {},
     "output_type": "execute_result"
    }
   ],
   "source": [
    "# View the full list of column names\n",
    "# More info here: https://exoplanetarchive.ipac.caltech.edu/docs/API_tce_columns.html \n",
    "tab.columns"
   ]
  },
  {
   "cell_type": "markdown",
   "metadata": {},
   "source": [
    "The NASA Exoplanet Archive provides detailed information about the [Data Columns in the Kepler TCE Table](https://exoplanetarchive.ipac.caltech.edu/docs/API_tce_columns.html). Some of the most important columns for us will be:\n",
    "- kepid, Kepler identification number, which we can use when searching the MAST Archive.\n",
    "- tce_period, the orbital period in days.\n",
    "\n",
    "JRK - DR24 has an \"autovetter\" parameter that could help us identify likely planet candidates instead of false positives."
   ]
  },
  {
   "cell_type": "code",
   "execution_count": 58,
   "metadata": {
    "tags": []
   },
   "outputs": [
    {
     "data": {
      "text/plain": [
       "1375"
      ]
     },
     "execution_count": 58,
     "metadata": {},
     "output_type": "execute_result"
    }
   ],
   "source": [
    "# Only include those table rows with TCE period greater than 180 days\n",
    "tab=tab[tab['tce_period']>180]\n",
    "len(tab)"
   ]
  },
  {
   "cell_type": "code",
   "execution_count": 59,
   "metadata": {
    "tags": []
   },
   "outputs": [
    {
     "name": "stdout",
     "output_type": "stream",
     "text": [
      "rowid  kepid   tce_plnt_num ... tce_dikco_msky tce_dikco_msky_err\n",
      "----- -------- ------------ ... -------------- ------------------\n",
      "    5  1164109            1 ...         15.207             0.0893\n",
      "   41  2307197            1 ...         5.0511              0.365\n",
      "   62  2721129            1 ...        0.83562               0.57\n",
      "   63  2721129            2 ...        0.15984               0.64\n",
      "   94  2439798            1 ...            0.0               -1.0\n",
      "  118  2988768            1 ...            0.0               -1.0\n",
      "  130  1867078            1 ...            0.0               -1.0\n",
      "  141  2307206            1 ...            0.0               -1.0\n",
      "  142  2307206            2 ...        0.19003             0.0871\n",
      "  167  2831048            1 ...         2.3961              0.171\n",
      "  ...      ...          ... ...            ...                ...\n",
      "20248 12020252            1 ...         7.5142               1.17\n",
      "20254 12117945            1 ...            0.0               -1.0\n",
      "20258 12206313            3 ...         1.0311              0.344\n",
      "20267 12352485            1 ...         4.3753               1.22\n",
      "20280 11716643            1 ...        0.17134              0.105\n",
      "20282 11761199            1 ...       0.059114             0.0711\n",
      "20283 11761199            2 ...        0.15111             0.0781\n",
      "20289 11808036            1 ...         10.876              0.168\n",
      "20327 12265078            1 ...         15.476               2.09\n",
      "20328 12353501            1 ...            0.0               -1.0\n",
      "20333 12417370            1 ...         4.5451              0.138\n",
      "Length = 1375 rows\n"
     ]
    }
   ],
   "source": [
    "tab.pprint()"
   ]
  },
  {
   "cell_type": "code",
   "execution_count": 60,
   "metadata": {
    "tags": []
   },
   "outputs": [
    {
     "data": {
      "text/plain": [
       "'1164109'"
      ]
     },
     "execution_count": 60,
     "metadata": {},
     "output_type": "execute_result"
    }
   ],
   "source": [
    "str(tab['kepid'][0])"
   ]
  },
  {
   "cell_type": "markdown",
   "metadata": {
    "slideshow": {
     "slide_type": "slide"
    }
   },
   "source": [
    "## Find all TESS 20-second targets for these Kepler TCEs"
   ]
  },
  {
   "cell_type": "code",
   "execution_count": 63,
   "metadata": {
    "tags": []
   },
   "outputs": [
    {
     "name": "stdout",
     "output_type": "stream",
     "text": [
      "intentType obs_collection provenance_name ...   obsid        distance     \n",
      "---------- -------------- --------------- ... --------- ------------------\n",
      "   science           TESS            SPOC ...  27463635                0.0\n",
      "   science           TESS            SPOC ...  62431369                0.0\n",
      "   science           TESS            SPOC ...  62870781                0.0\n",
      "   science           TESS            SPOC ...  92616912                0.0\n",
      "   science           TESS            SPOC ...  95133363                0.0\n",
      "   science           TESS            SPOC ...  62349769 427.97454412052343\n",
      "   science           TESS            SPOC ...  62793217 427.97454412052343\n",
      "   science           TESS            SPOC ...  91546989 427.97454412052343\n",
      "   science           TESS            SPOC ...  93771903 427.97454412052343\n",
      "   science           TESS            SPOC ...  27447307  534.1142946016103\n",
      "       ...            ...             ... ...       ...                ...\n",
      "   science           HLSP           TASOC ...  96698709  717.6818517245974\n",
      "   science           HLSP      KEPSEISMIC ...  31180361  719.8948839395437\n",
      "   science           HLSP      KEPSEISMIC ...  31580205  719.8948839395437\n",
      "   science           HLSP      KEPSEISMIC ...  31413684  719.8948839395437\n",
      "   science           HLSP             QLP ... 127076601  719.9165779133756\n",
      "   science           HLSP             QLP ... 130222309  719.9165779133756\n",
      "   science           HLSP             QLP ...  43650889  719.9166239821611\n",
      "   science           HLSP             QLP ...  92885480  719.9166239821611\n",
      "   science           HLSP             QLP ...  94085849  719.9166239821611\n",
      "   science           HLSP           TASOC ...  95762009  719.9166239821611\n",
      "   science           HLSP       TESS-SPOC ...  90675056  719.9166239821611\n",
      "Length = 1548 rows\n"
     ]
    }
   ],
   "source": [
    "obs_table = Observations.query_object('KIC 1164109')\n",
    "obs_table.pprint()"
   ]
  },
  {
   "cell_type": "code",
   "execution_count": 62,
   "metadata": {
    "tags": []
   },
   "outputs": [
    {
     "data": {
      "text/html": [
       "&lt;MaskedColumn name=&apos;target_name&apos; dtype=&apos;str32&apos; length=2060&gt;\n",
       "<table>\n",
       "<tr><td>TESS FFI</td></tr>\n",
       "<tr><td>TESS FFI</td></tr>\n",
       "<tr><td>TESS FFI</td></tr>\n",
       "<tr><td>TESS FFI</td></tr>\n",
       "<tr><td>TESS FFI</td></tr>\n",
       "<tr><td>137316027</td></tr>\n",
       "<tr><td>137316027</td></tr>\n",
       "<tr><td>1876944736</td></tr>\n",
       "<tr><td>1876944736</td></tr>\n",
       "<tr><td>1876944736</td></tr>\n",
       "<tr><td>1876944736</td></tr>\n",
       "<tr><td>1876944736</td></tr>\n",
       "<tr><td>...</td></tr>\n",
       "<tr><td>kplr002445580</td></tr>\n",
       "<tr><td>137347966</td></tr>\n",
       "<tr><td>kplr002015703</td></tr>\n",
       "<tr><td>kplr002015703</td></tr>\n",
       "<tr><td>kplr002015703</td></tr>\n",
       "<tr><td>137148903</td></tr>\n",
       "<tr><td>137148903</td></tr>\n",
       "<tr><td>137148903</td></tr>\n",
       "<tr><td>137148903</td></tr>\n",
       "<tr><td>137148903</td></tr>\n",
       "<tr><td>137148903</td></tr>\n",
       "<tr><td>GI6_079001_Kepler_UZ_Lyr_css3825</td></tr>\n",
       "</table>"
      ],
      "text/plain": [
       "<MaskedColumn name='target_name' dtype='str32' length=2060>\n",
       "                        TESS FFI\n",
       "                        TESS FFI\n",
       "                        TESS FFI\n",
       "                        TESS FFI\n",
       "                        TESS FFI\n",
       "                       137316027\n",
       "                       137316027\n",
       "                      1876944736\n",
       "                      1876944736\n",
       "                      1876944736\n",
       "                      1876944736\n",
       "                      1876944736\n",
       "                             ...\n",
       "                   kplr002445580\n",
       "                       137347966\n",
       "                   kplr002015703\n",
       "                   kplr002015703\n",
       "                   kplr002015703\n",
       "                       137148903\n",
       "                       137148903\n",
       "                       137148903\n",
       "                       137148903\n",
       "                       137148903\n",
       "                       137148903\n",
       "GI6_079001_Kepler_UZ_Lyr_css3825"
      ]
     },
     "execution_count": 62,
     "metadata": {},
     "output_type": "execute_result"
    }
   ],
   "source": [
    "obs_table['target_name']"
   ]
  },
  {
   "cell_type": "markdown",
   "metadata": {},
   "source": [
    "### Lightkurve?"
   ]
  },
  {
   "cell_type": "code",
   "execution_count": 68,
   "metadata": {
    "tags": []
   },
   "outputs": [
    {
     "data": {
      "text/html": [
       "SearchResult containing 31 data products.\n",
       "\n",
       "<table id=\"table139783131023680\">\n",
       "<thead><tr><th>#</th><th>mission</th><th>year</th><th>author</th><th>exptime</th><th>target_name</th><th>distance</th></tr></thead>\n",
       "<thead><tr><th></th><th></th><th></th><th></th><th>s</th><th></th><th>arcsec</th></tr></thead>\n",
       "<tr><td>0</td><td>Kepler Quarter 00</td><td>2009</td><td><a href='https://archive.stsci.edu/kepler/data_products.html'>Kepler</a></td><td>1800</td><td>kplr001164109</td><td>0.0</td></tr>\n",
       "<tr><td>1</td><td>Kepler Quarter 01</td><td>2009</td><td><a href='https://archive.stsci.edu/kepler/data_products.html'>Kepler</a></td><td>1800</td><td>kplr001164109</td><td>0.0</td></tr>\n",
       "<tr><td>2</td><td>Kepler Quarter 02</td><td>2009</td><td><a href='https://archive.stsci.edu/kepler/data_products.html'>Kepler</a></td><td>60</td><td>kplr001164109</td><td>0.0</td></tr>\n",
       "<tr><td>3</td><td>Kepler Quarter 02</td><td>2009</td><td><a href='https://archive.stsci.edu/kepler/data_products.html'>Kepler</a></td><td>1800</td><td>kplr001164109</td><td>0.0</td></tr>\n",
       "<tr><td>4</td><td>Kepler Quarter 03</td><td>2009</td><td><a href='https://archive.stsci.edu/kepler/data_products.html'>Kepler</a></td><td>1800</td><td>kplr001164109</td><td>0.0</td></tr>\n",
       "<tr><td>5</td><td>Kepler Quarter 04</td><td>2010</td><td><a href='https://archive.stsci.edu/kepler/data_products.html'>Kepler</a></td><td>1800</td><td>kplr001164109</td><td>0.0</td></tr>\n",
       "<tr><td>6</td><td>Kepler Quarter 05</td><td>2010</td><td><a href='https://archive.stsci.edu/kepler/data_products.html'>Kepler</a></td><td>1800</td><td>kplr001164109</td><td>0.0</td></tr>\n",
       "<tr><td>7</td><td>Kepler Quarter 06</td><td>2010</td><td><a href='https://archive.stsci.edu/kepler/data_products.html'>Kepler</a></td><td>1800</td><td>kplr001164109</td><td>0.0</td></tr>\n",
       "<tr><td>8</td><td>Kepler Quarter 07</td><td>2010</td><td><a href='https://archive.stsci.edu/kepler/data_products.html'>Kepler</a></td><td>1800</td><td>kplr001164109</td><td>0.0</td></tr>\n",
       "<tr><td>9</td><td>Kepler Quarter 08</td><td>2011</td><td><a href='https://archive.stsci.edu/kepler/data_products.html'>Kepler</a></td><td>1800</td><td>kplr001164109</td><td>0.0</td></tr>\n",
       "<tr><td>...</td><td>...</td><td>...</td><td>...</td><td>...</td><td>...</td><td>...</td></tr>\n",
       "<tr><td>21</td><td>TESS Sector 14</td><td>2019</td><td><a href='https://archive.stsci.edu/hlsp/tasoc'>TASOC</a></td><td>1800</td><td>137313572</td><td>0.0</td></tr>\n",
       "<tr><td>22</td><td>TESS Sector 14</td><td>2019</td><td><a href='https://archive.stsci.edu/hlsp/tasoc'>TASOC</a></td><td>1800</td><td>137313572</td><td>0.0</td></tr>\n",
       "<tr><td>23</td><td>TESS Sector 40</td><td>2021</td><td><a href='https://archive.stsci.edu/hlsp/tess-spoc'>TESS-SPOC</a></td><td>600</td><td>137313572</td><td>0.0</td></tr>\n",
       "<tr><td>24</td><td>TESS Sector 40</td><td>2021</td><td><a href='https://archive.stsci.edu/hlsp/qlp'>QLP</a></td><td>600</td><td>137313572</td><td>0.0</td></tr>\n",
       "<tr><td>25</td><td>TESS Sector 41</td><td>2021</td><td><a href='https://archive.stsci.edu/hlsp/tess-spoc'>TESS-SPOC</a></td><td>600</td><td>137313572</td><td>0.0</td></tr>\n",
       "<tr><td>26</td><td>TESS Sector 41</td><td>2021</td><td><a href='https://archive.stsci.edu/hlsp/qlp'>QLP</a></td><td>600</td><td>137313572</td><td>0.0</td></tr>\n",
       "<tr><td>27</td><td>TESS Sector 54</td><td>2022</td><td><a href='https://archive.stsci.edu/hlsp/tess-spoc'>TESS-SPOC</a></td><td>600</td><td>137313572</td><td>0.0</td></tr>\n",
       "<tr><td>28</td><td>TESS Sector 54</td><td>2022</td><td><a href='https://archive.stsci.edu/hlsp/qlp'>QLP</a></td><td>600</td><td>137313572</td><td>0.0</td></tr>\n",
       "<tr><td>29</td><td>TESS Sector 55</td><td>2022</td><td><a href='https://archive.stsci.edu/hlsp/tess-spoc'>TESS-SPOC</a></td><td>600</td><td>137313572</td><td>0.0</td></tr>\n",
       "<tr><td>30</td><td>TESS Sector 55</td><td>2022</td><td><a href='https://archive.stsci.edu/hlsp/qlp'>QLP</a></td><td>600</td><td>137313572</td><td>0.0</td></tr>\n",
       "</table>\n",
       "Length = 31 rows"
      ],
      "text/plain": [
       "SearchResult containing 31 data products.\n",
       "\n",
       " #       mission      year   author  exptime  target_name  distance\n",
       "                                        s                   arcsec \n",
       "--- ----------------- ---- --------- ------- ------------- --------\n",
       "  0 Kepler Quarter 00 2009    Kepler    1800 kplr001164109      0.0\n",
       "  1 Kepler Quarter 01 2009    Kepler    1800 kplr001164109      0.0\n",
       "  2 Kepler Quarter 02 2009    Kepler      60 kplr001164109      0.0\n",
       "  3 Kepler Quarter 02 2009    Kepler    1800 kplr001164109      0.0\n",
       "  4 Kepler Quarter 03 2009    Kepler    1800 kplr001164109      0.0\n",
       "  5 Kepler Quarter 04 2010    Kepler    1800 kplr001164109      0.0\n",
       "  6 Kepler Quarter 05 2010    Kepler    1800 kplr001164109      0.0\n",
       "  7 Kepler Quarter 06 2010    Kepler    1800 kplr001164109      0.0\n",
       "  8 Kepler Quarter 07 2010    Kepler    1800 kplr001164109      0.0\n",
       "  9 Kepler Quarter 08 2011    Kepler    1800 kplr001164109      0.0\n",
       "...               ...  ...       ...     ...           ...      ...\n",
       " 21    TESS Sector 14 2019     TASOC    1800     137313572      0.0\n",
       " 22    TESS Sector 14 2019     TASOC    1800     137313572      0.0\n",
       " 23    TESS Sector 40 2021 TESS-SPOC     600     137313572      0.0\n",
       " 24    TESS Sector 40 2021       QLP     600     137313572      0.0\n",
       " 25    TESS Sector 41 2021 TESS-SPOC     600     137313572      0.0\n",
       " 26    TESS Sector 41 2021       QLP     600     137313572      0.0\n",
       " 27    TESS Sector 54 2022 TESS-SPOC     600     137313572      0.0\n",
       " 28    TESS Sector 54 2022       QLP     600     137313572      0.0\n",
       " 29    TESS Sector 55 2022 TESS-SPOC     600     137313572      0.0\n",
       " 30    TESS Sector 55 2022       QLP     600     137313572      0.0\n",
       "Length = 31 rows"
      ]
     },
     "execution_count": 68,
     "metadata": {},
     "output_type": "execute_result"
    }
   ],
   "source": [
    "#search_result=lk.search_lightcurve('KIC 1164109') # Only returns Kepler light kurves.\n",
    "# 291.65265, 36.89502\n",
    "search_result=lk.search_lightcurve('291.65265, 36.89502')\n",
    "search_result"
   ]
  },
  {
   "cell_type": "code",
   "execution_count": 69,
   "metadata": {
    "tags": []
   },
   "outputs": [],
   "source": [
    "# Load 'em all. Where does it \"go\"?\n",
    "lc_collection = search_result.download_all()"
   ]
  },
  {
   "cell_type": "code",
   "execution_count": 72,
   "metadata": {
    "tags": []
   },
   "outputs": [
    {
     "name": "stderr",
     "output_type": "stream",
     "text": [
      "/opt/conda/envs/tess/lib/python3.8/site-packages/lightkurve/collections.py:213: LightkurveWarning: The following columns will be excluded from stitching because the column types are incompatible: {'sap_flux', 'sap_bkg_err', 'sap_bkg'}\n",
      "  warnings.warn(\n"
     ]
    },
    {
     "data": {
      "text/plain": [
       "<AxesSubplot:xlabel='Time - 2454833 [BKJD days]', ylabel='Normalized Flux'>"
      ]
     },
     "execution_count": 72,
     "metadata": {},
     "output_type": "execute_result"
    },
    {
     "data": {
      "image/png": "[encoded data removed]",
      "text/plain": [
       "<Figure size 848.5x400 with 1 Axes>"
      ]
     },
     "metadata": {},
     "output_type": "display_data"
    }
   ],
   "source": [
    "lc_stitched = lc_collection.stitch()\n",
    "lc_stitched.plot()"
   ]
  },
  {
   "cell_type": "code",
   "execution_count": null,
   "metadata": {
    "tags": []
   },
   "outputs": [],
   "source": [
    "# Can specify author='Kepler' and author='TESS'\n",
    "none=True\n",
    "while none:\n",
    "    # None from 0 to 100\n",
    "    for i in np.arange(0,100):\n",
    "        search_result=lk.search_lightcurve(str(tab['kepid'][i]),author='TESS')\n",
    "        if len(search_result)>1:\n",
    "            none=False"
   ]
  },
  {
   "cell_type": "markdown",
   "metadata": {},
   "source": [
    "Where possible (if the code supports it), use code examples that visually display the data in the tutorial. For example, if you are showing an object such as a Table, display a preview of the table:"
   ]
  },
  {
   "cell_type": "code",
   "execution_count": null,
   "metadata": {},
   "outputs": [],
   "source": [
    "yourProd[0:5]"
   ]
  },
  {
   "cell_type": "code",
   "execution_count": null,
   "metadata": {},
   "outputs": [],
   "source": [
    "# Download the products\n",
    "output = Observations.download_products(yourProd, mrp_only=False, cache=False)\n",
    "output"
   ]
  },
  {
   "cell_type": "markdown",
   "metadata": {},
   "source": [
    "Explain pertinent details about the file you've just downloaded. For example, if working with Kepler light curves, explain what's in the different file extensions:\n",
    "\n",
    "```\n",
    "- No. 0 (Primary): This HDU contains metadata related to the entire file.\n",
    "- No. 1 (Light curve): This HDU contains a binary table that holds data like\n",
    "  flux measurements and times. We will extract information from here when we\n",
    "  define the parameters for the light curve plot.\n",
    "- No. 2 (Aperture): This HDU contains the image extension with data collected\n",
    "  from the aperture. We will also use this to display a bitmask plot that\n",
    "  visually represents the optimal aperture used to create the SAP_FLUX column in\n",
    "  HDU1.\n",
    "\n",
    "```"
   ]
  },
  {
   "cell_type": "code",
   "execution_count": null,
   "metadata": {},
   "outputs": [],
   "source": [
    "file = output['Local Path'][0]\n",
    "print('The HDU list of our output file:\\n')\n",
    "print(fits.info(file))\n",
    "\n",
    "data = fits.getdata(file, 1)['FLUX']\n",
    "time = fits.getdata(file, 1)['TIME']"
   ]
  },
  {
   "cell_type": "markdown",
   "metadata": {},
   "source": [
    "## Visualization\n",
    "\n",
    "When presenting any visuals and/or plots from the data, make sure you are using color palettes that are color-blind friendly and using language that keeps accessibility in mind. The most common form of color vision deficiency involves differentiating between red and green, so avoiding colormaps with both red and green will avoid many problems in general. Use descriptive keywords not pertaining to the color of the object you are referring to. It is good practice to make your plots and images large enough to ensure that important details are not hard to see. On the same note, make sure that tick labels, legends, and other plot notations are not too small, and make sure they are descriptive enough that the user can understand what is being represented by the data. "
   ]
  },
  {
   "cell_type": "markdown",
   "metadata": {},
   "source": [
    "Let's plot the first four images of the Kepler TPF we just downloaded to see where the center of the PSF is located..."
   ]
  },
  {
   "cell_type": "code",
   "execution_count": null,
   "metadata": {
    "scrolled": true
   },
   "outputs": [],
   "source": [
    "imgs = 4\n",
    "\n",
    "fig, axs = plt.subplots(1, imgs, figsize=(20, 20))\n",
    "\n",
    "for idx in range(0, imgs):\n",
    "    # Plotting\n",
    "    axs[idx].imshow(data[idx], cmap='bone', origin='lower')\n",
    "    \n",
    "    # Formatting\n",
    "    axs[idx].set_title(f'Image #{idx}', fontsize=25)\n",
    "    axs[idx].tick_params(axis='both', which='major', labelsize=20)"
   ]
  },
  {
   "cell_type": "markdown",
   "metadata": {},
   "source": [
    "Looks like it's typically located around (x,y)=(4,4). Let's gather all the images and extract the flux at (4,4) from each of them to patch our lightcurve together..."
   ]
  },
  {
   "cell_type": "code",
   "execution_count": null,
   "metadata": {},
   "outputs": [],
   "source": [
    "lightcurve = []\n",
    "\n",
    "for idx in range(0, len(data)):\n",
    "    \n",
    "    flux = data[idx][4, 4]\n",
    "    lightcurve.append(flux)"
   ]
  },
  {
   "cell_type": "code",
   "execution_count": null,
   "metadata": {},
   "outputs": [],
   "source": [
    "# Plotting\n",
    "plt.figure(1, figsize=(10, 6))\n",
    "plt.plot(time, lightcurve)\n",
    "\n",
    "# Formatting\n",
    "obj = fits.getheader(file)['OBJECT']\n",
    "plt.title(f'Object: {obj}', fontsize=25)\n",
    "plt.xlabel('Time - 2454833 (BKJD days)', fontsize=20)\n",
    "plt.ylabel('Flux (e-/s)', fontsize=20)\n",
    "plt.tick_params(axis='both', which='major', labelsize=15)"
   ]
  },
  {
   "cell_type": "markdown",
   "metadata": {},
   "source": [
    "## Exercises\n",
    "Exercises are optional, but encouraged. Exercises can be woven into the main content of your tutorial, or appear in their own section toward the end of the tutorial. Final exercises can be more challenging, similar to homework problems. They can be minimal or take as long as 30 minutes to an hour to complete. If you do have one or more exercises in your tutorial, be sure to leave a blank code cell underneath each to show the reader that they're meant to try out their new skill right there. You may also want to include a \"solutions\" notebook next to your main notebook for the reader to check their work after they have finished their attempt."
   ]
  },
  {
   "cell_type": "markdown",
   "metadata": {},
   "source": [
    "## Additional Resources\n",
    "\n",
    "This section is optional. Try to weave resource links into the main content of your tutorial so that they are falling in line with the context of your writing. For resources that do not fit cleanly into your narrative, you may include an additional resources section at the end of your tutorial. Usually a list of links using Markdown bullet list plus link format is appropriate:\n",
    "\n",
    "- [MAST API](https://mast.stsci.edu/api/v0/index.html)\n",
    "- [Kepler Archive Page (MAST)](https://archive.stsci.edu/kepler/)\n",
    "- [Kepler Archive Manual](https://archive.stsci.edu/kepler/manuals/archive_manual.pdf)\n",
    "- [Exo.MAST website](https://exo.mast.stsci.edu/)"
   ]
  },
  {
   "cell_type": "markdown",
   "metadata": {},
   "source": [
    "## Citations\n",
    "Provide your reader with guidelines on how to cite open source software and other resources in their own published work.\n",
    "\n",
    "```\n",
    "If you use `astropy` or `lightkurve` for published research, please cite the\n",
    "authors. Follow these links for more information about citing `astropy` and\n",
    "`lightkurve`:\n",
    "\n",
    "* [Citing `astropy`](https://www.astropy.org/acknowledging.html)\n",
    "* [Citing `lightkurve`](http://docs.lightkurve.org/about/citing.html)\n",
    "\n",
    "```"
   ]
  },
  {
   "cell_type": "markdown",
   "metadata": {
    "slideshow": {
     "slide_type": "slide"
    }
   },
   "source": [
    "## About this Notebook\n",
    "Let the world know who the author of this great tutorial is! If possible and appropriate, include a contact email address for users who might need support (for example, `archive@stsci.edu`). You can also optionally include keywords, your funding source, or a last update date in this section.\n",
    "\n",
    "**Author(s):** Jessie Blogs, Jenny V. Medina, Thomas Dutkiewicz <br>\n",
    "**Keyword(s):** Tutorial, lightkurve, kepler, introduction, template <br>\n",
    "**Last Updated:** Aug 2022 <br>\n",
    "**Next Review:** Mar 2023\n",
    "***\n",
    "[Top of Page](#top)\n",
    "<img style=\"float: right;\" src=\"https://raw.githubusercontent.com/spacetelescope/notebooks/master/assets/stsci_pri_combo_mark_horizonal_white_bkgd.png\" alt=\"Space Telescope Logo\" width=\"200px\"/> "
   ]
  }
 ],
 "metadata": {
  "kernelspec": {
   "display_name": "TESS Environment",
   "language": "python",
   "name": "tess"
  },
  "language_info": {
   "codemirror_mode": {
    "name": "ipython",
    "version": 3
   },
   "file_extension": ".py",
   "mimetype": "text/x-python",
   "name": "python",
   "nbconvert_exporter": "python",
   "pygments_lexer": "ipython3",
   "version": "3.8.16"
  }
 },
 "nbformat": 4,
 "nbformat_minor": 4
}
