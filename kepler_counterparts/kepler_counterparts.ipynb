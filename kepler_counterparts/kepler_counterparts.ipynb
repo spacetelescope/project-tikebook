{
 "cells": [
  {
   "cell_type": "markdown",
   "metadata": {},
   "source": [
    "<a id=\"top\"></a>\n",
    "# Long Period TESS Targets with Kepler Counterparts\n",
    "***\n"
   ]
  },
  {
   "cell_type": "markdown",
   "metadata": {
    "tags": []
   },
   "source": [
    "## Prerequisites\n",
    "- Python syntax\n",
    "- astropy tables\n",
    "- for loops\n",
    "- Something about exoplanet transits, link to free resource"
   ]
  },
  {
   "cell_type": "markdown",
   "metadata": {
    "tags": []
   },
   "source": [
    "## Learning Goals\n",
    "\n",
    "By the end of this tutorial, you will:\n",
    "\n",
    "- \n",
    "\n",
    "To use as a guideline:\n",
    "\"Set a minimum threshold for orbital period (should be long-period orbits, greater than 6mos). Find all TESS 20-seconds targets that have data for these Kepler TCEs to create an even longer baseline.\""
   ]
  },
  {
   "cell_type": "markdown",
   "metadata": {
    "slideshow": {
     "slide_type": "slide"
    }
   },
   "source": [
    "## Introduction\n",
    "The [Kepler initial and follow-on (K2) missions confirmed over 2,600 exoplanets](https://exoplanets.nasa.gov/keplerscience/) and contributed to an unprecedented exposion of knowledge about planetary systems in our galaxy. In addition to confirmed exoplanets, Kepler identified thousands more potential planetary candidates, referred to as Kepler Objects on Interest (KOI's). \n",
    "\n",
    "The Transiting Exoplanet Survey Satellite (TESS) began its observations just before the completion of the K2 mission; there may be long-period (greater than 6 months) exoplanets whose transits were observed by both missions. By combining observations from both missions, we could potentially view multiple transits and confirm the existence of new exoplanets. \n",
    "\n",
    "Possible transits observed by Kepler are called Threshold Crossing Events, or TCEs. More specifically, according to the [NASA Exoplanet Archive documentation](https://exoplanetarchive.ipac.caltech.edu/docs/Kepler_TCE_docs.html), \n",
    "\n",
    ">\"A Threshold-Crossing Event (TCE) is a sequence of transit-like features in the flux time series of a given target that resembles the signature of a transiting planet to a sufficient degree that the target is passed on for further analysis.\"\n",
    "\n",
    "NOT UPDATED: The workflow for this notebook consists of:\n",
    "* [Main Content](#Main-Content)\n",
    "    * [Loading Data](#Loading-Data)\n",
    "    * [File and Data Information](#File-and-Data-Information)\n",
    "* [Visualization](#Visualization)\n",
    "* [Exercises](#Exercises)\n",
    "* [Additional Resources](#Additional-Resources)"
   ]
  },
  {
   "cell_type": "markdown",
   "metadata": {
    "slideshow": {
     "slide_type": "slide"
    }
   },
   "source": [
    "## Imports\n",
    "Describe the main packages we're using here and their use-case for this notebook. If there's something unusual, explain what the library is, and why we need it.\n",
    "- *numpy* to handle array functions\n",
    "- *astropy.io fits* for accessing FITS files\n",
    "- *astropy.table Table* for creating tidy tables of the data\n",
    "- *matplotlib.pyplot* for plotting data"
   ]
  },
  {
   "cell_type": "code",
   "execution_count": 11,
   "metadata": {
    "slideshow": {
     "slide_type": "fragment"
    },
    "tags": []
   },
   "outputs": [],
   "source": [
    "%matplotlib inline\n",
    "\n",
    "import matplotlib.pyplot as plt\n",
    "import numpy as np\n",
    "\n",
    "from astropy.io import fits\n",
    "from astropy.table import Table\n",
    "from astroquery.mast import Mast\n",
    "from astroquery.mast import Observations\n",
    "\n",
    "\n",
    "# Added by JRK\n",
    "import requests\n",
    "from astropy.io import ascii\n",
    "import lightkurve as lk\n",
    "import astropy.units as u # May not end up using?\n",
    "from astroquery.simbad import Simbad\n",
    "from astroquery.vizier import Vizier"
   ]
  },
  {
   "cell_type": "markdown",
   "metadata": {},
   "source": [
    "***"
   ]
  },
  {
   "cell_type": "markdown",
   "metadata": {},
   "source": [
    "## Load full table of Kepler Threshold Crossing Events, or TCEs and filter by period\n",
    "\n",
    "The NASA Exoplanet Archive hosts many useful data tables, including the list of [Threshold Crossing Events (TCEs)](https://exoplanetarchive.ipac.caltech.edu/docs/program_interfaces.html#tce). We'll use the Quarter 1 through Quarter 17 Data Release 24 (DR24) version. These TCEs were evaluated by an autovetter, a machine-learning program that classified TCEs into three categories: PC (Planet Candidate), AFP (Astrophysical False Positive), and NTP (Non-Transiting Phenomenon). More information about the autovetter can be found in [McCauliff et al. 2015 ApJ 806, 6](https://ui.adsabs.harvard.edu/abs/2015ApJ...806....6M/abstract).\n",
    "\n",
    "We can point the astropy Table reader to a URL that contains the data table."
   ]
  },
  {
   "cell_type": "code",
   "execution_count": 2,
   "metadata": {
    "tags": []
   },
   "outputs": [
    {
     "name": "stdout",
     "output_type": "stream",
     "text": [
      "rowid  kepid   tce_plnt_num ... tce_dikco_msky tce_dikco_msky_err\n",
      "----- -------- ------------ ... -------------- ------------------\n",
      "    1  1162345            2 ...        0.46282                1.1\n",
      "    2  1292087            2 ...        0.22049               0.22\n",
      "    3  1293031            2 ...        0.41872              0.207\n",
      "    4  1162345            3 ...        0.13742              0.196\n",
      "    5  1164109            1 ...         15.207             0.0893\n",
      "    6   757450            1 ...        0.12498             0.0763\n",
      "    7   892667            1 ...        0.18106              0.124\n",
      "    8   892772            1 ...         5.2002              0.165\n",
      "    9  1026032            1 ...       0.064587              0.077\n",
      "   10  1026032            2 ...        0.13865              0.084\n",
      "  ...      ...          ... ...            ...                ...\n",
      "20357 11809346            1 ...       0.090355             0.0786\n",
      "20358 11826440            2 ...        0.58446              0.755\n",
      "20359 11852982            1 ...        0.27376              0.143\n",
      "20360 11853130            1 ...        0.15446             0.0954\n",
      "20361 11905761            1 ...        0.20043              0.817\n",
      "20362 11905761            2 ...        0.10213              0.231\n",
      "20363 11906217            1 ...        0.16682             0.0691\n",
      "20364 11908559            1 ...        0.28681              0.647\n",
      "20365 11923562            2 ...        0.21583              0.135\n",
      "20366 11923819            1 ...        0.30357             0.0672\n",
      "20367 11923819            2 ...        0.30064             0.0672\n",
      "Length = 20367 rows\n"
     ]
    },
    {
     "name": "stderr",
     "output_type": "stream",
     "text": [
      "WARNING: OverflowError converting to FloatType in column boot_fap, possibly resulting in degraded precision. [astropy.io.ascii.fastbasic]\n"
     ]
    }
   ],
   "source": [
    "# Load the TCE DR24 table as an astropy table and view a preview.\n",
    "# The online version doesn't have all the columns that you can download from the interactive table, in particular, the autovetter ones.\n",
    "#tab=Table.read('https://exoplanetarchive.ipac.caltech.edu/cgi-bin/nstedAPI/nph-nstedAPI?table=q1_q17_dr24_tce',format='ascii.csv')\n",
    "tab=Table.read('./q1_q17_dr24_tce_2023.05.29_11.07.52.csv',format='ascii.csv',comment='#') \n",
    "tab.pprint()"
   ]
  },
  {
   "cell_type": "markdown",
   "metadata": {},
   "source": [
    "As we can see, the table has over 20,000 rows, so we will want to narrow down by targets most of interest for us. However, the \"pretty print\" preview of the table does not show us all of the columns. Let's see the names of all of the columns, and only retain those we will need."
   ]
  },
  {
   "cell_type": "code",
   "execution_count": 3,
   "metadata": {
    "tags": []
   },
   "outputs": [
    {
     "name": "stdout",
     "output_type": "stream",
     "text": [
      "<TableColumns names=('rowid','kepid','tce_plnt_num','tce_rogue_flag','tce_delivname','rowupdate','tce_datalink_dvs','tce_datalink_dvr','tce_period','tce_period_err','tce_time0bk','tce_time0bk_err','tce_time0','tce_time0_err','tce_ror','tce_ror_err','tce_dor','tce_dor_err','tce_incl','tce_incl_err','tce_impact','tce_impact_err','tce_duration','tce_duration_err','tce_ingress','tce_ingress_err','tce_depth','tce_depth_err','tce_eccen','tce_eccen_err','tce_longp','tce_longp_err','tce_limbdark_mod','tce_ldm_coeff1','tce_ldm_coeff2','tce_ldm_coeff3','tce_ldm_coeff4','tce_num_transits','tce_trans_mod','tce_full_conv','tce_model_snr','tce_model_chisq','tce_model_dof','tce_robstat','tce_dof1','tce_dof2','tce_chisq1','tce_chisq2','tce_chisqgofdof','tce_chisqgof','tce_prad','tce_prad_err','tce_sma','tce_sma_err','tce_eqt','tce_eqt_err','tce_insol','tce_insol_err','tce_nkoi','tce_ioflag','tce_quarters','tce_steff','tce_steff_err','tce_slogg','tce_slogg_err','tce_smet','tce_smet_err','tce_sradius','tce_sradius_err','tce_steff_prov','tce_slogg_prov','tce_smet_prov','tce_sradius_prov','tcet_period','tcet_period_err','tcet_time0bk','tcet_time0bk_err','tcet_time0','tcet_time0_err','tcet_duration','tcet_duration_err','tcet_ingress','tcet_ingress_err','tcet_depth','tcet_depth_err','tcet_full_conv','tcet_model_chisq','tcet_model_dof','wst_robstat','wst_depth','tce_mesmedian','tce_mesmad','tce_maxmes','tce_minmes','tce_maxmesd','tce_minmesd','tce_max_sngle_ev','tce_max_mult_ev','tce_bin_oedp_stat','tce_rmesmad','tce_rsnrmes','tce_rminmes','tce_albedo','tce_albedo_err','tce_ptemp','tce_ptemp_err','tce_albedo_stat','tce_ptemp_stat','av_vf_pc','av_vf_pc_err','av_vf_afp','av_vf_afp_err','av_vf_ntp','av_vf_ntp_err','av_pp_pc','av_pp_afp','av_pp_ntp','av_training_set','av_pred_class','boot_fap','boot_mesthresh','boot_mesmean','boot_messtd','tce_cap_stat','tce_hap_stat','tce_rb_tpdur','tce_rb_tcount0','tce_rb_tcount1','tce_rb_tcount2','tce_rb_tcount3','tce_rb_tcount4','tce_fwm_stat','tce_fwm_sra','tce_fwm_sra_err','tce_fwm_sdec','tce_fwm_sdec_err','tce_fwm_srao','tce_fwm_srao_err','tce_fwm_sdeco','tce_fwm_sdeco_err','tce_fwm_prao','tce_fwm_prao_err','tce_fwm_pdeco','tce_fwm_pdeco_err','tce_dicco_mra','tce_dicco_mra_err','tce_dicco_mdec','tce_dicco_mdec_err','tce_dicco_msky','tce_dicco_msky_err','tce_dikco_mra','tce_dikco_mra_err','tce_dikco_mdec','tce_dikco_mdec_err','tce_dikco_msky','tce_dikco_msky_err')>\n"
     ]
    }
   ],
   "source": [
    "print(tab.columns)"
   ]
  },
  {
   "cell_type": "markdown",
   "metadata": {},
   "source": [
    "The NASA Exoplanet Archive provides detailed information about the [Data Columns in the Kepler TCE Table](https://exoplanetarchive.ipac.caltech.edu/docs/API_tce_columns.html). Some of the most important columns for us will be:\n",
    "- kepid, Kepler identification number, which we can use when searching the MAST Archive.\n",
    "- tce_period, the orbital period in days.\n",
    "- tce_period_err, the error in the orbital period (also in days).\n",
    "- tce_time0, the time of the center of the first detected transit in Barycentric Julian Day (BJD)\n",
    "- tce_depth, the fraction of stellar flux lost at the maximum of the transit, in ppm.\n",
    "- av_pred_class, the autovetter predicted classification (PC, AFP, or NTP)\n",
    "\n",
    "We will only use those columns for now, to reduce the size of the table we are dealing with."
   ]
  },
  {
   "cell_type": "code",
   "execution_count": 4,
   "metadata": {
    "tags": []
   },
   "outputs": [],
   "source": [
    "tab=tab['kepid','tce_period','tce_period_err','tce_time0','tce_depth','av_pred_class']"
   ]
  },
  {
   "cell_type": "markdown",
   "metadata": {},
   "source": [
    "Additionally, we'd like to filter our table to only include Planetary Candidates of with a TCE period of greater than 6 months, or 180 days."
   ]
  },
  {
   "cell_type": "code",
   "execution_count": 5,
   "metadata": {
    "tags": []
   },
   "outputs": [
    {
     "name": "stdout",
     "output_type": "stream",
     "text": [
      "Number of Kepler TCEs marked as Planetary Candidates: 3900\n"
     ]
    }
   ],
   "source": [
    "# Only include those that autovetter indicates as \"PC\" for Planetary Candidate\n",
    "tab=tab[tab['av_pred_class']=='PC']\n",
    "print('Number of Kepler TCEs marked as Planetary Candidates:',len(tab))"
   ]
  },
  {
   "cell_type": "markdown",
   "metadata": {},
   "source": [
    "We can see that of the over 20,000 TCEs, just under 20% were identified as likely planetary candidates. \n",
    "What is the distribution of the periods of those PCs? We can view a histogram of the 'tce_period' column."
   ]
  },
  {
   "cell_type": "code",
   "execution_count": 6,
   "metadata": {
    "tags": []
   },
   "outputs": [
    {
     "data": {
      "text/plain": [
       "Text(0, 0.5, 'Number of PCs')"
      ]
     },
     "execution_count": 6,
     "metadata": {},
     "output_type": "execute_result"
    },
    {
     "data": {
      "image/png": "[encoded data removed]",
      "text/plain": [
       "<Figure size 640x480 with 1 Axes>"
      ]
     },
     "metadata": {},
     "output_type": "display_data"
    }
   ],
   "source": [
    "plt.hist(tab['tce_period'])\n",
    "plt.xlabel('TCE Period (days)')\n",
    "plt.ylabel('Number of PCs')"
   ]
  },
  {
   "cell_type": "markdown",
   "metadata": {},
   "source": [
    "The vast majority of the TCE periods are fewer than 50 days. The planetary candidates that would most benefit from the long baseline afforded by combining the Kepler, K2, and TESS datasets are those with longer periods. Here, we'll again filter our table to just include those PCs with periods of greater than 6 months, or 180 days. "
   ]
  },
  {
   "cell_type": "code",
   "execution_count": 7,
   "metadata": {
    "tags": []
   },
   "outputs": [
    {
     "name": "stdout",
     "output_type": "stream",
     "text": [
      "Number of Kepler TCEs marked PC and period > 180 days: 123\n"
     ]
    }
   ],
   "source": [
    "# Only include those table rows with TCE period greater than 180 days\n",
    "tab=tab[tab['tce_period']>180]\n",
    "n=len(tab)\n",
    "print('Number of Kepler TCEs marked PC and period > 180 days:',n)"
   ]
  },
  {
   "cell_type": "markdown",
   "metadata": {
    "slideshow": {
     "slide_type": "slide"
    }
   },
   "source": [
    "## Find all TESS 20-second targets for these Kepler TCEs\n",
    "The Kepler and K2 missions studied a limited portion of the sky, but TESS has studied (and continues to study) the full sky. This means that all Kepler and K2 identifications are likely to be included in the TESS Catalog. However, they may not all \n",
    "\n",
    "JRK what is the science reason for only 20-second targets? Why not also 2 min? Clearly 30 min not frequent enough."
   ]
  },
  {
   "cell_type": "markdown",
   "metadata": {
    "tags": []
   },
   "source": [
    "### Finding observations in the MAST archive by the Kepler ID number\n",
    "When we use astroquery.mast's Observations.query_object or query_object_count functions, the object's name will be resolved into sky coordinates (RA and Dec), so that all observations of that coordinate will be returned. This allows us to search by the Kepler ID column, even though TESS will not have used the Kepler ID to refer to the name of the target. Likewise, other ways to search the MAST archive, such as query_criteria, will also resolve the coordinates of the name input to 'objectname'. See the [astroquery documentation about MAST Queries](https://astroquery.readthedocs.io/en/latest/mast/mast.html) for more information. \n",
    "\n",
    "Unfortunately, this method of searching is time-intensive, which makes it very inconvenient when cross-matching hundreds or more targets from different missions. Let's illustrate this point with the first row in our filtered table. Notice that this call to MAST will take at least a few seconds; we can use the \"time\" magic command to tell us how long it takes."
   ]
  },
  {
   "cell_type": "code",
   "execution_count": 8,
   "metadata": {
    "tags": []
   },
   "outputs": [
    {
     "name": "stdout",
     "output_type": "stream",
     "text": [
      "CPU times: user 56.4 ms, sys: 5.01 ms, total: 61.4 ms\n",
      "Wall time: 7.73 s\n"
     ]
    }
   ],
   "source": [
    "# Query all observations in MAST that correspond to the coordinates of the first row's Kepler ID, within 1 arcsecond.\n",
    "%time obs_table = Observations.query_object('KIC '+str(tab[0]['kepid']),radius=1*u.arcsec)"
   ]
  },
  {
   "cell_type": "code",
   "execution_count": 9,
   "metadata": {
    "tags": []
   },
   "outputs": [
    {
     "name": "stdout",
     "output_type": "stream",
     "text": [
      "intentType obs_collection provenance_name ... srcDen   obsid   distance\n",
      "---------- -------------- --------------- ... ------ --------- --------\n",
      "   science           TESS            SPOC ...    nan  27463635      0.0\n",
      "   science           TESS            SPOC ...    nan  62431369      0.0\n",
      "   science           TESS            SPOC ...    nan  62870781      0.0\n",
      "   science           TESS            SPOC ...    nan  92616912      0.0\n",
      "   science           TESS            SPOC ...    nan  95133363      0.0\n",
      "   science           TESS            SPOC ...    nan  62349937      0.0\n",
      "   science           TESS            SPOC ...    nan  62793303      0.0\n",
      "   science           TESS            SPOC ...    nan  91547081      0.0\n",
      "   science           TESS            SPOC ...    nan  93772051      0.0\n",
      "   science    SPITZER_SHA    SSC Pipeline ...    nan   1730213      0.0\n",
      "       ...            ...             ... ...    ...       ...      ...\n",
      "   science           HLSP             QLP ...    nan 129964724      0.0\n",
      "   science           HLSP           TASOC ...    nan  95768637      0.0\n",
      "   science           HLSP       TESS-SPOC ...    nan  43049105      0.0\n",
      "   science           HLSP       TESS-SPOC ...    nan  90486414      0.0\n",
      "   science           HLSP       TESS-SPOC ...    nan  90647225      0.0\n",
      "   science           HLSP       TESS-SPOC ...    nan 128815321      0.0\n",
      "   science           HLSP       TESS-SPOC ...    nan 128634089      0.0\n",
      "   science           HLSP            TICA ...    nan 100098298      0.0\n",
      "   science           HLSP            TICA ...    nan 100379415      0.0\n",
      "   science           HLSP            TICA ...    nan 100714209      0.0\n",
      "   science           HLSP            TICA ...    nan 100498586      0.0\n",
      "Length = 89 rows\n"
     ]
    }
   ],
   "source": [
    "# View the observation table\n",
    "obs_table.pprint()"
   ]
  },
  {
   "cell_type": "code",
   "execution_count": 10,
   "metadata": {
    "tags": []
   },
   "outputs": [
    {
     "data": {
      "text/html": [
       "&lt;MaskedColumn name=&apos;target_name&apos; dtype=&apos;str22&apos; length=7&gt;\n",
       "<table>\n",
       "<tr><td>137685450</td></tr>\n",
       "<tr><td>2144.049</td></tr>\n",
       "<tr><td>Kepler10-1-2-1-1-1-1-1</td></tr>\n",
       "<tr><td>--</td></tr>\n",
       "<tr><td>TESS FFI</td></tr>\n",
       "<tr><td>TICA FFI</td></tr>\n",
       "<tr><td>kplr002581316</td></tr>\n",
       "</table>"
      ],
      "text/plain": [
       "<MaskedColumn name='target_name' dtype='str22' length=7>\n",
       "             137685450\n",
       "              2144.049\n",
       "Kepler10-1-2-1-1-1-1-1\n",
       "                    --\n",
       "              TESS FFI\n",
       "              TICA FFI\n",
       "         kplr002581316"
      ]
     },
     "execution_count": 10,
     "metadata": {},
     "output_type": "execute_result"
    }
   ],
   "source": [
    "# View all unique entries in the 'target_name' column\n",
    "np.unique(obs_table['target_name'])"
   ]
  },
  {
   "cell_type": "markdown",
   "metadata": {},
   "source": [
    "From the above, we can see that inputting an 'objectname' of 'KIC 2581316' from the Kepler Input Catalog (KIC) identification number, we find all the observations of that target from all different missions - even if they did not specifically refer to the name of the target by it. "
   ]
  },
  {
   "cell_type": "markdown",
   "metadata": {},
   "source": [
    "### Get coordinates and TESS Input Catalog (TIC) numbers from Vizier\n",
    "We will find that it is far faster to search MAST for TESS observations by TESS Input Catalog (TIC) number. To do that, we need to figure out the TICs that correspond to the KICs. To do this, we'll search the Tess Input Catalog, which is hosted in Vizier: [TESS Input Catalog version 8.2 (TIC v.8.2)(Paegert+,2021)](http://vizier.cds.unistra.fr/viz-bin/VizieR-3?-source=IV/39/tic82&-out.max=50&-out.form=HTML%20Table&-out.add=_r&-out.add=_RAJ,_DEJ&-sort=_r&-oc.form=sexa)\n",
    "\n",
    "First, we'll setup astroquery to search Vizier in such a way that we do not limit the number of rows returned, and we specifically want to return the columns corresponding to coordinates (RA and Dec), TIC, and KIC. Next, we'll create new columns that match the data types we will find in Vizier."
   ]
  },
  {
   "cell_type": "code",
   "execution_count": 12,
   "metadata": {
    "tags": []
   },
   "outputs": [],
   "source": [
    "Vizier.ROW_LIMIT = -1\n",
    "v=Vizier(columns=['_RAJ2000','_DEJ2000','TIC','KIC'])"
   ]
  },
  {
   "cell_type": "code",
   "execution_count": 13,
   "metadata": {
    "tags": []
   },
   "outputs": [],
   "source": [
    "tab.add_columns([np.zeros(n),np.zeros(n),np.zeros(n,dtype=np.int32),np.zeros(n,dtype=np.int64)],\n",
    "                names=['_RAJ2000','_DEJ2000','KIC','TIC'])"
   ]
  },
  {
   "cell_type": "markdown",
   "metadata": {},
   "source": [
    "We will query Vizier for each row in our table of TCEs, and then save the resulting RA, Dec, KIC (just to confirm!) and TIC in our new columns. To guard against connectivity errors interrupting the workflow, we will put the Vizier query in a [try statement](https://docs.python.org/3/tutorial/errors.html#handling-exceptions)."
   ]
  },
  {
   "cell_type": "code",
   "execution_count": 16,
   "metadata": {
    "tags": []
   },
   "outputs": [
    {
     "name": "stdout",
     "output_type": "stream",
     "text": [
      "Error in 58\n",
      "Error in 75\n"
     ]
    }
   ],
   "source": [
    "# Query a subset of the TESS Input Catalog \n",
    "#result=Vizier.query_object('KIC 2581316',catalog=['IV/39/tic82']) # Length: 282\n",
    "#for i,row in enumerate(tab):\n",
    "for i,row in enumerate(tab):\n",
    "    # Use a \"try/except\" because sometimes there is no response\n",
    "    try:\n",
    "        result=v.query_object('KIC '+str(row['kepid']),radius=1*u.arcsec,catalog=['IV/39/tic82'])\n",
    "        # If there is more than one result, choose the one with matching KIC.\n",
    "        if len(result[0])>1: result=result[0][result[0]['KIC']==row['kepid']]\n",
    "        tab[i]['_RAJ2000','_DEJ2000','KIC','TIC']=result[0][0]['_RAJ2000','_DEJ2000','KIC','TIC']\n",
    "    except:\n",
    "        print('Error in',i)\n",
    "        continue"
   ]
  },
  {
   "cell_type": "markdown",
   "metadata": {},
   "source": [
    "We can now view the updated table and confirm that the KIC values from Vizier match the 'kepid' values from our original table, except in any rows where an error was found."
   ]
  },
  {
   "cell_type": "code",
   "execution_count": 17,
   "metadata": {
    "tags": []
   },
   "outputs": [
    {
     "name": "stdout",
     "output_type": "stream",
     "text": [
      " kepid   tce_period tce_period_err ...    _DEJ2000      KIC       TIC   \n",
      "-------- ---------- -------------- ... -------------- -------- ---------\n",
      " 2581316    217.832    7.71254e-05 ... 37.86013507452  2581316 137685450\n",
      " 2975770    369.079     0.00262336 ... 38.11458125146  2975770 121395761\n",
      " 2576107    205.583    0.000156979 ... 37.88763673242  2576107 137220754\n",
      " 3103227    225.583     0.00304541 ... 38.29470683575  3103227 121395435\n",
      " 3326377     198.71    0.000624291 ... 38.40533619115  3326377 120962548\n",
      " 3645438    386.372      0.0107079 ... 38.78773924713  3645438 137151626\n",
      " 3634051    453.544     0.00352963 ... 38.74028625567  3634051 121457557\n",
      " 3747817    184.772     0.00139617 ... 38.87490712824  3747817 137319097\n",
      " 4918309    186.436     0.00047676 ... 40.02181730105  4918309 122301308\n",
      " 4760478    287.378      0.0024477 ... 39.88652749598  4760478 184011870\n",
      "     ...        ...            ... ...            ...      ...       ...\n",
      "11026582    240.572     0.00146005 ... 48.55868896195 11026582 406948587\n",
      "11027624    394.625    0.000866273 ... 48.52135026439 11027624 417659078\n",
      "10586619    377.502     0.00848357 ... 47.81104406253 10586619 352015839\n",
      "11030711    205.913     0.00132618 ... 48.51106334121 11030711 424864368\n",
      "12644769    451.773    8.60856e-05 ... 51.75743827254 12644769 299096355\n",
      "12735740    282.526    0.000109909 ... 51.96261403897 12735740 416279912\n",
      "11810124     208.55     0.00780849 ... 50.02004336777 11810124 416282121\n",
      "11909686    185.953    0.000120214 ... 50.25316136589 11909686 299159803\n",
      "11805075    199.839    5.19864e-05 ... 50.02153229274 11805075 399825512\n",
      "12206313    184.262     0.00201405 ... 50.86348277781 12206313 267746315\n",
      "11716643    466.003     0.00232223 ... 49.80025617941 11716643  27007316\n",
      "Length = 123 rows\n",
      "(array([58, 75]),)\n"
     ]
    }
   ],
   "source": [
    "tab.pprint()\n",
    "print(np.where(tab['kepid']!=tab['KIC']))"
   ]
  },
  {
   "cell_type": "markdown",
   "metadata": {},
   "source": [
    "### Finding the number of TESS lightcurves by TIC\n",
    "To examine each of the 123 long-period planetary candidates that also have TESS lightcurves, it is more efficient to just query MAST for the counts (total numbers) of observations that match our criteria. \n",
    "JRK is this true - time it. "
   ]
  },
  {
   "cell_type": "code",
   "execution_count": 29,
   "metadata": {
    "tags": []
   },
   "outputs": [
    {
     "name": "stdout",
     "output_type": "stream",
     "text": [
      "2581316\n"
     ]
    }
   ],
   "source": [
    "i=0\n",
    "row=tab[i]\n",
    "print(row['kepid'])"
   ]
  },
  {
   "cell_type": "code",
   "execution_count": 20,
   "metadata": {
    "tags": []
   },
   "outputs": [
    {
     "name": "stdout",
     "output_type": "stream",
     "text": [
      "intentType obs_collection provenance_name ...   objID     objID1  distance\n",
      "---------- -------------- --------------- ... --------- --------- --------\n",
      "   science           HLSP             QLP ... 238704431 238704431      0.0\n",
      "   science           HLSP       TESS-SPOC ... 236201504 236201504      0.0\n",
      "   science           HLSP             QLP ... 233072513 233072513      0.0\n",
      "   science           HLSP       TESS-SPOC ...  86990707  86990707      0.0\n",
      "   science           HLSP       TESS-SPOC ... 236589725 236589725      0.0\n",
      "   science           HLSP             QLP ... 176855027 176855027      0.0\n",
      "   science           HLSP           TASOC ... 180937380 180937380      0.0\n",
      "   science           HLSP           CDIPS ... 153404312 153404312      0.0\n",
      "   science           HLSP             QLP ... 178725662 178725662      0.0\n",
      "   science           HLSP       TESS-SPOC ... 174135111 174135111      0.0\n",
      "   science           HLSP             QLP ...  87488608  87488608      0.0\n",
      "   science           HLSP       TESS-SPOC ... 173928356 173928356      0.0\n",
      "CPU times: user 61.9 ms, sys: 5.46 ms, total: 67.4 ms\n",
      "Wall time: 4.01 s\n"
     ]
    }
   ],
   "source": [
    "%%time\n",
    "obs_table = Observations.query_criteria(objectname='KIC '+str(row['kepid']),radius=1*u.arcsec,\n",
    "                                        project='TESS',obs_collection='HLSP',dataproduct_type='timeseries') # If do obs_collection= TESS, get 35. QLP, 0. SPOC, 0. HLSP tons.\n",
    "print(obs_table)"
   ]
  },
  {
   "cell_type": "code",
   "execution_count": 23,
   "metadata": {
    "tags": []
   },
   "outputs": [
    {
     "name": "stdout",
     "output_type": "stream",
     "text": [
      "12\n",
      "CPU times: user 24.5 ms, sys: 5.11 ms, total: 29.6 ms\n",
      "Wall time: 149 ms\n"
     ]
    }
   ],
   "source": [
    "%%time\n",
    "count = Observations.query_criteria_count(objectname='KIC '+str(row['kepid']),radius=1*u.arcsec,\n",
    "                                        project='TESS',obs_collection='HLSP',dataproduct_type='timeseries')\n",
    "print(count)"
   ]
  },
  {
   "cell_type": "code",
   "execution_count": 33,
   "metadata": {
    "tags": []
   },
   "outputs": [
    {
     "name": "stdout",
     "output_type": "stream",
     "text": [
      "t_exptime\n",
      "---------\n",
      "   1800.0\n",
      "   1800.0\n",
      "   1800.0\n",
      "    600.0\n",
      "    600.0\n",
      "    600.0\n",
      "    600.0\n",
      "   1800.0\n",
      "    600.0\n",
      "    600.0\n",
      "    600.0\n",
      "    600.0\n",
      "<TableColumns names=('intentType','obs_collection','provenance_name','instrument_name','project','filters','wavelength_region','target_name','target_classification','obs_id','s_ra','s_dec','dataproduct_type','proposal_pi','calib_level','t_min','t_max','t_exptime','em_min','em_max','obs_title','t_obs_release','proposal_id','proposal_type','sequence_number','s_region','jpegURL','dataURL','dataRights','mtFlag','srcDen','obsid','objID')>\n",
      "CPU times: user 17.4 ms, sys: 0 ns, total: 17.4 ms\n",
      "Wall time: 48 ms\n"
     ]
    }
   ],
   "source": [
    "%%time\n",
    "obs_table2=Observations.query_criteria(target_name=row['TIC'],\n",
    "                                      project='TESS',obs_collection='HLSP',dataproduct_type='timeseries')\n",
    "print(obs_table2['t_exptime'])\n",
    "print(obs_table2.columns)"
   ]
  },
  {
   "cell_type": "code",
   "execution_count": 31,
   "metadata": {
    "tags": []
   },
   "outputs": [
    {
     "name": "stdout",
     "output_type": "stream",
     "text": [
      "12\n",
      "CPU times: user 6.95 ms, sys: 327 µs, total: 7.27 ms\n",
      "Wall time: 78.8 ms\n"
     ]
    }
   ],
   "source": [
    "%%time\n",
    "count2=Observations.query_criteria_count(target_name=row['TIC'],\n",
    "                                      project='TESS',obs_collection='HLSP',dataproduct_type='timeseries')\n",
    "print(count2)"
   ]
  },
  {
   "cell_type": "code",
   "execution_count": null,
   "metadata": {},
   "outputs": [],
   "source": [
    "tab.add_column(np.empty(n,dtype=int),name='TESS HLSP')"
   ]
  },
  {
   "cell_type": "code",
   "execution_count": null,
   "metadata": {
    "tags": []
   },
   "outputs": [],
   "source": [
    "for i,row in enumerate(tab):\n",
    "    obs_table = Observations.query_criteria_count(target_name='TIC '+str(row['TIC']),\n",
    "                                        project='TESS',obs_collection='HLSP',\n",
    "                                       t_exptime=[20.0,120.0])\n",
    "    if len(obs_table)>0: tab['TESS fast'][i]=True\n",
    "    print(i,tab['TESS fast'][i])\n",
    "np.sum(tab['TESS fast'])"
   ]
  },
  {
   "cell_type": "code",
   "execution_count": null,
   "metadata": {
    "tags": []
   },
   "outputs": [],
   "source": [
    "tab[tab['TESS fast']==True]['kepid','tce_period','tce_period_err','tce_num_transits']"
   ]
  },
  {
   "cell_type": "markdown",
   "metadata": {},
   "source": [
    "# Examine the combined light curves for one target"
   ]
  },
  {
   "cell_type": "code",
   "execution_count": null,
   "metadata": {
    "tags": []
   },
   "outputs": [],
   "source": [
    "search_result=lk.search_lightcurve(1164109) # Works if it's input as an integer.\n",
    "#search_result=lk.search_lightcurve('KIC '+str(1164109)) # Only returns Kepler light kurves.\n",
    "# 291.65265, 36.89502\n",
    "#search_result=lk.search_lightcurve('291.65265, 36.89502')\n",
    "search_result"
   ]
  },
  {
   "cell_type": "code",
   "execution_count": null,
   "metadata": {
    "tags": []
   },
   "outputs": [],
   "source": [
    "search_result=lk.search_lightcurve(8056665,exptime='short')\n",
    "search_result"
   ]
  },
  {
   "cell_type": "code",
   "execution_count": null,
   "metadata": {
    "tags": []
   },
   "outputs": [],
   "source": [
    "# Load 'em all. Where does it \"go\"?\n",
    "lc_collection = search_result.download_all()"
   ]
  },
  {
   "cell_type": "code",
   "execution_count": null,
   "metadata": {
    "tags": []
   },
   "outputs": [],
   "source": [
    "# Could be interesting to visualize just Kepler, then just TESS, then combined.\n",
    "lc_stitched = lc_collection.stitch()\n",
    "lc_stitched.plot()"
   ]
  },
  {
   "cell_type": "markdown",
   "metadata": {},
   "source": [
    "Where possible (if the code supports it), use code examples that visually display the data in the tutorial. For example, if you are showing an object such as a Table, display a preview of the table:"
   ]
  },
  {
   "cell_type": "markdown",
   "metadata": {},
   "source": [
    "## Exercises\n",
    "Exercises are optional, but encouraged. Exercises can be woven into the main content of your tutorial, or appear in their own section toward the end of the tutorial. Final exercises can be more challenging, similar to homework problems. They can be minimal or take as long as 30 minutes to an hour to complete. If you do have one or more exercises in your tutorial, be sure to leave a blank code cell underneath each to show the reader that they're meant to try out their new skill right there. You may also want to include a \"solutions\" notebook next to your main notebook for the reader to check their work after they have finished their attempt."
   ]
  },
  {
   "cell_type": "markdown",
   "metadata": {},
   "source": [
    "## Additional Resources\n",
    "\n",
    "This section is optional. Try to weave resource links into the main content of your tutorial so that they are falling in line with the context of your writing. For resources that do not fit cleanly into your narrative, you may include an additional resources section at the end of your tutorial. Usually a list of links using Markdown bullet list plus link format is appropriate:\n",
    "\n",
    "- [MAST API](https://mast.stsci.edu/api/v0/index.html)\n",
    "- [Kepler Archive Page (MAST)](https://archive.stsci.edu/kepler/)\n",
    "- [Kepler Archive Manual](https://archive.stsci.edu/kepler/manuals/archive_manual.pdf)\n",
    "- [Exo.MAST website](https://exo.mast.stsci.edu/)"
   ]
  },
  {
   "cell_type": "markdown",
   "metadata": {},
   "source": [
    "## Citations\n",
    "Provide your reader with guidelines on how to cite open source software and other resources in their own published work.\n",
    "\n",
    "```\n",
    "If you use `astropy` or `lightkurve` for published research, please cite the\n",
    "authors. Follow these links for more information about citing `astropy` and\n",
    "`lightkurve`:\n",
    "\n",
    "* [Citing `astropy`](https://www.astropy.org/acknowledging.html)\n",
    "* [Citing `lightkurve`](http://docs.lightkurve.org/about/citing.html)\n",
    "\n",
    "```"
   ]
  },
  {
   "cell_type": "markdown",
   "metadata": {
    "slideshow": {
     "slide_type": "slide"
    }
   },
   "source": [
    "## About this Notebook\n",
    "Let the world know who the author of this great tutorial is! If possible and appropriate, include a contact email address for users who might need support (for example, `archive@stsci.edu`). You can also optionally include keywords, your funding source, or a last update date in this section.\n",
    "\n",
    "**Author(s):** Jessie Blogs, Jenny V. Medina, Thomas Dutkiewicz <br>\n",
    "**Keyword(s):** Tutorial, lightkurve, kepler, introduction, template <br>\n",
    "**Last Updated:** Aug 2022 <br>\n",
    "**Next Review:** Mar 2023\n",
    "***\n",
    "[Top of Page](#top)\n",
    "<img style=\"float: right;\" src=\"https://raw.githubusercontent.com/spacetelescope/notebooks/master/assets/stsci_pri_combo_mark_horizonal_white_bkgd.png\" alt=\"Space Telescope Logo\" width=\"200px\"/> "
   ]
  }
 ],
 "metadata": {
  "kernelspec": {
   "display_name": "TESS Environment",
   "language": "python",
   "name": "tess"
  },
  "language_info": {
   "codemirror_mode": {
    "name": "ipython",
    "version": 3
   },
   "file_extension": ".py",
   "mimetype": "text/x-python",
   "name": "python",
   "nbconvert_exporter": "python",
   "pygments_lexer": "ipython3",
   "version": "3.8.16"
  }
 },
 "nbformat": 4,
 "nbformat_minor": 4
}
