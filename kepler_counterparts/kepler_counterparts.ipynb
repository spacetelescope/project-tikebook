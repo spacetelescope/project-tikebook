{
 "cells": [
  {
   "cell_type": "markdown",
   "metadata": {},
   "source": [
    "<a id=\"top\"></a>\n",
    "# Long Period TESS Targets with Kepler Counterparts\n",
    "***\n"
   ]
  },
  {
   "cell_type": "markdown",
   "metadata": {
    "tags": []
   },
   "source": [
    "## Prerequisites\n",
    "Before beginning this tutorial, you should be familiar with: \n",
    "- Python syntax, including [for loops](https://docs.python.org/3/reference/compound_stmts.html#for) and [try except](https://docs.python.org/3/reference/compound_stmts.html#try) blocks\n",
    "- [astropy tables](https://docs.astropy.org/en/stable/table/index.html)\n",
    "- [astropy Time objects](https://docs.astropy.org/en/stable/time/index.html)"
   ]
  },
  {
   "cell_type": "markdown",
   "metadata": {
    "tags": []
   },
   "source": [
    "## Learning Goals\n",
    "\n",
    "By the end of this tutorial, you will:\n",
    "\n",
    "- Load a .csv file as an astropy table and use criteria to filter the table into the rows and columns needed.\n",
    "- Search the MAST archive by Kepler Input Catalog (KIC) number using astroquery.\n",
    "- Load a catalog with Vizier to cross-match Kepler and TESS catalog identifiers.\n",
    "- Search the MAST archive by criteria including TESS Input Catalog (TIC) number, type of observation, and dates of observation.\n",
    "- Download and plot a lightcurve from the MAST archive."
   ]
  },
  {
   "cell_type": "markdown",
   "metadata": {
    "slideshow": {
     "slide_type": "slide"
    }
   },
   "source": [
    "## Introduction\n",
    "The [Kepler initial and follow-on (K2) missions confirmed over 2,600 exoplanets](https://exoplanets.nasa.gov/keplerscience/) and contributed to an unprecedented exposion of knowledge about planetary systems in our galaxy. In addition to confirmed exoplanets, Kepler identified thousands more potential planetary candidates, referred to as Kepler Objects on Interest (KOI's). \n",
    "\n",
    "The Transiting Exoplanet Survey Satellite (TESS) began its observations just before the completion of the K2 mission; there may be long-period (greater than 6 months) exoplanets whose transits were observed by both missions. By combining observations from both missions, we could potentially view multiple transits and confirm the existence of new exoplanets. \n",
    "\n",
    "Possible transits observed by Kepler are called Threshold Crossing Events, or TCEs. More specifically, according to the [NASA Exoplanet Archive documentation](https://exoplanetarchive.ipac.caltech.edu/docs/Kepler_TCE_docs.html), \n",
    "\n",
    ">\"A Threshold-Crossing Event (TCE) is a sequence of transit-like features in the flux time series of a given target that resembles the signature of a transiting planet to a sufficient degree that the target is passed on for further analysis.\"\n",
    "\n",
    "The workflow for this notebook consists of:\n",
    "* [Imports](#Imports)\n",
    "* [Load full table of Kepler Threshold Crossing Events, or TCEs and filter by period](#Load-full-table-of-Kepler-Threshold-Crossing-Events,-or-TCEs-and-filter-by-period)\n",
    "    * [Exercise 1](#Exercise-1)\n",
    "* [Find all TESS 20 to 600-second targets for these Kepler TCEs](#Find-all-TESS-20-to-600-second-targets-for-these-Kepler-TCEs)\n",
    "    * [Finding observations in the MAST archive by the Kepler ID number](#Finding-observations-in-the-MAST-archive-by-the-Kepler-ID-number)\n",
    "    * [Exercise 2](#Exercise-2)\n",
    "    * [Get coordinates and TESS Input Catalog (TIC) numbers from Vizier](#Get-coordinates-and-TESS-Input-Catalog-(TIC)-numbers-from-Vizier)\n",
    "    * [Finding the number of TESS lightcurves by TIC](#Finding-the-number-of-TESS-lightcurves-by-TIC)\n",
    "    * [Exercise 3](#Exercise-3)\n",
    "* [Further limit the search for TESS lightcurves that were taken during predicted transit times](#Further-limit-the-search-for-TESS-lightcurves-that-were-taken-during-predicted-transit-times)\n",
    "    * [Exercise 4](#Exercise-4)\n",
    "* [Plot a TESS lightcurve that contains a predicted transit](#Plot-a-TESS-lightcurve-that-contains-a-predicted-transit)\n",
    "    * [Exercise 5](#Exercise-5)\n",
    "* [Additional Exercises](#Additional-Exercises)"
   ]
  },
  {
   "cell_type": "markdown",
   "metadata": {
    "slideshow": {
     "slide_type": "slide"
    }
   },
   "source": [
    "## Imports\n",
    "- *matplotlib.pyplot* for plotting data\n",
    "- *numpy* to handle array functions\n",
    "- *astropy.table Table* for creating tidy tables of the data\n",
    "- *astroquery.mast Observations* for querying the MAST archive\n",
    "- *lightkurve* for loading and plotting light curves\n",
    "- *astropy.units* for keeping track of units\n",
    "- *astroquery.vizier Vizier* for querying the VizieR Information System of astronomical catalogues\n",
    "- *astropy.time Time* for handling dates and times of predicted transits"
   ]
  },
  {
   "cell_type": "code",
   "execution_count": 1,
   "metadata": {
    "slideshow": {
     "slide_type": "fragment"
    },
    "tags": []
   },
   "outputs": [],
   "source": [
    "%matplotlib inline\n",
    "\n",
    "import matplotlib.pyplot as plt\n",
    "import numpy as np\n",
    "\n",
    "from astropy.io import fits\n",
    "from astropy.table import Table\n",
    "from astroquery.mast import Observations\n",
    "\n",
    "import lightkurve as lk\n",
    "import astropy.units as u # May not end up using?\n",
    "from astroquery.vizier import Vizier\n",
    "from astropy.time import Time"
   ]
  },
  {
   "cell_type": "markdown",
   "metadata": {},
   "source": [
    "***"
   ]
  },
  {
   "cell_type": "markdown",
   "metadata": {},
   "source": [
    "## Load full table of Kepler Threshold Crossing Events, or TCEs and filter by period\n",
    "\n",
    "The NASA Exoplanet Archive hosts many useful data tables, including the list of [Threshold Crossing Events (TCEs)](https://exoplanetarchive.ipac.caltech.edu/docs/program_interfaces.html#tce). We'll use the Quarter 1 through Quarter 17 Data Release 24 (DR24) version. These TCEs were evaluated by an autovetter, a machine-learning program that classified TCEs into three categories: PC (Planet Candidate), AFP (Astrophysical False Positive), and NTP (Non-Transiting Phenomenon). More information about the autovetter can be found in [McCauliff et al. 2015 ApJ 806, 6](https://ui.adsabs.harvard.edu/abs/2015ApJ...806....6M/abstract).\n",
    "\n",
    "The TCE website listed above provides URLs to the tables. It's possible to use astropy's Table function to read directly from a URL, however, those online versions do not contain all of the columns available in the TCE table. Instead, this tutorial includes a .csv file that was downloaded from the [TCE interactive table viewer](https://exoplanetarchive.ipac.caltech.edu/cgi-bin/TblView/nph-tblView?app=ExoTbls&config=tce) with the options to \"Download All Rows\" and \"Download All Columns\" checked. Here we load the TCE DR24 table as an astropy table and view a preview with a \"pretty-print\" command."
   ]
  },
  {
   "cell_type": "code",
   "execution_count": 2,
   "metadata": {
    "tags": []
   },
   "outputs": [
    {
     "name": "stdout",
     "output_type": "stream",
     "text": [
      "rowid  kepid   tce_plnt_num ... tce_dikco_msky tce_dikco_msky_err\n",
      "----- -------- ------------ ... -------------- ------------------\n",
      "    1  1162345            2 ...        0.46282                1.1\n",
      "    2  1292087            2 ...        0.22049               0.22\n",
      "    3  1293031            2 ...        0.41872              0.207\n",
      "    4  1162345            3 ...        0.13742              0.196\n",
      "    5  1164109            1 ...         15.207             0.0893\n",
      "    6   757450            1 ...        0.12498             0.0763\n",
      "    7   892667            1 ...        0.18106              0.124\n",
      "    8   892772            1 ...         5.2002              0.165\n",
      "    9  1026032            1 ...       0.064587              0.077\n",
      "   10  1026032            2 ...        0.13865              0.084\n",
      "  ...      ...          ... ...            ...                ...\n",
      "20357 11809346            1 ...       0.090355             0.0786\n",
      "20358 11826440            2 ...        0.58446              0.755\n",
      "20359 11852982            1 ...        0.27376              0.143\n",
      "20360 11853130            1 ...        0.15446             0.0954\n",
      "20361 11905761            1 ...        0.20043              0.817\n",
      "20362 11905761            2 ...        0.10213              0.231\n",
      "20363 11906217            1 ...        0.16682             0.0691\n",
      "20364 11908559            1 ...        0.28681              0.647\n",
      "20365 11923562            2 ...        0.21583              0.135\n",
      "20366 11923819            1 ...        0.30357             0.0672\n",
      "20367 11923819            2 ...        0.30064             0.0672\n",
      "Length = 20367 rows\n"
     ]
    },
    {
     "name": "stderr",
     "output_type": "stream",
     "text": [
      "WARNING: OverflowError converting to FloatType in column boot_fap, possibly resulting in degraded precision. [astropy.io.ascii.fastbasic]\n"
     ]
    }
   ],
   "source": [
    "tab=Table.read('./q1_q17_dr24_tce_2023.05.29_11.07.52.csv',format='ascii.csv',comment='#') \n",
    "tab.pprint()"
   ]
  },
  {
   "cell_type": "markdown",
   "metadata": {},
   "source": [
    "As we can see, the table has over 20,000 rows, so we will want to narrow down by targets most of interest for us. However, the \"pretty print\" preview of the table does not show us all of the columns. Let's see the names of all of the columns, and only retain those we will need."
   ]
  },
  {
   "cell_type": "code",
   "execution_count": 3,
   "metadata": {
    "tags": []
   },
   "outputs": [
    {
     "name": "stdout",
     "output_type": "stream",
     "text": [
      "<TableColumns names=('rowid','kepid','tce_plnt_num','tce_rogue_flag','tce_delivname','rowupdate','tce_datalink_dvs','tce_datalink_dvr','tce_period','tce_period_err','tce_time0bk','tce_time0bk_err','tce_time0','tce_time0_err','tce_ror','tce_ror_err','tce_dor','tce_dor_err','tce_incl','tce_incl_err','tce_impact','tce_impact_err','tce_duration','tce_duration_err','tce_ingress','tce_ingress_err','tce_depth','tce_depth_err','tce_eccen','tce_eccen_err','tce_longp','tce_longp_err','tce_limbdark_mod','tce_ldm_coeff1','tce_ldm_coeff2','tce_ldm_coeff3','tce_ldm_coeff4','tce_num_transits','tce_trans_mod','tce_full_conv','tce_model_snr','tce_model_chisq','tce_model_dof','tce_robstat','tce_dof1','tce_dof2','tce_chisq1','tce_chisq2','tce_chisqgofdof','tce_chisqgof','tce_prad','tce_prad_err','tce_sma','tce_sma_err','tce_eqt','tce_eqt_err','tce_insol','tce_insol_err','tce_nkoi','tce_ioflag','tce_quarters','tce_steff','tce_steff_err','tce_slogg','tce_slogg_err','tce_smet','tce_smet_err','tce_sradius','tce_sradius_err','tce_steff_prov','tce_slogg_prov','tce_smet_prov','tce_sradius_prov','tcet_period','tcet_period_err','tcet_time0bk','tcet_time0bk_err','tcet_time0','tcet_time0_err','tcet_duration','tcet_duration_err','tcet_ingress','tcet_ingress_err','tcet_depth','tcet_depth_err','tcet_full_conv','tcet_model_chisq','tcet_model_dof','wst_robstat','wst_depth','tce_mesmedian','tce_mesmad','tce_maxmes','tce_minmes','tce_maxmesd','tce_minmesd','tce_max_sngle_ev','tce_max_mult_ev','tce_bin_oedp_stat','tce_rmesmad','tce_rsnrmes','tce_rminmes','tce_albedo','tce_albedo_err','tce_ptemp','tce_ptemp_err','tce_albedo_stat','tce_ptemp_stat','av_vf_pc','av_vf_pc_err','av_vf_afp','av_vf_afp_err','av_vf_ntp','av_vf_ntp_err','av_pp_pc','av_pp_afp','av_pp_ntp','av_training_set','av_pred_class','boot_fap','boot_mesthresh','boot_mesmean','boot_messtd','tce_cap_stat','tce_hap_stat','tce_rb_tpdur','tce_rb_tcount0','tce_rb_tcount1','tce_rb_tcount2','tce_rb_tcount3','tce_rb_tcount4','tce_fwm_stat','tce_fwm_sra','tce_fwm_sra_err','tce_fwm_sdec','tce_fwm_sdec_err','tce_fwm_srao','tce_fwm_srao_err','tce_fwm_sdeco','tce_fwm_sdeco_err','tce_fwm_prao','tce_fwm_prao_err','tce_fwm_pdeco','tce_fwm_pdeco_err','tce_dicco_mra','tce_dicco_mra_err','tce_dicco_mdec','tce_dicco_mdec_err','tce_dicco_msky','tce_dicco_msky_err','tce_dikco_mra','tce_dikco_mra_err','tce_dikco_mdec','tce_dikco_mdec_err','tce_dikco_msky','tce_dikco_msky_err')>\n"
     ]
    }
   ],
   "source": [
    "print(tab.columns)"
   ]
  },
  {
   "cell_type": "markdown",
   "metadata": {},
   "source": [
    "The NASA Exoplanet Archive provides detailed information about the [Data Columns in the Kepler TCE Table](https://exoplanetarchive.ipac.caltech.edu/docs/API_tce_columns.html). Some of the most important columns for us will be:\n",
    "- kepid, Kepler identification number, which we can use when searching the MAST Archive.\n",
    "- tce_period, the orbital period in days.\n",
    "- tce_period_err, the error in the orbital period (also in days).\n",
    "- tce_time0bk, the time of the center of the first detected transit in Barycentric Julian Day (BJD) minus a constant offset of 2,454,833.0 days. The offset corresponds to 12:00 on Jan 1, 2009 UTC.\n",
    "- tce_time0bk_err, the error in the above (also in days)\n",
    "- tce_depth, the fraction of stellar flux lost at the maximum of the transit, in ppm.\n",
    "- tce_duration, the duration of the observed transit, in hours.\n",
    "- av_pred_class, the autovetter predicted classification (PC, AFP, or NTP)\n",
    "\n",
    "We will only use those columns for now, to reduce the size of the table we are dealing with."
   ]
  },
  {
   "cell_type": "code",
   "execution_count": 4,
   "metadata": {
    "tags": []
   },
   "outputs": [],
   "source": [
    "tab=tab['kepid','tce_period','tce_period_err','tce_time0bk','tce_time0bk_err','tce_depth','tce_duration','av_pred_class']"
   ]
  },
  {
   "cell_type": "markdown",
   "metadata": {},
   "source": [
    "Additionally, we'd like to filter our table to only include Planetary Candidates of with a TCE period of greater than 6 months, or 180 days. First, only include those that the autovetter indicated as \"PC\" for Planetary Candidate."
   ]
  },
  {
   "cell_type": "code",
   "execution_count": 5,
   "metadata": {
    "tags": []
   },
   "outputs": [
    {
     "name": "stdout",
     "output_type": "stream",
     "text": [
      "Number of Kepler TCEs marked as Planetary Candidates: 3900\n"
     ]
    }
   ],
   "source": [
    "tab=tab[tab['av_pred_class']=='PC']\n",
    "print('Number of Kepler TCEs marked as Planetary Candidates:',len(tab))"
   ]
  },
  {
   "cell_type": "markdown",
   "metadata": {},
   "source": [
    "We can see that of the over 20,000 TCEs, just under 20% were identified as likely planetary candidates (PCs). \n",
    "What is the distribution of the periods of those PCs? We can view a histogram of the 'tce_period' column."
   ]
  },
  {
   "cell_type": "code",
   "execution_count": 6,
   "metadata": {
    "tags": []
   },
   "outputs": [
    {
     "data": {
      "text/plain": [
       "Text(0, 0.5, 'Number of PCs')"
      ]
     },
     "execution_count": 6,
     "metadata": {},
     "output_type": "execute_result"
    },
    {
     "data": {
      "image/png": "[encoded data removed]",
      "text/plain": [
       "<Figure size 640x480 with 1 Axes>"
      ]
     },
     "metadata": {},
     "output_type": "display_data"
    }
   ],
   "source": [
    "plt.hist(tab['tce_period'])\n",
    "plt.xlabel('TCE Period (days)')\n",
    "plt.ylabel('Number of PCs')"
   ]
  },
  {
   "cell_type": "markdown",
   "metadata": {},
   "source": [
    "The vast majority of the TCE periods are fewer than 50 days. The planetary candidates that would most benefit from the long baseline afforded by combining the Kepler, K2, and TESS datasets are those with longer periods. Here, we'll again filter our table to just include those PCs with periods of greater than 6 months, or 180 days. "
   ]
  },
  {
   "cell_type": "code",
   "execution_count": 7,
   "metadata": {
    "tags": []
   },
   "outputs": [
    {
     "name": "stdout",
     "output_type": "stream",
     "text": [
      "Number of Kepler TCEs marked PC and period > 180 days: 123\n"
     ]
    }
   ],
   "source": [
    "tab=tab[tab['tce_period']>180]\n",
    "n=len(tab)\n",
    "print('Number of Kepler TCEs marked PC and period > 180 days:',n)"
   ]
  },
  {
   "cell_type": "markdown",
   "metadata": {
    "tags": []
   },
   "source": [
    "### Exercise 1\n",
    "Go to the [Data page of the NASA Exoplanet Archive](https://exoplanetarchive.ipac.caltech.edu/docs/data.html) and download the TCE table with all columns and all rows. Load it here and confirm that it matches the .csv file included with the tutorial. Then, sort your new table to include only Non-Transiting Phenomena with periods of less than or equal to 180 days. "
   ]
  },
  {
   "cell_type": "code",
   "execution_count": 8,
   "metadata": {
    "tags": []
   },
   "outputs": [],
   "source": [
    "### Write your code for Exercise 1 here. "
   ]
  },
  {
   "cell_type": "markdown",
   "metadata": {
    "slideshow": {
     "slide_type": "slide"
    }
   },
   "source": [
    "## Find all TESS 20 to 600-second targets for these Kepler TCEs\n",
    "The Kepler and K2 missions studied a limited portion of the sky, but TESS has studied the full sky. This means that all Kepler and K2 identifications are likely to be included in the TESS Catalog. However, they may not all have photometry data collected at small enough intervals; some may be as high as 1800 seconds or 30 minutes between data points on the light curve. For transits that only last on the order of hours, this may not be frequent enough to confidently confirm the transit. We will search the archive for cadences of up to 10 minutes (or 600 seconds)."
   ]
  },
  {
   "cell_type": "markdown",
   "metadata": {
    "tags": []
   },
   "source": [
    "### Finding observations in the MAST archive by the Kepler ID number\n",
    "When we use astroquery.mast's Observations.query_object or query_object_count functions, the object's name will be resolved into sky coordinates (RA and Dec), so that all observations of that coordinate will be returned. This allows us to search by the Kepler ID column, even though TESS will not have used the Kepler ID to refer to the name of the target. Likewise, other ways to search the MAST archive, such as query_criteria, will also resolve the coordinates of the name input to 'objectname'. See the [astroquery documentation about MAST Queries](https://astroquery.readthedocs.io/en/latest/mast/mast.html) for more information. \n",
    "\n",
    "Unfortunately, this method of searching is time-intensive, which makes it very inconvenient when cross-matching hundreds or more targets from different missions. Let's illustrate this point with the first row in our filtered table. We will query all observations in MAST that correspond to the coordinates of the first row's Kepler ID, within 1 arcsecond. Notice that this call to MAST will take at least a few seconds; we can use the \"time\" magic command to tell us how long it takes."
   ]
  },
  {
   "cell_type": "code",
   "execution_count": 9,
   "metadata": {
    "tags": []
   },
   "outputs": [
    {
     "name": "stdout",
     "output_type": "stream",
     "text": [
      "Kepler ID of first row: 2581316\n",
      "CPU times: user 56.5 ms, sys: 15 ms, total: 71.5 ms\n",
      "Wall time: 6.34 s\n"
     ]
    }
   ],
   "source": [
    "print('Kepler ID of first row: '+str(tab[0]['kepid']))\n",
    "%time obs_table = Observations.query_object('KIC '+str(tab[0]['kepid']),radius=1*u.arcsec)"
   ]
  },
  {
   "cell_type": "markdown",
   "metadata": {},
   "source": [
    "Let's view a preview of the resulting table."
   ]
  },
  {
   "cell_type": "code",
   "execution_count": 10,
   "metadata": {
    "tags": []
   },
   "outputs": [
    {
     "name": "stdout",
     "output_type": "stream",
     "text": [
      "intentType obs_collection provenance_name ... srcDen   obsid   distance\n",
      "---------- -------------- --------------- ... ------ --------- --------\n",
      "   science           TESS            SPOC ...    nan  27463635      0.0\n",
      "   science           TESS            SPOC ...    nan  62431369      0.0\n",
      "   science           TESS            SPOC ...    nan  62870781      0.0\n",
      "   science           TESS            SPOC ...    nan  92616912      0.0\n",
      "   science           TESS            SPOC ...    nan  95133363      0.0\n",
      "   science           TESS            SPOC ...    nan  62349937      0.0\n",
      "   science           TESS            SPOC ...    nan  62793303      0.0\n",
      "   science           TESS            SPOC ...    nan  91547081      0.0\n",
      "   science           TESS            SPOC ...    nan  93772051      0.0\n",
      "   science    SPITZER_SHA    SSC Pipeline ...    nan   1730213      0.0\n",
      "       ...            ...             ... ...    ...       ...      ...\n",
      "   science           HLSP             QLP ...    nan 129964724      0.0\n",
      "   science           HLSP           TASOC ...    nan  95768637      0.0\n",
      "   science           HLSP       TESS-SPOC ...    nan  43049105      0.0\n",
      "   science           HLSP       TESS-SPOC ...    nan  90486414      0.0\n",
      "   science           HLSP       TESS-SPOC ...    nan  90647225      0.0\n",
      "   science           HLSP       TESS-SPOC ...    nan 128815321      0.0\n",
      "   science           HLSP       TESS-SPOC ...    nan 128634089      0.0\n",
      "   science           HLSP            TICA ...    nan 100098298      0.0\n",
      "   science           HLSP            TICA ...    nan 100379415      0.0\n",
      "   science           HLSP            TICA ...    nan 100714209      0.0\n",
      "   science           HLSP            TICA ...    nan 100498586      0.0\n",
      "Length = 89 rows\n"
     ]
    }
   ],
   "source": [
    "# View the observation table\n",
    "obs_table.pprint()"
   ]
  },
  {
   "cell_type": "markdown",
   "metadata": {},
   "source": [
    "The 89 rows of the table include observations from mulitple missions. The 'target_name' column (not shown in the preview) contains a number of different entries. Let's view the list of unique entries in that column."
   ]
  },
  {
   "cell_type": "code",
   "execution_count": 11,
   "metadata": {
    "tags": []
   },
   "outputs": [
    {
     "data": {
      "text/html": [
       "&lt;MaskedColumn name=&apos;target_name&apos; dtype=&apos;str22&apos; length=7&gt;\n",
       "<table>\n",
       "<tr><td>137685450</td></tr>\n",
       "<tr><td>2144.049</td></tr>\n",
       "<tr><td>Kepler10-1-2-1-1-1-1-1</td></tr>\n",
       "<tr><td>--</td></tr>\n",
       "<tr><td>TESS FFI</td></tr>\n",
       "<tr><td>TICA FFI</td></tr>\n",
       "<tr><td>kplr002581316</td></tr>\n",
       "</table>"
      ],
      "text/plain": [
       "<MaskedColumn name='target_name' dtype='str22' length=7>\n",
       "             137685450\n",
       "              2144.049\n",
       "Kepler10-1-2-1-1-1-1-1\n",
       "                    --\n",
       "              TESS FFI\n",
       "              TICA FFI\n",
       "         kplr002581316"
      ]
     },
     "execution_count": 11,
     "metadata": {},
     "output_type": "execute_result"
    }
   ],
   "source": [
    "np.unique(obs_table['target_name'])"
   ]
  },
  {
   "cell_type": "markdown",
   "metadata": {},
   "source": [
    "From the above, we can see that inputting an 'objectname' of 'KIC 2581316' from the Kepler Input Catalog (KIC) identification number, we find all the observations of that target from all different missions - even if they did not specifically refer to the name of the target by the same name. While this is very helpful for cross-matching targets from different catalogs, the amount of time it takes to do so is prohibitive if we want to examine hundreds or thousands of targets.\n",
    "\n",
    "Moreover, if we're interested in *only* TESS observations light curves, then we will only need to return observations whose target name matches the TESS ID number. The table above includes observations from other missions (e.g. Kepler) or other types of data products from TESS (e.g. full-frame-images, from which lightcurves have already been extracted)."
   ]
  },
  {
   "cell_type": "markdown",
   "metadata": {},
   "source": [
    "### Exercise 2\n",
    "One of the target names listed above, '137685450', turns out to be the TESS Input Catalog (TIC) identifier for this target. Search the MAST archive by this object name, with the same search radius of 1 arcsecond, and confirm that the two result tables are identical. Do you need to add 'TIC' and input the number as string like we did above, or can you just use the number alone?"
   ]
  },
  {
   "cell_type": "code",
   "execution_count": 12,
   "metadata": {
    "tags": []
   },
   "outputs": [
    {
     "name": "stdout",
     "output_type": "stream",
     "text": [
      "89\n",
      "     target_name      \n",
      "----------------------\n",
      "             137685450\n",
      "              2144.049\n",
      "Kepler10-1-2-1-1-1-1-1\n",
      "                    --\n",
      "              TESS FFI\n",
      "              TICA FFI\n",
      "         kplr002581316\n"
     ]
    }
   ],
   "source": [
    "### Write your code for Exercise 2 here. \n",
    "### JRK Solution here for now, put in other notebook later.\n",
    "# You DO need to tell the query_object routine that you are inputting a TIC number. \n",
    "# Inputting the number alone (as a string or an integer) will result in an error.\n",
    "obs_table2 = Observations.query_object('TIC '+str(137685450),radius=1*u.arcsec)\n",
    "# We can check that the two tables have the same length and contain the same unique list of target names. \n",
    "print(len(obs_table2))\n",
    "print(np.unique(obs_table2['target_name']))"
   ]
  },
  {
   "cell_type": "markdown",
   "metadata": {},
   "source": [
    "### Get coordinates and TESS Input Catalog (TIC) numbers from Vizier\n",
    "We will find that it is far faster to search MAST for TESS observations  by TESS Input Catalog (TIC) number. To do that, we need to figure out the TICs that correspond to the KICs. To do this, we'll search the Tess Input Catalog, which is hosted in Vizier: [TESS Input Catalog version 8.2 (TIC v.8.2)(Paegert+,2021)](http://vizier.cds.unistra.fr/viz-bin/VizieR-3?-source=IV/39/tic82&-out.max=50&-out.form=HTML%20Table&-out.add=_r&-out.add=_RAJ,_DEJ&-sort=_r&-oc.form=sexa)\n",
    "\n",
    "First, we'll setup astroquery to search Vizier in such a way that we do not limit the number of rows returned, and we specifically want to return the columns corresponding to coordinates (RA and Dec), TIC, and KIC. Next, we'll create new columns in our table (tab) that match the data types we will find in Vizier."
   ]
  },
  {
   "cell_type": "code",
   "execution_count": 13,
   "metadata": {
    "tags": []
   },
   "outputs": [],
   "source": [
    "Vizier.ROW_LIMIT = -1\n",
    "v=Vizier(columns=['_RAJ2000','_DEJ2000','TIC','KIC'])"
   ]
  },
  {
   "cell_type": "code",
   "execution_count": 14,
   "metadata": {
    "tags": []
   },
   "outputs": [],
   "source": [
    "tab.add_columns([np.zeros(n),np.zeros(n),np.zeros(n,dtype=np.int32),np.zeros(n,dtype=np.int64)],\n",
    "                names=['_RAJ2000','_DEJ2000','KIC','TIC'])"
   ]
  },
  {
   "cell_type": "markdown",
   "metadata": {},
   "source": [
    "We will query Vizier for each row in our table of TCEs, and then save the resulting RA, Dec, KIC (just to confirm!) and TIC in our new columns. To guard against connectivity errors interrupting the workflow, we will put the Vizier query in a [try statement](https://docs.python.org/3/tutorial/errors.html#handling-exceptions)."
   ]
  },
  {
   "cell_type": "code",
   "execution_count": 15,
   "metadata": {
    "tags": []
   },
   "outputs": [
    {
     "name": "stdout",
     "output_type": "stream",
     "text": [
      "Error in 58\n",
      "Error in 75\n"
     ]
    }
   ],
   "source": [
    "# Query a subset of the TESS Input Catalog \n",
    "#result=Vizier.query_object('KIC 2581316',catalog=['IV/39/tic82']) # Length: 282\n",
    "#for i,row in enumerate(tab):\n",
    "for i,row in enumerate(tab):\n",
    "    # Use a \"try/except\" because sometimes there is no response\n",
    "    try:\n",
    "        result=v.query_object('KIC '+str(row['kepid']),radius=1*u.arcsec,catalog=['IV/39/tic82'])\n",
    "        # If there is more than one result, choose the one with matching KIC.\n",
    "        if len(result[0])>1: result=result[0][result[0]['KIC']==row['kepid']]\n",
    "        tab[i]['_RAJ2000','_DEJ2000','KIC','TIC']=result[0][0]['_RAJ2000','_DEJ2000','KIC','TIC']\n",
    "    except:\n",
    "        print('Error in',i)\n",
    "        continue"
   ]
  },
  {
   "cell_type": "markdown",
   "metadata": {},
   "source": [
    "We can now view the updated table and confirm that the KIC values from Vizier match the 'kepid' values from our original table, except in any rows where an error was found."
   ]
  },
  {
   "cell_type": "code",
   "execution_count": 16,
   "metadata": {
    "tags": []
   },
   "outputs": [
    {
     "name": "stdout",
     "output_type": "stream",
     "text": [
      " kepid   tce_period tce_period_err ...    _DEJ2000      KIC       TIC   \n",
      "-------- ---------- -------------- ... -------------- -------- ---------\n",
      " 2581316    217.832    7.71254e-05 ... 37.86013507452  2581316 137685450\n",
      " 2975770    369.079     0.00262336 ... 38.11458125146  2975770 121395761\n",
      " 2576107    205.583    0.000156979 ... 37.88763673242  2576107 137220754\n",
      " 3103227    225.583     0.00304541 ... 38.29470683575  3103227 121395435\n",
      " 3326377     198.71    0.000624291 ... 38.40533619115  3326377 120962548\n",
      " 3645438    386.372      0.0107079 ... 38.78773924713  3645438 137151626\n",
      " 3634051    453.544     0.00352963 ... 38.74028625567  3634051 121457557\n",
      " 3747817    184.772     0.00139617 ... 38.87490712824  3747817 137319097\n",
      " 4918309    186.436     0.00047676 ... 40.02181730105  4918309 122301308\n",
      " 4760478    287.378      0.0024477 ... 39.88652749598  4760478 184011870\n",
      "     ...        ...            ... ...            ...      ...       ...\n",
      "11026582    240.572     0.00146005 ... 48.55868896195 11026582 406948587\n",
      "11027624    394.625    0.000866273 ... 48.52135026439 11027624 417659078\n",
      "10586619    377.502     0.00848357 ... 47.81104406253 10586619 352015839\n",
      "11030711    205.913     0.00132618 ... 48.51106334121 11030711 424864368\n",
      "12644769    451.773    8.60856e-05 ... 51.75743827254 12644769 299096355\n",
      "12735740    282.526    0.000109909 ... 51.96261403897 12735740 416279912\n",
      "11810124     208.55     0.00780849 ... 50.02004336777 11810124 416282121\n",
      "11909686    185.953    0.000120214 ... 50.25316136589 11909686 299159803\n",
      "11805075    199.839    5.19864e-05 ... 50.02153229274 11805075 399825512\n",
      "12206313    184.262     0.00201405 ... 50.86348277781 12206313 267746315\n",
      "11716643    466.003     0.00232223 ... 49.80025617941 11716643  27007316\n",
      "Length = 123 rows\n",
      "(array([58, 75]),)\n",
      " kepid  tce_period tce_period_err tce_time0bk ... _RAJ2000 _DEJ2000 KIC TIC\n",
      "------- ---------- -------------- ----------- ... -------- -------- --- ---\n",
      "8644545    295.958     0.00206018     138.928 ...      0.0      0.0   0   0\n",
      "9471974    190.323    0.000605455     312.674 ...      0.0      0.0   0   0\n"
     ]
    }
   ],
   "source": [
    "tab.pprint()\n",
    "print(np.where(tab['kepid']!=tab['KIC']))\n",
    "print(tab[[58,75]])"
   ]
  },
  {
   "cell_type": "markdown",
   "metadata": {},
   "source": [
    "Comparing the 'kepid' and 'KIC' columns in the above table, we can see that they match, except in rows 58 and 75, where an error resulted in no result. "
   ]
  },
  {
   "cell_type": "markdown",
   "metadata": {},
   "source": [
    "### Finding the number of TESS lightcurves by TIC\n",
    "To examine each of the 123 long-period planetary candidates that also have TESS lightcurves, it is more efficient to just query MAST for the counts (total numbers) of observations that match our criteria; we can do this with query_criteria_count. Here are the criteria we will include:\n",
    "- target_name, the TIC number as an integer.\n",
    "- project = TESS\n",
    "- obs_collection = HLSP for \"High Level Science Product\"\n",
    "- dataproduct_type = 'timeseries' because we are interested in light curves, not images\n",
    "- t_exptime = [20.0,600.0], this limits ourselves to lightcurves with observing cadences (time between images) of 20 to 600 seconds. Some TESS light curves in the MAST archive are 1800.0 s or 30 minutes; because exoplanet transits last on the order of hours, we'll be better able to model the transit with higher frequency images.\n",
    "First, we'll add a column of integers to our table to indicate the number of TESS observations matching our criteria."
   ]
  },
  {
   "cell_type": "code",
   "execution_count": 17,
   "metadata": {},
   "outputs": [],
   "source": [
    "tab.add_column(np.zeros(n,dtype=int),name='nTESS')"
   ]
  },
  {
   "cell_type": "markdown",
   "metadata": {},
   "source": [
    "Now, with a for loop, we will use query_criteria_count on each row, one at a time, and record the number of matching observations."
   ]
  },
  {
   "cell_type": "code",
   "execution_count": 18,
   "metadata": {
    "tags": []
   },
   "outputs": [],
   "source": [
    "# For each row in the table, record the total number of observations that meet the criteria listed above.\n",
    "for i,row in enumerate(tab):\n",
    "    obs_count = Observations.query_criteria_count(target_name=row['TIC'],\n",
    "                                        project='TESS',obs_collection='HLSP',\n",
    "                                        dataproduct_type='timeseries',\n",
    "                                       t_exptime=[20.0,600.0])\n",
    "    tab['nTESS'][i]=obs_count"
   ]
  },
  {
   "cell_type": "markdown",
   "metadata": {},
   "source": [
    "Finally, we'll only keep the rows of our table where at least 1 TESS light curve matching our criteria was found, and view a preview of the resulting table."
   ]
  },
  {
   "cell_type": "code",
   "execution_count": 19,
   "metadata": {
    "tags": []
   },
   "outputs": [
    {
     "name": "stdout",
     "output_type": "stream",
     "text": [
      " kepid   tce_period tce_period_err tce_time0bk ...   KIC       TIC    nTESS\n",
      "-------- ---------- -------------- ----------- ... -------- --------- -----\n",
      " 2581316    217.832    7.71254e-05      238.82 ...  2581316 137685450     8\n",
      " 2975770    369.079     0.00262336      298.39 ...  2975770 121395761     3\n",
      " 3634051    453.544     0.00352963      360.06 ...  3634051 121457557     2\n",
      " 4862625    541.739     0.00356943      374.46 ...  4862625 170348142     3\n",
      " 4820550    202.118    0.000378617     292.048 ...  4820550 121013026     4\n",
      " 4638237     290.14    0.000270323     307.251 ...  4638237 120765843     4\n",
      " 5437945    440.784    0.000998579     139.352 ...  5437945 121603086     4\n",
      " 5437945    220.129    0.000705592     245.991 ...  5437945 121603086     4\n",
      " 5652983    498.393     0.00211404     244.081 ...  5652983 172422658     3\n",
      " 6368905    220.718     0.00447089     303.846 ...  6368905 138098637     2\n",
      "     ...        ...            ...         ... ...      ...       ...   ...\n",
      "11152511    287.323     0.00486991     360.841 ... 11152511  28362513     7\n",
      "11442793    331.603    0.000283918      140.48 ... 11442793 267667295     3\n",
      "10593626    289.867     0.00127185     133.691 ... 10593626 158984573    10\n",
      "10795103    214.312    0.000124613      336.33 ... 10795103 417660218     8\n",
      "10850327    440.164     0.00518516     470.362 ... 10850327 399827109    11\n",
      "10917043    205.386     0.00178966      284.19 ... 10917043 406948346     4\n",
      "10779233    201.119     0.00137794     187.567 ... 10779233  48217265     5\n",
      "11027624    394.625    0.000866273     177.846 ... 11027624 417659078     4\n",
      "12644769    451.773    8.60856e-05      140.43 ... 12644769 299096355    14\n",
      "12735740    282.526    0.000109909     363.072 ... 12735740 416279912     9\n",
      "12206313    184.262     0.00201405     255.227 ... 12206313 267746315     5\n",
      "Length = 55 rows\n"
     ]
    }
   ],
   "source": [
    "tab=tab[tab['nTESS']>0]\n",
    "tab.pprint()"
   ]
  },
  {
   "cell_type": "markdown",
   "metadata": {},
   "source": [
    "It appears that 55 of our 123 candidates have TESS lightcurves that meet our criteria. From what we can see of the last column, many of them have multiple light curves available in the MAST database!"
   ]
  },
  {
   "cell_type": "markdown",
   "metadata": {},
   "source": [
    "### Exercise 3\n",
    "For each of the remaining 55 candidates, determine how many Kepler lightcurves (of any cadence) are available in the MAST archive. Save this information as another column in the 'tab' table. "
   ]
  },
  {
   "cell_type": "code",
   "execution_count": 20,
   "metadata": {},
   "outputs": [],
   "source": [
    "### Write your code for Exercise 3 here. "
   ]
  },
  {
   "cell_type": "markdown",
   "metadata": {},
   "source": [
    "## Further limit the search for TESS lightcurves that were taken during predicted transit times\n",
    "Recall that our TCE table included fit information about the time of first detected transit and the period of the transit. We can use that information to estimate when predicted transits may happen, and limit our search criteria to include only those time periods.\n",
    "\n",
    "If the first transit happens on (offset) date/time $t_0 =$ 'tce_time0bk', and the period is $p =$ 'tce_period', then the $n$'th transit thereafter happens at $t_n = t_0 + n*p$. The error in that final timing will be $\\sqrt{\\sigma_{t_0}^2+(n \\sigma_p)^2}$; consider the sizes of the uncertainties reported in 'tce_time0bk_err' and 'tce_period_err', you can show (as an Exercise, below) that these errors will be very small and we will not need to consider them in our search queries. \n",
    "\n",
    "TESS observed the sky in sectors for 27.4 days at a time. For predicted transit times $t_n$, we are interested in finding light curves that start between 1 and 27 days before $t_n$, and end between 1 and 27 days after $t_n$, to assure that the predicted transit time falls somewhere in the sector's timeframe. \n",
    "\n",
    "For this portion of the tutorial, the astropy.time package will be particularly important; you can review the astropy documentation about [Dates and Times](https://docs.astropy.org/en/stable/time/index.html). Additionally, it's important to note that the start and end times in MAST (t_min and t_max) should be searched by MJD or \"Modified Julian Date\" which is the Julian Date minus 2400000.5, a number we'll assign to the variable to_mjd."
   ]
  },
  {
   "cell_type": "code",
   "execution_count": 21,
   "metadata": {
    "tags": []
   },
   "outputs": [],
   "source": [
    "to_mjd=2400000.5"
   ]
  },
  {
   "cell_type": "markdown",
   "metadata": {},
   "source": [
    "First, we'll add three columns to our table. 'nTESStimed' will be a place to record the total number of TESS observations that are timed correctly to include a predicted transit. If we find one, we'll want to record the MJD that corresponds to that predicted transit in column 't_n MJD 1'. Finally, I've added another column ('t_n MJD 2') in case this target has another predicted transit in the TESS archive."
   ]
  },
  {
   "cell_type": "code",
   "execution_count": 22,
   "metadata": {
    "tags": []
   },
   "outputs": [],
   "source": [
    "tab.add_column(0,name='nTESStimed')\n",
    "tab.add_column(0.0,name='t_n MJD 1')\n",
    "tab.add_column(0.0,name='t_n MJD 2')"
   ]
  },
  {
   "cell_type": "markdown",
   "metadata": {},
   "source": [
    "Now we will calculate the predicted times ($t_n$) of the next 30 transits, starting from the first transit measured by Kepler. Remember that the Kepler TCE table gave those times as dates offset by 2454833.0. Of those 30 transits, we will only keep those from 2018 to today's date. For each of the remaining $t_n$ values, we'll do a query_criteria_count call for observations that met the criteria we've already searched once, plus the extra criteria that they begin 27 to 1 day before $t_n$ and end 1 to 27 days after $t_n$. Finally, we'll add the count of observations found to the appropriate row of the 'nTESStimed' column."
   ]
  },
  {
   "cell_type": "markdown",
   "metadata": {},
   "source": [
    "JRK note, not sure what causes the \"ERFA function \"d2dtf\" yielded 13 of \"dubious year (Note 5)\" and so on errors. IT appears to be related to \"5) The warning status \"dubious year\" flags UTCs that predate the\n",
    "           introduction of the time scale or that are too far in the future\n",
    "           to be trusted.  See eraDat for further details.\"\n",
    "https://pyerfa.readthedocs.io/en/latest/_modules/erfa/core.html\n",
    "But if I'm not using dates in the future, why....?"
   ]
  },
  {
   "cell_type": "code",
   "execution_count": 23,
   "metadata": {},
   "outputs": [
    {
     "name": "stdout",
     "output_type": "stream",
     "text": [
      "Finished row  0\n"
     ]
    },
    {
     "name": "stderr",
     "output_type": "stream",
     "text": [
      "/opt/conda/envs/tess/lib/python3.8/site-packages/erfa/core.py:154: ErfaWarning: ERFA function \"d2dtf\" yielded 13 of \"dubious year (Note 5)\"\n",
      "  warnings.warn('ERFA function \"{}\" yielded {}'.format(func_name, wmsg),\n",
      "/opt/conda/envs/tess/lib/python3.8/site-packages/erfa/core.py:154: ErfaWarning: ERFA function \"d2dtf\" yielded 16 of \"dubious year (Note 5)\"\n",
      "  warnings.warn('ERFA function \"{}\" yielded {}'.format(func_name, wmsg),\n",
      "/opt/conda/envs/tess/lib/python3.8/site-packages/erfa/core.py:154: ErfaWarning: ERFA function \"d2dtf\" yielded 18 of \"dubious year (Note 5)\"\n",
      "  warnings.warn('ERFA function \"{}\" yielded {}'.format(func_name, wmsg),\n",
      "/opt/conda/envs/tess/lib/python3.8/site-packages/erfa/core.py:154: ErfaWarning: ERFA function \"d2dtf\" yielded 8 of \"dubious year (Note 5)\"\n",
      "  warnings.warn('ERFA function \"{}\" yielded {}'.format(func_name, wmsg),\n",
      "/opt/conda/envs/tess/lib/python3.8/site-packages/erfa/core.py:154: ErfaWarning: ERFA function \"d2dtf\" yielded 15 of \"dubious year (Note 5)\"\n",
      "  warnings.warn('ERFA function \"{}\" yielded {}'.format(func_name, wmsg),\n",
      "/opt/conda/envs/tess/lib/python3.8/site-packages/erfa/core.py:154: ErfaWarning: ERFA function \"d2dtf\" yielded 1 of \"dubious year (Note 5)\"\n",
      "  warnings.warn('ERFA function \"{}\" yielded {}'.format(func_name, wmsg),\n",
      "/opt/conda/envs/tess/lib/python3.8/site-packages/erfa/core.py:154: ErfaWarning: ERFA function \"d2dtf\" yielded 17 of \"dubious year (Note 5)\"\n",
      "  warnings.warn('ERFA function \"{}\" yielded {}'.format(func_name, wmsg),\n"
     ]
    },
    {
     "name": "stdout",
     "output_type": "stream",
     "text": [
      "Finished row  10\n"
     ]
    },
    {
     "name": "stderr",
     "output_type": "stream",
     "text": [
      "/opt/conda/envs/tess/lib/python3.8/site-packages/erfa/core.py:154: ErfaWarning: ERFA function \"d2dtf\" yielded 3 of \"dubious year (Note 5)\"\n",
      "  warnings.warn('ERFA function \"{}\" yielded {}'.format(func_name, wmsg),\n",
      "/opt/conda/envs/tess/lib/python3.8/site-packages/erfa/core.py:154: ErfaWarning: ERFA function \"d2dtf\" yielded 10 of \"dubious year (Note 5)\"\n",
      "  warnings.warn('ERFA function \"{}\" yielded {}'.format(func_name, wmsg),\n",
      "/opt/conda/envs/tess/lib/python3.8/site-packages/erfa/core.py:154: ErfaWarning: ERFA function \"d2dtf\" yielded 5 of \"dubious year (Note 5)\"\n",
      "  warnings.warn('ERFA function \"{}\" yielded {}'.format(func_name, wmsg),\n",
      "/opt/conda/envs/tess/lib/python3.8/site-packages/erfa/core.py:154: ErfaWarning: ERFA function \"d2dtf\" yielded 12 of \"dubious year (Note 5)\"\n",
      "  warnings.warn('ERFA function \"{}\" yielded {}'.format(func_name, wmsg),\n",
      "/opt/conda/envs/tess/lib/python3.8/site-packages/erfa/core.py:154: ErfaWarning: ERFA function \"d2dtf\" yielded 2 of \"dubious year (Note 5)\"\n",
      "  warnings.warn('ERFA function \"{}\" yielded {}'.format(func_name, wmsg),\n"
     ]
    },
    {
     "name": "stdout",
     "output_type": "stream",
     "text": [
      "Finished row  20\n"
     ]
    },
    {
     "name": "stderr",
     "output_type": "stream",
     "text": [
      "/opt/conda/envs/tess/lib/python3.8/site-packages/erfa/core.py:154: ErfaWarning: ERFA function \"d2dtf\" yielded 7 of \"dubious year (Note 5)\"\n",
      "  warnings.warn('ERFA function \"{}\" yielded {}'.format(func_name, wmsg),\n",
      "/opt/conda/envs/tess/lib/python3.8/site-packages/erfa/core.py:154: ErfaWarning: ERFA function \"d2dtf\" yielded 9 of \"dubious year (Note 5)\"\n",
      "  warnings.warn('ERFA function \"{}\" yielded {}'.format(func_name, wmsg),\n",
      "/opt/conda/envs/tess/lib/python3.8/site-packages/erfa/core.py:154: ErfaWarning: ERFA function \"d2dtf\" yielded 4 of \"dubious year (Note 5)\"\n",
      "  warnings.warn('ERFA function \"{}\" yielded {}'.format(func_name, wmsg),\n"
     ]
    },
    {
     "name": "stdout",
     "output_type": "stream",
     "text": [
      "Finished row  30\n"
     ]
    },
    {
     "name": "stderr",
     "output_type": "stream",
     "text": [
      "/opt/conda/envs/tess/lib/python3.8/site-packages/erfa/core.py:154: ErfaWarning: ERFA function \"d2dtf\" yielded 14 of \"dubious year (Note 5)\"\n",
      "  warnings.warn('ERFA function \"{}\" yielded {}'.format(func_name, wmsg),\n",
      "/opt/conda/envs/tess/lib/python3.8/site-packages/erfa/core.py:154: ErfaWarning: ERFA function \"d2dtf\" yielded 6 of \"dubious year (Note 5)\"\n",
      "  warnings.warn('ERFA function \"{}\" yielded {}'.format(func_name, wmsg),\n"
     ]
    },
    {
     "name": "stdout",
     "output_type": "stream",
     "text": [
      "Finished row  40\n"
     ]
    },
    {
     "name": "stderr",
     "output_type": "stream",
     "text": [
      "/opt/conda/envs/tess/lib/python3.8/site-packages/erfa/core.py:154: ErfaWarning: ERFA function \"d2dtf\" yielded 11 of \"dubious year (Note 5)\"\n",
      "  warnings.warn('ERFA function \"{}\" yielded {}'.format(func_name, wmsg),\n"
     ]
    },
    {
     "name": "stdout",
     "output_type": "stream",
     "text": [
      "Finished row  50\n"
     ]
    }
   ],
   "source": [
    "for i,row in enumerate(tab):\n",
    "    # Possible date/times of central transits, offset.\n",
    "    t_n=row['tce_time0bk']+row['tce_period']*np.arange(30)\n",
    "    # Convert this array of floats to one of DateTime objects, in Barycentric Julian Days\n",
    "    t_n=Time(t_n+2454833.0,format='jd')\n",
    "    # Only test those from 2018-today's date\n",
    "    t_n=t_n[t_n.ymdhms.year>=2018]\n",
    "    t_n=t_n[t_n<=Time.now()]\n",
    "    for j,time in enumerate(t_n):\n",
    "        # Look for TESS observations that start 27 to 1 day before predicted central transit,\n",
    "        # and end 1 day to 27 days after predicted central transit\n",
    "        obs_count = Observations.query_criteria_count(target_name=row['TIC'],\n",
    "                                              project='TESS',obs_collection='HLSP',\n",
    "                                              dataproduct_type='timeseries',\n",
    "                                              t_exptime=[20.0,600.0],\n",
    "                                              t_min=[time.value-to_mjd-27,time.value-to_mjd-1],\n",
    "                                              t_max=[time.value-to_mjd+1,time.value-to_mjd+27])\n",
    "        # Add the number of observations found to the count.\n",
    "        tab['nTESStimed'][i]+=obs_count\n",
    "        # If observations were found, record the date (MJD) of predicted transit\n",
    "        if obs_count>0 and tab['t_n MJD 1'][i]==0:\n",
    "            tab['t_n MJD 1'][i]=time.value-to_mjd\n",
    "        # If observations were found, but we already recorded a date, record this new date in the 2nd column.\n",
    "        elif obs_count>0 and tab['t_n MJD 1'][i]!=0:\n",
    "            tab['t_n MJD 2'][i]=time.value-to_mjd\n",
    "        # If observations were found, but we already recorded two dates, print an error.\n",
    "        elif obs_count>0 and tab['t_n MJD 2'][i]!=0:\n",
    "            print('ERROR! Missing a predicted time MJD for KIC ',row['KIC'])\n",
    "    # Print brief update every 10 targets as the loop continues\n",
    "    if np.mod(i,10)==0: print('Finished row ',i)"
   ]
  },
  {
   "cell_type": "markdown",
   "metadata": {},
   "source": [
    "Now, we'll further limit our table to targets that have TESS observations with the right timing, and view some of the most relevant columns of the table."
   ]
  },
  {
   "cell_type": "code",
   "execution_count": 24,
   "metadata": {},
   "outputs": [
    {
     "data": {
      "text/html": [
       "<div><i>Table length=14</i>\n",
       "<table id=\"table140185397124832\" class=\"table-striped table-bordered table-condensed\">\n",
       "<thead><tr><th>kepid</th><th>tce_depth</th><th>nTESS</th><th>nTESStimed</th><th>t_n MJD 1</th><th>t_n MJD 2</th></tr></thead>\n",
       "<thead><tr><th>int64</th><th>float64</th><th>int64</th><th>int64</th><th>float64</th><th>float64</th></tr></thead>\n",
       "<tr><td>2581316</td><td>9230.0</td><td>8</td><td>2</td><td>59427.95999999996</td><td>0.0</td></tr>\n",
       "<tr><td>4820550</td><td>2742.0</td><td>4</td><td>1</td><td>59773.262000000104</td><td>0.0</td></tr>\n",
       "<tr><td>4638237</td><td>4838.0</td><td>4</td><td>1</td><td>59781.99099999992</td><td>0.0</td></tr>\n",
       "<tr><td>5437945</td><td>2915.0</td><td>4</td><td>1</td><td>59820.47599999979</td><td>0.0</td></tr>\n",
       "<tr><td>6762829</td><td>441.4</td><td>8</td><td>4</td><td>59395.35900000017</td><td>59810.481000000145</td></tr>\n",
       "<tr><td>8105398</td><td>389.9</td><td>4</td><td>1</td><td>59432.398000000045</td><td>0.0</td></tr>\n",
       "<tr><td>8264402</td><td>379.4</td><td>5</td><td>2</td><td>59422.950000000186</td><td>0.0</td></tr>\n",
       "<tr><td>9086154</td><td>415.5</td><td>4</td><td>1</td><td>59788.02499999991</td><td>0.0</td></tr>\n",
       "<tr><td>9002278</td><td>468.4</td><td>10</td><td>2</td><td>59431.46299999999</td><td>0.0</td></tr>\n",
       "<tr><td>9958387</td><td>1622.0</td><td>4</td><td>1</td><td>59785.21100000013</td><td>0.0</td></tr>\n",
       "<tr><td>11284772</td><td>855.4</td><td>3</td><td>2</td><td>59397.74000000022</td><td>59812.23600000003</td></tr>\n",
       "<tr><td>11152511</td><td>387.3</td><td>7</td><td>2</td><td>59790.50900000008</td><td>0.0</td></tr>\n",
       "<tr><td>10917043</td><td>1299.0</td><td>4</td><td>1</td><td>59429.79600000009</td><td>0.0</td></tr>\n",
       "<tr><td>10779233</td><td>599.0</td><td>5</td><td>1</td><td>59444.685000000056</td><td>0.0</td></tr>\n",
       "</table></div>"
      ],
      "text/plain": [
       "<Table length=14>\n",
       " kepid   tce_depth nTESS nTESStimed     t_n MJD 1          t_n MJD 2     \n",
       " int64    float64  int64   int64         float64            float64      \n",
       "-------- --------- ----- ---------- ------------------ ------------------\n",
       " 2581316    9230.0     8          2  59427.95999999996                0.0\n",
       " 4820550    2742.0     4          1 59773.262000000104                0.0\n",
       " 4638237    4838.0     4          1  59781.99099999992                0.0\n",
       " 5437945    2915.0     4          1  59820.47599999979                0.0\n",
       " 6762829     441.4     8          4  59395.35900000017 59810.481000000145\n",
       " 8105398     389.9     4          1 59432.398000000045                0.0\n",
       " 8264402     379.4     5          2 59422.950000000186                0.0\n",
       " 9086154     415.5     4          1  59788.02499999991                0.0\n",
       " 9002278     468.4    10          2  59431.46299999999                0.0\n",
       " 9958387    1622.0     4          1  59785.21100000013                0.0\n",
       "11284772     855.4     3          2  59397.74000000022  59812.23600000003\n",
       "11152511     387.3     7          2  59790.50900000008                0.0\n",
       "10917043    1299.0     4          1  59429.79600000009                0.0\n",
       "10779233     599.0     5          1 59444.685000000056                0.0"
      ]
     },
     "execution_count": 24,
     "metadata": {},
     "output_type": "execute_result"
    }
   ],
   "source": [
    "tab=tab[tab['nTESStimed']>0]\n",
    "tab['kepid','tce_depth','nTESS','nTESStimed','t_n MJD 1','t_n MJD 2']"
   ]
  },
  {
   "cell_type": "markdown",
   "metadata": {},
   "source": [
    "The first row in the table, which corresponds to KIC 2581316, has 8 total TESS lightcurves from 20 to 600-second cadence, but only 2 of them are timed such that they might capture a predicted transit. More specifically, those two lightcurves likely capture the transit that is predicted to happen on Modified Julian Day 59427.96. According to the output of the cell below, this is in August 1st, 2021 at 23:02 UTC. Also, according to our table, this planet candidate has the largest predicted depth of all of our 14 remaining targets, so it will be a great target to investigate in more detail."
   ]
  },
  {
   "cell_type": "code",
   "execution_count": 25,
   "metadata": {
    "tags": []
   },
   "outputs": [
    {
     "data": {
      "text/plain": [
       "(2021, 8, 1, 23, 2, 23.99999993)"
      ]
     },
     "execution_count": 25,
     "metadata": {},
     "output_type": "execute_result"
    }
   ],
   "source": [
    "Time(59427.96,format='mjd').ymdhms"
   ]
  },
  {
   "cell_type": "markdown",
   "metadata": {},
   "source": [
    "### Exercise 4\n",
    "For the first target in the table (row 0), find the year, month, and day (in UTC) of all predicted transits from 2018 until today. Use propagation of error (and the formula presented to you above, $\\sqrt{\\sigma_{t_0}^2+(n \\sigma_p)^2}$) to determine the error on the predicted transits. Is the error on the order of minutes, days, or weeks? "
   ]
  },
  {
   "cell_type": "code",
   "execution_count": 26,
   "metadata": {
    "tags": []
   },
   "outputs": [
    {
     "name": "stdout",
     "output_type": "stream",
     "text": [
      "[(2018, 1, 2, 23, 13, 55.19998938), (2018, 8, 8, 19, 11, 59.99998391), (2019, 3, 14, 15, 10, 4.80001867), (2019, 10, 18, 11, 8, 9.6000132), (2020, 5, 23, 7, 6, 14.40000773), (2020, 12, 27, 3, 4, 19.20000225), (2021, 8, 1, 23, 2, 23.99999678), (2022, 3, 7, 19, 0, 28.79999131), (2022, 10, 11, 14, 58, 33.59998584), (2023, 5, 17, 10, 56, 38.39998037)]\n",
      "[0.00028531 0.00029555 0.00032434 0.00036734 0.00042021 0.0004797\n",
      " 0.00054364 0.00061063 0.00067977 0.00075048 0.00082233 0.00089507\n",
      " 0.00096848 0.00104243 0.00111681 0.00119154 0.00126656 0.00134181\n",
      " 0.00141727 0.0014929  0.00156867 0.00164457 0.00172058 0.00179668\n",
      " 0.00187287 0.00194913 0.00202546 0.00210184 0.00217828 0.00225476]\n",
      "[0.41084352 0.42559    0.46704411 0.52896357 0.60509803 0.69076312\n",
      " 0.78283629 0.87930684 0.97887553 1.08068634 1.18416112 1.28889916\n",
      " 1.39461587 1.5011045  1.60821171 1.71582167 1.82384539 1.93221347\n",
      " 2.04087106 2.14977427 2.25888756 2.3681819  2.47763334 2.58722192\n",
      " 2.69693094 2.80674627 2.9166559  3.02664956 3.13671841 3.24685481]\n"
     ]
    }
   ],
   "source": [
    "# Write your code for Exercise 4 here.\n",
    "# Solution here for now\n",
    "row=tab[0]\n",
    "# The first part can be accomplished using the same code as in the loop, and then printing the result with the formatting of \"ymd\" for year month day.\n",
    "# Possible date/times of central transits, offset.\n",
    "t_n=row['tce_time0bk']+row['tce_period']*np.arange(30)\n",
    "# Convert this array of floats to one of DateTime objects, in Barycentric Julian Days\n",
    "t_n=Time(t_n+2454833.0,format='jd')\n",
    "# Only test those from 2018-today's date\n",
    "t_n=t_n[t_n.ymdhms.year>=2018]\n",
    "t_n=t_n[t_n<=Time.now()]\n",
    "# Print the remaining t_n values in a format from which we can easily see year, month, day.\n",
    "print([x.ymdhms for x in t_n])\n",
    "# Propagate error.\n",
    "t_n_err=np.sqrt(row['tce_time0bk_err']**2 + (np.arange(30)*row['tce_period_err'])**2)\n",
    "# Print the errors. Note that the units of all the quantities above were in days, so is our final result.\n",
    "print(t_n_err)\n",
    "# The errors are small. Multiply by the number of minutes in a day, 24*60.\n",
    "print(t_n_err*24.0*60.0)\n",
    "# The errors are on the order of minutes."
   ]
  },
  {
   "cell_type": "markdown",
   "metadata": {},
   "source": [
    "# Plot a TESS lightcurve that contains a predicted transit"
   ]
  },
  {
   "cell_type": "markdown",
   "metadata": {},
   "source": [
    "Let's examine the first row in the table."
   ]
  },
  {
   "cell_type": "code",
   "execution_count": 27,
   "metadata": {
    "tags": []
   },
   "outputs": [
    {
     "name": "stdout",
     "output_type": "stream",
     "text": [
      "2581316\n"
     ]
    }
   ],
   "source": [
    "i=0\n",
    "row=tab[i]\n",
    "print(row['kepid'])"
   ]
  },
  {
   "cell_type": "markdown",
   "metadata": {
    "tags": []
   },
   "source": [
    "Create a Time object of the time of the predicted transit."
   ]
  },
  {
   "cell_type": "code",
   "execution_count": 28,
   "metadata": {
    "tags": []
   },
   "outputs": [],
   "source": [
    "time=Time(row['t_n MJD 1'],format='mjd')"
   ]
  },
  {
   "cell_type": "markdown",
   "metadata": {},
   "source": [
    "Instead of just getting the total number of counts, we now want to query for the actual observations themselves. We'll use all the same criteria we've been using above. For the rest of the tutorial, you may with to review the astroquery.mast documentation on [Downloading Data](https://astroquery.readthedocs.io/en/latest/mast/mast.html#downloading-data)."
   ]
  },
  {
   "cell_type": "code",
   "execution_count": 29,
   "metadata": {
    "tags": []
   },
   "outputs": [
    {
     "data": {
      "text/html": [
       "<div><i>Table masked=True length=2</i>\n",
       "<table id=\"table140185396376144\" class=\"table-striped table-bordered table-condensed\">\n",
       "<thead><tr><th>intentType</th><th>obs_collection</th><th>provenance_name</th><th>instrument_name</th><th>project</th><th>filters</th><th>wavelength_region</th><th>target_name</th><th>target_classification</th><th>obs_id</th><th>s_ra</th><th>s_dec</th><th>dataproduct_type</th><th>proposal_pi</th><th>calib_level</th><th>t_min</th><th>t_max</th><th>t_exptime</th><th>em_min</th><th>em_max</th><th>obs_title</th><th>t_obs_release</th><th>proposal_id</th><th>proposal_type</th><th>sequence_number</th><th>s_region</th><th>jpegURL</th><th>dataURL</th><th>dataRights</th><th>mtFlag</th><th>srcDen</th><th>obsid</th><th>objID</th></tr></thead>\n",
       "<thead><tr><th>str7</th><th>str4</th><th>str9</th><th>str10</th><th>str4</th><th>str4</th><th>str7</th><th>str9</th><th>str1</th><th>str58</th><th>float64</th><th>float64</th><th>str10</th><th>str19</th><th>int64</th><th>float64</th><th>float64</th><th>float64</th><th>float64</th><th>float64</th><th>str1</th><th>float64</th><th>str3</th><th>str1</th><th>int64</th><th>str47</th><th>str1</th><th>str116</th><th>str6</th><th>bool</th><th>float64</th><th>str8</th><th>str9</th></tr></thead>\n",
       "<tr><td>science</td><td>HLSP</td><td>TESS-SPOC</td><td>Photometer</td><td>TESS</td><td>TESS</td><td>Optical</td><td>137685450</td><td>--</td><td>hlsp_tess-spoc_tess_phot_0000000137685450-s0041_tess_v1_tp</td><td>292.62745521591</td><td>37.8601350745185</td><td>timeseries</td><td>Douglas A. Caldwell</td><td>4</td><td>59419.495390972224</td><td>59446.07849778935</td><td>600.0</td><td>600.0</td><td>1000.0</td><td>--</td><td>59821.0</td><td>N/A</td><td>--</td><td>41</td><td>CIRCLE ICRS 292.62745522 37.86013507 0.00111111</td><td>--</td><td>mast:HLSP/tess-spoc/s0041/target/0000/0001/3768/5450/hlsp_tess-spoc_tess_phot_0000000137685450-s0041_tess_v1_lc.fits</td><td>PUBLIC</td><td>False</td><td>nan</td><td>90647225</td><td>174135111</td></tr>\n",
       "<tr><td>science</td><td>HLSP</td><td>QLP</td><td>Photometer</td><td>TESS</td><td>TESS</td><td>Optical</td><td>137685450</td><td>--</td><td>hlsp_qlp_tess_ffi_s0041-0000000137685450_tess_v01_llc</td><td>292.627455216</td><td>37.8601350745</td><td>timeseries</td><td>Chelsea X. Huang</td><td>4</td><td>59419.49274204578</td><td>59446.07584918942</td><td>600.0</td><td>600.0</td><td>1000.0</td><td>--</td><td>59844.51684021</td><td>N/A</td><td>--</td><td>41</td><td>CIRCLE ICRS 292.62745522 37.86013507 0.00111111</td><td>--</td><td>mast:HLSP/qlp/s0041/0000/0001/3768/5450/hlsp_qlp_tess_ffi_s0041-0000000137685450_tess_v01_llc.fits</td><td>PUBLIC</td><td>False</td><td>nan</td><td>94090194</td><td>178725662</td></tr>\n",
       "</table></div>"
      ],
      "text/plain": [
       "<Table masked=True length=2>\n",
       "intentType obs_collection provenance_name ...  srcDen  obsid     objID  \n",
       "   str7         str4            str9      ... float64   str8      str9  \n",
       "---------- -------------- --------------- ... ------- -------- ---------\n",
       "   science           HLSP       TESS-SPOC ...     nan 90647225 174135111\n",
       "   science           HLSP             QLP ...     nan 94090194 178725662"
      ]
     },
     "execution_count": 29,
     "metadata": {},
     "output_type": "execute_result"
    }
   ],
   "source": [
    "# Now actually query the observation table\n",
    "obs_table = Observations.query_criteria(target_name=row['TIC'],\n",
    "                                              project='TESS',obs_collection='HLSP',\n",
    "                                              dataproduct_type='timeseries',\n",
    "                                              t_exptime=[20.0,600.0],\n",
    "                                              t_min=[time.value-27,time.value-1],\n",
    "                                              t_max=[time.value+1,time.value+27])\n",
    "obs_table"
   ]
  },
  {
   "cell_type": "markdown",
   "metadata": {},
   "source": [
    "Based on the above table, the two light curves corresponds to the same sector (they have the same t_min and t_max, or start and end times), but one was created by the [TESS Science Processing Operations Center (SPOC) pipline](https://archive.stsci.edu/hlsp/tess-spoc) and one was created by the [MIT Quick-Look Pipeline \"QLP\" team](https://archive.stsci.edu/hlsp/qlp). For this tutorial, we'll look at the first one in the list from TESS-SPOC. We can use Observations.get_product_list to find the data products associated with this observation."
   ]
  },
  {
   "cell_type": "code",
   "execution_count": 30,
   "metadata": {
    "tags": []
   },
   "outputs": [
    {
     "data": {
      "text/html": [
       "<div><i>Table masked=True length=2</i>\n",
       "<table id=\"table140185396771040\" class=\"table-striped table-bordered table-condensed\">\n",
       "<thead><tr><th>obsID</th><th>obs_collection</th><th>dataproduct_type</th><th>obs_id</th><th>description</th><th>type</th><th>dataURI</th><th>productType</th><th>productGroupDescription</th><th>productSubGroupDescription</th><th>productDocumentationURL</th><th>project</th><th>prvversion</th><th>proposal_id</th><th>productFilename</th><th>size</th><th>parent_obsid</th><th>dataRights</th><th>calib_level</th></tr></thead>\n",
       "<thead><tr><th>str8</th><th>str4</th><th>str10</th><th>str58</th><th>str4</th><th>str1</th><th>str116</th><th>str7</th><th>str28</th><th>str1</th><th>str1</th><th>str9</th><th>str2</th><th>str3</th><th>str63</th><th>int64</th><th>str8</th><th>str6</th><th>int64</th></tr></thead>\n",
       "<tr><td>90647225</td><td>HLSP</td><td>timeseries</td><td>hlsp_tess-spoc_tess_phot_0000000137685450-s0041_tess_v1_tp</td><td>FITS</td><td>C</td><td>mast:HLSP/tess-spoc/s0041/target/0000/0001/3768/5450/hlsp_tess-spoc_tess_phot_0000000137685450-s0041_tess_v1_lc.fits</td><td>SCIENCE</td><td>Minimum Recommended Products</td><td>--</td><td>--</td><td>TESS-SPOC</td><td>59</td><td>N/A</td><td>hlsp_tess-spoc_tess_phot_0000000137685450-s0041_tess_v1_lc.fits</td><td>411840</td><td>90647225</td><td>PUBLIC</td><td>4</td></tr>\n",
       "<tr><td>90647225</td><td>HLSP</td><td>timeseries</td><td>hlsp_tess-spoc_tess_phot_0000000137685450-s0041_tess_v1_tp</td><td>FITS</td><td>C</td><td>mast:HLSP/tess-spoc/s0041/target/0000/0001/3768/5450/hlsp_tess-spoc_tess_phot_0000000137685450-s0041_tess_v1_tp.fits</td><td>SCIENCE</td><td>Minimum Recommended Products</td><td>--</td><td>--</td><td>TESS-SPOC</td><td>59</td><td>N/A</td><td>hlsp_tess-spoc_tess_phot_0000000137685450-s0041_tess_v1_tp.fits</td><td>9411840</td><td>90647225</td><td>PUBLIC</td><td>4</td></tr>\n",
       "</table></div>"
      ],
      "text/plain": [
       "<Table masked=True length=2>\n",
       " obsID   obs_collection dataproduct_type ... parent_obsid dataRights calib_level\n",
       "  str8        str4           str10       ...     str8        str6       int64   \n",
       "-------- -------------- ---------------- ... ------------ ---------- -----------\n",
       "90647225           HLSP       timeseries ...     90647225     PUBLIC           4\n",
       "90647225           HLSP       timeseries ...     90647225     PUBLIC           4"
      ]
     },
     "execution_count": 30,
     "metadata": {},
     "output_type": "execute_result"
    }
   ],
   "source": [
    "data_prod = Observations.get_product_list(obs_table[0])\n",
    "data_prod"
   ]
  },
  {
   "cell_type": "markdown",
   "metadata": {},
   "source": [
    "The two data products are the lightcurve itself (whose productFilename ends in _lc.fits) and the target pixel file from which the light curve was derived (whose productFilename ends in _tp.fits). We will choose the row that ends in _lc.fits and download it."
   ]
  },
  {
   "cell_type": "markdown",
   "metadata": {},
   "source": [
    "JRK the data-access.ipynb in TIKE has a more elegant way to do this, however I don't seem to find any other way to distinguish the two data products. They have the same dataproduct_type (timeseries) and same description (FITS). Also, I tried a different target, and its ended in _llc.fits not _lc.fits."
   ]
  },
  {
   "cell_type": "code",
   "execution_count": 31,
   "metadata": {
    "tags": []
   },
   "outputs": [
    {
     "name": "stdout",
     "output_type": "stream",
     "text": [
      "INFO: Found cached file ./mastDownload/HLSP/hlsp_tess-spoc_tess_phot_0000000137685450-s0041_tess_v1_tp/hlsp_tess-spoc_tess_phot_0000000137685450-s0041_tess_v1_lc.fits with expected size 411840. [astroquery.query]\n"
     ]
    }
   ],
   "source": [
    "manifest=Observations.download_products(data_prod[[x.endswith('lc.fits') for x in data_prod['productFilename']]])"
   ]
  },
  {
   "cell_type": "markdown",
   "metadata": {},
   "source": [
    "The lightkurve package makes analyzing time series data very easy. Below, we'll read in the file that we just downloaded, plot the lightcurve, and mark a vertical line that corresponds to the time (Julian Day-2457000 days) of the predicted transit."
   ]
  },
  {
   "cell_type": "code",
   "execution_count": 32,
   "metadata": {
    "tags": []
   },
   "outputs": [
    {
     "data": {
      "text/plain": [
       "<matplotlib.lines.Line2D at 0x7f7f74cc5f40>"
      ]
     },
     "execution_count": 32,
     "metadata": {},
     "output_type": "execute_result"
    },
    {
     "data": {
      "image/png": "[encoded data removed]",
      "text/plain": [
       "<Figure size 848.5x400 with 1 Axes>"
      ]
     },
     "metadata": {},
     "output_type": "display_data"
    }
   ],
   "source": [
    "lc=lk.read(manifest['Local Path'][0])\n",
    "lc.plot()\n",
    "plt.axvline(time.jd-2457000)"
   ]
  },
  {
   "cell_type": "markdown",
   "metadata": {},
   "source": [
    "Wow! The transit is clearly visible at the exact time that was predicted by the Kepler TCE model. In fact, according to the NASA Exoplanet Archive, this exoplanet was confirmed as [Kepler-1514 b](https://exoplanetarchive.ipac.caltech.edu/overview/TIC%20137685450) in 2016 by [Morton et al. 2016](https://ui.adsabs.harvard.edu/abs/2016ApJ...822...86M/abstract). Additionally, another smaller planet, Kepler-1514 c, was discoverd in 2020 orbiting this star with a period of 10.5 days. "
   ]
  },
  {
   "cell_type": "markdown",
   "metadata": {},
   "source": [
    "### Exercise 5\n",
    "Choose another target from our table (tab), and download and plot a TESS lightcurve that likely contains one of the predicted transits. Confirm that the lightcurve contains the predicted transit time.\n",
    "\n",
    "JRK - maybe it's best I pick one for them so they can check solutions..."
   ]
  },
  {
   "cell_type": "code",
   "execution_count": 33,
   "metadata": {
    "tags": []
   },
   "outputs": [],
   "source": [
    "# Write your code for Exercise 5 here."
   ]
  },
  {
   "cell_type": "markdown",
   "metadata": {},
   "source": [
    "## Additional Exercises\n",
    "\n",
    "6. Investigating Planetary Candidates:\n",
    "* a. Use the [NASA Exoplanet Archive](https://exoplanetarchive.ipac.caltech.edu/) to examine the 14 Kepler TCE Planetary Candidates in our most refined table. Which ones have since been confirmed as exoplanets? Which ones remain Planetary Candidates?\n",
    "* b. JRK something about doing the above procedure with one of the planetary candidates. \n",
    "\n",
    "7. Alternative search priorities: In the beginning of this tutorial, we focused on planetary candidates with long periods (> 6 months). Alternatively, you could choose to focus your search on planetary candidates with the largest transit depth, irrespective of period. You could also choose to investigate possible astrophysical false positives instead of planetary candidates. Design your own search procedure to use TESS spectra to learn more about Kepler TCE's. Justify the choices you are making; how are you narrowing down your target list, and why? What criteria will you use to determine which TESS spectra are applicable? Plot at least one spectrum that meets your criteria."
   ]
  },
  {
   "cell_type": "markdown",
   "metadata": {},
   "source": [
    "## Citations\n",
    "\n",
    "If you use `astropy` or `lightkurve` for published research, please cite the\n",
    "authors. Follow these links for more information about citing `astropy` and\n",
    "`lightkurve`:\n",
    "\n",
    "* [Citing `astropy`](https://www.astropy.org/acknowledging.html)\n",
    "* [Citing `lightkurve`](http://docs.lightkurve.org/about/citing.html)\n",
    "* Citing `astroquery`\n",
    "* Citing `VizieR`?\n",
    "* Citing MAST?"
   ]
  },
  {
   "cell_type": "markdown",
   "metadata": {
    "slideshow": {
     "slide_type": "slide"
    }
   },
   "source": [
    "## About this Notebook\n",
    "Let the world know who the author of this great tutorial is! If possible and appropriate, include a contact email address for users who might need support (for example, `archive@stsci.edu`). You can also optionally include keywords, your funding source, or a last update date in this section.\n",
    "\n",
    "**Author(s):** Julia Kamenetzky, ScienceBetter consultant <br>\n",
    "**Keyword(s):** Tutorial, lightkurve, kepler, tess, cross-matching, query_criteria<br>\n",
    "**Last Updated:** Jun 2023 <br>\n",
    "**Next Review:** Dec 2023\n",
    "***\n",
    "[Top of Page](#top)\n",
    "<img style=\"float: right;\" src=\"https://raw.githubusercontent.com/spacetelescope/notebooks/master/assets/stsci_pri_combo_mark_horizonal_white_bkgd.png\" alt=\"Space Telescope Logo\" width=\"200px\"/> "
   ]
  },
  {
   "cell_type": "code",
   "execution_count": null,
   "metadata": {},
   "outputs": [],
   "source": []
  }
 ],
 "metadata": {
  "kernelspec": {
   "display_name": "TESS Environment",
   "language": "python",
   "name": "tess"
  },
  "language_info": {
   "codemirror_mode": {
    "name": "ipython",
    "version": 3
   },
   "file_extension": ".py",
   "mimetype": "text/x-python",
   "name": "python",
   "nbconvert_exporter": "python",
   "pygments_lexer": "ipython3",
   "version": "3.8.16"
  }
 },
 "nbformat": 4,
 "nbformat_minor": 4
}
