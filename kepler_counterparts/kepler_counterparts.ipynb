{
 "cells": [
  {
   "cell_type": "markdown",
   "metadata": {},
   "source": [
    "<a id=\"top\"></a>\n",
    "# Long Period TESS Targets with Kepler Counterparts\n",
    "***\n"
   ]
  },
  {
   "cell_type": "markdown",
   "metadata": {
    "tags": []
   },
   "source": [
    "## Prerequisites\n",
    "- Python syntax\n",
    "- astropy tables\n",
    "- for loops\n",
    "- Something about exoplanet transits, link to free resource"
   ]
  },
  {
   "cell_type": "markdown",
   "metadata": {
    "tags": []
   },
   "source": [
    "## Learning Goals\n",
    "\n",
    "By the end of this tutorial, you will:\n",
    "\n",
    "- \n",
    "\n",
    "To use as a guideline:\n",
    "\"Set a minimum threshold for orbital period (should be long-period orbits, greater than 6mos). Find all TESS 20-seconds targets that have data for these Kepler TCEs to create an even longer baseline.\""
   ]
  },
  {
   "cell_type": "markdown",
   "metadata": {
    "slideshow": {
     "slide_type": "slide"
    }
   },
   "source": [
    "## Introduction\n",
    "The [Kepler initial and follow-on (K2) missions confirmed over 2,600 exoplanets](https://exoplanets.nasa.gov/keplerscience/) and contributed to an unprecedented exposion of knowledge about planetary systems in our galaxy. In addition to confirmed exoplanets, Kepler identified thousands more potential planetary candidates, referred to as Kepler Objects on Interest (KOI's). \n",
    "\n",
    "The Transiting Exoplanet Survey Satellite (TESS) began its observations just before the completion of the K2 mission; there may be long-period (greater than 6 months) exoplanets whose transits were observed by both missions. By combining observations from both missions, we could potentially view multiple transits and confirm the existence of new exoplanets. \n",
    "\n",
    "Possible transits observed by Kepler are called Threshold Crossing Events, or TCEs. More specifically, according to the [NASA Exoplanet Archive documentation](https://exoplanetarchive.ipac.caltech.edu/docs/Kepler_TCE_docs.html), \n",
    "\n",
    ">\"A Threshold-Crossing Event (TCE) is a sequence of transit-like features in the flux time series of a given target that resembles the signature of a transiting planet to a sufficient degree that the target is passed on for further analysis.\"\n",
    "\n",
    "NOT UPDATED: The workflow for this notebook consists of:\n",
    "* [Main Content](#Main-Content)\n",
    "    * [Loading Data](#Loading-Data)\n",
    "    * [File and Data Information](#File-and-Data-Information)\n",
    "* [Visualization](#Visualization)\n",
    "* [Exercises](#Exercises)\n",
    "* [Additional Resources](#Additional-Resources)"
   ]
  },
  {
   "cell_type": "markdown",
   "metadata": {
    "slideshow": {
     "slide_type": "slide"
    }
   },
   "source": [
    "## Imports\n",
    "Describe the main packages we're using here and their use-case for this notebook. If there's something unusual, explain what the library is, and why we need it.\n",
    "- *numpy* to handle array functions\n",
    "- *astropy.io fits* for accessing FITS files\n",
    "- *astropy.table Table* for creating tidy tables of the data\n",
    "- *matplotlib.pyplot* for plotting data"
   ]
  },
  {
   "cell_type": "code",
   "execution_count": 1,
   "metadata": {
    "slideshow": {
     "slide_type": "fragment"
    },
    "tags": []
   },
   "outputs": [],
   "source": [
    "%matplotlib inline\n",
    "\n",
    "import matplotlib.pyplot as plt\n",
    "import numpy as np\n",
    "\n",
    "from astropy.io import fits\n",
    "from astropy.table import Table\n",
    "from astroquery.mast import Mast\n",
    "from astroquery.mast import Observations\n",
    "\n",
    "\n",
    "# Added by JRK\n",
    "import requests\n",
    "from astropy.io import ascii\n",
    "import lightkurve as lk\n",
    "import astropy.units as u # May not end up using?\n",
    "from astroquery.simbad import Simbad\n",
    "from astroquery.vizier import Vizier"
   ]
  },
  {
   "cell_type": "markdown",
   "metadata": {},
   "source": [
    "***"
   ]
  },
  {
   "cell_type": "markdown",
   "metadata": {},
   "source": [
    "## Load full table of Kepler Threshold Crossing Events, or TCEs and filter by period\n",
    "\n",
    "The NASA Exoplanet Archive hosts many useful data tables, including the list of [Threshold Crossing Events (TCEs)](https://exoplanetarchive.ipac.caltech.edu/docs/program_interfaces.html#tce). We'll use the Quarter 1 through Quarter 17 Data Release 24 (DR24) version. These TCEs were evaluated by an autovetter, a machine-learning program that classified TCEs into three categories: PC (Planet Candidate), AFP (Astrophysical False Positive), and NTP (Non-Transiting Phenomenon). More information about the autovetter can be found in [McCauliff et al. 2015 ApJ 806, 6](https://ui.adsabs.harvard.edu/abs/2015ApJ...806....6M/abstract).\n",
    "\n",
    "We can point the astropy Table reader to a URL that contains the data table."
   ]
  },
  {
   "cell_type": "code",
   "execution_count": 41,
   "metadata": {
    "tags": []
   },
   "outputs": [
    {
     "name": "stdout",
     "output_type": "stream",
     "text": [
      "rowid  kepid   tce_plnt_num ... tce_dikco_msky tce_dikco_msky_err\n",
      "----- -------- ------------ ... -------------- ------------------\n",
      "    1  1162345            2 ...        0.46282                1.1\n",
      "    2  1292087            2 ...        0.22049               0.22\n",
      "    3  1293031            2 ...        0.41872              0.207\n",
      "    4  1162345            3 ...        0.13742              0.196\n",
      "    5  1164109            1 ...         15.207             0.0893\n",
      "    6   757450            1 ...        0.12498             0.0763\n",
      "    7   892667            1 ...        0.18106              0.124\n",
      "    8   892772            1 ...         5.2002              0.165\n",
      "    9  1026032            1 ...       0.064587              0.077\n",
      "   10  1026032            2 ...        0.13865              0.084\n",
      "  ...      ...          ... ...            ...                ...\n",
      "20357 11809346            1 ...       0.090355             0.0786\n",
      "20358 11826440            2 ...        0.58446              0.755\n",
      "20359 11852982            1 ...        0.27376              0.143\n",
      "20360 11853130            1 ...        0.15446             0.0954\n",
      "20361 11905761            1 ...        0.20043              0.817\n",
      "20362 11905761            2 ...        0.10213              0.231\n",
      "20363 11906217            1 ...        0.16682             0.0691\n",
      "20364 11908559            1 ...        0.28681              0.647\n",
      "20365 11923562            2 ...        0.21583              0.135\n",
      "20366 11923819            1 ...        0.30357             0.0672\n",
      "20367 11923819            2 ...        0.30064             0.0672\n",
      "Length = 20367 rows\n"
     ]
    },
    {
     "name": "stderr",
     "output_type": "stream",
     "text": [
      "WARNING: OverflowError converting to FloatType in column boot_fap, possibly resulting in degraded precision. [astropy.io.ascii.fastbasic]\n"
     ]
    }
   ],
   "source": [
    "# Load the TCE DR24 table as an astropy table and view a preview.\n",
    "# The online version doesn't have all the columns that you can download from the interactive table, in particular, the autovetter ones.\n",
    "#tab=Table.read('https://exoplanetarchive.ipac.caltech.edu/cgi-bin/nstedAPI/nph-nstedAPI?table=q1_q17_dr24_tce',format='ascii.csv')\n",
    "tab=Table.read('./q1_q17_dr24_tce_2023.05.29_11.07.52.csv',format='ascii.csv',comment='#') \n",
    "tab.pprint()"
   ]
  },
  {
   "cell_type": "markdown",
   "metadata": {},
   "source": [
    "As we can see, the table has over 20,000 rows, so we will want to narrow down by targets most of interest for us. However, the \"pretty print\" preview of the table does not show us all of the columns. Let's see the names of all of the columns, and only retain those we will need."
   ]
  },
  {
   "cell_type": "code",
   "execution_count": 42,
   "metadata": {
    "tags": []
   },
   "outputs": [
    {
     "name": "stdout",
     "output_type": "stream",
     "text": [
      "<TableColumns names=('rowid','kepid','tce_plnt_num','tce_rogue_flag','tce_delivname','rowupdate','tce_datalink_dvs','tce_datalink_dvr','tce_period','tce_period_err','tce_time0bk','tce_time0bk_err','tce_time0','tce_time0_err','tce_ror','tce_ror_err','tce_dor','tce_dor_err','tce_incl','tce_incl_err','tce_impact','tce_impact_err','tce_duration','tce_duration_err','tce_ingress','tce_ingress_err','tce_depth','tce_depth_err','tce_eccen','tce_eccen_err','tce_longp','tce_longp_err','tce_limbdark_mod','tce_ldm_coeff1','tce_ldm_coeff2','tce_ldm_coeff3','tce_ldm_coeff4','tce_num_transits','tce_trans_mod','tce_full_conv','tce_model_snr','tce_model_chisq','tce_model_dof','tce_robstat','tce_dof1','tce_dof2','tce_chisq1','tce_chisq2','tce_chisqgofdof','tce_chisqgof','tce_prad','tce_prad_err','tce_sma','tce_sma_err','tce_eqt','tce_eqt_err','tce_insol','tce_insol_err','tce_nkoi','tce_ioflag','tce_quarters','tce_steff','tce_steff_err','tce_slogg','tce_slogg_err','tce_smet','tce_smet_err','tce_sradius','tce_sradius_err','tce_steff_prov','tce_slogg_prov','tce_smet_prov','tce_sradius_prov','tcet_period','tcet_period_err','tcet_time0bk','tcet_time0bk_err','tcet_time0','tcet_time0_err','tcet_duration','tcet_duration_err','tcet_ingress','tcet_ingress_err','tcet_depth','tcet_depth_err','tcet_full_conv','tcet_model_chisq','tcet_model_dof','wst_robstat','wst_depth','tce_mesmedian','tce_mesmad','tce_maxmes','tce_minmes','tce_maxmesd','tce_minmesd','tce_max_sngle_ev','tce_max_mult_ev','tce_bin_oedp_stat','tce_rmesmad','tce_rsnrmes','tce_rminmes','tce_albedo','tce_albedo_err','tce_ptemp','tce_ptemp_err','tce_albedo_stat','tce_ptemp_stat','av_vf_pc','av_vf_pc_err','av_vf_afp','av_vf_afp_err','av_vf_ntp','av_vf_ntp_err','av_pp_pc','av_pp_afp','av_pp_ntp','av_training_set','av_pred_class','boot_fap','boot_mesthresh','boot_mesmean','boot_messtd','tce_cap_stat','tce_hap_stat','tce_rb_tpdur','tce_rb_tcount0','tce_rb_tcount1','tce_rb_tcount2','tce_rb_tcount3','tce_rb_tcount4','tce_fwm_stat','tce_fwm_sra','tce_fwm_sra_err','tce_fwm_sdec','tce_fwm_sdec_err','tce_fwm_srao','tce_fwm_srao_err','tce_fwm_sdeco','tce_fwm_sdeco_err','tce_fwm_prao','tce_fwm_prao_err','tce_fwm_pdeco','tce_fwm_pdeco_err','tce_dicco_mra','tce_dicco_mra_err','tce_dicco_mdec','tce_dicco_mdec_err','tce_dicco_msky','tce_dicco_msky_err','tce_dikco_mra','tce_dikco_mra_err','tce_dikco_mdec','tce_dikco_mdec_err','tce_dikco_msky','tce_dikco_msky_err')>\n"
     ]
    }
   ],
   "source": [
    "print(tab.columns)"
   ]
  },
  {
   "cell_type": "markdown",
   "metadata": {},
   "source": [
    "The NASA Exoplanet Archive provides detailed information about the [Data Columns in the Kepler TCE Table](https://exoplanetarchive.ipac.caltech.edu/docs/API_tce_columns.html). Some of the most important columns for us will be:\n",
    "- kepid, Kepler identification number, which we can use when searching the MAST Archive.\n",
    "- tce_period, the orbital period in days.\n",
    "- tce_period_err, the error in the orbital period (also in days).\n",
    "- tce_time0, the time of the center of the first detected transit in Barycentric Julian Day (BJD)\n",
    "- tce_depth, the fraction of stellar flux lost at the maximum of the transit, in ppm.\n",
    "- tce_duration, the duration of the observed transit, in hours.\n",
    "- av_pred_class, the autovetter predicted classification (PC, AFP, or NTP)\n",
    "\n",
    "We will only use those columns for now, to reduce the size of the table we are dealing with."
   ]
  },
  {
   "cell_type": "code",
   "execution_count": 43,
   "metadata": {
    "tags": []
   },
   "outputs": [],
   "source": [
    "tab=tab['kepid','tce_period','tce_period_err','tce_time0','tce_depth','tce_duration','av_pred_class']"
   ]
  },
  {
   "cell_type": "markdown",
   "metadata": {},
   "source": [
    "Additionally, we'd like to filter our table to only include Planetary Candidates of with a TCE period of greater than 6 months, or 180 days."
   ]
  },
  {
   "cell_type": "code",
   "execution_count": 44,
   "metadata": {
    "tags": []
   },
   "outputs": [
    {
     "name": "stdout",
     "output_type": "stream",
     "text": [
      "Number of Kepler TCEs marked as Planetary Candidates: 3900\n"
     ]
    }
   ],
   "source": [
    "# Only include those that autovetter indicates as \"PC\" for Planetary Candidate\n",
    "tab=tab[tab['av_pred_class']=='PC']\n",
    "print('Number of Kepler TCEs marked as Planetary Candidates:',len(tab))"
   ]
  },
  {
   "cell_type": "markdown",
   "metadata": {},
   "source": [
    "We can see that of the over 20,000 TCEs, just under 20% were identified as likely planetary candidates. \n",
    "What is the distribution of the periods of those PCs? We can view a histogram of the 'tce_period' column."
   ]
  },
  {
   "cell_type": "code",
   "execution_count": 45,
   "metadata": {
    "tags": []
   },
   "outputs": [
    {
     "data": {
      "text/plain": [
       "Text(0, 0.5, 'Number of PCs')"
      ]
     },
     "execution_count": 45,
     "metadata": {},
     "output_type": "execute_result"
    },
    {
     "data": {
      "image/png": "[encoded data removed]",
      "text/plain": [
       "<Figure size 640x480 with 1 Axes>"
      ]
     },
     "metadata": {},
     "output_type": "display_data"
    }
   ],
   "source": [
    "plt.hist(tab['tce_period'])\n",
    "plt.xlabel('TCE Period (days)')\n",
    "plt.ylabel('Number of PCs')"
   ]
  },
  {
   "cell_type": "markdown",
   "metadata": {},
   "source": [
    "The vast majority of the TCE periods are fewer than 50 days. The planetary candidates that would most benefit from the long baseline afforded by combining the Kepler, K2, and TESS datasets are those with longer periods. Here, we'll again filter our table to just include those PCs with periods of greater than 6 months, or 180 days. "
   ]
  },
  {
   "cell_type": "code",
   "execution_count": 46,
   "metadata": {
    "tags": []
   },
   "outputs": [
    {
     "name": "stdout",
     "output_type": "stream",
     "text": [
      "Number of Kepler TCEs marked PC and period > 180 days: 123\n"
     ]
    }
   ],
   "source": [
    "# Only include those table rows with TCE period greater than 180 days\n",
    "tab=tab[tab['tce_period']>180]\n",
    "n=len(tab)\n",
    "print('Number of Kepler TCEs marked PC and period > 180 days:',n)"
   ]
  },
  {
   "cell_type": "code",
   "execution_count": 47,
   "metadata": {
    "tags": []
   },
   "outputs": [
    {
     "data": {
      "text/plain": [
       "Text(0, 0.5, 'Number of PCs')"
      ]
     },
     "execution_count": 47,
     "metadata": {},
     "output_type": "execute_result"
    },
    {
     "data": {
      "image/png": "[encoded data removed]",
      "text/plain": [
       "<Figure size 640x480 with 1 Axes>"
      ]
     },
     "metadata": {},
     "output_type": "display_data"
    }
   ],
   "source": [
    "plt.hist(tab['tce_duration'])\n",
    "plt.xlabel('TCE Duration (hours)')\n",
    "plt.ylabel('Number of PCs')"
   ]
  },
  {
   "cell_type": "markdown",
   "metadata": {
    "slideshow": {
     "slide_type": "slide"
    }
   },
   "source": [
    "## Find all TESS 20 to 600-second targets for these Kepler TCEs\n",
    "The Kepler and K2 missions studied a limited portion of the sky, but TESS has studied (and continues to study) the full sky. This means that all Kepler and K2 identifications are likely to be included in the TESS Catalog. However, they may not all \n",
    "\n",
    "JRK what is the science reason for only 20-second targets? Why not also 2 min? Clearly 30 min not frequent enough."
   ]
  },
  {
   "cell_type": "markdown",
   "metadata": {
    "tags": []
   },
   "source": [
    "### Finding observations in the MAST archive by the Kepler ID number\n",
    "When we use astroquery.mast's Observations.query_object or query_object_count functions, the object's name will be resolved into sky coordinates (RA and Dec), so that all observations of that coordinate will be returned. This allows us to search by the Kepler ID column, even though TESS will not have used the Kepler ID to refer to the name of the target. Likewise, other ways to search the MAST archive, such as query_criteria, will also resolve the coordinates of the name input to 'objectname'. See the [astroquery documentation about MAST Queries](https://astroquery.readthedocs.io/en/latest/mast/mast.html) for more information. \n",
    "\n",
    "Unfortunately, this method of searching is time-intensive, which makes it very inconvenient when cross-matching hundreds or more targets from different missions. Let's illustrate this point with the first row in our filtered table. Notice that this call to MAST will take at least a few seconds; we can use the \"time\" magic command to tell us how long it takes."
   ]
  },
  {
   "cell_type": "code",
   "execution_count": 8,
   "metadata": {
    "tags": []
   },
   "outputs": [
    {
     "name": "stdout",
     "output_type": "stream",
     "text": [
      "CPU times: user 57.9 ms, sys: 12.3 ms, total: 70.2 ms\n",
      "Wall time: 6.15 s\n"
     ]
    }
   ],
   "source": [
    "# Query all observations in MAST that correspond to the coordinates of the first row's Kepler ID, within 1 arcsecond.\n",
    "%time obs_table = Observations.query_object('KIC '+str(tab[0]['kepid']),radius=1*u.arcsec)"
   ]
  },
  {
   "cell_type": "code",
   "execution_count": 9,
   "metadata": {
    "tags": []
   },
   "outputs": [
    {
     "name": "stdout",
     "output_type": "stream",
     "text": [
      "intentType obs_collection provenance_name ... srcDen   obsid   distance\n",
      "---------- -------------- --------------- ... ------ --------- --------\n",
      "   science           TESS            SPOC ...    nan  27463635      0.0\n",
      "   science           TESS            SPOC ...    nan  62431369      0.0\n",
      "   science           TESS            SPOC ...    nan  62870781      0.0\n",
      "   science           TESS            SPOC ...    nan  92616912      0.0\n",
      "   science           TESS            SPOC ...    nan  95133363      0.0\n",
      "   science           TESS            SPOC ...    nan  62349937      0.0\n",
      "   science           TESS            SPOC ...    nan  62793303      0.0\n",
      "   science           TESS            SPOC ...    nan  91547081      0.0\n",
      "   science           TESS            SPOC ...    nan  93772051      0.0\n",
      "   science    SPITZER_SHA    SSC Pipeline ...    nan   1730213      0.0\n",
      "       ...            ...             ... ...    ...       ...      ...\n",
      "   science           HLSP             QLP ...    nan 129964724      0.0\n",
      "   science           HLSP           TASOC ...    nan  95768637      0.0\n",
      "   science           HLSP       TESS-SPOC ...    nan  43049105      0.0\n",
      "   science           HLSP       TESS-SPOC ...    nan  90486414      0.0\n",
      "   science           HLSP       TESS-SPOC ...    nan  90647225      0.0\n",
      "   science           HLSP       TESS-SPOC ...    nan 128815321      0.0\n",
      "   science           HLSP       TESS-SPOC ...    nan 128634089      0.0\n",
      "   science           HLSP            TICA ...    nan 100098298      0.0\n",
      "   science           HLSP            TICA ...    nan 100379415      0.0\n",
      "   science           HLSP            TICA ...    nan 100714209      0.0\n",
      "   science           HLSP            TICA ...    nan 100498586      0.0\n",
      "Length = 89 rows\n"
     ]
    }
   ],
   "source": [
    "# View the observation table\n",
    "obs_table.pprint()"
   ]
  },
  {
   "cell_type": "code",
   "execution_count": 10,
   "metadata": {
    "tags": []
   },
   "outputs": [
    {
     "data": {
      "text/html": [
       "&lt;MaskedColumn name=&apos;target_name&apos; dtype=&apos;str22&apos; length=7&gt;\n",
       "<table>\n",
       "<tr><td>137685450</td></tr>\n",
       "<tr><td>2144.049</td></tr>\n",
       "<tr><td>Kepler10-1-2-1-1-1-1-1</td></tr>\n",
       "<tr><td>--</td></tr>\n",
       "<tr><td>TESS FFI</td></tr>\n",
       "<tr><td>TICA FFI</td></tr>\n",
       "<tr><td>kplr002581316</td></tr>\n",
       "</table>"
      ],
      "text/plain": [
       "<MaskedColumn name='target_name' dtype='str22' length=7>\n",
       "             137685450\n",
       "              2144.049\n",
       "Kepler10-1-2-1-1-1-1-1\n",
       "                    --\n",
       "              TESS FFI\n",
       "              TICA FFI\n",
       "         kplr002581316"
      ]
     },
     "execution_count": 10,
     "metadata": {},
     "output_type": "execute_result"
    }
   ],
   "source": [
    "# View all unique entries in the 'target_name' column\n",
    "np.unique(obs_table['target_name'])"
   ]
  },
  {
   "cell_type": "markdown",
   "metadata": {},
   "source": [
    "From the above, we can see that inputting an 'objectname' of 'KIC 2581316' from the Kepler Input Catalog (KIC) identification number, we find all the observations of that target from all different missions - even if they did not specifically refer to the name of the target by it. "
   ]
  },
  {
   "cell_type": "markdown",
   "metadata": {},
   "source": [
    "### Get coordinates and TESS Input Catalog (TIC) numbers from Vizier\n",
    "We will find that it is far faster to search MAST for TESS observations by TESS Input Catalog (TIC) number. To do that, we need to figure out the TICs that correspond to the KICs. To do this, we'll search the Tess Input Catalog, which is hosted in Vizier: [TESS Input Catalog version 8.2 (TIC v.8.2)(Paegert+,2021)](http://vizier.cds.unistra.fr/viz-bin/VizieR-3?-source=IV/39/tic82&-out.max=50&-out.form=HTML%20Table&-out.add=_r&-out.add=_RAJ,_DEJ&-sort=_r&-oc.form=sexa)\n",
    "\n",
    "First, we'll setup astroquery to search Vizier in such a way that we do not limit the number of rows returned, and we specifically want to return the columns corresponding to coordinates (RA and Dec), TIC, and KIC. Next, we'll create new columns that match the data types we will find in Vizier."
   ]
  },
  {
   "cell_type": "code",
   "execution_count": 48,
   "metadata": {
    "tags": []
   },
   "outputs": [],
   "source": [
    "Vizier.ROW_LIMIT = -1\n",
    "v=Vizier(columns=['_RAJ2000','_DEJ2000','TIC','KIC'])"
   ]
  },
  {
   "cell_type": "code",
   "execution_count": 49,
   "metadata": {
    "tags": []
   },
   "outputs": [],
   "source": [
    "tab.add_columns([np.zeros(n),np.zeros(n),np.zeros(n,dtype=np.int32),np.zeros(n,dtype=np.int64)],\n",
    "                names=['_RAJ2000','_DEJ2000','KIC','TIC'])"
   ]
  },
  {
   "cell_type": "markdown",
   "metadata": {},
   "source": [
    "We will query Vizier for each row in our table of TCEs, and then save the resulting RA, Dec, KIC (just to confirm!) and TIC in our new columns. To guard against connectivity errors interrupting the workflow, we will put the Vizier query in a [try statement](https://docs.python.org/3/tutorial/errors.html#handling-exceptions)."
   ]
  },
  {
   "cell_type": "code",
   "execution_count": 50,
   "metadata": {
    "tags": []
   },
   "outputs": [
    {
     "name": "stdout",
     "output_type": "stream",
     "text": [
      "Error in 58\n",
      "Error in 75\n"
     ]
    }
   ],
   "source": [
    "# Query a subset of the TESS Input Catalog \n",
    "#result=Vizier.query_object('KIC 2581316',catalog=['IV/39/tic82']) # Length: 282\n",
    "#for i,row in enumerate(tab):\n",
    "for i,row in enumerate(tab):\n",
    "    # Use a \"try/except\" because sometimes there is no response\n",
    "    try:\n",
    "        result=v.query_object('KIC '+str(row['kepid']),radius=1*u.arcsec,catalog=['IV/39/tic82'])\n",
    "        # If there is more than one result, choose the one with matching KIC.\n",
    "        if len(result[0])>1: result=result[0][result[0]['KIC']==row['kepid']]\n",
    "        tab[i]['_RAJ2000','_DEJ2000','KIC','TIC']=result[0][0]['_RAJ2000','_DEJ2000','KIC','TIC']\n",
    "    except:\n",
    "        print('Error in',i)\n",
    "        continue"
   ]
  },
  {
   "cell_type": "markdown",
   "metadata": {},
   "source": [
    "We can now view the updated table and confirm that the KIC values from Vizier match the 'kepid' values from our original table, except in any rows where an error was found."
   ]
  },
  {
   "cell_type": "code",
   "execution_count": 56,
   "metadata": {
    "tags": []
   },
   "outputs": [
    {
     "name": "stdout",
     "output_type": "stream",
     "text": [
      " kepid   tce_period tce_period_err tce_time0 ...   KIC       TIC    TESS fast\n",
      "-------- ---------- -------------- --------- ... -------- --------- ---------\n",
      " 2581316    217.832    7.71254e-05 2455070.0 ...  2581316 137685450         8\n",
      " 2975770    369.079     0.00262336 2455130.0 ...  2975770 121395761         3\n",
      " 2576107    205.583    0.000156979 2455070.0 ...  2576107 137220754         0\n",
      " 3103227    225.583     0.00304541 2455110.0 ...  3103227 121395435         0\n",
      " 3326377     198.71    0.000624291 2454990.0 ...  3326377 120962548         0\n",
      " 3645438    386.372      0.0107079 2455290.0 ...  3645438 137151626         0\n",
      " 3634051    453.544     0.00352963 2455190.0 ...  3634051 121457557         2\n",
      " 3747817    184.772     0.00139617 2455050.0 ...  3747817 137319097         0\n",
      " 4918309    186.436     0.00047676 2454980.0 ...  4918309 122301308         0\n",
      " 4760478    287.378      0.0024477 2455180.0 ...  4760478 184011870         0\n",
      "     ...        ...            ...       ... ...      ...       ...       ...\n",
      "11026582    240.572     0.00146005 2455070.0 ... 11026582 406948587         0\n",
      "11027624    394.625    0.000866273 2455010.0 ... 11027624 417659078         4\n",
      "10586619    377.502     0.00848357 2455110.0 ... 10586619 352015839         0\n",
      "11030711    205.913     0.00132618 2455090.0 ... 11030711 424864368         0\n",
      "12644769    451.773    8.60856e-05 2454970.0 ... 12644769 299096355        14\n",
      "12735740    282.526    0.000109909 2455200.0 ... 12735740 416279912         9\n",
      "11810124     208.55     0.00780849 2455060.0 ... 11810124 416282121         0\n",
      "11909686    185.953    0.000120214 2455120.0 ... 11909686 299159803         0\n",
      "11805075    199.839    5.19864e-05 2455060.0 ... 11805075 399825512         0\n",
      "12206313    184.262     0.00201405 2455090.0 ... 12206313 267746315         5\n",
      "11716643    466.003     0.00232223 2455270.0 ... 11716643  27007316         0\n",
      "Length = 123 rows\n",
      "(array([58, 75]),)\n",
      " kepid  tce_period tce_period_err tce_time0 ... _DEJ2000 KIC TIC TESS fast\n",
      "------- ---------- -------------- --------- ... -------- --- --- ---------\n",
      "8644545    295.958     0.00206018 2454970.0 ...      0.0   0   0         0\n",
      "9471974    190.323    0.000605455 2455150.0 ...      0.0   0   0         0\n"
     ]
    }
   ],
   "source": [
    "tab.pprint()\n",
    "print(np.where(tab['kepid']!=tab['KIC']))\n",
    "print(tab[[58,75]])"
   ]
  },
  {
   "cell_type": "markdown",
   "metadata": {},
   "source": [
    "### Finding the number of TESS lightcurves by TIC\n",
    "To examine each of the 123 long-period planetary candidates that also have TESS lightcurves, it is more efficient to just query MAST for the counts (total numbers) of observations that match our criteria; we can do this with query_criteria_count. Here are the criteria we will include:\n",
    "- target_name, the TIC number as an integer.\n",
    "- project = TESS\n",
    "- obs_collection = HLSP for \"High Level Science Product\"\n",
    "- dataproduct_type = 'timeseries' because we are interested in light curves, not images\n",
    "- t_exptime = [20.0,600.0], this limits ourselves to lightcurves with observing cadences (time between images) of 20 to 600 seconds. Some TESS light curves in the MAST archive are 1800.0 s or 30 minutes; because exoplanet transits last on the order of hours, we'll be better able to model the transit with higher frequency images."
   ]
  },
  {
   "cell_type": "code",
   "execution_count": 52,
   "metadata": {},
   "outputs": [],
   "source": [
    "tab.add_column(np.zeros(n,dtype=int),name='TESS fast')"
   ]
  },
  {
   "cell_type": "code",
   "execution_count": 53,
   "metadata": {
    "tags": []
   },
   "outputs": [],
   "source": [
    "for i,row in enumerate(tab):\n",
    "    obs_count = Observations.query_criteria_count(target_name=row['TIC'],\n",
    "                                        project='TESS',obs_collection='HLSP',\n",
    "                                        dataproduct_type='timeseries',\n",
    "                                       t_exptime=[20.0,600.0])\n",
    "    tab['TESS fast'][i]=obs_count"
   ]
  },
  {
   "cell_type": "code",
   "execution_count": 57,
   "metadata": {
    "tags": []
   },
   "outputs": [
    {
     "name": "stdout",
     "output_type": "stream",
     "text": [
      "(array([  2,   3,   4,   5,   7,   8,   9,  11,  14,  15,  16,  17,  21,\n",
      "        22,  23,  24,  25,  26,  27,  28,  30,  31,  32,  34,  35,  39,\n",
      "        40,  42,  48,  49,  51,  52,  53,  56,  58,  60,  63,  64,  65,\n",
      "        67,  70,  71,  74,  75,  76,  79,  83,  87,  89,  90,  91,  93,\n",
      "        94,  97, 100, 101, 102, 103, 104, 107, 110, 112, 114, 115, 118,\n",
      "       119, 120, 122]),)\n"
     ]
    },
    {
     "data": {
      "image/png": "[encoded data removed]",
      "text/plain": [
       "<Figure size 640x480 with 1 Axes>"
      ]
     },
     "metadata": {},
     "output_type": "display_data"
    }
   ],
   "source": [
    "plt.hist(tab['TESS fast'])\n",
    "plt.xlabel('Number of TESS observations)')\n",
    "plt.ylabel('Number of PCs')\n",
    "print(np.where(tab['TESS fast']==0))"
   ]
  },
  {
   "cell_type": "code",
   "execution_count": 73,
   "metadata": {
    "tags": []
   },
   "outputs": [
    {
     "name": "stdout",
     "output_type": "stream",
     "text": [
      "55\n",
      " kepid  tce_period tce_period_err tce_time0 tce_depth tce_duration av_pred_class     _RAJ2000       _DEJ2000      KIC      TIC    TESS fast\n",
      "------- ---------- -------------- --------- --------- ------------ ------------- --------------- -------------- ------- --------- ---------\n",
      "3634051    453.544     0.00352963 2455190.0     845.7        17.01            PC 287.97545896654 38.74028625567 3634051 121457557         2\n"
     ]
    }
   ],
   "source": [
    "tab=tab[tab['TESS fast']>0]\n",
    "print(len(tab))\n",
    "print(tab[2])"
   ]
  },
  {
   "cell_type": "code",
   "execution_count": 71,
   "metadata": {
    "tags": []
   },
   "outputs": [],
   "source": [
    "# Idea; use 'tce_period','tce_period_err','tce_time0' to predict when future transits would happen,\n",
    "# then search for TESS lightcurves that contain that time period? Can that be done?"
   ]
  },
  {
   "cell_type": "markdown",
   "metadata": {},
   "source": [
    "# Examine the combined light curves for one target"
   ]
  },
  {
   "cell_type": "markdown",
   "metadata": {},
   "source": [
    "JRK seems safest for now to return by coords, seems 'KIC "
   ]
  },
  {
   "cell_type": "code",
   "execution_count": 67,
   "metadata": {
    "tags": []
   },
   "outputs": [
    {
     "data": {
      "text/html": [
       "SearchResult containing 35 data products.\n",
       "\n",
       "<table id=\"table140658350648960\">\n",
       "<thead><tr><th>#</th><th>mission</th><th>year</th><th>author</th><th>exptime</th><th>target_name</th><th>distance</th></tr></thead>\n",
       "<thead><tr><th></th><th></th><th></th><th></th><th>s</th><th></th><th>arcsec</th></tr></thead>\n",
       "<tr><td>0</td><td>Kepler Quarter 00</td><td>2009</td><td><a href='https://archive.stsci.edu/kepler/data_products.html'>Kepler</a></td><td>1800</td><td>kplr002581316</td><td>0.0</td></tr>\n",
       "<tr><td>1</td><td>Kepler Quarter 01</td><td>2009</td><td><a href='https://archive.stsci.edu/kepler/data_products.html'>Kepler</a></td><td>1800</td><td>kplr002581316</td><td>0.0</td></tr>\n",
       "<tr><td>2</td><td>Kepler Quarter 02</td><td>2009</td><td><a href='https://archive.stsci.edu/kepler/data_products.html'>Kepler</a></td><td>1800</td><td>kplr002581316</td><td>0.0</td></tr>\n",
       "<tr><td>3</td><td>Kepler Quarter 03</td><td>2009</td><td><a href='https://archive.stsci.edu/kepler/data_products.html'>Kepler</a></td><td>1800</td><td>kplr002581316</td><td>0.0</td></tr>\n",
       "<tr><td>4</td><td>Kepler Quarter 04</td><td>2010</td><td><a href='https://archive.stsci.edu/kepler/data_products.html'>Kepler</a></td><td>1800</td><td>kplr002581316</td><td>0.0</td></tr>\n",
       "<tr><td>5</td><td>Kepler Quarter 05</td><td>2010</td><td><a href='https://archive.stsci.edu/kepler/data_products.html'>Kepler</a></td><td>1800</td><td>kplr002581316</td><td>0.0</td></tr>\n",
       "<tr><td>6</td><td>Kepler Quarter 06</td><td>2010</td><td><a href='https://archive.stsci.edu/kepler/data_products.html'>Kepler</a></td><td>1800</td><td>kplr002581316</td><td>0.0</td></tr>\n",
       "<tr><td>7</td><td>Kepler Quarter 07</td><td>2010</td><td><a href='https://archive.stsci.edu/kepler/data_products.html'>Kepler</a></td><td>1800</td><td>kplr002581316</td><td>0.0</td></tr>\n",
       "<tr><td>8</td><td>Kepler Quarter 08</td><td>2011</td><td><a href='https://archive.stsci.edu/kepler/data_products.html'>Kepler</a></td><td>1800</td><td>kplr002581316</td><td>0.0</td></tr>\n",
       "<tr><td>9</td><td>Kepler Quarter 09</td><td>2011</td><td><a href='https://archive.stsci.edu/kepler/data_products.html'>Kepler</a></td><td>1800</td><td>kplr002581316</td><td>0.0</td></tr>\n",
       "<tr><td>...</td><td>...</td><td>...</td><td>...</td><td>...</td><td>...</td><td>...</td></tr>\n",
       "<tr><td>25</td><td>TESS Sector 40</td><td>2021</td><td><a href='https://archive.stsci.edu/hlsp/qlp'>QLP</a></td><td>600</td><td>137685450</td><td>0.0</td></tr>\n",
       "<tr><td>26</td><td>TESS Sector 41</td><td>2021</td><td><a href='https://heasarc.gsfc.nasa.gov/docs/tess/pipeline.html'>SPOC</a></td><td>120</td><td>137685450</td><td>0.0</td></tr>\n",
       "<tr><td>27</td><td>TESS Sector 41</td><td>2021</td><td><a href='https://archive.stsci.edu/hlsp/tess-spoc'>TESS-SPOC</a></td><td>600</td><td>137685450</td><td>0.0</td></tr>\n",
       "<tr><td>28</td><td>TESS Sector 41</td><td>2021</td><td><a href='https://archive.stsci.edu/hlsp/qlp'>QLP</a></td><td>600</td><td>137685450</td><td>0.0</td></tr>\n",
       "<tr><td>29</td><td>TESS Sector 54</td><td>2022</td><td><a href='https://heasarc.gsfc.nasa.gov/docs/tess/pipeline.html'>SPOC</a></td><td>120</td><td>137685450</td><td>0.0</td></tr>\n",
       "<tr><td>30</td><td>TESS Sector 54</td><td>2022</td><td><a href='https://archive.stsci.edu/hlsp/tess-spoc'>TESS-SPOC</a></td><td>600</td><td>137685450</td><td>0.0</td></tr>\n",
       "<tr><td>31</td><td>TESS Sector 54</td><td>2022</td><td><a href='https://archive.stsci.edu/hlsp/qlp'>QLP</a></td><td>600</td><td>137685450</td><td>0.0</td></tr>\n",
       "<tr><td>32</td><td>TESS Sector 55</td><td>2022</td><td><a href='https://heasarc.gsfc.nasa.gov/docs/tess/pipeline.html'>SPOC</a></td><td>120</td><td>137685450</td><td>0.0</td></tr>\n",
       "<tr><td>33</td><td>TESS Sector 55</td><td>2022</td><td><a href='https://archive.stsci.edu/hlsp/tess-spoc'>TESS-SPOC</a></td><td>600</td><td>137685450</td><td>0.0</td></tr>\n",
       "<tr><td>34</td><td>TESS Sector 55</td><td>2022</td><td><a href='https://archive.stsci.edu/hlsp/qlp'>QLP</a></td><td>600</td><td>137685450</td><td>0.0</td></tr>\n",
       "</table>\n",
       "Length = 35 rows"
      ],
      "text/plain": [
       "SearchResult containing 35 data products.\n",
       "\n",
       " #       mission      year   author  exptime  target_name  distance\n",
       "                                        s                   arcsec \n",
       "--- ----------------- ---- --------- ------- ------------- --------\n",
       "  0 Kepler Quarter 00 2009    Kepler    1800 kplr002581316      0.0\n",
       "  1 Kepler Quarter 01 2009    Kepler    1800 kplr002581316      0.0\n",
       "  2 Kepler Quarter 02 2009    Kepler    1800 kplr002581316      0.0\n",
       "  3 Kepler Quarter 03 2009    Kepler    1800 kplr002581316      0.0\n",
       "  4 Kepler Quarter 04 2010    Kepler    1800 kplr002581316      0.0\n",
       "  5 Kepler Quarter 05 2010    Kepler    1800 kplr002581316      0.0\n",
       "  6 Kepler Quarter 06 2010    Kepler    1800 kplr002581316      0.0\n",
       "  7 Kepler Quarter 07 2010    Kepler    1800 kplr002581316      0.0\n",
       "  8 Kepler Quarter 08 2011    Kepler    1800 kplr002581316      0.0\n",
       "  9 Kepler Quarter 09 2011    Kepler    1800 kplr002581316      0.0\n",
       "...               ...  ...       ...     ...           ...      ...\n",
       " 25    TESS Sector 40 2021       QLP     600     137685450      0.0\n",
       " 26    TESS Sector 41 2021      SPOC     120     137685450      0.0\n",
       " 27    TESS Sector 41 2021 TESS-SPOC     600     137685450      0.0\n",
       " 28    TESS Sector 41 2021       QLP     600     137685450      0.0\n",
       " 29    TESS Sector 54 2022      SPOC     120     137685450      0.0\n",
       " 30    TESS Sector 54 2022 TESS-SPOC     600     137685450      0.0\n",
       " 31    TESS Sector 54 2022       QLP     600     137685450      0.0\n",
       " 32    TESS Sector 55 2022      SPOC     120     137685450      0.0\n",
       " 33    TESS Sector 55 2022 TESS-SPOC     600     137685450      0.0\n",
       " 34    TESS Sector 55 2022       QLP     600     137685450      0.0\n",
       "Length = 35 rows"
      ]
     },
     "execution_count": 67,
     "metadata": {},
     "output_type": "execute_result"
    }
   ],
   "source": [
    "# KIC 2581316, TIC 137685450, RA 292.62745521591, DEC 37.86013507452\n",
    "# This one has 8 TESS lightcurves, and makes lk unhappy.\n",
    "#search_result=lk.search_lightcurve(2581316) # Returns 35 data products, Kepler and TESS\n",
    "#search_result=lk.search_lightcurve('KIC '+str(2581316)) # Returns 18 data products, all Kepler\n",
    "#search_result=lk.search_lightcurve(137685450) # Returns 0 data products\n",
    "#search_result=lk.search_lightcurve('TIC '+str(137685450)) # Returns 17 data products, all TESS\n",
    "#search_result=lk.search_lightcurve('292.62745521591,37.86013507452') # Returns 35 data products, Kepler and TESS\n",
    "# If do exptime=[20,600], will narrow it down, but that means will also exclude kepler 1800 s\n",
    "#search_result"
   ]
  },
  {
   "cell_type": "code",
   "execution_count": 74,
   "metadata": {
    "tags": []
   },
   "outputs": [
    {
     "data": {
      "text/html": [
       "SearchResult containing 23 data products.\n",
       "\n",
       "<table id=\"table140658360383280\">\n",
       "<thead><tr><th>#</th><th>mission</th><th>year</th><th>author</th><th>exptime</th><th>target_name</th><th>distance</th></tr></thead>\n",
       "<thead><tr><th></th><th></th><th></th><th></th><th>s</th><th></th><th>arcsec</th></tr></thead>\n",
       "<tr><td>0</td><td>Kepler Quarter 00</td><td>2009</td><td><a href='https://archive.stsci.edu/kepler/data_products.html'>Kepler</a></td><td>1800</td><td>kplr003634051</td><td>0.0</td></tr>\n",
       "<tr><td>1</td><td>Kepler Quarter 01</td><td>2009</td><td><a href='https://archive.stsci.edu/kepler/data_products.html'>Kepler</a></td><td>1800</td><td>kplr003634051</td><td>0.0</td></tr>\n",
       "<tr><td>2</td><td>Kepler Quarter 02</td><td>2009</td><td><a href='https://archive.stsci.edu/kepler/data_products.html'>Kepler</a></td><td>1800</td><td>kplr003634051</td><td>0.0</td></tr>\n",
       "<tr><td>3</td><td>Kepler Quarter 03</td><td>2009</td><td><a href='https://archive.stsci.edu/kepler/data_products.html'>Kepler</a></td><td>1800</td><td>kplr003634051</td><td>0.0</td></tr>\n",
       "<tr><td>4</td><td>Kepler Quarter 04</td><td>2010</td><td><a href='https://archive.stsci.edu/kepler/data_products.html'>Kepler</a></td><td>1800</td><td>kplr003634051</td><td>0.0</td></tr>\n",
       "<tr><td>5</td><td>Kepler Quarter 05</td><td>2010</td><td><a href='https://archive.stsci.edu/kepler/data_products.html'>Kepler</a></td><td>1800</td><td>kplr003634051</td><td>0.0</td></tr>\n",
       "<tr><td>6</td><td>Kepler Quarter 06</td><td>2010</td><td><a href='https://archive.stsci.edu/kepler/data_products.html'>Kepler</a></td><td>1800</td><td>kplr003634051</td><td>0.0</td></tr>\n",
       "<tr><td>7</td><td>Kepler Quarter 07</td><td>2010</td><td><a href='https://archive.stsci.edu/kepler/data_products.html'>Kepler</a></td><td>1800</td><td>kplr003634051</td><td>0.0</td></tr>\n",
       "<tr><td>8</td><td>Kepler Quarter 08</td><td>2011</td><td><a href='https://archive.stsci.edu/kepler/data_products.html'>Kepler</a></td><td>1800</td><td>kplr003634051</td><td>0.0</td></tr>\n",
       "<tr><td>9</td><td>Kepler Quarter 09</td><td>2011</td><td><a href='https://archive.stsci.edu/kepler/data_products.html'>Kepler</a></td><td>1800</td><td>kplr003634051</td><td>0.0</td></tr>\n",
       "<tr><td>...</td><td>...</td><td>...</td><td>...</td><td>...</td><td>...</td><td>...</td></tr>\n",
       "<tr><td>13</td><td>Kepler Quarter 13</td><td>2012</td><td><a href='https://archive.stsci.edu/kepler/data_products.html'>Kepler</a></td><td>1800</td><td>kplr003634051</td><td>0.0</td></tr>\n",
       "<tr><td>14</td><td>Kepler Quarter 14</td><td>2012</td><td><a href='https://archive.stsci.edu/kepler/data_products.html'>Kepler</a></td><td>1800</td><td>kplr003634051</td><td>0.0</td></tr>\n",
       "<tr><td>15</td><td>Kepler Quarter 15</td><td>2013</td><td><a href='https://archive.stsci.edu/kepler/data_products.html'>Kepler</a></td><td>1800</td><td>kplr003634051</td><td>0.0</td></tr>\n",
       "<tr><td>16</td><td>Kepler Quarter 16</td><td>2013</td><td><a href='https://archive.stsci.edu/kepler/data_products.html'>Kepler</a></td><td>1800</td><td>kplr003634051</td><td>0.0</td></tr>\n",
       "<tr><td>17</td><td>Kepler Quarter 17</td><td>2013</td><td><a href='https://archive.stsci.edu/kepler/data_products.html'>Kepler</a></td><td>1800</td><td>kplr003634051</td><td>0.0</td></tr>\n",
       "<tr><td>18</td><td>TESS Sector 14</td><td>2019</td><td><a href='https://archive.stsci.edu/hlsp/qlp'>QLP</a></td><td>1800</td><td>121457557</td><td>0.0</td></tr>\n",
       "<tr><td>19</td><td>TESS Sector 14</td><td>2019</td><td><a href='https://archive.stsci.edu/hlsp/tasoc'>TASOC</a></td><td>1800</td><td>121457557</td><td>0.0</td></tr>\n",
       "<tr><td>20</td><td>TESS Sector 14</td><td>2019</td><td><a href='https://archive.stsci.edu/hlsp/tasoc'>TASOC</a></td><td>1800</td><td>121457557</td><td>0.0</td></tr>\n",
       "<tr><td>21</td><td>TESS Sector 40</td><td>2021</td><td><a href='https://archive.stsci.edu/hlsp/qlp'>QLP</a></td><td>600</td><td>121457557</td><td>0.0</td></tr>\n",
       "<tr><td>22</td><td>TESS Sector 41</td><td>2021</td><td><a href='https://archive.stsci.edu/hlsp/qlp'>QLP</a></td><td>600</td><td>121457557</td><td>0.0</td></tr>\n",
       "</table>\n",
       "Length = 23 rows"
      ],
      "text/plain": [
       "SearchResult containing 23 data products.\n",
       "\n",
       " #       mission      year author exptime  target_name  distance\n",
       "                                     s                   arcsec \n",
       "--- ----------------- ---- ------ ------- ------------- --------\n",
       "  0 Kepler Quarter 00 2009 Kepler    1800 kplr003634051      0.0\n",
       "  1 Kepler Quarter 01 2009 Kepler    1800 kplr003634051      0.0\n",
       "  2 Kepler Quarter 02 2009 Kepler    1800 kplr003634051      0.0\n",
       "  3 Kepler Quarter 03 2009 Kepler    1800 kplr003634051      0.0\n",
       "  4 Kepler Quarter 04 2010 Kepler    1800 kplr003634051      0.0\n",
       "  5 Kepler Quarter 05 2010 Kepler    1800 kplr003634051      0.0\n",
       "  6 Kepler Quarter 06 2010 Kepler    1800 kplr003634051      0.0\n",
       "  7 Kepler Quarter 07 2010 Kepler    1800 kplr003634051      0.0\n",
       "  8 Kepler Quarter 08 2011 Kepler    1800 kplr003634051      0.0\n",
       "  9 Kepler Quarter 09 2011 Kepler    1800 kplr003634051      0.0\n",
       "...               ...  ...    ...     ...           ...      ...\n",
       " 13 Kepler Quarter 13 2012 Kepler    1800 kplr003634051      0.0\n",
       " 14 Kepler Quarter 14 2012 Kepler    1800 kplr003634051      0.0\n",
       " 15 Kepler Quarter 15 2013 Kepler    1800 kplr003634051      0.0\n",
       " 16 Kepler Quarter 16 2013 Kepler    1800 kplr003634051      0.0\n",
       " 17 Kepler Quarter 17 2013 Kepler    1800 kplr003634051      0.0\n",
       " 18    TESS Sector 14 2019    QLP    1800     121457557      0.0\n",
       " 19    TESS Sector 14 2019  TASOC    1800     121457557      0.0\n",
       " 20    TESS Sector 14 2019  TASOC    1800     121457557      0.0\n",
       " 21    TESS Sector 40 2021    QLP     600     121457557      0.0\n",
       " 22    TESS Sector 41 2021    QLP     600     121457557      0.0\n",
       "Length = 23 rows"
      ]
     },
     "execution_count": 74,
     "metadata": {},
     "output_type": "execute_result"
    }
   ],
   "source": [
    "search_result=lk.search_lightcurve('287.97545896654,38.74028625567')\n",
    "search_result"
   ]
  },
  {
   "cell_type": "code",
   "execution_count": 75,
   "metadata": {
    "tags": []
   },
   "outputs": [],
   "source": [
    "# Load 'em all. Where does it \"go\"?\n",
    "lc_collection = search_result.download_all()"
   ]
  },
  {
   "cell_type": "code",
   "execution_count": 76,
   "metadata": {
    "tags": []
   },
   "outputs": [
    {
     "data": {
      "text/plain": [
       "LightCurveCollection of 23 objects:\n",
       "    0: <KeplerLightCurve LABEL=\"KIC 3634051\" QUARTER=0 AUTHOR=Kepler FLUX_ORIGIN=pdcsap_flux>\n",
       "    1: <KeplerLightCurve LABEL=\"KIC 3634051\" QUARTER=1 AUTHOR=Kepler FLUX_ORIGIN=pdcsap_flux>\n",
       "    2: <KeplerLightCurve LABEL=\"KIC 3634051\" QUARTER=2 AUTHOR=Kepler FLUX_ORIGIN=pdcsap_flux>\n",
       "    3: <KeplerLightCurve LABEL=\"KIC 3634051\" QUARTER=3 AUTHOR=Kepler FLUX_ORIGIN=pdcsap_flux>\n",
       "    4: <KeplerLightCurve LABEL=\"KIC 3634051\" QUARTER=4 AUTHOR=Kepler FLUX_ORIGIN=pdcsap_flux>\n",
       "    5: <KeplerLightCurve LABEL=\"KIC 3634051\" QUARTER=5 AUTHOR=Kepler FLUX_ORIGIN=pdcsap_flux>\n",
       "    6: <KeplerLightCurve LABEL=\"KIC 3634051\" QUARTER=6 AUTHOR=Kepler FLUX_ORIGIN=pdcsap_flux>\n",
       "    7: <KeplerLightCurve LABEL=\"KIC 3634051\" QUARTER=7 AUTHOR=Kepler FLUX_ORIGIN=pdcsap_flux>\n",
       "    8: <KeplerLightCurve LABEL=\"KIC 3634051\" QUARTER=8 AUTHOR=Kepler FLUX_ORIGIN=pdcsap_flux>\n",
       "    9: <KeplerLightCurve LABEL=\"KIC 3634051\" QUARTER=9 AUTHOR=Kepler FLUX_ORIGIN=pdcsap_flux>\n",
       "    10: <KeplerLightCurve LABEL=\"KIC 3634051\" QUARTER=10 AUTHOR=Kepler FLUX_ORIGIN=pdcsap_flux>\n",
       "    11: <KeplerLightCurve LABEL=\"KIC 3634051\" QUARTER=11 AUTHOR=Kepler FLUX_ORIGIN=pdcsap_flux>\n",
       "    12: <KeplerLightCurve LABEL=\"KIC 3634051\" QUARTER=12 AUTHOR=Kepler FLUX_ORIGIN=pdcsap_flux>\n",
       "    13: <KeplerLightCurve LABEL=\"KIC 3634051\" QUARTER=13 AUTHOR=Kepler FLUX_ORIGIN=pdcsap_flux>\n",
       "    14: <KeplerLightCurve LABEL=\"KIC 3634051\" QUARTER=14 AUTHOR=Kepler FLUX_ORIGIN=pdcsap_flux>\n",
       "    15: <KeplerLightCurve LABEL=\"KIC 3634051\" QUARTER=15 AUTHOR=Kepler FLUX_ORIGIN=pdcsap_flux>\n",
       "    16: <KeplerLightCurve LABEL=\"KIC 3634051\" QUARTER=16 AUTHOR=Kepler FLUX_ORIGIN=pdcsap_flux>\n",
       "    17: <KeplerLightCurve LABEL=\"KIC 3634051\" QUARTER=17 AUTHOR=Kepler FLUX_ORIGIN=pdcsap_flux>\n",
       "    18: <TessLightCurve LABEL=\"TIC 121457557\" SECTOR=14 AUTHOR=QLP FLUX_ORIGIN=sap_flux>\n",
       "    19: <TessLightCurve LABEL=\"TIC 121457557\" SECTOR=14 AUTHOR=TASOC FLUX_ORIGIN=flux_raw>\n",
       "    20: <TessLightCurve LABEL=\"TIC 121457557\" SECTOR=14 AUTHOR=TASOC FLUX_ORIGIN=flux_raw>\n",
       "    21: <TessLightCurve LABEL=\"TIC 121457557\" SECTOR=40 AUTHOR=QLP FLUX_ORIGIN=sap_flux>\n",
       "    22: <TessLightCurve LABEL=\"TIC 121457557\" SECTOR=41 AUTHOR=QLP FLUX_ORIGIN=sap_flux>"
      ]
     },
     "execution_count": 76,
     "metadata": {},
     "output_type": "execute_result"
    }
   ],
   "source": [
    "lc_collection"
   ]
  },
  {
   "cell_type": "code",
   "execution_count": 79,
   "metadata": {
    "tags": []
   },
   "outputs": [
    {
     "name": "stderr",
     "output_type": "stream",
     "text": [
      "/opt/conda/envs/tess/lib/python3.8/site-packages/lightkurve/collections.py:264: LightkurveWarning: Some but not all of the light curves in the collection appear to be normalized. You may wish to use `normalize=True` to ensure all are normalized.\n",
      "  warnings.warn(\n"
     ]
    },
    {
     "data": {
      "text/plain": [
       "<AxesSubplot:xlabel='Time - 2457000 [BTJD days]', ylabel='Flux'>"
      ]
     },
     "execution_count": 79,
     "metadata": {},
     "output_type": "execute_result"
    },
    {
     "data": {
      "image/png": "[encoded data removed]",
      "text/plain": [
       "<Figure size 848.5x400 with 1 Axes>"
      ]
     },
     "metadata": {},
     "output_type": "display_data"
    }
   ],
   "source": [
    "# It's mad here.\n",
    "lc_collection.plot()"
   ]
  },
  {
   "cell_type": "code",
   "execution_count": 69,
   "metadata": {
    "tags": []
   },
   "outputs": [
    {
     "name": "stderr",
     "output_type": "stream",
     "text": [
      "WARNING: column quality has a unit but is kept as a Column as an attempt to convert it to Quantity failed with:\n",
      "TypeError('The value must be a valid Python or Numpy numeric type.') [astropy.table.table]\n",
      "WARNING: column irq1 has a unit but is kept as a Column as an attempt to convert it to Quantity failed with:\n",
      "TypeError('The value must be a valid Python or Numpy numeric type.') [astropy.table.table]\n",
      "WARNING: column irq2 has a unit but is kept as a Column as an attempt to convert it to Quantity failed with:\n",
      "TypeError('The value must be a valid Python or Numpy numeric type.') [astropy.table.table]\n",
      "WARNING: column irq3 has a unit but is kept as a Column as an attempt to convert it to Quantity failed with:\n",
      "TypeError('The value must be a valid Python or Numpy numeric type.') [astropy.table.table]\n",
      "WARNING: column rstfc has a unit but is kept as a Column as an attempt to convert it to Quantity failed with:\n",
      "TypeError('The value must be a valid Python or Numpy numeric type.') [astropy.table.table]\n",
      "/opt/conda/envs/tess/lib/python3.8/site-packages/lightkurve/collections.py:213: LightkurveWarning: The following columns will be excluded from stitching because the column types are incompatible: {'sap_flux', 'sap_bkg', 'sap_bkg_err'}\n",
      "  warnings.warn(\n",
      "WARNING: column quality has a unit but is kept as a Column as an attempt to convert it to Quantity failed with:\n",
      "TypeError('The value must be a valid Python or Numpy numeric type.') [astropy.table.table]\n",
      "WARNING: column irq1 has a unit but is kept as a Column as an attempt to convert it to Quantity failed with:\n",
      "TypeError('The value must be a valid Python or Numpy numeric type.') [astropy.table.table]\n",
      "WARNING: column irq2 has a unit but is kept as a Column as an attempt to convert it to Quantity failed with:\n",
      "TypeError('The value must be a valid Python or Numpy numeric type.') [astropy.table.table]\n",
      "WARNING: column irq3 has a unit but is kept as a Column as an attempt to convert it to Quantity failed with:\n",
      "TypeError('The value must be a valid Python or Numpy numeric type.') [astropy.table.table]\n",
      "WARNING: column rstfc has a unit but is kept as a Column as an attempt to convert it to Quantity failed with:\n",
      "TypeError('The value must be a valid Python or Numpy numeric type.') [astropy.table.table]\n"
     ]
    },
    {
     "ename": "TableMergeError",
     "evalue": "The 'quality' columns have incompatible types: ['int32', 'int32', 'int32', 'int32', 'int32', 'int32', 'int32', 'int32', 'int32', 'int32', 'int32', 'int32', 'int32', 'int32', 'int32', 'int32', 'int32', 'int32', 'int32', 'int32', 'str32', 'int32', 'int32', 'int32', 'int32', 'int32', 'int32', 'int32', 'int32', 'int32', 'int32', 'int32', 'int32', 'int32', 'int32']",
     "output_type": "error",
     "traceback": [
      "\u001b[0;31m---------------------------------------------------------------------------\u001b[0m",
      "\u001b[0;31mMergeConflictError\u001b[0m                        Traceback (most recent call last)",
      "File \u001b[0;32m/opt/conda/envs/tess/lib/python3.8/site-packages/astropy/table/operations.py:1494\u001b[0m, in \u001b[0;36m_vstack\u001b[0;34m(arrays, join_type, col_name_map, metadata_conflicts)\u001b[0m\n\u001b[1;32m   1493\u001b[0m \u001b[38;5;28;01mtry\u001b[39;00m:\n\u001b[0;32m-> 1494\u001b[0m     col \u001b[38;5;241m=\u001b[39m \u001b[43mcol_cls\u001b[49m\u001b[38;5;241;43m.\u001b[39;49m\u001b[43minfo\u001b[49m\u001b[38;5;241;43m.\u001b[39;49m\u001b[43mnew_like\u001b[49m\u001b[43m(\u001b[49m\u001b[43mcols\u001b[49m\u001b[43m,\u001b[49m\u001b[43m \u001b[49m\u001b[43mn_rows\u001b[49m\u001b[43m,\u001b[49m\u001b[43m \u001b[49m\u001b[43mmetadata_conflicts\u001b[49m\u001b[43m,\u001b[49m\u001b[43m \u001b[49m\u001b[43mout_name\u001b[49m\u001b[43m)\u001b[49m\n\u001b[1;32m   1495\u001b[0m \u001b[38;5;28;01mexcept\u001b[39;00m metadata\u001b[38;5;241m.\u001b[39mMergeConflictError \u001b[38;5;28;01mas\u001b[39;00m err:\n\u001b[1;32m   1496\u001b[0m     \u001b[38;5;66;03m# Beautify the error message when we are trying to merge columns with incompatible\u001b[39;00m\n\u001b[1;32m   1497\u001b[0m     \u001b[38;5;66;03m# types by including the name of the columns that originated the error.\u001b[39;00m\n",
      "File \u001b[0;32m/opt/conda/envs/tess/lib/python3.8/site-packages/astropy/table/column.py:484\u001b[0m, in \u001b[0;36mColumnInfo.new_like\u001b[0;34m(self, cols, length, metadata_conflicts, name)\u001b[0m\n\u001b[1;32m    460\u001b[0m \u001b[38;5;250m\u001b[39m\u001b[38;5;124;03m\"\"\"\u001b[39;00m\n\u001b[1;32m    461\u001b[0m \u001b[38;5;124;03mReturn a new Column instance which is consistent with the\u001b[39;00m\n\u001b[1;32m    462\u001b[0m \u001b[38;5;124;03minput ``cols`` and has ``length`` rows.\u001b[39;00m\n\u001b[0;32m   (...)\u001b[0m\n\u001b[1;32m    482\u001b[0m \n\u001b[1;32m    483\u001b[0m \u001b[38;5;124;03m\"\"\"\u001b[39;00m\n\u001b[0;32m--> 484\u001b[0m attrs \u001b[38;5;241m=\u001b[39m \u001b[38;5;28;43mself\u001b[39;49m\u001b[38;5;241;43m.\u001b[39;49m\u001b[43mmerge_cols_attributes\u001b[49m\u001b[43m(\u001b[49m\n\u001b[1;32m    485\u001b[0m \u001b[43m    \u001b[49m\u001b[43mcols\u001b[49m\u001b[43m,\u001b[49m\u001b[43m \u001b[49m\u001b[43mmetadata_conflicts\u001b[49m\u001b[43m,\u001b[49m\u001b[43m \u001b[49m\u001b[43mname\u001b[49m\u001b[43m,\u001b[49m\u001b[43m \u001b[49m\u001b[43m(\u001b[49m\u001b[38;5;124;43m\"\u001b[39;49m\u001b[38;5;124;43mmeta\u001b[39;49m\u001b[38;5;124;43m\"\u001b[39;49m\u001b[43m,\u001b[49m\u001b[43m \u001b[49m\u001b[38;5;124;43m\"\u001b[39;49m\u001b[38;5;124;43munit\u001b[39;49m\u001b[38;5;124;43m\"\u001b[39;49m\u001b[43m,\u001b[49m\u001b[43m \u001b[49m\u001b[38;5;124;43m\"\u001b[39;49m\u001b[38;5;124;43mformat\u001b[39;49m\u001b[38;5;124;43m\"\u001b[39;49m\u001b[43m,\u001b[49m\u001b[43m \u001b[49m\u001b[38;5;124;43m\"\u001b[39;49m\u001b[38;5;124;43mdescription\u001b[39;49m\u001b[38;5;124;43m\"\u001b[39;49m\u001b[43m)\u001b[49m\n\u001b[1;32m    486\u001b[0m \u001b[43m\u001b[49m\u001b[43m)\u001b[49m\n\u001b[1;32m    488\u001b[0m \u001b[38;5;28;01mreturn\u001b[39;00m \u001b[38;5;28mself\u001b[39m\u001b[38;5;241m.\u001b[39m_parent_cls(length\u001b[38;5;241m=\u001b[39mlength, \u001b[38;5;241m*\u001b[39m\u001b[38;5;241m*\u001b[39mattrs)\n",
      "File \u001b[0;32m/opt/conda/envs/tess/lib/python3.8/site-packages/astropy/utils/data_info.py:754\u001b[0m, in \u001b[0;36mBaseColumnInfo.merge_cols_attributes\u001b[0;34m(cols, metadata_conflicts, name, attrs)\u001b[0m\n\u001b[1;32m    753\u001b[0m \u001b[38;5;66;03m# Output dtype is the superset of all dtypes in in_cols\u001b[39;00m\n\u001b[0;32m--> 754\u001b[0m out[\u001b[38;5;124m\"\u001b[39m\u001b[38;5;124mdtype\u001b[39m\u001b[38;5;124m\"\u001b[39m] \u001b[38;5;241m=\u001b[39m \u001b[43mmetadata\u001b[49m\u001b[38;5;241;43m.\u001b[39;49m\u001b[43mcommon_dtype\u001b[49m\u001b[43m(\u001b[49m\u001b[43mcols\u001b[49m\u001b[43m)\u001b[49m\n\u001b[1;32m    756\u001b[0m \u001b[38;5;66;03m# Make sure all input shapes are the same\u001b[39;00m\n",
      "File \u001b[0;32m/opt/conda/envs/tess/lib/python3.8/site-packages/astropy/utils/metadata.py:75\u001b[0m, in \u001b[0;36mcommon_dtype\u001b[0;34m(arrs)\u001b[0m\n\u001b[1;32m     74\u001b[0m     tme\u001b[38;5;241m.\u001b[39m_incompat_types \u001b[38;5;241m=\u001b[39m incompat_types\n\u001b[0;32m---> 75\u001b[0m     \u001b[38;5;28;01mraise\u001b[39;00m tme\n\u001b[1;32m     77\u001b[0m arrs \u001b[38;5;241m=\u001b[39m [np\u001b[38;5;241m.\u001b[39mempty(\u001b[38;5;241m1\u001b[39m, dtype\u001b[38;5;241m=\u001b[39mdtype(arr)) \u001b[38;5;28;01mfor\u001b[39;00m arr \u001b[38;5;129;01min\u001b[39;00m arrs]\n",
      "\u001b[0;31mMergeConflictError\u001b[0m: Arrays have incompatible types ['int32', 'int32', 'int32', 'int32', 'int32', 'int32', 'int32', 'int32', 'int32', 'int32', 'int32', 'int32', 'int32', 'int32', 'int32', 'int32', 'int32', 'int32', 'int32', 'int32', 'str32', 'int32', 'int32', 'int32', 'int32', 'int32', 'int32', 'int32', 'int32', 'int32', 'int32', 'int32', 'int32', 'int32', 'int32']",
      "\nThe above exception was the direct cause of the following exception:\n",
      "\u001b[0;31mTableMergeError\u001b[0m                           Traceback (most recent call last)",
      "Cell \u001b[0;32mIn[69], line 2\u001b[0m\n\u001b[1;32m      1\u001b[0m \u001b[38;5;66;03m# Could be interesting to visualize just Kepler, then just TESS, then combined.\u001b[39;00m\n\u001b[0;32m----> 2\u001b[0m lc_stitched \u001b[38;5;241m=\u001b[39m \u001b[43mlc_collection\u001b[49m\u001b[38;5;241;43m.\u001b[39;49m\u001b[43mstitch\u001b[49m\u001b[43m(\u001b[49m\u001b[43m)\u001b[49m\n\u001b[1;32m      3\u001b[0m lc_stitched\u001b[38;5;241m.\u001b[39mplot()\n",
      "File \u001b[0;32m/opt/conda/envs/tess/lib/python3.8/site-packages/lightkurve/collections.py:224\u001b[0m, in \u001b[0;36mLightCurveCollection.stitch\u001b[0;34m(self, corrector_func)\u001b[0m\n\u001b[1;32m    218\u001b[0m     [\n\u001b[1;32m    219\u001b[0m         lc\u001b[38;5;241m.\u001b[39mremove_columns(columns_to_remove\u001b[38;5;241m.\u001b[39mintersection(lc\u001b[38;5;241m.\u001b[39mcolumns))\n\u001b[1;32m    220\u001b[0m         \u001b[38;5;28;01mfor\u001b[39;00m lc \u001b[38;5;129;01min\u001b[39;00m lcs\n\u001b[1;32m    221\u001b[0m     ]\n\u001b[1;32m    223\u001b[0m \u001b[38;5;66;03m# Need `join_type='inner'` until AstroPy supports masked Quantities\u001b[39;00m\n\u001b[0;32m--> 224\u001b[0m \u001b[38;5;28;01mreturn\u001b[39;00m \u001b[43mvstack\u001b[49m\u001b[43m(\u001b[49m\u001b[43mlcs\u001b[49m\u001b[43m,\u001b[49m\u001b[43m \u001b[49m\u001b[43mjoin_type\u001b[49m\u001b[38;5;241;43m=\u001b[39;49m\u001b[38;5;124;43m\"\u001b[39;49m\u001b[38;5;124;43minner\u001b[39;49m\u001b[38;5;124;43m\"\u001b[39;49m\u001b[43m,\u001b[49m\u001b[43m \u001b[49m\u001b[43mmetadata_conflicts\u001b[49m\u001b[38;5;241;43m=\u001b[39;49m\u001b[38;5;124;43m\"\u001b[39;49m\u001b[38;5;124;43msilent\u001b[39;49m\u001b[38;5;124;43m\"\u001b[39;49m\u001b[43m)\u001b[49m\n",
      "File \u001b[0;32m/opt/conda/envs/tess/lib/python3.8/site-packages/astropy/table/operations.py:688\u001b[0m, in \u001b[0;36mvstack\u001b[0;34m(tables, join_type, metadata_conflicts)\u001b[0m\n\u001b[1;32m    685\u001b[0m     \u001b[38;5;28;01mreturn\u001b[39;00m tables[\u001b[38;5;241m0\u001b[39m]  \u001b[38;5;66;03m# no point in stacking a single table\u001b[39;00m\n\u001b[1;32m    686\u001b[0m col_name_map \u001b[38;5;241m=\u001b[39m OrderedDict()\n\u001b[0;32m--> 688\u001b[0m out \u001b[38;5;241m=\u001b[39m \u001b[43m_vstack\u001b[49m\u001b[43m(\u001b[49m\u001b[43mtables\u001b[49m\u001b[43m,\u001b[49m\u001b[43m \u001b[49m\u001b[43mjoin_type\u001b[49m\u001b[43m,\u001b[49m\u001b[43m \u001b[49m\u001b[43mcol_name_map\u001b[49m\u001b[43m,\u001b[49m\u001b[43m \u001b[49m\u001b[43mmetadata_conflicts\u001b[49m\u001b[43m)\u001b[49m\n\u001b[1;32m    690\u001b[0m \u001b[38;5;66;03m# Merge table metadata\u001b[39;00m\n\u001b[1;32m    691\u001b[0m _merge_table_meta(out, tables, metadata_conflicts\u001b[38;5;241m=\u001b[39mmetadata_conflicts)\n",
      "File \u001b[0;32m/opt/conda/envs/tess/lib/python3.8/site-packages/astropy/table/operations.py:1498\u001b[0m, in \u001b[0;36m_vstack\u001b[0;34m(arrays, join_type, col_name_map, metadata_conflicts)\u001b[0m\n\u001b[1;32m   1494\u001b[0m     col \u001b[38;5;241m=\u001b[39m col_cls\u001b[38;5;241m.\u001b[39minfo\u001b[38;5;241m.\u001b[39mnew_like(cols, n_rows, metadata_conflicts, out_name)\n\u001b[1;32m   1495\u001b[0m \u001b[38;5;28;01mexcept\u001b[39;00m metadata\u001b[38;5;241m.\u001b[39mMergeConflictError \u001b[38;5;28;01mas\u001b[39;00m err:\n\u001b[1;32m   1496\u001b[0m     \u001b[38;5;66;03m# Beautify the error message when we are trying to merge columns with incompatible\u001b[39;00m\n\u001b[1;32m   1497\u001b[0m     \u001b[38;5;66;03m# types by including the name of the columns that originated the error.\u001b[39;00m\n\u001b[0;32m-> 1498\u001b[0m     \u001b[38;5;28;01mraise\u001b[39;00m TableMergeError(\n\u001b[1;32m   1499\u001b[0m         \u001b[38;5;124m\"\u001b[39m\u001b[38;5;124mThe \u001b[39m\u001b[38;5;124m'\u001b[39m\u001b[38;5;132;01m{}\u001b[39;00m\u001b[38;5;124m'\u001b[39m\u001b[38;5;124m columns have incompatible types: \u001b[39m\u001b[38;5;132;01m{}\u001b[39;00m\u001b[38;5;124m\"\u001b[39m\u001b[38;5;241m.\u001b[39mformat(\n\u001b[1;32m   1500\u001b[0m             out_name, err\u001b[38;5;241m.\u001b[39m_incompat_types\n\u001b[1;32m   1501\u001b[0m         )\n\u001b[1;32m   1502\u001b[0m     ) \u001b[38;5;28;01mfrom\u001b[39;00m \u001b[38;5;21;01merr\u001b[39;00m\n\u001b[1;32m   1504\u001b[0m idx0 \u001b[38;5;241m=\u001b[39m \u001b[38;5;241m0\u001b[39m\n\u001b[1;32m   1505\u001b[0m \u001b[38;5;28;01mfor\u001b[39;00m name, array \u001b[38;5;129;01min\u001b[39;00m \u001b[38;5;28mzip\u001b[39m(in_names, arrays):\n",
      "\u001b[0;31mTableMergeError\u001b[0m: The 'quality' columns have incompatible types: ['int32', 'int32', 'int32', 'int32', 'int32', 'int32', 'int32', 'int32', 'int32', 'int32', 'int32', 'int32', 'int32', 'int32', 'int32', 'int32', 'int32', 'int32', 'int32', 'int32', 'str32', 'int32', 'int32', 'int32', 'int32', 'int32', 'int32', 'int32', 'int32', 'int32', 'int32', 'int32', 'int32', 'int32', 'int32']"
     ]
    }
   ],
   "source": [
    "# Could be interesting to visualize just Kepler, then just TESS, then combined.\n",
    "# Could also indicate the expected transit times, based on 'tce_period','tce_period_err','tce_time0'\n",
    "lc_stitched = lc_collection.stitch()\n",
    "lc_stitched.plot()"
   ]
  },
  {
   "cell_type": "markdown",
   "metadata": {},
   "source": [
    "Where possible (if the code supports it), use code examples that visually display the data in the tutorial. For example, if you are showing an object such as a Table, display a preview of the table:"
   ]
  },
  {
   "cell_type": "markdown",
   "metadata": {},
   "source": [
    "## Exercises\n",
    "Exercises are optional, but encouraged. Exercises can be woven into the main content of your tutorial, or appear in their own section toward the end of the tutorial. Final exercises can be more challenging, similar to homework problems. They can be minimal or take as long as 30 minutes to an hour to complete. If you do have one or more exercises in your tutorial, be sure to leave a blank code cell underneath each to show the reader that they're meant to try out their new skill right there. You may also want to include a \"solutions\" notebook next to your main notebook for the reader to check their work after they have finished their attempt."
   ]
  },
  {
   "cell_type": "markdown",
   "metadata": {},
   "source": [
    "## Additional Resources\n",
    "\n",
    "This section is optional. Try to weave resource links into the main content of your tutorial so that they are falling in line with the context of your writing. For resources that do not fit cleanly into your narrative, you may include an additional resources section at the end of your tutorial. Usually a list of links using Markdown bullet list plus link format is appropriate:\n",
    "\n",
    "- [MAST API](https://mast.stsci.edu/api/v0/index.html)\n",
    "- [Kepler Archive Page (MAST)](https://archive.stsci.edu/kepler/)\n",
    "- [Kepler Archive Manual](https://archive.stsci.edu/kepler/manuals/archive_manual.pdf)\n",
    "- [Exo.MAST website](https://exo.mast.stsci.edu/)"
   ]
  },
  {
   "cell_type": "markdown",
   "metadata": {},
   "source": [
    "## Citations\n",
    "Provide your reader with guidelines on how to cite open source software and other resources in their own published work.\n",
    "\n",
    "```\n",
    "If you use `astropy` or `lightkurve` for published research, please cite the\n",
    "authors. Follow these links for more information about citing `astropy` and\n",
    "`lightkurve`:\n",
    "\n",
    "* [Citing `astropy`](https://www.astropy.org/acknowledging.html)\n",
    "* [Citing `lightkurve`](http://docs.lightkurve.org/about/citing.html)\n",
    "\n",
    "```"
   ]
  },
  {
   "cell_type": "markdown",
   "metadata": {
    "slideshow": {
     "slide_type": "slide"
    }
   },
   "source": [
    "## About this Notebook\n",
    "Let the world know who the author of this great tutorial is! If possible and appropriate, include a contact email address for users who might need support (for example, `archive@stsci.edu`). You can also optionally include keywords, your funding source, or a last update date in this section.\n",
    "\n",
    "**Author(s):** Jessie Blogs, Jenny V. Medina, Thomas Dutkiewicz <br>\n",
    "**Keyword(s):** Tutorial, lightkurve, kepler, introduction, template <br>\n",
    "**Last Updated:** Aug 2022 <br>\n",
    "**Next Review:** Mar 2023\n",
    "***\n",
    "[Top of Page](#top)\n",
    "<img style=\"float: right;\" src=\"https://raw.githubusercontent.com/spacetelescope/notebooks/master/assets/stsci_pri_combo_mark_horizonal_white_bkgd.png\" alt=\"Space Telescope Logo\" width=\"200px\"/> "
   ]
  }
 ],
 "metadata": {
  "kernelspec": {
   "display_name": "TESS Environment",
   "language": "python",
   "name": "tess"
  },
  "language_info": {
   "codemirror_mode": {
    "name": "ipython",
    "version": 3
   },
   "file_extension": ".py",
   "mimetype": "text/x-python",
   "name": "python",
   "nbconvert_exporter": "python",
   "pygments_lexer": "ipython3",
   "version": "3.8.16"
  }
 },
 "nbformat": 4,
 "nbformat_minor": 4
}
