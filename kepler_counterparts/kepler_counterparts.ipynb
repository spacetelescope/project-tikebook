{
 "cells": [
  {
   "cell_type": "markdown",
   "metadata": {},
   "source": [
    "<a id=\"top\"></a>\n",
    "# Long Period TESS Targets with Kepler Counterparts\n",
    "***\n"
   ]
  },
  {
   "cell_type": "markdown",
   "metadata": {
    "tags": []
   },
   "source": [
    "## Prerequisites\n",
    "- Python syntax\n",
    "- Something about exoplanet transits, link to free resource"
   ]
  },
  {
   "cell_type": "markdown",
   "metadata": {
    "tags": []
   },
   "source": [
    "## Learning Goals\n",
    "\n",
    "By the end of this tutorial, you will:\n",
    "\n",
    "- \n",
    "\n",
    "To use as a guideline:\n",
    "\"Set a minimum threshold for orbital period (should be long-period orbits, greater than 6mos). Find all TESS 20-seconds targets that have data for these Kepler TCEs to create an even longer baseline.\""
   ]
  },
  {
   "cell_type": "markdown",
   "metadata": {
    "slideshow": {
     "slide_type": "slide"
    }
   },
   "source": [
    "## Introduction\n",
    "The [Kepler initial and follow-on (K2) missions confirmed over 2,600 exoplanets](https://exoplanets.nasa.gov/keplerscience/) and contributed to an unprecedented exposion of knowledge about planetary systems in our galaxy. In addition to confirmed exoplanets, Kepler identified thousands more potential planetary candidates, referred to as Kepler Objects on Interest (KOI's). \n",
    "\n",
    "The Transiting Exoplanet Survey Satellite (TESS) began its observations just before the completion of the K2 mission; there may be long-period (greater than 6 months) exoplanets whose transits were observed by both missions. By combinining observations from both missions, we could potentially view multiple transits and confirm the existence of new exoplanets. \n",
    "\n",
    "Possible transits observed by Kepler are called Threshold Crossing Events, or TCEs. More specifically, according to the [NASA Exoplanet Archive documentation](https://exoplanetarchive.ipac.caltech.edu/docs/Kepler_TCE_docs.html), \n",
    "\n",
    ">\"A Threshold-Crossing Event (TCE) is a sequence of transit-like features in the flux time series of a given target that resembles the signature of a transiting planet to a sufficient degree that the target is passed on for further analysis.\"\n",
    "\n",
    "The workflow for this notebook consists of:\n",
    "* [Main Content](#Main-Content)\n",
    "    * [Loading Data](#Loading-Data)\n",
    "    * [File and Data Information](#File-and-Data-Information)\n",
    "* [Visualization](#Visualization)\n",
    "* [Exercises](#Exercises)\n",
    "* [Additional Resources](#Additional-Resources)"
   ]
  },
  {
   "cell_type": "markdown",
   "metadata": {
    "slideshow": {
     "slide_type": "slide"
    }
   },
   "source": [
    "## Imports\n",
    "Describe the main packages we're using here and their use-case for this notebook. If there's something unusual, explain what the library is, and why we need it.\n",
    "- *numpy* to handle array functions\n",
    "- *astropy.io fits* for accessing FITS files\n",
    "- *astropy.table Table* for creating tidy tables of the data\n",
    "- *matplotlib.pyplot* for plotting data"
   ]
  },
  {
   "cell_type": "code",
   "execution_count": 60,
   "metadata": {
    "slideshow": {
     "slide_type": "fragment"
    },
    "tags": []
   },
   "outputs": [],
   "source": [
    "%matplotlib inline\n",
    "\n",
    "import matplotlib.pyplot as plt\n",
    "import numpy as np\n",
    "\n",
    "from astropy.io import fits\n",
    "from astropy.table import Table\n",
    "from astroquery.mast import Mast\n",
    "from astroquery.mast import Observations\n",
    "\n",
    "# Added by JRK\n",
    "import requests\n",
    "from astropy.io import ascii\n",
    "import lightkurve as lk"
   ]
  },
  {
   "cell_type": "markdown",
   "metadata": {},
   "source": [
    "***"
   ]
  },
  {
   "cell_type": "markdown",
   "metadata": {},
   "source": [
    "## Load full table of Kepler Threshold Crossing Events, or TCEs and filter by period\n",
    "\n",
    "https://exoplanetarchive.ipac.caltech.edu/docs/program_interfaces.html#tce\n",
    "```"
   ]
  },
  {
   "cell_type": "code",
   "execution_count": 44,
   "metadata": {
    "tags": []
   },
   "outputs": [
    {
     "data": {
      "text/plain": [
       "34032"
      ]
     },
     "execution_count": 44,
     "metadata": {},
     "output_type": "execute_result"
    }
   ],
   "source": [
    "# Load the TCE table as an astropy table.\n",
    "tab=Table.read('https://exoplanetarchive.ipac.caltech.edu/cgi-bin/nstedAPI/nph-nstedAPI?table=q1_q17_dr25_tce',format='ascii.csv')\n",
    "len(tab)"
   ]
  },
  {
   "cell_type": "code",
   "execution_count": 47,
   "metadata": {
    "tags": []
   },
   "outputs": [
    {
     "data": {
      "text/plain": [
       "<TableColumns names=('kepid','tce_plnt_num','tce_rogue_flag','tce_period','tce_period_err','tce_time0bk','tce_time0bk_err','tce_impact','tce_impact_err','tce_duration','tce_duration_err','tce_depth','tce_depth_err','tce_model_snr','tce_prad','tce_prad_err','tce_eqt','tce_eqt_err','tce_insol','tce_insol_err','tce_steff','tce_steff_err','tce_slogg','tce_slogg_err','tce_sradius','tce_sradius_err')>"
      ]
     },
     "execution_count": 47,
     "metadata": {},
     "output_type": "execute_result"
    }
   ],
   "source": [
    "# View the full list of column names\n",
    "# More info here: https://exoplanetarchive.ipac.caltech.edu/docs/API_tce_columns.html \n",
    "tab.columns"
   ]
  },
  {
   "cell_type": "markdown",
   "metadata": {},
   "source": [
    "The NASA Exoplanet Archive provides detailed information about the [Data Columns in the Kepler TCE Table](https://exoplanetarchive.ipac.caltech.edu/docs/API_tce_columns.html). Some of the most important columns for us will be:\n",
    "- kepid, Kepler identification number, which we can use when searching the MAST Archive.\n",
    "- tce_period, the orbital period in days.\n",
    "\n",
    "JRK - DR24 has an \"autovetter\" parameter that could help us identify likely planet candidates instead of false positives."
   ]
  },
  {
   "cell_type": "code",
   "execution_count": 51,
   "metadata": {
    "tags": []
   },
   "outputs": [
    {
     "data": {
      "text/plain": [
       "11157"
      ]
     },
     "execution_count": 51,
     "metadata": {},
     "output_type": "execute_result"
    }
   ],
   "source": [
    "# Only include those table rows with TCE period greater than 180 days\n",
    "tab=tab[tab['tce_period']>180]\n",
    "len(tab)"
   ]
  },
  {
   "cell_type": "code",
   "execution_count": 52,
   "metadata": {
    "tags": []
   },
   "outputs": [
    {
     "name": "stdout",
     "output_type": "stream",
     "text": [
      " kepid   tce_plnt_num tce_rogue_flag ... tce_sradius tce_sradius_err\n",
      "-------- ------------ -------------- ... ----------- ---------------\n",
      " 2304168            2              0 ...       3.332           1.718\n",
      " 2303102           10              0 ...       1.257           0.352\n",
      "  892376            1              0 ...       0.605           0.074\n",
      "  892376            4              0 ...       0.605           0.074\n",
      "  893507            2              0 ...       1.684           0.939\n",
      "  893507            1              1 ...       1.684           0.939\n",
      "  893507            3              1 ...       1.684           0.939\n",
      "  893507            4              0 ...       1.684           0.939\n",
      "  893507            5              0 ...       1.684           0.939\n",
      "  893507            7              0 ...       1.684           0.939\n",
      "     ...          ...            ... ...         ...             ...\n",
      "12116009            1              0 ...       0.437           0.056\n",
      "11757328            1              0 ...       2.128           0.795\n",
      "11769853            1              0 ...       0.756           0.079\n",
      "11769861            1              0 ...       0.985           0.273\n",
      "11817075            1              1 ...        1.58            0.58\n",
      "11861688            1              0 ...       0.886           0.248\n",
      "11873179            2              0 ...       0.748           0.062\n",
      "11912947            4              0 ...       0.321           0.033\n",
      "11912947            5              0 ...       0.321           0.033\n",
      "11912947            6              0 ...       0.321           0.033\n",
      "11922283            3              1 ...       11.11           4.219\n",
      "Length = 11157 rows\n"
     ]
    }
   ],
   "source": [
    "tab.pprint()"
   ]
  },
  {
   "cell_type": "code",
   "execution_count": 71,
   "metadata": {
    "tags": []
   },
   "outputs": [
    {
     "data": {
      "text/plain": [
       "'2304168'"
      ]
     },
     "execution_count": 71,
     "metadata": {},
     "output_type": "execute_result"
    }
   ],
   "source": [
    "str(tab['kepid'][0])"
   ]
  },
  {
   "cell_type": "markdown",
   "metadata": {
    "slideshow": {
     "slide_type": "slide"
    }
   },
   "source": [
    "## Find all TESS 20-second targets for these Kepler TCEs"
   ]
  },
  {
   "cell_type": "code",
   "execution_count": 61,
   "metadata": {
    "tags": []
   },
   "outputs": [
    {
     "name": "stdout",
     "output_type": "stream",
     "text": [
      "intentType obs_collection provenance_name ...   obsid        distance     \n",
      "---------- -------------- --------------- ... --------- ------------------\n",
      "   science           TESS            SPOC ...  27463635                0.0\n",
      "   science           TESS            SPOC ...  62431369                0.0\n",
      "   science           TESS            SPOC ...  62870781                0.0\n",
      "   science           TESS            SPOC ...  92616912                0.0\n",
      "   science           TESS            SPOC ...  95133363                0.0\n",
      "   science           TESS            SPOC ...  62349772 304.60998167941784\n",
      "   science           TESS            SPOC ...  62793221 304.60998167941784\n",
      "   science           TESS            SPOC ...  62367644 359.16608247249354\n",
      "   science           TESS            SPOC ...  62367570 359.16608247249354\n",
      "   science           TESS            SPOC ...  62810479 359.16608247249354\n",
      "       ...            ...             ... ...       ...                ...\n",
      "   science           HLSP           TASOC ...  95763296  714.6656221236243\n",
      "   science           HLSP      KEPSEISMIC ...  31150595  719.0177731437823\n",
      "   science           HLSP      KEPSEISMIC ...  31511261  719.0177731437823\n",
      "   science           HLSP      KEPSEISMIC ...  31455098  719.0177731437823\n",
      "   science           HLSP             QLP ...  43515738  719.2447745704891\n",
      "   science           HLSP             QLP ...  92884465  719.2447745704891\n",
      "   science           HLSP             QLP ...  94084858  719.2447745704891\n",
      "   science           HLSP             QLP ... 127075664  719.2447745704891\n",
      "   science           HLSP             QLP ... 130006613  719.2447745704891\n",
      "   science           HLSP           TASOC ...  95760702  719.2447745704891\n",
      "   science          GALEX             GII ...     44874  552.0924896221142\n",
      "Length = 2060 rows\n"
     ]
    }
   ],
   "source": [
    "obs_table = Observations.query_object('KIC 2304168')\n",
    "obs_table.pprint()"
   ]
  },
  {
   "cell_type": "code",
   "execution_count": 62,
   "metadata": {
    "tags": []
   },
   "outputs": [
    {
     "data": {
      "text/html": [
       "&lt;MaskedColumn name=&apos;target_name&apos; dtype=&apos;str32&apos; length=2060&gt;\n",
       "<table>\n",
       "<tr><td>TESS FFI</td></tr>\n",
       "<tr><td>TESS FFI</td></tr>\n",
       "<tr><td>TESS FFI</td></tr>\n",
       "<tr><td>TESS FFI</td></tr>\n",
       "<tr><td>TESS FFI</td></tr>\n",
       "<tr><td>137316027</td></tr>\n",
       "<tr><td>137316027</td></tr>\n",
       "<tr><td>1876944736</td></tr>\n",
       "<tr><td>1876944736</td></tr>\n",
       "<tr><td>1876944736</td></tr>\n",
       "<tr><td>1876944736</td></tr>\n",
       "<tr><td>1876944736</td></tr>\n",
       "<tr><td>...</td></tr>\n",
       "<tr><td>kplr002445580</td></tr>\n",
       "<tr><td>137347966</td></tr>\n",
       "<tr><td>kplr002015703</td></tr>\n",
       "<tr><td>kplr002015703</td></tr>\n",
       "<tr><td>kplr002015703</td></tr>\n",
       "<tr><td>137148903</td></tr>\n",
       "<tr><td>137148903</td></tr>\n",
       "<tr><td>137148903</td></tr>\n",
       "<tr><td>137148903</td></tr>\n",
       "<tr><td>137148903</td></tr>\n",
       "<tr><td>137148903</td></tr>\n",
       "<tr><td>GI6_079001_Kepler_UZ_Lyr_css3825</td></tr>\n",
       "</table>"
      ],
      "text/plain": [
       "<MaskedColumn name='target_name' dtype='str32' length=2060>\n",
       "                        TESS FFI\n",
       "                        TESS FFI\n",
       "                        TESS FFI\n",
       "                        TESS FFI\n",
       "                        TESS FFI\n",
       "                       137316027\n",
       "                       137316027\n",
       "                      1876944736\n",
       "                      1876944736\n",
       "                      1876944736\n",
       "                      1876944736\n",
       "                      1876944736\n",
       "                             ...\n",
       "                   kplr002445580\n",
       "                       137347966\n",
       "                   kplr002015703\n",
       "                   kplr002015703\n",
       "                   kplr002015703\n",
       "                       137148903\n",
       "                       137148903\n",
       "                       137148903\n",
       "                       137148903\n",
       "                       137148903\n",
       "                       137148903\n",
       "GI6_079001_Kepler_UZ_Lyr_css3825"
      ]
     },
     "execution_count": 62,
     "metadata": {},
     "output_type": "execute_result"
    }
   ],
   "source": [
    "obs_table['target_name']"
   ]
  },
  {
   "cell_type": "markdown",
   "metadata": {},
   "source": [
    "### Lightkurve?"
   ]
  },
  {
   "cell_type": "code",
   "execution_count": 69,
   "metadata": {
    "tags": []
   },
   "outputs": [
    {
     "data": {
      "text/html": [
       "SearchResult containing 0 data products."
      ],
      "text/plain": [
       "SearchResult containing 0 data products."
      ]
     },
     "execution_count": 69,
     "metadata": {},
     "output_type": "execute_result"
    }
   ],
   "source": [
    "search_result=lk.search_lightcurve('')\n",
    "search_result"
   ]
  },
  {
   "cell_type": "code",
   "execution_count": null,
   "metadata": {
    "tags": []
   },
   "outputs": [
    {
     "name": "stderr",
     "output_type": "stream",
     "text": [
      "No data found for target \"2304168\".\n",
      "No data found for target \"2303102\".\n",
      "No data found for target \"892376\".\n",
      "No data found for target \"893507\".\n",
      "No data found for target \"893647\".\n",
      "No data found for target \"1025986\".\n",
      "No data found for target \"1026133\".\n",
      "No data found for target \"1026474\".\n",
      "No data found for target \"1028246\".\n",
      "No data found for target \"1162339\".\n",
      "No data found for target \"1294756\".\n",
      "No data found for target \"1294869\".\n",
      "No data found for target \"1297272\".\n",
      "No data found for target \"1431114\".\n",
      "No data found for target \"1431501\".\n",
      "No data found for target \"1433399\".\n",
      "No data found for target \"1434660\".\n",
      "No data found for target \"1435448\".\n",
      "No data found for target \"1434976\".\n",
      "No data found for target \"1570924\".\n",
      "No data found for target \"1572201\".\n",
      "No data found for target \"1572114\".\n",
      "No data found for target \"1573138\".\n",
      "No data found for target \"1573094\".\n",
      "No data found for target \"1576144\".\n",
      "No data found for target \"1717528\".\n",
      "No data found for target \"1720673\".\n",
      "No data found for target \"1719308\".\n",
      "No data found for target \"1722506\".\n",
      "No data found for target \"1717722\".\n",
      "No data found for target \"1721614\".\n",
      "No data found for target \"1722276\".\n",
      "No data found for target \"1724222\".\n",
      "No data found for target \"1724968\".\n",
      "No data found for target \"1722916\".\n",
      "No data found for target \"1724842\".\n",
      "No data found for target \"1723078\".\n",
      "No data found for target \"1849785\".\n",
      "No data found for target \"1725457\".\n",
      "No data found for target \"1726231\".\n",
      "No data found for target \"1868524\".\n",
      "No data found for target \"1872340\".\n",
      "No data found for target \"1873543\".\n",
      "No data found for target \"1873493\".\n",
      "No data found for target \"1872885\".\n",
      "No data found for target \"1872948\".\n"
     ]
    }
   ],
   "source": [
    "# Can specify author='Kepler' and author='TESS'\n",
    "none=True\n",
    "while none:\n",
    "    for i in np.arange(0,100):\n",
    "        search_result=lk.search_lightcurve(str(tab['kepid'][i]),author='TESS')\n",
    "        if len(search_result)>1:\n",
    "            none=False"
   ]
  },
  {
   "cell_type": "markdown",
   "metadata": {},
   "source": [
    "Where possible (if the code supports it), use code examples that visually display the data in the tutorial. For example, if you are showing an object such as a Table, display a preview of the table:"
   ]
  },
  {
   "cell_type": "code",
   "execution_count": null,
   "metadata": {},
   "outputs": [],
   "source": [
    "yourProd[0:5]"
   ]
  },
  {
   "cell_type": "code",
   "execution_count": null,
   "metadata": {},
   "outputs": [],
   "source": [
    "# Download the products\n",
    "output = Observations.download_products(yourProd, mrp_only=False, cache=False)\n",
    "output"
   ]
  },
  {
   "cell_type": "markdown",
   "metadata": {},
   "source": [
    "Explain pertinent details about the file you've just downloaded. For example, if working with Kepler light curves, explain what's in the different file extensions:\n",
    "\n",
    "```\n",
    "- No. 0 (Primary): This HDU contains metadata related to the entire file.\n",
    "- No. 1 (Light curve): This HDU contains a binary table that holds data like\n",
    "  flux measurements and times. We will extract information from here when we\n",
    "  define the parameters for the light curve plot.\n",
    "- No. 2 (Aperture): This HDU contains the image extension with data collected\n",
    "  from the aperture. We will also use this to display a bitmask plot that\n",
    "  visually represents the optimal aperture used to create the SAP_FLUX column in\n",
    "  HDU1.\n",
    "\n",
    "```"
   ]
  },
  {
   "cell_type": "code",
   "execution_count": null,
   "metadata": {},
   "outputs": [],
   "source": [
    "file = output['Local Path'][0]\n",
    "print('The HDU list of our output file:\\n')\n",
    "print(fits.info(file))\n",
    "\n",
    "data = fits.getdata(file, 1)['FLUX']\n",
    "time = fits.getdata(file, 1)['TIME']"
   ]
  },
  {
   "cell_type": "markdown",
   "metadata": {},
   "source": [
    "## Visualization\n",
    "\n",
    "When presenting any visuals and/or plots from the data, make sure you are using color palettes that are color-blind friendly and using language that keeps accessibility in mind. The most common form of color vision deficiency involves differentiating between red and green, so avoiding colormaps with both red and green will avoid many problems in general. Use descriptive keywords not pertaining to the color of the object you are referring to. It is good practice to make your plots and images large enough to ensure that important details are not hard to see. On the same note, make sure that tick labels, legends, and other plot notations are not too small, and make sure they are descriptive enough that the user can understand what is being represented by the data. "
   ]
  },
  {
   "cell_type": "markdown",
   "metadata": {},
   "source": [
    "Let's plot the first four images of the Kepler TPF we just downloaded to see where the center of the PSF is located..."
   ]
  },
  {
   "cell_type": "code",
   "execution_count": null,
   "metadata": {
    "scrolled": true
   },
   "outputs": [],
   "source": [
    "imgs = 4\n",
    "\n",
    "fig, axs = plt.subplots(1, imgs, figsize=(20, 20))\n",
    "\n",
    "for idx in range(0, imgs):\n",
    "    # Plotting\n",
    "    axs[idx].imshow(data[idx], cmap='bone', origin='lower')\n",
    "    \n",
    "    # Formatting\n",
    "    axs[idx].set_title(f'Image #{idx}', fontsize=25)\n",
    "    axs[idx].tick_params(axis='both', which='major', labelsize=20)"
   ]
  },
  {
   "cell_type": "markdown",
   "metadata": {},
   "source": [
    "Looks like it's typically located around (x,y)=(4,4). Let's gather all the images and extract the flux at (4,4) from each of them to patch our lightcurve together..."
   ]
  },
  {
   "cell_type": "code",
   "execution_count": null,
   "metadata": {},
   "outputs": [],
   "source": [
    "lightcurve = []\n",
    "\n",
    "for idx in range(0, len(data)):\n",
    "    \n",
    "    flux = data[idx][4, 4]\n",
    "    lightcurve.append(flux)"
   ]
  },
  {
   "cell_type": "code",
   "execution_count": null,
   "metadata": {},
   "outputs": [],
   "source": [
    "# Plotting\n",
    "plt.figure(1, figsize=(10, 6))\n",
    "plt.plot(time, lightcurve)\n",
    "\n",
    "# Formatting\n",
    "obj = fits.getheader(file)['OBJECT']\n",
    "plt.title(f'Object: {obj}', fontsize=25)\n",
    "plt.xlabel('Time - 2454833 (BKJD days)', fontsize=20)\n",
    "plt.ylabel('Flux (e-/s)', fontsize=20)\n",
    "plt.tick_params(axis='both', which='major', labelsize=15)"
   ]
  },
  {
   "cell_type": "markdown",
   "metadata": {},
   "source": [
    "## Exercises\n",
    "Exercises are optional, but encouraged. Exercises can be woven into the main content of your tutorial, or appear in their own section toward the end of the tutorial. Final exercises can be more challenging, similar to homework problems. They can be minimal or take as long as 30 minutes to an hour to complete. If you do have one or more exercises in your tutorial, be sure to leave a blank code cell underneath each to show the reader that they're meant to try out their new skill right there. You may also want to include a \"solutions\" notebook next to your main notebook for the reader to check their work after they have finished their attempt."
   ]
  },
  {
   "cell_type": "markdown",
   "metadata": {},
   "source": [
    "## Additional Resources\n",
    "\n",
    "This section is optional. Try to weave resource links into the main content of your tutorial so that they are falling in line with the context of your writing. For resources that do not fit cleanly into your narrative, you may include an additional resources section at the end of your tutorial. Usually a list of links using Markdown bullet list plus link format is appropriate:\n",
    "\n",
    "- [MAST API](https://mast.stsci.edu/api/v0/index.html)\n",
    "- [Kepler Archive Page (MAST)](https://archive.stsci.edu/kepler/)\n",
    "- [Kepler Archive Manual](https://archive.stsci.edu/kepler/manuals/archive_manual.pdf)\n",
    "- [Exo.MAST website](https://exo.mast.stsci.edu/)"
   ]
  },
  {
   "cell_type": "markdown",
   "metadata": {},
   "source": [
    "## Citations\n",
    "Provide your reader with guidelines on how to cite open source software and other resources in their own published work.\n",
    "\n",
    "```\n",
    "If you use `astropy` or `lightkurve` for published research, please cite the\n",
    "authors. Follow these links for more information about citing `astropy` and\n",
    "`lightkurve`:\n",
    "\n",
    "* [Citing `astropy`](https://www.astropy.org/acknowledging.html)\n",
    "* [Citing `lightkurve`](http://docs.lightkurve.org/about/citing.html)\n",
    "\n",
    "```"
   ]
  },
  {
   "cell_type": "markdown",
   "metadata": {
    "slideshow": {
     "slide_type": "slide"
    }
   },
   "source": [
    "## About this Notebook\n",
    "Let the world know who the author of this great tutorial is! If possible and appropriate, include a contact email address for users who might need support (for example, `archive@stsci.edu`). You can also optionally include keywords, your funding source, or a last update date in this section.\n",
    "\n",
    "**Author(s):** Jessie Blogs, Jenny V. Medina, Thomas Dutkiewicz <br>\n",
    "**Keyword(s):** Tutorial, lightkurve, kepler, introduction, template <br>\n",
    "**Last Updated:** Aug 2022 <br>\n",
    "**Next Review:** Mar 2023\n",
    "***\n",
    "[Top of Page](#top)\n",
    "<img style=\"float: right;\" src=\"https://raw.githubusercontent.com/spacetelescope/notebooks/master/assets/stsci_pri_combo_mark_horizonal_white_bkgd.png\" alt=\"Space Telescope Logo\" width=\"200px\"/> "
   ]
  }
 ],
 "metadata": {
  "kernelspec": {
   "display_name": "TESS Environment",
   "language": "python",
   "name": "tess"
  },
  "language_info": {
   "codemirror_mode": {
    "name": "ipython",
    "version": 3
   },
   "file_extension": ".py",
   "mimetype": "text/x-python",
   "name": "python",
   "nbconvert_exporter": "python",
   "pygments_lexer": "ipython3",
   "version": "3.8.16"
  }
 },
 "nbformat": 4,
 "nbformat_minor": 4
}
