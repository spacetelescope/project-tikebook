{
 "cells": [
  {
   "cell_type": "markdown",
   "metadata": {},
   "source": [
    "<a id=\"top\"></a>\n",
    "# Long Period TESS Targets with Kepler Counterparts\n",
    "***\n"
   ]
  },
  {
   "cell_type": "markdown",
   "metadata": {
    "tags": []
   },
   "source": [
    "## Prerequisites\n",
    "- Python syntax\n",
    "- Something about exoplanet transits, link to free resource"
   ]
  },
  {
   "cell_type": "markdown",
   "metadata": {
    "tags": []
   },
   "source": [
    "## Learning Goals\n",
    "\n",
    "By the end of this tutorial, you will:\n",
    "\n",
    "- \n",
    "\n",
    "To use as a guideline:\n",
    "\"Set a minimum threshold for orbital period (should be long-period orbits, greater than 6mos). Find all TESS 20-seconds targets that have data for these Kepler TCEs to create an even longer baseline.\""
   ]
  },
  {
   "cell_type": "markdown",
   "metadata": {
    "slideshow": {
     "slide_type": "slide"
    }
   },
   "source": [
    "## Introduction\n",
    "The [Kepler initial and follow-on (K2) missions confirmed over 2,600 exoplanets](https://exoplanets.nasa.gov/keplerscience/) and contributed to an unprecedented exposion of knowledge about planetary systems in our galaxy. In addition to confirmed exoplanets, Kepler identified thousands more potential planetary candidates, referred to as Kepler Objects on Interest (KOI's). \n",
    "\n",
    "The Transiting Exoplanet Survey Satellite (TESS) began its observations just before the completion of the K2 mission; there may be long-period (greater than 6 months) exoplanets whose transits were observed by both missions. By combining observations from both missions, we could potentially view multiple transits and confirm the existence of new exoplanets. \n",
    "\n",
    "Possible transits observed by Kepler are called Threshold Crossing Events, or TCEs. More specifically, according to the [NASA Exoplanet Archive documentation](https://exoplanetarchive.ipac.caltech.edu/docs/Kepler_TCE_docs.html), \n",
    "\n",
    ">\"A Threshold-Crossing Event (TCE) is a sequence of transit-like features in the flux time series of a given target that resembles the signature of a transiting planet to a sufficient degree that the target is passed on for further analysis.\"\n",
    "\n",
    "NOT UPDATED: The workflow for this notebook consists of:\n",
    "* [Main Content](#Main-Content)\n",
    "    * [Loading Data](#Loading-Data)\n",
    "    * [File and Data Information](#File-and-Data-Information)\n",
    "* [Visualization](#Visualization)\n",
    "* [Exercises](#Exercises)\n",
    "* [Additional Resources](#Additional-Resources)"
   ]
  },
  {
   "cell_type": "markdown",
   "metadata": {
    "slideshow": {
     "slide_type": "slide"
    }
   },
   "source": [
    "## Imports\n",
    "Describe the main packages we're using here and their use-case for this notebook. If there's something unusual, explain what the library is, and why we need it.\n",
    "- *numpy* to handle array functions\n",
    "- *astropy.io fits* for accessing FITS files\n",
    "- *astropy.table Table* for creating tidy tables of the data\n",
    "- *matplotlib.pyplot* for plotting data"
   ]
  },
  {
   "cell_type": "code",
   "execution_count": 80,
   "metadata": {
    "slideshow": {
     "slide_type": "fragment"
    },
    "tags": []
   },
   "outputs": [],
   "source": [
    "%matplotlib inline\n",
    "\n",
    "import matplotlib.pyplot as plt\n",
    "import numpy as np\n",
    "\n",
    "from astropy.io import fits\n",
    "from astropy.table import Table\n",
    "from astroquery.mast import Mast\n",
    "from astroquery.mast import Observations\n",
    "\n",
    "\n",
    "# Added by JRK\n",
    "import requests\n",
    "from astropy.io import ascii\n",
    "import lightkurve as lk\n",
    "import astropy.units as u # May not end up using?"
   ]
  },
  {
   "cell_type": "markdown",
   "metadata": {},
   "source": [
    "***"
   ]
  },
  {
   "cell_type": "markdown",
   "metadata": {},
   "source": [
    "## Load full table of Kepler Threshold Crossing Events, or TCEs and filter by period\n",
    "\n",
    "The NASA Exoplanet Archive hosts many useful data tables, including the list of [Threshold Crossing Events (TCEs)](https://exoplanetarchive.ipac.caltech.edu/docs/program_interfaces.html#tce). We'll use the Quarter 1 through Quarter 17 Data Release 24 (DR24) version. These TCEs were evaluated by an autovetter, a machine-learning program that classified TCEs into three categories: PC (Planet Candidate), AFP (Astrophysical False Positive), and NTP (Non-Transiting Phenomenon). More information about the autovetter can be found in [McCauliff et al. 2015 ApJ 806, 6](https://ui.adsabs.harvard.edu/abs/2015ApJ...806....6M/abstract).\n",
    "\n",
    "We can point the astropy Table reader to a URL that contains the data table."
   ]
  },
  {
   "cell_type": "code",
   "execution_count": 40,
   "metadata": {
    "tags": []
   },
   "outputs": [
    {
     "name": "stdout",
     "output_type": "stream",
     "text": [
      "rowid  kepid   tce_plnt_num ... tce_dikco_msky tce_dikco_msky_err\n",
      "----- -------- ------------ ... -------------- ------------------\n",
      "    1  1162345            2 ...        0.46282                1.1\n",
      "    2  1292087            2 ...        0.22049               0.22\n",
      "    3  1293031            2 ...        0.41872              0.207\n",
      "    4  1162345            3 ...        0.13742              0.196\n",
      "    5  1164109            1 ...         15.207             0.0893\n",
      "    6   757450            1 ...        0.12498             0.0763\n",
      "    7   892667            1 ...        0.18106              0.124\n",
      "    8   892772            1 ...         5.2002              0.165\n",
      "    9  1026032            1 ...       0.064587              0.077\n",
      "   10  1026032            2 ...        0.13865              0.084\n",
      "  ...      ...          ... ...            ...                ...\n",
      "20357 11809346            1 ...       0.090355             0.0786\n",
      "20358 11826440            2 ...        0.58446              0.755\n",
      "20359 11852982            1 ...        0.27376              0.143\n",
      "20360 11853130            1 ...        0.15446             0.0954\n",
      "20361 11905761            1 ...        0.20043              0.817\n",
      "20362 11905761            2 ...        0.10213              0.231\n",
      "20363 11906217            1 ...        0.16682             0.0691\n",
      "20364 11908559            1 ...        0.28681              0.647\n",
      "20365 11923562            2 ...        0.21583              0.135\n",
      "20366 11923819            1 ...        0.30357             0.0672\n",
      "20367 11923819            2 ...        0.30064             0.0672\n",
      "Length = 20367 rows\n"
     ]
    }
   ],
   "source": [
    "# Load the TCE DR24 table as an astropy table and view a preview.\n",
    "# JRK For some reason, this worked earlier, and now does not. Downloaded a copy of the dr24 version and loaded it locally. Not ideal.\n",
    "#tab=Table.read('https://exoplanetarchive.ipac.caltech.edu/cgi-bin/nstedAPI/nph-nstedAPI?table=q1_q17_dr24_tce',format='ascii.csv')\n",
    "tab=Table.read('./q1_q17_dr24_tce_2023.05.29_11.07.52.csv',format='ascii.csv',comment='#')\n",
    "#print('Length of full TCE table: ',len(tab))\n",
    "tab.pprint()"
   ]
  },
  {
   "cell_type": "markdown",
   "metadata": {},
   "source": [
    "The NASA Exoplanet Archive provides detailed information about the [Data Columns in the Kepler TCE Table](https://exoplanetarchive.ipac.caltech.edu/docs/API_tce_columns.html). Some of the most important columns for us will be:\n",
    "- kepid, Kepler identification number, which we can use when searching the MAST Archive.\n",
    "- tce_period, the orbital period in days.\n",
    "- av_pred_class, the autovetter predicted classification (PC, AFP, or NTP)\n",
    "\n",
    "We'd like to filter our table to only include Planetary Candidates of with a TCE period of greater than 6 months, or 180 days."
   ]
  },
  {
   "cell_type": "code",
   "execution_count": 41,
   "metadata": {
    "tags": []
   },
   "outputs": [
    {
     "name": "stdout",
     "output_type": "stream",
     "text": [
      "Number of Kepler TCEs marked as Planetary Candidates: 3900\n"
     ]
    }
   ],
   "source": [
    "# Only include those that autovetter indicates as \"PC\" for Planetary Candidate\n",
    "tab=tab[tab['av_pred_class']=='PC']\n",
    "print('Number of Kepler TCEs marked as Planetary Candidates:',len(tab))"
   ]
  },
  {
   "cell_type": "markdown",
   "metadata": {},
   "source": [
    "We can see that of the over 20,000 TCEs, just under 20% were identified as likely planetary candidates. \n",
    "What is the distribution of the periods of those PCs? We can view a histogram of the 'tce_period' column."
   ]
  },
  {
   "cell_type": "code",
   "execution_count": 42,
   "metadata": {
    "tags": []
   },
   "outputs": [
    {
     "data": {
      "text/plain": [
       "Text(0, 0.5, 'Number of PCs')"
      ]
     },
     "execution_count": 42,
     "metadata": {},
     "output_type": "execute_result"
    },
    {
     "data": {
      "image/png": "[encoded data removed]",
      "text/plain": [
       "<Figure size 640x480 with 1 Axes>"
      ]
     },
     "metadata": {},
     "output_type": "display_data"
    }
   ],
   "source": [
    "plt.hist(tab['tce_period'])\n",
    "plt.xlabel('TCE Period (days)')\n",
    "plt.ylabel('Number of PCs')"
   ]
  },
  {
   "cell_type": "markdown",
   "metadata": {},
   "source": [
    "The vast majority of the TCE periods are fewer than 50 days. The planetary candidates that would most benefit from the long baseline afforded by combining the Kepler, K2, and TESS datasets are those with longer periods. Here, we'll again filter our table to just include those PCs with periods of greater than 6 months, or 180 days. "
   ]
  },
  {
   "cell_type": "code",
   "execution_count": 43,
   "metadata": {
    "tags": []
   },
   "outputs": [
    {
     "name": "stdout",
     "output_type": "stream",
     "text": [
      "Number of Kepler TCEs marked PC and period > 180 days: 123\n"
     ]
    }
   ],
   "source": [
    "# Only include those table rows with TCE period greater than 180 days\n",
    "tab=tab[tab['tce_period']>180]\n",
    "print('Number of Kepler TCEs marked PC and period > 180 days:',len(tab))"
   ]
  },
  {
   "cell_type": "markdown",
   "metadata": {
    "slideshow": {
     "slide_type": "slide"
    }
   },
   "source": [
    "## Find all TESS 20-second targets for these Kepler TCEs\n",
    "The Kepler and K2 missions studied a limited portion of the sky, but TESS has studied (and continues to study) the full sky. This means that all Kepler and K2 identifications are likely to be included in the TESS Catalog. However, they may not all \n",
    "\n",
    "JRK what is the science reason for only 20-second targets? Why not also 2 min? Clearly 30 min not frequent enough."
   ]
  },
  {
   "cell_type": "markdown",
   "metadata": {
    "tags": []
   },
   "source": [
    "### Finding all observations in the MAST archive by the Kepler ID number\n",
    "When we use astroquery.mast's Observations.query_object or query_object_count functions, the object's name will be resolved into sky coordinates (RA and Dec), so that all observations of that coordinate will be returned. This allows us to search by the Kepler ID column, even though TESS will not have used the Kepler ID to refer to the name of the target. Likewise, other ways to search the MAST archive, such as query_criteria, will also resolve the coordinates of the name input to 'objectname'. See the [astroquery documentation about MAST Queries](https://astroquery.readthedocs.io/en/latest/mast/mast.html) for more information. Let's illustrate this point with the first row in our filtered table. "
   ]
  },
  {
   "cell_type": "code",
   "execution_count": 61,
   "metadata": {
    "tags": []
   },
   "outputs": [
    {
     "name": "stdout",
     "output_type": "stream",
     "text": [
      "Kepler ID of the first row in our table:  2581316\n"
     ]
    }
   ],
   "source": [
    "i=0\n",
    "row=tab[i]\n",
    "print('Kepler ID of the first row in our table: ',str(row['kepid']))"
   ]
  },
  {
   "cell_type": "code",
   "execution_count": 54,
   "metadata": {
    "tags": []
   },
   "outputs": [],
   "source": [
    "# Query all observations in MAST that correspond to the coordinates of this Kepler ID, within 1 arcsecond.\n",
    "obs_table = Observations.query_object('KIC '+str(row['kepid']),radius=1*u.arcsec)"
   ]
  },
  {
   "cell_type": "code",
   "execution_count": 55,
   "metadata": {
    "tags": []
   },
   "outputs": [
    {
     "name": "stdout",
     "output_type": "stream",
     "text": [
      "intentType obs_collection provenance_name ... srcDen   obsid   distance\n",
      "---------- -------------- --------------- ... ------ --------- --------\n",
      "   science           TESS            SPOC ...    nan  27463635      0.0\n",
      "   science           TESS            SPOC ...    nan  62431369      0.0\n",
      "   science           TESS            SPOC ...    nan  62870781      0.0\n",
      "   science           TESS            SPOC ...    nan  92616912      0.0\n",
      "   science           TESS            SPOC ...    nan  95133363      0.0\n",
      "   science           TESS            SPOC ...    nan  62349937      0.0\n",
      "   science           TESS            SPOC ...    nan  62793303      0.0\n",
      "   science           TESS            SPOC ...    nan  91547081      0.0\n",
      "   science           TESS            SPOC ...    nan  93772051      0.0\n",
      "   science    SPITZER_SHA    SSC Pipeline ...    nan   1730213      0.0\n",
      "       ...            ...             ... ...    ...       ...      ...\n",
      "   science           HLSP             QLP ...    nan 129964724      0.0\n",
      "   science           HLSP           TASOC ...    nan  95768637      0.0\n",
      "   science           HLSP       TESS-SPOC ...    nan  43049105      0.0\n",
      "   science           HLSP       TESS-SPOC ...    nan  90486414      0.0\n",
      "   science           HLSP       TESS-SPOC ...    nan  90647225      0.0\n",
      "   science           HLSP       TESS-SPOC ...    nan 128815321      0.0\n",
      "   science           HLSP       TESS-SPOC ...    nan 128634089      0.0\n",
      "   science           HLSP            TICA ...    nan 100098298      0.0\n",
      "   science           HLSP            TICA ...    nan 100379415      0.0\n",
      "   science           HLSP            TICA ...    nan 100714209      0.0\n",
      "   science           HLSP            TICA ...    nan 100498586      0.0\n",
      "Length = 89 rows\n"
     ]
    }
   ],
   "source": [
    "# View the observation table\n",
    "obs_table.pprint()"
   ]
  },
  {
   "cell_type": "code",
   "execution_count": 56,
   "metadata": {
    "tags": []
   },
   "outputs": [
    {
     "data": {
      "text/html": [
       "&lt;MaskedColumn name=&apos;target_name&apos; dtype=&apos;str22&apos; length=7&gt;\n",
       "<table>\n",
       "<tr><td>137685450</td></tr>\n",
       "<tr><td>2144.049</td></tr>\n",
       "<tr><td>Kepler10-1-2-1-1-1-1-1</td></tr>\n",
       "<tr><td>--</td></tr>\n",
       "<tr><td>TESS FFI</td></tr>\n",
       "<tr><td>TICA FFI</td></tr>\n",
       "<tr><td>kplr002581316</td></tr>\n",
       "</table>"
      ],
      "text/plain": [
       "<MaskedColumn name='target_name' dtype='str22' length=7>\n",
       "             137685450\n",
       "              2144.049\n",
       "Kepler10-1-2-1-1-1-1-1\n",
       "                    --\n",
       "              TESS FFI\n",
       "              TICA FFI\n",
       "         kplr002581316"
      ]
     },
     "execution_count": 56,
     "metadata": {},
     "output_type": "execute_result"
    }
   ],
   "source": [
    "# View all unique entries in the 'target_name' column\n",
    "np.unique(obs_table['target_name'])"
   ]
  },
  {
   "cell_type": "markdown",
   "metadata": {},
   "source": [
    "From the above, we can see that inputting an 'objectname' of 'KIC 2581316' from the Kepler Input Catalog (KIC) identification number, we find all the observations of that target from all different missions - even if they did not specifically refer to the name of the target by it."
   ]
  },
  {
   "cell_type": "markdown",
   "metadata": {},
   "source": [
    "### Finding counts of TESS 20-second targets\n",
    "To examine each of the 123 long-period planetary candidates that were also TESS 20-second targets, it is more efficient to just query MAST for the counts (total numbers) of observations that match our criteria. \n",
    "JRK is this true - time it. "
   ]
  },
  {
   "cell_type": "code",
   "execution_count": 97,
   "metadata": {
    "tags": []
   },
   "outputs": [
    {
     "name": "stdout",
     "output_type": "stream",
     "text": [
      "CPU times: user 34.4 ms, sys: 182 µs, total: 34.6 ms\n",
      "Wall time: 172 ms\n"
     ]
    }
   ],
   "source": [
    "%%time\n",
    "obs_table = Observations.query_criteria(objectname='KIC '+str(row['kepid']),radius=1*u.arcsec,\n",
    "                                        project='TESS',obs_collection='HLSP',\n",
    "                                       t_exptime=[20.0,120.0]) # If do obs_collection= TESS, get 35. QLP, 0. SPOC, 0. HLSP tons."
   ]
  },
  {
   "cell_type": "code",
   "execution_count": null,
   "metadata": {},
   "outputs": [],
   "source": [
    "tab.add_column(False,name='TESS fast')"
   ]
  },
  {
   "cell_type": "code",
   "execution_count": 100,
   "metadata": {
    "tags": []
   },
   "outputs": [
    {
     "name": "stdout",
     "output_type": "stream",
     "text": [
      "0 False\n",
      "1 False\n",
      "2 False\n",
      "3 False\n",
      "4 False\n",
      "5 False\n",
      "6 False\n",
      "7 False\n",
      "8 False\n",
      "9 False\n",
      "10 False\n",
      "11 False\n",
      "12 False\n",
      "13 False\n",
      "14 False\n",
      "15 False\n",
      "16 False\n",
      "17 False\n",
      "18 False\n",
      "19 False\n",
      "20 False\n",
      "21 False\n",
      "22 False\n",
      "23 False\n",
      "24 False\n",
      "25 False\n",
      "26 False\n",
      "27 False\n",
      "28 False\n",
      "29 False\n",
      "30 False\n",
      "31 False\n",
      "32 False\n",
      "33 False\n",
      "34 False\n",
      "35 False\n",
      "36 False\n",
      "37 False\n",
      "38 False\n",
      "39 False\n",
      "40 False\n",
      "41 False\n",
      "42 False\n",
      "43 False\n",
      "44 True\n",
      "45 False\n",
      "46 False\n",
      "47 False\n",
      "48 False\n",
      "49 False\n",
      "50 False\n",
      "51 False\n",
      "52 False\n",
      "53 False\n",
      "54 True\n",
      "55 False\n",
      "56 False\n",
      "57 False\n",
      "58 False\n",
      "59 False\n",
      "60 False\n",
      "61 False\n",
      "62 False\n",
      "63 False\n",
      "64 False\n",
      "65 False\n",
      "66 False\n",
      "67 False\n",
      "68 True\n",
      "69 False\n",
      "70 False\n",
      "71 False\n",
      "72 False\n",
      "73 False\n",
      "74 False\n",
      "75 False\n",
      "76 False\n",
      "77 False\n",
      "78 False\n",
      "79 False\n",
      "80 False\n",
      "81 False\n",
      "82 False\n",
      "83 False\n",
      "84 False\n",
      "85 False\n",
      "86 False\n",
      "87 False\n",
      "88 False\n",
      "89 False\n",
      "90 False\n",
      "91 False\n",
      "92 False\n",
      "93 False\n",
      "94 False\n",
      "95 False\n",
      "96 False\n",
      "97 False\n",
      "98 False\n",
      "99 False\n",
      "100 False\n",
      "101 False\n",
      "102 False\n",
      "103 False\n",
      "104 False\n",
      "105 False\n",
      "106 False\n",
      "107 False\n",
      "108 True\n",
      "109 False\n",
      "110 False\n",
      "111 False\n",
      "112 False\n",
      "113 False\n",
      "114 False\n",
      "115 False\n",
      "116 True\n",
      "117 False\n",
      "118 False\n",
      "119 False\n",
      "120 False\n",
      "121 False\n",
      "122 False\n"
     ]
    },
    {
     "data": {
      "text/plain": [
       "5"
      ]
     },
     "execution_count": 100,
     "metadata": {},
     "output_type": "execute_result"
    }
   ],
   "source": [
    "for i,row in enumerate(tab):\n",
    "    # Will resolve Kepler ID name to a coordinate and search that\n",
    "    obs_table = Observations.query_criteria(objectname='KIC '+str(row['kepid']),radius=1*u.arcsec,\n",
    "                                        project='TESS',obs_collection='HLSP',\n",
    "                                       t_exptime=[20.0,120.0])\n",
    "    if len(obs_table)>0: tab['TESS fast'][i]=True\n",
    "    print(i,tab['TESS fast'][i])\n",
    "np.sum(tab['TESS fast'])"
   ]
  },
  {
   "cell_type": "code",
   "execution_count": 104,
   "metadata": {
    "tags": []
   },
   "outputs": [
    {
     "data": {
      "text/html": [
       "<div><i>Table length=5</i>\n",
       "<table id=\"table140160720227584\" class=\"table-striped table-bordered table-condensed\">\n",
       "<thead><tr><th>kepid</th><th>tce_period</th><th>tce_period_err</th><th>tce_num_transits</th></tr></thead>\n",
       "<thead><tr><th>int64</th><th>float64</th><th>float64</th><th>int64</th></tr></thead>\n",
       "<tr><td>8056665</td><td>207.587</td><td>0.000719409</td><td>6</td></tr>\n",
       "<tr><td>7768451</td><td>192.667</td><td>0.000860441</td><td>7</td></tr>\n",
       "<tr><td>8264402</td><td>215.954</td><td>0.00177961</td><td>7</td></tr>\n",
       "<tr><td>10850327</td><td>440.164</td><td>0.00518516</td><td>3</td></tr>\n",
       "<tr><td>12644769</td><td>451.773</td><td>8.60856e-05</td><td>4</td></tr>\n",
       "</table></div>"
      ],
      "text/plain": [
       "<Table length=5>\n",
       " kepid   tce_period tce_period_err tce_num_transits\n",
       " int64    float64      float64          int64      \n",
       "-------- ---------- -------------- ----------------\n",
       " 8056665    207.587    0.000719409                6\n",
       " 7768451    192.667    0.000860441                7\n",
       " 8264402    215.954     0.00177961                7\n",
       "10850327    440.164     0.00518516                3\n",
       "12644769    451.773    8.60856e-05                4"
      ]
     },
     "execution_count": 104,
     "metadata": {},
     "output_type": "execute_result"
    }
   ],
   "source": [
    "tab[tab['TESS fast']==True]['kepid','tce_period','tce_period_err','tce_num_transits']"
   ]
  },
  {
   "cell_type": "markdown",
   "metadata": {},
   "source": [
    "# Examine the combined light curves for one target"
   ]
  },
  {
   "cell_type": "code",
   "execution_count": 73,
   "metadata": {
    "tags": []
   },
   "outputs": [
    {
     "data": {
      "text/html": [
       "SearchResult containing 31 data products.\n",
       "\n",
       "<table id=\"table140160731324528\">\n",
       "<thead><tr><th>#</th><th>mission</th><th>year</th><th>author</th><th>exptime</th><th>target_name</th><th>distance</th></tr></thead>\n",
       "<thead><tr><th></th><th></th><th></th><th></th><th>s</th><th></th><th>arcsec</th></tr></thead>\n",
       "<tr><td>0</td><td>Kepler Quarter 00</td><td>2009</td><td><a href='https://archive.stsci.edu/kepler/data_products.html'>Kepler</a></td><td>1800</td><td>kplr001164109</td><td>0.0</td></tr>\n",
       "<tr><td>1</td><td>Kepler Quarter 01</td><td>2009</td><td><a href='https://archive.stsci.edu/kepler/data_products.html'>Kepler</a></td><td>1800</td><td>kplr001164109</td><td>0.0</td></tr>\n",
       "<tr><td>2</td><td>Kepler Quarter 02</td><td>2009</td><td><a href='https://archive.stsci.edu/kepler/data_products.html'>Kepler</a></td><td>60</td><td>kplr001164109</td><td>0.0</td></tr>\n",
       "<tr><td>3</td><td>Kepler Quarter 02</td><td>2009</td><td><a href='https://archive.stsci.edu/kepler/data_products.html'>Kepler</a></td><td>1800</td><td>kplr001164109</td><td>0.0</td></tr>\n",
       "<tr><td>4</td><td>Kepler Quarter 03</td><td>2009</td><td><a href='https://archive.stsci.edu/kepler/data_products.html'>Kepler</a></td><td>1800</td><td>kplr001164109</td><td>0.0</td></tr>\n",
       "<tr><td>5</td><td>Kepler Quarter 04</td><td>2010</td><td><a href='https://archive.stsci.edu/kepler/data_products.html'>Kepler</a></td><td>1800</td><td>kplr001164109</td><td>0.0</td></tr>\n",
       "<tr><td>6</td><td>Kepler Quarter 05</td><td>2010</td><td><a href='https://archive.stsci.edu/kepler/data_products.html'>Kepler</a></td><td>1800</td><td>kplr001164109</td><td>0.0</td></tr>\n",
       "<tr><td>7</td><td>Kepler Quarter 06</td><td>2010</td><td><a href='https://archive.stsci.edu/kepler/data_products.html'>Kepler</a></td><td>1800</td><td>kplr001164109</td><td>0.0</td></tr>\n",
       "<tr><td>8</td><td>Kepler Quarter 07</td><td>2010</td><td><a href='https://archive.stsci.edu/kepler/data_products.html'>Kepler</a></td><td>1800</td><td>kplr001164109</td><td>0.0</td></tr>\n",
       "<tr><td>9</td><td>Kepler Quarter 08</td><td>2011</td><td><a href='https://archive.stsci.edu/kepler/data_products.html'>Kepler</a></td><td>1800</td><td>kplr001164109</td><td>0.0</td></tr>\n",
       "<tr><td>...</td><td>...</td><td>...</td><td>...</td><td>...</td><td>...</td><td>...</td></tr>\n",
       "<tr><td>21</td><td>TESS Sector 14</td><td>2019</td><td><a href='https://archive.stsci.edu/hlsp/tasoc'>TASOC</a></td><td>1800</td><td>137313572</td><td>0.0</td></tr>\n",
       "<tr><td>22</td><td>TESS Sector 14</td><td>2019</td><td><a href='https://archive.stsci.edu/hlsp/tasoc'>TASOC</a></td><td>1800</td><td>137313572</td><td>0.0</td></tr>\n",
       "<tr><td>23</td><td>TESS Sector 40</td><td>2021</td><td><a href='https://archive.stsci.edu/hlsp/tess-spoc'>TESS-SPOC</a></td><td>600</td><td>137313572</td><td>0.0</td></tr>\n",
       "<tr><td>24</td><td>TESS Sector 40</td><td>2021</td><td><a href='https://archive.stsci.edu/hlsp/qlp'>QLP</a></td><td>600</td><td>137313572</td><td>0.0</td></tr>\n",
       "<tr><td>25</td><td>TESS Sector 41</td><td>2021</td><td><a href='https://archive.stsci.edu/hlsp/tess-spoc'>TESS-SPOC</a></td><td>600</td><td>137313572</td><td>0.0</td></tr>\n",
       "<tr><td>26</td><td>TESS Sector 41</td><td>2021</td><td><a href='https://archive.stsci.edu/hlsp/qlp'>QLP</a></td><td>600</td><td>137313572</td><td>0.0</td></tr>\n",
       "<tr><td>27</td><td>TESS Sector 54</td><td>2022</td><td><a href='https://archive.stsci.edu/hlsp/tess-spoc'>TESS-SPOC</a></td><td>600</td><td>137313572</td><td>0.0</td></tr>\n",
       "<tr><td>28</td><td>TESS Sector 54</td><td>2022</td><td><a href='https://archive.stsci.edu/hlsp/qlp'>QLP</a></td><td>600</td><td>137313572</td><td>0.0</td></tr>\n",
       "<tr><td>29</td><td>TESS Sector 55</td><td>2022</td><td><a href='https://archive.stsci.edu/hlsp/tess-spoc'>TESS-SPOC</a></td><td>600</td><td>137313572</td><td>0.0</td></tr>\n",
       "<tr><td>30</td><td>TESS Sector 55</td><td>2022</td><td><a href='https://archive.stsci.edu/hlsp/qlp'>QLP</a></td><td>600</td><td>137313572</td><td>0.0</td></tr>\n",
       "</table>\n",
       "Length = 31 rows"
      ],
      "text/plain": [
       "SearchResult containing 31 data products.\n",
       "\n",
       " #       mission      year   author  exptime  target_name  distance\n",
       "                                        s                   arcsec \n",
       "--- ----------------- ---- --------- ------- ------------- --------\n",
       "  0 Kepler Quarter 00 2009    Kepler    1800 kplr001164109      0.0\n",
       "  1 Kepler Quarter 01 2009    Kepler    1800 kplr001164109      0.0\n",
       "  2 Kepler Quarter 02 2009    Kepler      60 kplr001164109      0.0\n",
       "  3 Kepler Quarter 02 2009    Kepler    1800 kplr001164109      0.0\n",
       "  4 Kepler Quarter 03 2009    Kepler    1800 kplr001164109      0.0\n",
       "  5 Kepler Quarter 04 2010    Kepler    1800 kplr001164109      0.0\n",
       "  6 Kepler Quarter 05 2010    Kepler    1800 kplr001164109      0.0\n",
       "  7 Kepler Quarter 06 2010    Kepler    1800 kplr001164109      0.0\n",
       "  8 Kepler Quarter 07 2010    Kepler    1800 kplr001164109      0.0\n",
       "  9 Kepler Quarter 08 2011    Kepler    1800 kplr001164109      0.0\n",
       "...               ...  ...       ...     ...           ...      ...\n",
       " 21    TESS Sector 14 2019     TASOC    1800     137313572      0.0\n",
       " 22    TESS Sector 14 2019     TASOC    1800     137313572      0.0\n",
       " 23    TESS Sector 40 2021 TESS-SPOC     600     137313572      0.0\n",
       " 24    TESS Sector 40 2021       QLP     600     137313572      0.0\n",
       " 25    TESS Sector 41 2021 TESS-SPOC     600     137313572      0.0\n",
       " 26    TESS Sector 41 2021       QLP     600     137313572      0.0\n",
       " 27    TESS Sector 54 2022 TESS-SPOC     600     137313572      0.0\n",
       " 28    TESS Sector 54 2022       QLP     600     137313572      0.0\n",
       " 29    TESS Sector 55 2022 TESS-SPOC     600     137313572      0.0\n",
       " 30    TESS Sector 55 2022       QLP     600     137313572      0.0\n",
       "Length = 31 rows"
      ]
     },
     "execution_count": 73,
     "metadata": {},
     "output_type": "execute_result"
    }
   ],
   "source": [
    "search_result=lk.search_lightcurve(1164109) # Works if it's input as an integer.\n",
    "#search_result=lk.search_lightcurve('KIC '+str(1164109)) # Only returns Kepler light kurves.\n",
    "# 291.65265, 36.89502\n",
    "#search_result=lk.search_lightcurve('291.65265, 36.89502')\n",
    "search_result"
   ]
  },
  {
   "cell_type": "code",
   "execution_count": 131,
   "metadata": {
    "tags": []
   },
   "outputs": [
    {
     "name": "stderr",
     "output_type": "stream",
     "text": [
      "Warning: 8056665 may refer to a different Kepler or TESS target. Please add the prefix 'KIC' or 'TIC' to disambiguate.\n"
     ]
    },
    {
     "data": {
      "text/html": [
       "SearchResult containing 35 data products.\n",
       "\n",
       "<table id=\"table140160717913728\">\n",
       "<thead><tr><th>#</th><th>mission</th><th>year</th><th>author</th><th>exptime</th><th>target_name</th><th>distance</th></tr></thead>\n",
       "<thead><tr><th></th><th></th><th></th><th></th><th>s</th><th></th><th>arcsec</th></tr></thead>\n",
       "<tr><td>0</td><td>Kepler Quarter 03</td><td>2009</td><td><a href='https://archive.stsci.edu/kepler/data_products.html'>Kepler</a></td><td>60</td><td>kplr008056665</td><td>0.0</td></tr>\n",
       "<tr><td>1</td><td>Kepler Quarter 03</td><td>2009</td><td><a href='https://archive.stsci.edu/kepler/data_products.html'>Kepler</a></td><td>60</td><td>kplr008056665</td><td>0.0</td></tr>\n",
       "<tr><td>2</td><td>Kepler Quarter 03</td><td>2009</td><td><a href='https://archive.stsci.edu/kepler/data_products.html'>Kepler</a></td><td>60</td><td>kplr008056665</td><td>0.0</td></tr>\n",
       "<tr><td>3</td><td>Kepler Quarter 04</td><td>2010</td><td><a href='https://archive.stsci.edu/kepler/data_products.html'>Kepler</a></td><td>60</td><td>kplr008056665</td><td>0.0</td></tr>\n",
       "<tr><td>4</td><td>Kepler Quarter 04</td><td>2010</td><td><a href='https://archive.stsci.edu/kepler/data_products.html'>Kepler</a></td><td>60</td><td>kplr008056665</td><td>0.0</td></tr>\n",
       "<tr><td>5</td><td>Kepler Quarter 04</td><td>2010</td><td><a href='https://archive.stsci.edu/kepler/data_products.html'>Kepler</a></td><td>60</td><td>kplr008056665</td><td>0.0</td></tr>\n",
       "<tr><td>6</td><td>Kepler Quarter 05</td><td>2010</td><td><a href='https://archive.stsci.edu/kepler/data_products.html'>Kepler</a></td><td>60</td><td>kplr008056665</td><td>0.0</td></tr>\n",
       "<tr><td>7</td><td>Kepler Quarter 05</td><td>2010</td><td><a href='https://archive.stsci.edu/kepler/data_products.html'>Kepler</a></td><td>60</td><td>kplr008056665</td><td>0.0</td></tr>\n",
       "<tr><td>8</td><td>Kepler Quarter 05</td><td>2010</td><td><a href='https://archive.stsci.edu/kepler/data_products.html'>Kepler</a></td><td>60</td><td>kplr008056665</td><td>0.0</td></tr>\n",
       "<tr><td>9</td><td>Kepler Quarter 06</td><td>2010</td><td><a href='https://archive.stsci.edu/kepler/data_products.html'>Kepler</a></td><td>60</td><td>kplr008056665</td><td>0.0</td></tr>\n",
       "<tr><td>...</td><td>...</td><td>...</td><td>...</td><td>...</td><td>...</td><td>...</td></tr>\n",
       "<tr><td>25</td><td>Kepler Quarter 12</td><td>2012</td><td><a href='https://archive.stsci.edu/kepler/data_products.html'>Kepler</a></td><td>60</td><td>kplr008056665</td><td>0.0</td></tr>\n",
       "<tr><td>26</td><td>Kepler Quarter 12</td><td>2012</td><td><a href='https://archive.stsci.edu/kepler/data_products.html'>Kepler</a></td><td>60</td><td>kplr008056665</td><td>0.0</td></tr>\n",
       "<tr><td>27</td><td>Kepler Quarter 17</td><td>2013</td><td><a href='https://archive.stsci.edu/kepler/data_products.html'>Kepler</a></td><td>60</td><td>kplr008056665</td><td>0.0</td></tr>\n",
       "<tr><td>28</td><td>TESS Sector 14</td><td>2019</td><td><a href='https://heasarc.gsfc.nasa.gov/docs/tess/pipeline.html'>SPOC</a></td><td>120</td><td>269263577</td><td>0.0</td></tr>\n",
       "<tr><td>29</td><td>TESS Sector 14</td><td>2019</td><td><a href='https://archive.stsci.edu/hlsp/tasoc'>TASOC</a></td><td>120</td><td>269263577</td><td>0.0</td></tr>\n",
       "<tr><td>30</td><td>TESS Sector 15</td><td>2019</td><td><a href='https://heasarc.gsfc.nasa.gov/docs/tess/pipeline.html'>SPOC</a></td><td>120</td><td>269263577</td><td>0.0</td></tr>\n",
       "<tr><td>31</td><td>TESS Sector 15</td><td>2019</td><td><a href='https://archive.stsci.edu/hlsp/tasoc'>TASOC</a></td><td>120</td><td>269263577</td><td>0.0</td></tr>\n",
       "<tr><td>32</td><td>TESS Sector 41</td><td>2021</td><td><a href='https://heasarc.gsfc.nasa.gov/docs/tess/pipeline.html'>SPOC</a></td><td>120</td><td>269263577</td><td>0.0</td></tr>\n",
       "<tr><td>33</td><td>TESS Sector 54</td><td>2022</td><td><a href='https://heasarc.gsfc.nasa.gov/docs/tess/pipeline.html'>SPOC</a></td><td>120</td><td>269263577</td><td>0.0</td></tr>\n",
       "<tr><td>34</td><td>TESS Sector 55</td><td>2022</td><td><a href='https://heasarc.gsfc.nasa.gov/docs/tess/pipeline.html'>SPOC</a></td><td>120</td><td>269263577</td><td>0.0</td></tr>\n",
       "</table>\n",
       "Length = 35 rows"
      ],
      "text/plain": [
       "SearchResult containing 35 data products.\n",
       "\n",
       " #       mission      year author exptime  target_name  distance\n",
       "                                     s                   arcsec \n",
       "--- ----------------- ---- ------ ------- ------------- --------\n",
       "  0 Kepler Quarter 03 2009 Kepler      60 kplr008056665      0.0\n",
       "  1 Kepler Quarter 03 2009 Kepler      60 kplr008056665      0.0\n",
       "  2 Kepler Quarter 03 2009 Kepler      60 kplr008056665      0.0\n",
       "  3 Kepler Quarter 04 2010 Kepler      60 kplr008056665      0.0\n",
       "  4 Kepler Quarter 04 2010 Kepler      60 kplr008056665      0.0\n",
       "  5 Kepler Quarter 04 2010 Kepler      60 kplr008056665      0.0\n",
       "  6 Kepler Quarter 05 2010 Kepler      60 kplr008056665      0.0\n",
       "  7 Kepler Quarter 05 2010 Kepler      60 kplr008056665      0.0\n",
       "  8 Kepler Quarter 05 2010 Kepler      60 kplr008056665      0.0\n",
       "  9 Kepler Quarter 06 2010 Kepler      60 kplr008056665      0.0\n",
       "...               ...  ...    ...     ...           ...      ...\n",
       " 25 Kepler Quarter 12 2012 Kepler      60 kplr008056665      0.0\n",
       " 26 Kepler Quarter 12 2012 Kepler      60 kplr008056665      0.0\n",
       " 27 Kepler Quarter 17 2013 Kepler      60 kplr008056665      0.0\n",
       " 28    TESS Sector 14 2019   SPOC     120     269263577      0.0\n",
       " 29    TESS Sector 14 2019  TASOC     120     269263577      0.0\n",
       " 30    TESS Sector 15 2019   SPOC     120     269263577      0.0\n",
       " 31    TESS Sector 15 2019  TASOC     120     269263577      0.0\n",
       " 32    TESS Sector 41 2021   SPOC     120     269263577      0.0\n",
       " 33    TESS Sector 54 2022   SPOC     120     269263577      0.0\n",
       " 34    TESS Sector 55 2022   SPOC     120     269263577      0.0\n",
       "Length = 35 rows"
      ]
     },
     "execution_count": 131,
     "metadata": {},
     "output_type": "execute_result"
    }
   ],
   "source": [
    "search_result=lk.search_lightcurve(8056665,exptime='short')\n",
    "search_result"
   ]
  },
  {
   "cell_type": "code",
   "execution_count": 132,
   "metadata": {
    "tags": []
   },
   "outputs": [],
   "source": [
    "# Load 'em all. Where does it \"go\"?\n",
    "lc_collection = search_result.download_all()"
   ]
  },
  {
   "cell_type": "code",
   "execution_count": 133,
   "metadata": {
    "tags": []
   },
   "outputs": [
    {
     "data": {
      "text/plain": [
       "<AxesSubplot:xlabel='Time - 2454833 [BKJD days]', ylabel='Normalized Flux'>"
      ]
     },
     "execution_count": 133,
     "metadata": {},
     "output_type": "execute_result"
    },
    {
     "data": {
      "image/png": "[encoded data removed]",
      "text/plain": [
       "<Figure size 848.5x400 with 1 Axes>"
      ]
     },
     "metadata": {},
     "output_type": "display_data"
    }
   ],
   "source": [
    "# Could be interesting to visualize just Kepler, then just TESS, then combined.\n",
    "lc_stitched = lc_collection.stitch()\n",
    "lc_stitched.plot()"
   ]
  },
  {
   "cell_type": "markdown",
   "metadata": {},
   "source": [
    "Where possible (if the code supports it), use code examples that visually display the data in the tutorial. For example, if you are showing an object such as a Table, display a preview of the table:"
   ]
  },
  {
   "cell_type": "markdown",
   "metadata": {},
   "source": [
    "## Exercises\n",
    "Exercises are optional, but encouraged. Exercises can be woven into the main content of your tutorial, or appear in their own section toward the end of the tutorial. Final exercises can be more challenging, similar to homework problems. They can be minimal or take as long as 30 minutes to an hour to complete. If you do have one or more exercises in your tutorial, be sure to leave a blank code cell underneath each to show the reader that they're meant to try out their new skill right there. You may also want to include a \"solutions\" notebook next to your main notebook for the reader to check their work after they have finished their attempt."
   ]
  },
  {
   "cell_type": "markdown",
   "metadata": {},
   "source": [
    "## Additional Resources\n",
    "\n",
    "This section is optional. Try to weave resource links into the main content of your tutorial so that they are falling in line with the context of your writing. For resources that do not fit cleanly into your narrative, you may include an additional resources section at the end of your tutorial. Usually a list of links using Markdown bullet list plus link format is appropriate:\n",
    "\n",
    "- [MAST API](https://mast.stsci.edu/api/v0/index.html)\n",
    "- [Kepler Archive Page (MAST)](https://archive.stsci.edu/kepler/)\n",
    "- [Kepler Archive Manual](https://archive.stsci.edu/kepler/manuals/archive_manual.pdf)\n",
    "- [Exo.MAST website](https://exo.mast.stsci.edu/)"
   ]
  },
  {
   "cell_type": "markdown",
   "metadata": {},
   "source": [
    "## Citations\n",
    "Provide your reader with guidelines on how to cite open source software and other resources in their own published work.\n",
    "\n",
    "```\n",
    "If you use `astropy` or `lightkurve` for published research, please cite the\n",
    "authors. Follow these links for more information about citing `astropy` and\n",
    "`lightkurve`:\n",
    "\n",
    "* [Citing `astropy`](https://www.astropy.org/acknowledging.html)\n",
    "* [Citing `lightkurve`](http://docs.lightkurve.org/about/citing.html)\n",
    "\n",
    "```"
   ]
  },
  {
   "cell_type": "markdown",
   "metadata": {
    "slideshow": {
     "slide_type": "slide"
    }
   },
   "source": [
    "## About this Notebook\n",
    "Let the world know who the author of this great tutorial is! If possible and appropriate, include a contact email address for users who might need support (for example, `archive@stsci.edu`). You can also optionally include keywords, your funding source, or a last update date in this section.\n",
    "\n",
    "**Author(s):** Jessie Blogs, Jenny V. Medina, Thomas Dutkiewicz <br>\n",
    "**Keyword(s):** Tutorial, lightkurve, kepler, introduction, template <br>\n",
    "**Last Updated:** Aug 2022 <br>\n",
    "**Next Review:** Mar 2023\n",
    "***\n",
    "[Top of Page](#top)\n",
    "<img style=\"float: right;\" src=\"https://raw.githubusercontent.com/spacetelescope/notebooks/master/assets/stsci_pri_combo_mark_horizonal_white_bkgd.png\" alt=\"Space Telescope Logo\" width=\"200px\"/> "
   ]
  }
 ],
 "metadata": {
  "kernelspec": {
   "display_name": "TESS Environment",
   "language": "python",
   "name": "tess"
  },
  "language_info": {
   "codemirror_mode": {
    "name": "ipython",
    "version": 3
   },
   "file_extension": ".py",
   "mimetype": "text/x-python",
   "name": "python",
   "nbconvert_exporter": "python",
   "pygments_lexer": "ipython3",
   "version": "3.8.16"
  }
 },
 "nbformat": 4,
 "nbformat_minor": 4
}
